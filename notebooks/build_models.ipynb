{
 "cells": [
  {
   "cell_type": "code",
   "execution_count": 28,
   "metadata": {
    "collapsed": true
   },
   "outputs": [],
   "source": [
    "from pathlib import Path\n",
    "import numpy as np\n",
    "import pandas as pd\n",
    "import warnings\n",
    "warnings.filterwarnings(\"ignore\")\n",
    "import matplotlib.pyplot as plt\n",
    "import seaborn as sns\n",
    "from sklearn.model_selection import train_test_split\n",
    "from knee_stress_predict.config import raw_data_dir, processed_data_dir"
   ]
  },
  {
   "cell_type": "markdown",
   "source": [
    "## Step 1: Load data\n"
   ],
   "metadata": {
    "collapsed": false
   },
   "execution_count": 1
  },
  {
   "cell_type": "code",
   "execution_count": 29,
   "outputs": [],
   "source": [
    "data_set_name = \"set_3\"\n",
    "train_file_path = Path.joinpath(processed_data_dir, data_set_name,  \"train_cleaned.csv\")\n",
    "test_file_path = Path.joinpath(processed_data_dir, data_set_name,  \"test_cleaned.csv\")\n",
    "train_data = pd.read_csv(train_file_path).drop('Unnamed: 0', axis=1)\n",
    "test_data = pd.read_csv(test_file_path).drop('Unnamed: 0', axis=1)"
   ],
   "metadata": {
    "collapsed": false
   }
  },
  {
   "cell_type": "code",
   "execution_count": 30,
   "outputs": [
    {
     "data": {
      "text/plain": "             Code  Patella_PN  Femur_PN  Tibia_PN  Patella_Car_PN  \\\n0      9003406M00        1137      4142      2789            5275   \n1      9003406M00        1137      4142      2789            5275   \n2      9003406M00        1137      4142      2789            5275   \n3      9003406M00        1137      4142      2789            5275   \n4      9003406M00        1137      4142      2789            5275   \n...           ...         ...       ...       ...             ...   \n30274  9993846M12         873      3921      2831            5690   \n30275  9993846M12         873      3921      2831            5690   \n30276  9993846M12         873      3921      2831            5690   \n30277  9993846M12         873      3921      2831            5690   \n30278  9993846M12         873      3921      2831            5690   \n\n       Femur_Car_PN  Tibia_M_Car_PN  Tibia_L_Car_PN  Patella_volume  \\\n0             21420            2840            2840    33682.157434   \n1             21420            2840            2840    33682.157434   \n2             21420            2840            2840    33682.157434   \n3             21420            2840            2840    33682.157434   \n4             21420            2840            2840    33682.157434   \n...             ...             ...             ...             ...   \n30274         21495            2840            2840    24799.135262   \n30275         21495            2840            2840    24799.135262   \n30276         21495            2840            2840    24799.135262   \n30277         21495            2840            2840    24799.135262   \n30278         21495            2840            2840    24799.135262   \n\n        Femur_volume  ...  Simulation_len  Max_dist_femur_tibia_lat_car  \\\n0      231437.991665  ...               0                     13.941570   \n1      231437.991665  ...               0                     13.941570   \n2      231437.991665  ...               0                     13.941570   \n3      231437.991665  ...               0                     13.941570   \n4      231437.991665  ...               0                     13.941570   \n...              ...  ...             ...                           ...   \n30274  226161.340527  ...               1                     18.862473   \n30275  226161.340527  ...               1                     18.862473   \n30276  226161.340527  ...               1                     18.862473   \n30277  226161.340527  ...               1                     18.862473   \n30278  226161.340527  ...               1                     18.862473   \n\n       Min_dist_femur_tibia_lat_car  Mean_dist_femur_tibia_lat_car  \\\n0                          0.987391                       6.105886   \n1                          0.987391                       6.105886   \n2                          0.987391                       6.105886   \n3                          0.987391                       6.105886   \n4                          0.987391                       6.105886   \n...                             ...                            ...   \n30274                      2.616759                       6.815766   \n30275                      2.616759                       6.815766   \n30276                      2.616759                       6.815766   \n30277                      2.616759                       6.815766   \n30278                      2.616759                       6.815766   \n\n       Max_dist_femur_tibia_med_car  Min_dist_femur_tibia_med_car  \\\n0                         10.304892                      1.376902   \n1                         10.304892                      1.376902   \n2                         10.304892                      1.376902   \n3                         10.304892                      1.376902   \n4                         10.304892                      1.376902   \n...                             ...                           ...   \n30274                     15.943200                      2.833736   \n30275                     15.943200                      2.833736   \n30276                     15.943200                      2.833736   \n30277                     15.943200                      2.833736   \n30278                     15.943200                      2.833736   \n\n       Mean_dist_femur_tibia_med_car  frame  Max_tib_med_contact_pressure  \\\n0                           4.580906      0                      7.619495   \n1                           4.580906      1                      8.068417   \n2                           4.580906      2                      7.796326   \n3                           4.580906      3                      8.058777   \n4                           4.580906      4                      8.098284   \n...                              ...    ...                           ...   \n30274                       6.482209    236                     11.455851   \n30275                       6.482209    237                     11.642740   \n30276                       6.482209    238                     12.039758   \n30277                       6.482209    239                     11.383085   \n30278                       6.482209    240                     11.772991   \n\n       Max_tib_lat_contact_pressure  \n0                          6.696390  \n1                          5.042103  \n2                          5.344840  \n3                          6.240049  \n4                          7.306662  \n...                             ...  \n30274                      7.974414  \n30275                      8.043670  \n30276                      8.359842  \n30277                      8.170403  \n30278                      8.193823  \n\n[30279 rows x 46 columns]",
      "text/html": "<div>\n<style scoped>\n    .dataframe tbody tr th:only-of-type {\n        vertical-align: middle;\n    }\n\n    .dataframe tbody tr th {\n        vertical-align: top;\n    }\n\n    .dataframe thead th {\n        text-align: right;\n    }\n</style>\n<table border=\"1\" class=\"dataframe\">\n  <thead>\n    <tr style=\"text-align: right;\">\n      <th></th>\n      <th>Code</th>\n      <th>Patella_PN</th>\n      <th>Femur_PN</th>\n      <th>Tibia_PN</th>\n      <th>Patella_Car_PN</th>\n      <th>Femur_Car_PN</th>\n      <th>Tibia_M_Car_PN</th>\n      <th>Tibia_L_Car_PN</th>\n      <th>Patella_volume</th>\n      <th>Femur_volume</th>\n      <th>...</th>\n      <th>Simulation_len</th>\n      <th>Max_dist_femur_tibia_lat_car</th>\n      <th>Min_dist_femur_tibia_lat_car</th>\n      <th>Mean_dist_femur_tibia_lat_car</th>\n      <th>Max_dist_femur_tibia_med_car</th>\n      <th>Min_dist_femur_tibia_med_car</th>\n      <th>Mean_dist_femur_tibia_med_car</th>\n      <th>frame</th>\n      <th>Max_tib_med_contact_pressure</th>\n      <th>Max_tib_lat_contact_pressure</th>\n    </tr>\n  </thead>\n  <tbody>\n    <tr>\n      <th>0</th>\n      <td>9003406M00</td>\n      <td>1137</td>\n      <td>4142</td>\n      <td>2789</td>\n      <td>5275</td>\n      <td>21420</td>\n      <td>2840</td>\n      <td>2840</td>\n      <td>33682.157434</td>\n      <td>231437.991665</td>\n      <td>...</td>\n      <td>0</td>\n      <td>13.941570</td>\n      <td>0.987391</td>\n      <td>6.105886</td>\n      <td>10.304892</td>\n      <td>1.376902</td>\n      <td>4.580906</td>\n      <td>0</td>\n      <td>7.619495</td>\n      <td>6.696390</td>\n    </tr>\n    <tr>\n      <th>1</th>\n      <td>9003406M00</td>\n      <td>1137</td>\n      <td>4142</td>\n      <td>2789</td>\n      <td>5275</td>\n      <td>21420</td>\n      <td>2840</td>\n      <td>2840</td>\n      <td>33682.157434</td>\n      <td>231437.991665</td>\n      <td>...</td>\n      <td>0</td>\n      <td>13.941570</td>\n      <td>0.987391</td>\n      <td>6.105886</td>\n      <td>10.304892</td>\n      <td>1.376902</td>\n      <td>4.580906</td>\n      <td>1</td>\n      <td>8.068417</td>\n      <td>5.042103</td>\n    </tr>\n    <tr>\n      <th>2</th>\n      <td>9003406M00</td>\n      <td>1137</td>\n      <td>4142</td>\n      <td>2789</td>\n      <td>5275</td>\n      <td>21420</td>\n      <td>2840</td>\n      <td>2840</td>\n      <td>33682.157434</td>\n      <td>231437.991665</td>\n      <td>...</td>\n      <td>0</td>\n      <td>13.941570</td>\n      <td>0.987391</td>\n      <td>6.105886</td>\n      <td>10.304892</td>\n      <td>1.376902</td>\n      <td>4.580906</td>\n      <td>2</td>\n      <td>7.796326</td>\n      <td>5.344840</td>\n    </tr>\n    <tr>\n      <th>3</th>\n      <td>9003406M00</td>\n      <td>1137</td>\n      <td>4142</td>\n      <td>2789</td>\n      <td>5275</td>\n      <td>21420</td>\n      <td>2840</td>\n      <td>2840</td>\n      <td>33682.157434</td>\n      <td>231437.991665</td>\n      <td>...</td>\n      <td>0</td>\n      <td>13.941570</td>\n      <td>0.987391</td>\n      <td>6.105886</td>\n      <td>10.304892</td>\n      <td>1.376902</td>\n      <td>4.580906</td>\n      <td>3</td>\n      <td>8.058777</td>\n      <td>6.240049</td>\n    </tr>\n    <tr>\n      <th>4</th>\n      <td>9003406M00</td>\n      <td>1137</td>\n      <td>4142</td>\n      <td>2789</td>\n      <td>5275</td>\n      <td>21420</td>\n      <td>2840</td>\n      <td>2840</td>\n      <td>33682.157434</td>\n      <td>231437.991665</td>\n      <td>...</td>\n      <td>0</td>\n      <td>13.941570</td>\n      <td>0.987391</td>\n      <td>6.105886</td>\n      <td>10.304892</td>\n      <td>1.376902</td>\n      <td>4.580906</td>\n      <td>4</td>\n      <td>8.098284</td>\n      <td>7.306662</td>\n    </tr>\n    <tr>\n      <th>...</th>\n      <td>...</td>\n      <td>...</td>\n      <td>...</td>\n      <td>...</td>\n      <td>...</td>\n      <td>...</td>\n      <td>...</td>\n      <td>...</td>\n      <td>...</td>\n      <td>...</td>\n      <td>...</td>\n      <td>...</td>\n      <td>...</td>\n      <td>...</td>\n      <td>...</td>\n      <td>...</td>\n      <td>...</td>\n      <td>...</td>\n      <td>...</td>\n      <td>...</td>\n      <td>...</td>\n    </tr>\n    <tr>\n      <th>30274</th>\n      <td>9993846M12</td>\n      <td>873</td>\n      <td>3921</td>\n      <td>2831</td>\n      <td>5690</td>\n      <td>21495</td>\n      <td>2840</td>\n      <td>2840</td>\n      <td>24799.135262</td>\n      <td>226161.340527</td>\n      <td>...</td>\n      <td>1</td>\n      <td>18.862473</td>\n      <td>2.616759</td>\n      <td>6.815766</td>\n      <td>15.943200</td>\n      <td>2.833736</td>\n      <td>6.482209</td>\n      <td>236</td>\n      <td>11.455851</td>\n      <td>7.974414</td>\n    </tr>\n    <tr>\n      <th>30275</th>\n      <td>9993846M12</td>\n      <td>873</td>\n      <td>3921</td>\n      <td>2831</td>\n      <td>5690</td>\n      <td>21495</td>\n      <td>2840</td>\n      <td>2840</td>\n      <td>24799.135262</td>\n      <td>226161.340527</td>\n      <td>...</td>\n      <td>1</td>\n      <td>18.862473</td>\n      <td>2.616759</td>\n      <td>6.815766</td>\n      <td>15.943200</td>\n      <td>2.833736</td>\n      <td>6.482209</td>\n      <td>237</td>\n      <td>11.642740</td>\n      <td>8.043670</td>\n    </tr>\n    <tr>\n      <th>30276</th>\n      <td>9993846M12</td>\n      <td>873</td>\n      <td>3921</td>\n      <td>2831</td>\n      <td>5690</td>\n      <td>21495</td>\n      <td>2840</td>\n      <td>2840</td>\n      <td>24799.135262</td>\n      <td>226161.340527</td>\n      <td>...</td>\n      <td>1</td>\n      <td>18.862473</td>\n      <td>2.616759</td>\n      <td>6.815766</td>\n      <td>15.943200</td>\n      <td>2.833736</td>\n      <td>6.482209</td>\n      <td>238</td>\n      <td>12.039758</td>\n      <td>8.359842</td>\n    </tr>\n    <tr>\n      <th>30277</th>\n      <td>9993846M12</td>\n      <td>873</td>\n      <td>3921</td>\n      <td>2831</td>\n      <td>5690</td>\n      <td>21495</td>\n      <td>2840</td>\n      <td>2840</td>\n      <td>24799.135262</td>\n      <td>226161.340527</td>\n      <td>...</td>\n      <td>1</td>\n      <td>18.862473</td>\n      <td>2.616759</td>\n      <td>6.815766</td>\n      <td>15.943200</td>\n      <td>2.833736</td>\n      <td>6.482209</td>\n      <td>239</td>\n      <td>11.383085</td>\n      <td>8.170403</td>\n    </tr>\n    <tr>\n      <th>30278</th>\n      <td>9993846M12</td>\n      <td>873</td>\n      <td>3921</td>\n      <td>2831</td>\n      <td>5690</td>\n      <td>21495</td>\n      <td>2840</td>\n      <td>2840</td>\n      <td>24799.135262</td>\n      <td>226161.340527</td>\n      <td>...</td>\n      <td>1</td>\n      <td>18.862473</td>\n      <td>2.616759</td>\n      <td>6.815766</td>\n      <td>15.943200</td>\n      <td>2.833736</td>\n      <td>6.482209</td>\n      <td>240</td>\n      <td>11.772991</td>\n      <td>8.193823</td>\n    </tr>\n  </tbody>\n</table>\n<p>30279 rows × 46 columns</p>\n</div>"
     },
     "execution_count": 30,
     "metadata": {},
     "output_type": "execute_result"
    }
   ],
   "source": [
    "train_data"
   ],
   "metadata": {
    "collapsed": false
   }
  },
  {
   "cell_type": "code",
   "execution_count": 31,
   "outputs": [],
   "source": [
    "def get_tframe_dataset(tframe_num, dataset):\n",
    "    tframe_dataset = dataset[dataset['frame'] == tframe_num]\n",
    "    return tframe_dataset"
   ],
   "metadata": {
    "collapsed": false
   }
  },
  {
   "cell_type": "code",
   "execution_count": 32,
   "outputs": [],
   "source": [
    "tframe_nums = range(0, 240, 25)\n",
    "\n",
    "#Create a dictionary that contains 10 timeframes\n",
    "datasets = {}\n",
    "for tframe_num in tframe_nums:\n",
    "    datasets[tframe_num] = get_tframe_dataset(tframe_num, train_data)\n"
   ],
   "metadata": {
    "collapsed": false
   }
  },
  {
   "cell_type": "code",
   "execution_count": 34,
   "outputs": [
    {
     "data": {
      "text/plain": "             Code  Patella_PN  Femur_PN  Tibia_PN  Patella_Car_PN  \\\n0      9003406M00        1137      4142      2789            5275   \n241    9003406M12        1126      4113      2684            5900   \n482    9007827M00         771      3414      2596            4485   \n723    9007827M12         730      3404      2600            5055   \n964    9040390M00         670      3907      2560            4935   \n...           ...         ...       ...       ...             ...   \n29074  9993650M00         633      3084      2205            4255   \n29315  9993833M00         795      3669      2724            4765   \n29556  9993833M12         801      3805      2575            4885   \n29797  9993846M00         868      3794      3029            5430   \n30038  9993846M12         873      3921      2831            5690   \n\n       Femur_Car_PN  Tibia_M_Car_PN  Tibia_L_Car_PN  Patella_volume  \\\n0             21420            2840            2840    33682.157434   \n241           21030            2840            2840    33039.218053   \n482           18385            2840            2840    21736.919532   \n723           18755            2840            2840    20866.993760   \n964           19150            2840            2840    17988.202111   \n...             ...             ...             ...             ...   \n29074         20260            2185            2840    15168.028148   \n29315         20410            2840            2840    22375.020348   \n29556         20400            2840            2840    22439.863013   \n29797         20755            2840            2840    25084.417057   \n30038         21495            2840            2840    24799.135262   \n\n        Femur_volume  ...  Simulation_len  Max_dist_femur_tibia_lat_car  \\\n0      231437.991665  ...               0                     13.941570   \n241    228671.171460  ...               1                     13.560157   \n482    184294.924991  ...               0                     12.892850   \n723    184114.045604  ...               1                     11.617199   \n964    226082.515840  ...               0                     14.107578   \n...              ...  ...             ...                           ...   \n29074  146698.667898  ...               0                     14.732158   \n29315  207318.185631  ...               0                     16.633343   \n29556  215968.865103  ...               1                     17.640301   \n29797  216622.182978  ...               0                     19.743281   \n30038  226161.340527  ...               1                     18.862473   \n\n       Min_dist_femur_tibia_lat_car  Mean_dist_femur_tibia_lat_car  \\\n0                          0.987391                       6.105886   \n241                        0.800195                       6.226970   \n482                        1.504442                       4.844820   \n723                        1.119438                       4.698536   \n964                        2.342441                       6.161425   \n...                             ...                            ...   \n29074                      1.686715                       5.659945   \n29315                      1.874496                       6.641354   \n29556                      1.481010                       6.875417   \n29797                      2.204936                       6.574413   \n30038                      2.616759                       6.815766   \n\n       Max_dist_femur_tibia_med_car  Min_dist_femur_tibia_med_car  \\\n0                         10.304892                      1.376902   \n241                       10.677269                      1.029139   \n482                        9.243396                      1.418712   \n723                        9.107268                      1.398252   \n964                       10.770141                      2.071546   \n...                             ...                           ...   \n29074                     13.039994                      1.308433   \n29315                     15.426130                      2.258161   \n29556                     12.561378                      2.246910   \n29797                     16.267729                      1.759706   \n30038                     15.943200                      2.833736   \n\n       Mean_dist_femur_tibia_med_car  frame  Max_tib_med_contact_pressure  \\\n0                           4.580906      0                      7.619495   \n241                         4.306716      0                      6.554834   \n482                         4.015682      0                      4.956423   \n723                         3.890993      0                      5.840032   \n964                         5.517447      0                      7.856375   \n...                              ...    ...                           ...   \n29074                       4.848711      0                     11.855247   \n29315                       4.898385      0                      7.753703   \n29556                       4.471387      0                      6.899568   \n29797                       5.525146      0                      7.215711   \n30038                       6.482209      0                      6.833431   \n\n       Max_tib_lat_contact_pressure  \n0                          6.696390  \n241                        7.020112  \n482                        6.670447  \n723                        5.090442  \n964                        6.560999  \n...                             ...  \n29074                     10.523536  \n29315                      7.483450  \n29556                      4.661014  \n29797                      6.326750  \n30038                      5.886335  \n\n[135 rows x 46 columns]",
      "text/html": "<div>\n<style scoped>\n    .dataframe tbody tr th:only-of-type {\n        vertical-align: middle;\n    }\n\n    .dataframe tbody tr th {\n        vertical-align: top;\n    }\n\n    .dataframe thead th {\n        text-align: right;\n    }\n</style>\n<table border=\"1\" class=\"dataframe\">\n  <thead>\n    <tr style=\"text-align: right;\">\n      <th></th>\n      <th>Code</th>\n      <th>Patella_PN</th>\n      <th>Femur_PN</th>\n      <th>Tibia_PN</th>\n      <th>Patella_Car_PN</th>\n      <th>Femur_Car_PN</th>\n      <th>Tibia_M_Car_PN</th>\n      <th>Tibia_L_Car_PN</th>\n      <th>Patella_volume</th>\n      <th>Femur_volume</th>\n      <th>...</th>\n      <th>Simulation_len</th>\n      <th>Max_dist_femur_tibia_lat_car</th>\n      <th>Min_dist_femur_tibia_lat_car</th>\n      <th>Mean_dist_femur_tibia_lat_car</th>\n      <th>Max_dist_femur_tibia_med_car</th>\n      <th>Min_dist_femur_tibia_med_car</th>\n      <th>Mean_dist_femur_tibia_med_car</th>\n      <th>frame</th>\n      <th>Max_tib_med_contact_pressure</th>\n      <th>Max_tib_lat_contact_pressure</th>\n    </tr>\n  </thead>\n  <tbody>\n    <tr>\n      <th>0</th>\n      <td>9003406M00</td>\n      <td>1137</td>\n      <td>4142</td>\n      <td>2789</td>\n      <td>5275</td>\n      <td>21420</td>\n      <td>2840</td>\n      <td>2840</td>\n      <td>33682.157434</td>\n      <td>231437.991665</td>\n      <td>...</td>\n      <td>0</td>\n      <td>13.941570</td>\n      <td>0.987391</td>\n      <td>6.105886</td>\n      <td>10.304892</td>\n      <td>1.376902</td>\n      <td>4.580906</td>\n      <td>0</td>\n      <td>7.619495</td>\n      <td>6.696390</td>\n    </tr>\n    <tr>\n      <th>241</th>\n      <td>9003406M12</td>\n      <td>1126</td>\n      <td>4113</td>\n      <td>2684</td>\n      <td>5900</td>\n      <td>21030</td>\n      <td>2840</td>\n      <td>2840</td>\n      <td>33039.218053</td>\n      <td>228671.171460</td>\n      <td>...</td>\n      <td>1</td>\n      <td>13.560157</td>\n      <td>0.800195</td>\n      <td>6.226970</td>\n      <td>10.677269</td>\n      <td>1.029139</td>\n      <td>4.306716</td>\n      <td>0</td>\n      <td>6.554834</td>\n      <td>7.020112</td>\n    </tr>\n    <tr>\n      <th>482</th>\n      <td>9007827M00</td>\n      <td>771</td>\n      <td>3414</td>\n      <td>2596</td>\n      <td>4485</td>\n      <td>18385</td>\n      <td>2840</td>\n      <td>2840</td>\n      <td>21736.919532</td>\n      <td>184294.924991</td>\n      <td>...</td>\n      <td>0</td>\n      <td>12.892850</td>\n      <td>1.504442</td>\n      <td>4.844820</td>\n      <td>9.243396</td>\n      <td>1.418712</td>\n      <td>4.015682</td>\n      <td>0</td>\n      <td>4.956423</td>\n      <td>6.670447</td>\n    </tr>\n    <tr>\n      <th>723</th>\n      <td>9007827M12</td>\n      <td>730</td>\n      <td>3404</td>\n      <td>2600</td>\n      <td>5055</td>\n      <td>18755</td>\n      <td>2840</td>\n      <td>2840</td>\n      <td>20866.993760</td>\n      <td>184114.045604</td>\n      <td>...</td>\n      <td>1</td>\n      <td>11.617199</td>\n      <td>1.119438</td>\n      <td>4.698536</td>\n      <td>9.107268</td>\n      <td>1.398252</td>\n      <td>3.890993</td>\n      <td>0</td>\n      <td>5.840032</td>\n      <td>5.090442</td>\n    </tr>\n    <tr>\n      <th>964</th>\n      <td>9040390M00</td>\n      <td>670</td>\n      <td>3907</td>\n      <td>2560</td>\n      <td>4935</td>\n      <td>19150</td>\n      <td>2840</td>\n      <td>2840</td>\n      <td>17988.202111</td>\n      <td>226082.515840</td>\n      <td>...</td>\n      <td>0</td>\n      <td>14.107578</td>\n      <td>2.342441</td>\n      <td>6.161425</td>\n      <td>10.770141</td>\n      <td>2.071546</td>\n      <td>5.517447</td>\n      <td>0</td>\n      <td>7.856375</td>\n      <td>6.560999</td>\n    </tr>\n    <tr>\n      <th>...</th>\n      <td>...</td>\n      <td>...</td>\n      <td>...</td>\n      <td>...</td>\n      <td>...</td>\n      <td>...</td>\n      <td>...</td>\n      <td>...</td>\n      <td>...</td>\n      <td>...</td>\n      <td>...</td>\n      <td>...</td>\n      <td>...</td>\n      <td>...</td>\n      <td>...</td>\n      <td>...</td>\n      <td>...</td>\n      <td>...</td>\n      <td>...</td>\n      <td>...</td>\n      <td>...</td>\n    </tr>\n    <tr>\n      <th>29074</th>\n      <td>9993650M00</td>\n      <td>633</td>\n      <td>3084</td>\n      <td>2205</td>\n      <td>4255</td>\n      <td>20260</td>\n      <td>2185</td>\n      <td>2840</td>\n      <td>15168.028148</td>\n      <td>146698.667898</td>\n      <td>...</td>\n      <td>0</td>\n      <td>14.732158</td>\n      <td>1.686715</td>\n      <td>5.659945</td>\n      <td>13.039994</td>\n      <td>1.308433</td>\n      <td>4.848711</td>\n      <td>0</td>\n      <td>11.855247</td>\n      <td>10.523536</td>\n    </tr>\n    <tr>\n      <th>29315</th>\n      <td>9993833M00</td>\n      <td>795</td>\n      <td>3669</td>\n      <td>2724</td>\n      <td>4765</td>\n      <td>20410</td>\n      <td>2840</td>\n      <td>2840</td>\n      <td>22375.020348</td>\n      <td>207318.185631</td>\n      <td>...</td>\n      <td>0</td>\n      <td>16.633343</td>\n      <td>1.874496</td>\n      <td>6.641354</td>\n      <td>15.426130</td>\n      <td>2.258161</td>\n      <td>4.898385</td>\n      <td>0</td>\n      <td>7.753703</td>\n      <td>7.483450</td>\n    </tr>\n    <tr>\n      <th>29556</th>\n      <td>9993833M12</td>\n      <td>801</td>\n      <td>3805</td>\n      <td>2575</td>\n      <td>4885</td>\n      <td>20400</td>\n      <td>2840</td>\n      <td>2840</td>\n      <td>22439.863013</td>\n      <td>215968.865103</td>\n      <td>...</td>\n      <td>1</td>\n      <td>17.640301</td>\n      <td>1.481010</td>\n      <td>6.875417</td>\n      <td>12.561378</td>\n      <td>2.246910</td>\n      <td>4.471387</td>\n      <td>0</td>\n      <td>6.899568</td>\n      <td>4.661014</td>\n    </tr>\n    <tr>\n      <th>29797</th>\n      <td>9993846M00</td>\n      <td>868</td>\n      <td>3794</td>\n      <td>3029</td>\n      <td>5430</td>\n      <td>20755</td>\n      <td>2840</td>\n      <td>2840</td>\n      <td>25084.417057</td>\n      <td>216622.182978</td>\n      <td>...</td>\n      <td>0</td>\n      <td>19.743281</td>\n      <td>2.204936</td>\n      <td>6.574413</td>\n      <td>16.267729</td>\n      <td>1.759706</td>\n      <td>5.525146</td>\n      <td>0</td>\n      <td>7.215711</td>\n      <td>6.326750</td>\n    </tr>\n    <tr>\n      <th>30038</th>\n      <td>9993846M12</td>\n      <td>873</td>\n      <td>3921</td>\n      <td>2831</td>\n      <td>5690</td>\n      <td>21495</td>\n      <td>2840</td>\n      <td>2840</td>\n      <td>24799.135262</td>\n      <td>226161.340527</td>\n      <td>...</td>\n      <td>1</td>\n      <td>18.862473</td>\n      <td>2.616759</td>\n      <td>6.815766</td>\n      <td>15.943200</td>\n      <td>2.833736</td>\n      <td>6.482209</td>\n      <td>0</td>\n      <td>6.833431</td>\n      <td>5.886335</td>\n    </tr>\n  </tbody>\n</table>\n<p>135 rows × 46 columns</p>\n</div>"
     },
     "execution_count": 34,
     "metadata": {},
     "output_type": "execute_result"
    }
   ],
   "source": [
    "datasets[0]"
   ],
   "metadata": {
    "collapsed": false
   }
  },
  {
   "cell_type": "code",
   "execution_count": 33,
   "outputs": [],
   "source": [],
   "metadata": {
    "collapsed": false
   }
  }
 ],
 "metadata": {
  "kernelspec": {
   "display_name": "Python 3",
   "language": "python",
   "name": "python3"
  },
  "language_info": {
   "codemirror_mode": {
    "name": "ipython",
    "version": 2
   },
   "file_extension": ".py",
   "mimetype": "text/x-python",
   "name": "python",
   "nbconvert_exporter": "python",
   "pygments_lexer": "ipython2",
   "version": "2.7.6"
  }
 },
 "nbformat": 4,
 "nbformat_minor": 0
}
