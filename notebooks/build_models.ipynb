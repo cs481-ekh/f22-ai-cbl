{
 "cells": [
  {
   "cell_type": "code",
   "execution_count": 91,
   "metadata": {
    "collapsed": true
   },
   "outputs": [],
   "source": [
    "from pathlib import Path\n",
    "import numpy as np\n",
    "import pandas as pd\n",
    "import warnings\n",
    "warnings.filterwarnings(\"ignore\")\n",
    "import matplotlib.pyplot as plt\n",
    "import seaborn as sns\n",
    "from sklearn.model_selection import train_test_split\n",
    "from knee_stress_predict.config import raw_data_dir, processed_data_dir\n",
    "from sklearn.tree import DecisionTreeClassifier, plot_tree\n",
    "from sklearn.metrics import mean_squared_error\n",
    "from sklearn.ensemble import RandomForestRegressor"
   ]
  },
  {
   "cell_type": "markdown",
   "source": [
    "## Load data\n"
   ],
   "metadata": {
    "collapsed": false
   },
   "execution_count": 1
  },
  {
   "cell_type": "code",
   "execution_count": 103,
   "outputs": [],
   "source": [
    "data_set_name = \"set_3\"\n",
    "train_file_path = Path.joinpath(processed_data_dir, data_set_name,  \"train_cleaned.csv\")\n",
    "test_file_path = Path.joinpath(processed_data_dir, data_set_name,  \"test_cleaned.csv\")\n",
    "train_data = pd.read_csv(train_file_path).drop('Unnamed: 0', axis=1)\n",
    "test_data = pd.read_csv(test_file_path).drop('Unnamed: 0', axis=1)"
   ],
   "metadata": {
    "collapsed": false
   }
  },
  {
   "cell_type": "code",
   "execution_count": 104,
   "outputs": [
    {
     "name": "stdout",
     "output_type": "stream",
     "text": [
      "<class 'pandas.core.frame.DataFrame'>\n",
      "RangeIndex: 30279 entries, 0 to 30278\n",
      "Data columns (total 46 columns):\n",
      " #   Column                         Non-Null Count  Dtype  \n",
      "---  ------                         --------------  -----  \n",
      " 0   Code                           30279 non-null  object \n",
      " 1   Patella_PN                     30279 non-null  int64  \n",
      " 2   Femur_PN                       30279 non-null  int64  \n",
      " 3   Tibia_PN                       30279 non-null  int64  \n",
      " 4   Patella_Car_PN                 30279 non-null  int64  \n",
      " 5   Femur_Car_PN                   30279 non-null  int64  \n",
      " 6   Tibia_M_Car_PN                 30279 non-null  int64  \n",
      " 7   Tibia_L_Car_PN                 30279 non-null  int64  \n",
      " 8   Patella_volume                 30279 non-null  float64\n",
      " 9   Femur_volume                   30279 non-null  float64\n",
      " 10  Tibia_volume                   30279 non-null  float64\n",
      " 11  Patella_Car_volume             30279 non-null  float64\n",
      " 12  Femur_Car_volume               30279 non-null  float64\n",
      " 13  Tibia_M_Car_volume             30279 non-null  float64\n",
      " 14  Tibia_L_Car_volume             30279 non-null  float64\n",
      " 15  Patella_bounds_x               30279 non-null  float64\n",
      " 16  Femur_bounds_x                 30279 non-null  float64\n",
      " 17  Tibia_bounds_x                 30279 non-null  float64\n",
      " 18  Patella_Car_bounds_x           30279 non-null  float64\n",
      " 19  Femur_Car_bounds_x             30279 non-null  float64\n",
      " 20  Tibia_M_Car_bounds_x           30279 non-null  float64\n",
      " 21  Tibia_L_Car_bounds_x           30279 non-null  float64\n",
      " 22  Patella_bounds_y               30279 non-null  float64\n",
      " 23  Femur_bounds_y                 30279 non-null  float64\n",
      " 24  Tibia_bounds_y                 30279 non-null  float64\n",
      " 25  Patella_Car_bounds_y           30279 non-null  float64\n",
      " 26  Femur_Car_bounds_y             30279 non-null  float64\n",
      " 27  Tibia_M_Car_bounds_y           30279 non-null  float64\n",
      " 28  Tibia_L_Car_bounds_y           30279 non-null  float64\n",
      " 29  Patella_bounds_z               30279 non-null  float64\n",
      " 30  Femur_bounds_z                 30279 non-null  float64\n",
      " 31  Tibia_bounds_z                 30279 non-null  float64\n",
      " 32  Patella_Car_bounds_z           30279 non-null  float64\n",
      " 33  Femur_Car_bounds_z             30279 non-null  float64\n",
      " 34  Tibia_M_Car_bounds_z           30279 non-null  float64\n",
      " 35  Tibia_L_Car_bounds_z           30279 non-null  float64\n",
      " 36  Simulation_len                 30279 non-null  int64  \n",
      " 37  Max_dist_femur_tibia_lat_car   30279 non-null  float64\n",
      " 38  Min_dist_femur_tibia_lat_car   30279 non-null  float64\n",
      " 39  Mean_dist_femur_tibia_lat_car  30279 non-null  float64\n",
      " 40  Max_dist_femur_tibia_med_car   30279 non-null  float64\n",
      " 41  Min_dist_femur_tibia_med_car   30279 non-null  float64\n",
      " 42  Mean_dist_femur_tibia_med_car  30279 non-null  float64\n",
      " 43  frame                          30279 non-null  int64  \n",
      " 44  Max_tib_med_contact_pressure   30279 non-null  float64\n",
      " 45  Max_tib_lat_contact_pressure   30279 non-null  float64\n",
      "dtypes: float64(36), int64(9), object(1)\n",
      "memory usage: 10.6+ MB\n"
     ]
    }
   ],
   "source": [
    "train_data.info()"
   ],
   "metadata": {
    "collapsed": false
   }
  },
  {
   "cell_type": "code",
   "execution_count": 105,
   "outputs": [],
   "source": [
    "def get_tframe_dataset(tframe_num, dataset):\n",
    "    tframe_dataset = dataset[dataset['frame'] == tframe_num]\n",
    "    return tframe_dataset"
   ],
   "metadata": {
    "collapsed": false
   }
  },
  {
   "cell_type": "code",
   "execution_count": 106,
   "outputs": [],
   "source": [
    "tframe_nums = range(0, 240, 25)\n",
    "\n",
    "#Create a dictionary that contains 10 timeframes\n",
    "\n",
    "train_datasets = {}\n",
    "for tframe_num in tframe_nums:\n",
    "    train_datasets[tframe_num] = get_tframe_dataset(tframe_num, train_data)\n",
    "\n",
    "test_datasets = {}\n",
    "for tframe_num in tframe_nums:\n",
    "    test_datasets[tframe_num] = get_tframe_dataset(tframe_num, test_data)\n"
   ],
   "metadata": {
    "collapsed": false
   }
  },
  {
   "cell_type": "markdown",
   "source": [
    "## Simple benchmark MSE"
   ],
   "metadata": {
    "collapsed": false
   }
  },
  {
   "cell_type": "code",
   "execution_count": 107,
   "outputs": [],
   "source": [
    "mse_simple = pd.DataFrame(columns=['frame', 'med_benchmark_MSE', 'lat_benchmark_MSE'])\n",
    "\n",
    "for key, values in train_datasets.items():\n",
    "    med_tibia_predicted = train_datasets[key]['Max_tib_med_contact_pressure'].mean()\n",
    "    mse_med = ((test_datasets[key]['Max_tib_med_contact_pressure'] - med_tibia_predicted)**2).mean()\n",
    "\n",
    "    lat_tibia_predicted = train_datasets[key]['Max_tib_lat_contact_pressure'].mean()\n",
    "    mse_lat = ((test_datasets[key]['Max_tib_lat_contact_pressure'] - lat_tibia_predicted)**2).mean()\n",
    "    mse_timeframe = { 'frame': key,  'med_benchmark_MSE': mse_med, 'lat_benchmark_MSE': mse_lat }\n",
    "\n",
    "    mse_simple = mse_simple.append(mse_timeframe, ignore_index=True)"
   ],
   "metadata": {
    "collapsed": false
   }
  },
  {
   "cell_type": "code",
   "execution_count": 108,
   "outputs": [
    {
     "data": {
      "text/plain": "   frame  med_benchmark_MSE  lat_benchmark_MSE\n0    0.0           3.636854           4.885563\n1   25.0          29.753810           8.142631\n2   50.0         222.903957          21.289709\n3   75.0          60.357285          18.445215\n4  100.0          92.651709          23.605557\n5  125.0          77.510633          20.768768\n6  150.0          82.510877          18.547202\n7  175.0         111.937007          12.345029\n8  200.0          81.277607           9.835287\n9  225.0          12.943481           3.406698",
      "text/html": "<div>\n<style scoped>\n    .dataframe tbody tr th:only-of-type {\n        vertical-align: middle;\n    }\n\n    .dataframe tbody tr th {\n        vertical-align: top;\n    }\n\n    .dataframe thead th {\n        text-align: right;\n    }\n</style>\n<table border=\"1\" class=\"dataframe\">\n  <thead>\n    <tr style=\"text-align: right;\">\n      <th></th>\n      <th>frame</th>\n      <th>med_benchmark_MSE</th>\n      <th>lat_benchmark_MSE</th>\n    </tr>\n  </thead>\n  <tbody>\n    <tr>\n      <th>0</th>\n      <td>0.0</td>\n      <td>3.636854</td>\n      <td>4.885563</td>\n    </tr>\n    <tr>\n      <th>1</th>\n      <td>25.0</td>\n      <td>29.753810</td>\n      <td>8.142631</td>\n    </tr>\n    <tr>\n      <th>2</th>\n      <td>50.0</td>\n      <td>222.903957</td>\n      <td>21.289709</td>\n    </tr>\n    <tr>\n      <th>3</th>\n      <td>75.0</td>\n      <td>60.357285</td>\n      <td>18.445215</td>\n    </tr>\n    <tr>\n      <th>4</th>\n      <td>100.0</td>\n      <td>92.651709</td>\n      <td>23.605557</td>\n    </tr>\n    <tr>\n      <th>5</th>\n      <td>125.0</td>\n      <td>77.510633</td>\n      <td>20.768768</td>\n    </tr>\n    <tr>\n      <th>6</th>\n      <td>150.0</td>\n      <td>82.510877</td>\n      <td>18.547202</td>\n    </tr>\n    <tr>\n      <th>7</th>\n      <td>175.0</td>\n      <td>111.937007</td>\n      <td>12.345029</td>\n    </tr>\n    <tr>\n      <th>8</th>\n      <td>200.0</td>\n      <td>81.277607</td>\n      <td>9.835287</td>\n    </tr>\n    <tr>\n      <th>9</th>\n      <td>225.0</td>\n      <td>12.943481</td>\n      <td>3.406698</td>\n    </tr>\n  </tbody>\n</table>\n</div>"
     },
     "execution_count": 108,
     "metadata": {},
     "output_type": "execute_result"
    }
   ],
   "source": [
    "mse_simple"
   ],
   "metadata": {
    "collapsed": false
   }
  },
  {
   "cell_type": "markdown",
   "source": [
    "## Random Forest"
   ],
   "metadata": {
    "collapsed": false
   }
  },
  {
   "cell_type": "code",
   "execution_count": 109,
   "outputs": [],
   "source": [
    "mse_rf = pd.DataFrame(columns=['frame', 'med_rf_MSE', 'lat_rf_MSE'])\n",
    "\n",
    "for key,value in train_datasets.items():\n",
    "    out_col = ['Max_tib_med_contact_pressure', 'Max_tib_lat_contact_pressure']\n",
    "    feat_cols = list(set(list(train_datasets[key].columns)) - set(out_col) - {'Code', 'frame'})\n",
    "    train_x = train_datasets[key][feat_cols]\n",
    "    train_y_med = train_datasets[key][['Max_tib_med_contact_pressure']]\n",
    "    train_y_lat = train_datasets[key][['Max_tib_lat_contact_pressure']]\n",
    "\n",
    "    test_x = test_datasets[key][feat_cols]\n",
    "    test_y_med = test_datasets[key][['Max_tib_med_contact_pressure']]\n",
    "    test_y_lat = test_datasets[key][['Max_tib_lat_contact_pressure']]\n",
    "\n",
    "\n",
    "    rf_model_med = RandomForestRegressor()\n",
    "    rf_model_med.fit(train_x, train_y_med)\n",
    "    yhat_med = rf_model_med.predict(test_x)\n",
    "    mse_med = mean_squared_error(yhat_med, test_y_med)\n",
    "\n",
    "\n",
    "    rf_model_lat = RandomForestRegressor()\n",
    "    rf_model_lat.fit(train_x, train_y_lat)\n",
    "    yhat_lat = rf_model_lat.predict(test_x)\n",
    "    mse_lat = mean_squared_error(yhat_lat, test_y_lat)\n",
    "\n",
    "    mse_timeframe = { 'frame': key,  'med_rf_MSE': mse_med, 'lat_rf_MSE': mse_lat }\n",
    "\n",
    "    mse_rf = mse_rf.append(mse_timeframe, ignore_index=True)"
   ],
   "metadata": {
    "collapsed": false
   }
  },
  {
   "cell_type": "code",
   "execution_count": 110,
   "outputs": [
    {
     "data": {
      "text/plain": "   frame  med_rf_MSE  lat_rf_MSE\n0    0.0    3.811144    4.227729\n1   25.0   48.612159    8.539264\n2   50.0  426.042633   18.620912\n3   75.0  242.205623  102.787584\n4  100.0  168.137798   26.287569\n5  125.0  165.212561   30.818430\n6  150.0  485.741782   24.028660\n7  175.0  344.258752   14.891539\n8  200.0  203.810161   35.680066\n9  225.0  445.700542    4.088089",
      "text/html": "<div>\n<style scoped>\n    .dataframe tbody tr th:only-of-type {\n        vertical-align: middle;\n    }\n\n    .dataframe tbody tr th {\n        vertical-align: top;\n    }\n\n    .dataframe thead th {\n        text-align: right;\n    }\n</style>\n<table border=\"1\" class=\"dataframe\">\n  <thead>\n    <tr style=\"text-align: right;\">\n      <th></th>\n      <th>frame</th>\n      <th>med_rf_MSE</th>\n      <th>lat_rf_MSE</th>\n    </tr>\n  </thead>\n  <tbody>\n    <tr>\n      <th>0</th>\n      <td>0.0</td>\n      <td>3.811144</td>\n      <td>4.227729</td>\n    </tr>\n    <tr>\n      <th>1</th>\n      <td>25.0</td>\n      <td>48.612159</td>\n      <td>8.539264</td>\n    </tr>\n    <tr>\n      <th>2</th>\n      <td>50.0</td>\n      <td>426.042633</td>\n      <td>18.620912</td>\n    </tr>\n    <tr>\n      <th>3</th>\n      <td>75.0</td>\n      <td>242.205623</td>\n      <td>102.787584</td>\n    </tr>\n    <tr>\n      <th>4</th>\n      <td>100.0</td>\n      <td>168.137798</td>\n      <td>26.287569</td>\n    </tr>\n    <tr>\n      <th>5</th>\n      <td>125.0</td>\n      <td>165.212561</td>\n      <td>30.818430</td>\n    </tr>\n    <tr>\n      <th>6</th>\n      <td>150.0</td>\n      <td>485.741782</td>\n      <td>24.028660</td>\n    </tr>\n    <tr>\n      <th>7</th>\n      <td>175.0</td>\n      <td>344.258752</td>\n      <td>14.891539</td>\n    </tr>\n    <tr>\n      <th>8</th>\n      <td>200.0</td>\n      <td>203.810161</td>\n      <td>35.680066</td>\n    </tr>\n    <tr>\n      <th>9</th>\n      <td>225.0</td>\n      <td>445.700542</td>\n      <td>4.088089</td>\n    </tr>\n  </tbody>\n</table>\n</div>"
     },
     "execution_count": 110,
     "metadata": {},
     "output_type": "execute_result"
    }
   ],
   "source": [
    "mse_rf"
   ],
   "metadata": {
    "collapsed": false
   }
  },
  {
   "cell_type": "code",
   "execution_count": 111,
   "outputs": [],
   "source": [
    "mse = mse_simple.merge(mse_rf, on='frame')"
   ],
   "metadata": {
    "collapsed": false
   }
  },
  {
   "cell_type": "code",
   "execution_count": 112,
   "outputs": [
    {
     "data": {
      "text/plain": "   frame  med_benchmark_MSE  lat_benchmark_MSE  med_rf_MSE  lat_rf_MSE\n0    0.0           3.636854           4.885563    3.811144    4.227729\n1   25.0          29.753810           8.142631   48.612159    8.539264\n2   50.0         222.903957          21.289709  426.042633   18.620912\n3   75.0          60.357285          18.445215  242.205623  102.787584\n4  100.0          92.651709          23.605557  168.137798   26.287569\n5  125.0          77.510633          20.768768  165.212561   30.818430\n6  150.0          82.510877          18.547202  485.741782   24.028660\n7  175.0         111.937007          12.345029  344.258752   14.891539\n8  200.0          81.277607           9.835287  203.810161   35.680066\n9  225.0          12.943481           3.406698  445.700542    4.088089",
      "text/html": "<div>\n<style scoped>\n    .dataframe tbody tr th:only-of-type {\n        vertical-align: middle;\n    }\n\n    .dataframe tbody tr th {\n        vertical-align: top;\n    }\n\n    .dataframe thead th {\n        text-align: right;\n    }\n</style>\n<table border=\"1\" class=\"dataframe\">\n  <thead>\n    <tr style=\"text-align: right;\">\n      <th></th>\n      <th>frame</th>\n      <th>med_benchmark_MSE</th>\n      <th>lat_benchmark_MSE</th>\n      <th>med_rf_MSE</th>\n      <th>lat_rf_MSE</th>\n    </tr>\n  </thead>\n  <tbody>\n    <tr>\n      <th>0</th>\n      <td>0.0</td>\n      <td>3.636854</td>\n      <td>4.885563</td>\n      <td>3.811144</td>\n      <td>4.227729</td>\n    </tr>\n    <tr>\n      <th>1</th>\n      <td>25.0</td>\n      <td>29.753810</td>\n      <td>8.142631</td>\n      <td>48.612159</td>\n      <td>8.539264</td>\n    </tr>\n    <tr>\n      <th>2</th>\n      <td>50.0</td>\n      <td>222.903957</td>\n      <td>21.289709</td>\n      <td>426.042633</td>\n      <td>18.620912</td>\n    </tr>\n    <tr>\n      <th>3</th>\n      <td>75.0</td>\n      <td>60.357285</td>\n      <td>18.445215</td>\n      <td>242.205623</td>\n      <td>102.787584</td>\n    </tr>\n    <tr>\n      <th>4</th>\n      <td>100.0</td>\n      <td>92.651709</td>\n      <td>23.605557</td>\n      <td>168.137798</td>\n      <td>26.287569</td>\n    </tr>\n    <tr>\n      <th>5</th>\n      <td>125.0</td>\n      <td>77.510633</td>\n      <td>20.768768</td>\n      <td>165.212561</td>\n      <td>30.818430</td>\n    </tr>\n    <tr>\n      <th>6</th>\n      <td>150.0</td>\n      <td>82.510877</td>\n      <td>18.547202</td>\n      <td>485.741782</td>\n      <td>24.028660</td>\n    </tr>\n    <tr>\n      <th>7</th>\n      <td>175.0</td>\n      <td>111.937007</td>\n      <td>12.345029</td>\n      <td>344.258752</td>\n      <td>14.891539</td>\n    </tr>\n    <tr>\n      <th>8</th>\n      <td>200.0</td>\n      <td>81.277607</td>\n      <td>9.835287</td>\n      <td>203.810161</td>\n      <td>35.680066</td>\n    </tr>\n    <tr>\n      <th>9</th>\n      <td>225.0</td>\n      <td>12.943481</td>\n      <td>3.406698</td>\n      <td>445.700542</td>\n      <td>4.088089</td>\n    </tr>\n  </tbody>\n</table>\n</div>"
     },
     "execution_count": 112,
     "metadata": {},
     "output_type": "execute_result"
    }
   ],
   "source": [
    "mse"
   ],
   "metadata": {
    "collapsed": false
   }
  },
  {
   "cell_type": "code",
   "execution_count": null,
   "outputs": [],
   "source": [],
   "metadata": {
    "collapsed": false
   }
  }
 ],
 "metadata": {
  "kernelspec": {
   "display_name": "Python 3",
   "language": "python",
   "name": "python3"
  },
  "language_info": {
   "codemirror_mode": {
    "name": "ipython",
    "version": 2
   },
   "file_extension": ".py",
   "mimetype": "text/x-python",
   "name": "python",
   "nbconvert_exporter": "python",
   "pygments_lexer": "ipython2",
   "version": "2.7.6"
  }
 },
 "nbformat": 4,
 "nbformat_minor": 0
}
