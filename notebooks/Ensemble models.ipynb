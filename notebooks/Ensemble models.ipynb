{
 "cells": [
  {
   "cell_type": "markdown",
   "metadata": {},
   "source": [
    "# Linear Regression Analysis"
   ]
  },
  {
   "cell_type": "code",
   "execution_count": 35,
   "metadata": {},
   "outputs": [],
   "source": [
    "%matplotlib inline\n",
    "import numpy as np\n",
    "import pandas as pd\n",
    "import sklearn\n",
    "from sklearn.model_selection import train_test_split\n",
    "from sklearn import model_selection\n",
    "import matplotlib.pyplot as plt\n",
    "from sklearn.metrics import roc_curve\n",
    "from sklearn.metrics import accuracy_score\n",
    "from sklearn.linear_model import LinearRegression\n",
    "from sklearn.naive_bayes import GaussianNB, BernoulliNB\n",
    "from sklearn.ensemble import RandomForestClassifier\n",
    "from sklearn.preprocessing import MinMaxScaler\n",
    "#from sklearn import svm\n"
   ]
  },
  {
   "cell_type": "code",
   "execution_count": 53,
   "metadata": {},
   "outputs": [],
   "source": [
    "col_names = ['Code','Patella_PN','Femur_PN','Tibia_PN','Patella_Car_PN','Femur_Car_PN','Tibia_M_Car_PN','Tibia_L_Car_PN','Patella_volume','Femur_volume','Tibia_volume','Patella_Car_volume','Femur_Car_volume','Tibia_M_Car_volume','Tibia_L_Car_volume','Patella_bounds_x','Femur_bounds_x','Tibia_bounds_x','Patella_Car_bounds_x','Femur_Car_bounds_x','Tibia_M_Car_bounds_x','Tibia_L_Car_bounds_x','Patella_bounds_y','Femur_bounds_y','Tibia_bounds_y','Patella_Car_bounds_y','Femur_Car_bounds_y','Tibia_M_Car_bounds_y','Tibia_L_Car_bounds_y','Patella_bounds_z','Femur_bounds_z','Tibia_bounds_z','Patella_Car_bounds_z','Femur_Car_bounds_z','Tibia_M_Car_bounds_z','Tibia_L_Car_bounds_z','Max_dist_femur_tibia_lat_car','Min_dist_femur_tibia_lat_car','Mean_dist_femur_tibia_lat_car','Max_dist_femur_tibia_med_car','Min_dist_femur_tibia_med_car','Mean_dist_femur_tibia_med_car','Max_tib_lat_contact_pressure','Max_tib_med_contact_pressure']\n",
    "\n",
    "file_path = \"C:\\\\Users\\\\steph\\\\Documents\\\\GitHub\\\\f22-ai-cbl\\\\data\\\\processed\\\\set_2\\\\out.csv\"\n",
    "data = pd.read_csv(file_path, header=None, names=col_names, skiprows=[0])\n",
    "df = pd.DataFrame(data, columns = col_names)"
   ]
  },
  {
   "cell_type": "markdown",
   "metadata": {},
   "source": [
    "### Feature Engineering"
   ]
  },
  {
   "cell_type": "code",
   "execution_count": 6,
   "metadata": {},
   "outputs": [],
   "source": [
    "L1 = []\n",
    "L2 = []\n",
    "for x in df['Max_tib_lat_contact_pressure']:\n",
    "    if x < 20:\n",
    "        L1.append(0)\n",
    "    elif x < 25:\n",
    "        L1.append(1)\n",
    "    else:\n",
    "        L1.append(2)\n",
    "for x in df['Max_tib_med_contact_pressure']:\n",
    "    if x < 20:\n",
    "        L2.append(0)\n",
    "    elif x < 25:\n",
    "        L2.append(1)\n",
    "    else:\n",
    "        L2.append(2)\n",
    "df['L1'] = L1\n",
    "df['L2'] = L2"
   ]
  },
  {
   "cell_type": "code",
   "execution_count": 7,
   "metadata": {},
   "outputs": [
    {
     "name": "stdout",
     "output_type": "stream",
     "text": [
      "(28, 46)\n"
     ]
    },
    {
     "data": {
      "text/html": [
       "<div>\n",
       "<style scoped>\n",
       "    .dataframe tbody tr th:only-of-type {\n",
       "        vertical-align: middle;\n",
       "    }\n",
       "\n",
       "    .dataframe tbody tr th {\n",
       "        vertical-align: top;\n",
       "    }\n",
       "\n",
       "    .dataframe thead th {\n",
       "        text-align: right;\n",
       "    }\n",
       "</style>\n",
       "<table border=\"1\" class=\"dataframe\">\n",
       "  <thead>\n",
       "    <tr style=\"text-align: right;\">\n",
       "      <th></th>\n",
       "      <th>Code</th>\n",
       "      <th>Patella_PN</th>\n",
       "      <th>Femur_PN</th>\n",
       "      <th>Tibia_PN</th>\n",
       "      <th>Patella_Car_PN</th>\n",
       "      <th>Femur_Car_PN</th>\n",
       "      <th>Tibia_M_Car_PN</th>\n",
       "      <th>Tibia_L_Car_PN</th>\n",
       "      <th>Patella_volume</th>\n",
       "      <th>Femur_volume</th>\n",
       "      <th>...</th>\n",
       "      <th>Max_dist_femur_tibia_lat_car</th>\n",
       "      <th>Min_dist_femur_tibia_lat_car</th>\n",
       "      <th>Mean_dist_femur_tibia_lat_car</th>\n",
       "      <th>Max_dist_femur_tibia_med_car</th>\n",
       "      <th>Min_dist_femur_tibia_med_car</th>\n",
       "      <th>Mean_dist_femur_tibia_med_car</th>\n",
       "      <th>Max_tib_lat_contact_pressure</th>\n",
       "      <th>Max_tib_med_contact_pressure</th>\n",
       "      <th>L1</th>\n",
       "      <th>L2</th>\n",
       "    </tr>\n",
       "  </thead>\n",
       "  <tbody>\n",
       "    <tr>\n",
       "      <th>0</th>\n",
       "      <td>9905863M00</td>\n",
       "      <td>923</td>\n",
       "      <td>4011</td>\n",
       "      <td>3009</td>\n",
       "      <td>4745</td>\n",
       "      <td>19095</td>\n",
       "      <td>2840</td>\n",
       "      <td>2840</td>\n",
       "      <td>28699.200017</td>\n",
       "      <td>229006.314467</td>\n",
       "      <td>...</td>\n",
       "      <td>17.745715</td>\n",
       "      <td>2.039169</td>\n",
       "      <td>6.118655</td>\n",
       "      <td>12.363764</td>\n",
       "      <td>1.604390</td>\n",
       "      <td>4.737838</td>\n",
       "      <td>20.304403</td>\n",
       "      <td>21.124319</td>\n",
       "      <td>1</td>\n",
       "      <td>1</td>\n",
       "    </tr>\n",
       "    <tr>\n",
       "      <th>1</th>\n",
       "      <td>9905863M12</td>\n",
       "      <td>884</td>\n",
       "      <td>4110</td>\n",
       "      <td>2790</td>\n",
       "      <td>4585</td>\n",
       "      <td>19025</td>\n",
       "      <td>2840</td>\n",
       "      <td>2840</td>\n",
       "      <td>28197.827325</td>\n",
       "      <td>246641.112279</td>\n",
       "      <td>...</td>\n",
       "      <td>17.898652</td>\n",
       "      <td>1.921611</td>\n",
       "      <td>5.881292</td>\n",
       "      <td>11.342142</td>\n",
       "      <td>1.238408</td>\n",
       "      <td>4.577601</td>\n",
       "      <td>16.648224</td>\n",
       "      <td>24.434072</td>\n",
       "      <td>0</td>\n",
       "      <td>1</td>\n",
       "    </tr>\n",
       "    <tr>\n",
       "      <th>2</th>\n",
       "      <td>9908796M00</td>\n",
       "      <td>641</td>\n",
       "      <td>2861</td>\n",
       "      <td>2268</td>\n",
       "      <td>4120</td>\n",
       "      <td>20295</td>\n",
       "      <td>2840</td>\n",
       "      <td>2840</td>\n",
       "      <td>15222.439598</td>\n",
       "      <td>141352.763773</td>\n",
       "      <td>...</td>\n",
       "      <td>17.383859</td>\n",
       "      <td>1.526717</td>\n",
       "      <td>5.834900</td>\n",
       "      <td>11.786139</td>\n",
       "      <td>1.642169</td>\n",
       "      <td>4.761267</td>\n",
       "      <td>24.156282</td>\n",
       "      <td>32.353172</td>\n",
       "      <td>1</td>\n",
       "      <td>2</td>\n",
       "    </tr>\n",
       "    <tr>\n",
       "      <th>3</th>\n",
       "      <td>9908796M12</td>\n",
       "      <td>625</td>\n",
       "      <td>3022</td>\n",
       "      <td>2171</td>\n",
       "      <td>4715</td>\n",
       "      <td>19385</td>\n",
       "      <td>2840</td>\n",
       "      <td>2840</td>\n",
       "      <td>14931.893097</td>\n",
       "      <td>149215.886238</td>\n",
       "      <td>...</td>\n",
       "      <td>15.747611</td>\n",
       "      <td>1.651787</td>\n",
       "      <td>5.670845</td>\n",
       "      <td>9.728744</td>\n",
       "      <td>1.010164</td>\n",
       "      <td>4.052701</td>\n",
       "      <td>26.788031</td>\n",
       "      <td>41.688950</td>\n",
       "      <td>2</td>\n",
       "      <td>2</td>\n",
       "    </tr>\n",
       "    <tr>\n",
       "      <th>4</th>\n",
       "      <td>9912946M00</td>\n",
       "      <td>788</td>\n",
       "      <td>4137</td>\n",
       "      <td>2689</td>\n",
       "      <td>5575</td>\n",
       "      <td>21035</td>\n",
       "      <td>2840</td>\n",
       "      <td>2840</td>\n",
       "      <td>22692.085291</td>\n",
       "      <td>248976.459037</td>\n",
       "      <td>...</td>\n",
       "      <td>13.779237</td>\n",
       "      <td>1.205597</td>\n",
       "      <td>4.272830</td>\n",
       "      <td>20.666032</td>\n",
       "      <td>2.178122</td>\n",
       "      <td>6.670601</td>\n",
       "      <td>24.228903</td>\n",
       "      <td>16.497473</td>\n",
       "      <td>1</td>\n",
       "      <td>0</td>\n",
       "    </tr>\n",
       "  </tbody>\n",
       "</table>\n",
       "<p>5 rows × 46 columns</p>\n",
       "</div>"
      ],
      "text/plain": [
       "         Code  Patella_PN  Femur_PN  Tibia_PN  Patella_Car_PN  Femur_Car_PN  \\\n",
       "0  9905863M00         923      4011      3009            4745         19095   \n",
       "1  9905863M12         884      4110      2790            4585         19025   \n",
       "2  9908796M00         641      2861      2268            4120         20295   \n",
       "3  9908796M12         625      3022      2171            4715         19385   \n",
       "4  9912946M00         788      4137      2689            5575         21035   \n",
       "\n",
       "   Tibia_M_Car_PN  Tibia_L_Car_PN  Patella_volume   Femur_volume  ...  \\\n",
       "0            2840            2840    28699.200017  229006.314467  ...   \n",
       "1            2840            2840    28197.827325  246641.112279  ...   \n",
       "2            2840            2840    15222.439598  141352.763773  ...   \n",
       "3            2840            2840    14931.893097  149215.886238  ...   \n",
       "4            2840            2840    22692.085291  248976.459037  ...   \n",
       "\n",
       "   Max_dist_femur_tibia_lat_car  Min_dist_femur_tibia_lat_car  \\\n",
       "0                     17.745715                      2.039169   \n",
       "1                     17.898652                      1.921611   \n",
       "2                     17.383859                      1.526717   \n",
       "3                     15.747611                      1.651787   \n",
       "4                     13.779237                      1.205597   \n",
       "\n",
       "   Mean_dist_femur_tibia_lat_car  Max_dist_femur_tibia_med_car  \\\n",
       "0                       6.118655                     12.363764   \n",
       "1                       5.881292                     11.342142   \n",
       "2                       5.834900                     11.786139   \n",
       "3                       5.670845                      9.728744   \n",
       "4                       4.272830                     20.666032   \n",
       "\n",
       "   Min_dist_femur_tibia_med_car  Mean_dist_femur_tibia_med_car  \\\n",
       "0                      1.604390                       4.737838   \n",
       "1                      1.238408                       4.577601   \n",
       "2                      1.642169                       4.761267   \n",
       "3                      1.010164                       4.052701   \n",
       "4                      2.178122                       6.670601   \n",
       "\n",
       "   Max_tib_lat_contact_pressure  Max_tib_med_contact_pressure  L1  L2  \n",
       "0                     20.304403                     21.124319   1   1  \n",
       "1                     16.648224                     24.434072   0   1  \n",
       "2                     24.156282                     32.353172   1   2  \n",
       "3                     26.788031                     41.688950   2   2  \n",
       "4                     24.228903                     16.497473   1   0  \n",
       "\n",
       "[5 rows x 46 columns]"
      ]
     },
     "execution_count": 7,
     "metadata": {},
     "output_type": "execute_result"
    }
   ],
   "source": [
    "print(df.shape)\n",
    "df.head()"
   ]
  },
  {
   "cell_type": "markdown",
   "metadata": {},
   "source": [
    "## Splitting data into train/test sets"
   ]
  },
  {
   "cell_type": "markdown",
   "metadata": {},
   "source": [
    "### Removing features and printing out the accuracy rate with out them"
   ]
  },
  {
   "cell_type": "code",
   "execution_count": 19,
   "metadata": {},
   "outputs": [
    {
     "name": "stdout",
     "output_type": "stream",
     "text": [
      "[0.3396428571428571, 0.3492857142857143, 0.34642857142857136, 0.34535714285714286, 0.35285714285714276, 0.34892857142857137, 0.34285714285714286, 0.3467857142857143, 0.3453571428571429, 0.3367857142857143, 0.34107142857142847, 0.3546428571428571, 0.34892857142857137, 0.3457142857142857, 0.3564285714285714, 0.3467857142857143, 0.34642857142857136, 0.3414285714285714, 0.34964285714285714, 0.35535714285714287, 0.34678571428571425, 0.3507142857142857, 0.3446428571428571, 0.3389285714285714, 0.3389285714285714, 0.34892857142857137, 0.3446428571428571, 0.3389285714285714, 0.3407142857142857, 0.34892857142857137, 0.3467857142857143, 0.34214285714285714, 0.34, 0.3596428571428571, 0.33785714285714286, 0.34392857142857136, 0.3435714285714285, 0.3332142857142857, 0.3332142857142857, 0.3467857142857143, 0.3557142857142857]\n"
     ]
    }
   ],
   "source": [
    "## Feature columns for x values\n",
    "feature_cols = ['Patella_PN','Femur_PN','Tibia_PN','Patella_Car_PN','Femur_Car_PN','Tibia_M_Car_PN','Tibia_L_Car_PN','Patella_volume','Femur_volume','Tibia_volume','Patella_Car_volume','Femur_Car_volume','Tibia_M_Car_volume','Tibia_L_Car_volume','Patella_bounds_x','Femur_bounds_x','Tibia_bounds_x','Patella_Car_bounds_x','Femur_Car_bounds_x','Tibia_M_Car_bounds_x','Tibia_L_Car_bounds_x','Patella_bounds_y','Femur_bounds_y','Tibia_bounds_y','Patella_Car_bounds_y','Femur_Car_bounds_y','Tibia_M_Car_bounds_y','Tibia_L_Car_bounds_y','Patella_bounds_z','Femur_bounds_z','Tibia_bounds_z','Patella_Car_bounds_z','Femur_Car_bounds_z','Tibia_M_Car_bounds_z','Tibia_L_Car_bounds_z','Max_dist_femur_tibia_lat_car','Min_dist_femur_tibia_lat_car','Mean_dist_femur_tibia_lat_car','Max_dist_femur_tibia_med_car','Min_dist_femur_tibia_med_car','Mean_dist_femur_tibia_med_car']\n",
    "## Result columns for y values\n",
    "#y_cols = ['Max_tib_lat_contact_pressure', 'Max_tib_med_contact_pressure']\n",
    "y_cols = ['L2']\n",
    "#y_cols = data[y_cols].values.ravel()\n",
    "results = []\n",
    "first_results = []\n",
    "\n",
    "for i in feature_cols:    \n",
    "    temp_features = feature_cols.copy()\n",
    "    temp_features.remove(i)\n",
    "    results1 = []\n",
    "    for j in range(200):\n",
    "        X = df[temp_features]\n",
    "        y = df[y_cols]\n",
    "        yy = [yi[0] for yi in y.values]\n",
    "        xx = X.values\n",
    "   # print(yy)\n",
    "        results1.append(train_model(xx, yy))\n",
    "    results.append(np.average(results1))\n",
    "    \n",
    "print(results)\n",
    "#print(first_results)\n",
    "\n"
   ]
  },
  {
   "cell_type": "code",
   "execution_count": 12,
   "metadata": {},
   "outputs": [],
   "source": [
    "## Feature columns for x values\n",
    "#feature_cols = ['Patella_PN','Femur_PN','Tibia_PN','Patella_Car_PN','Femur_Car_PN','Tibia_M_Car_PN','Tibia_L_Car_PN','Patella_volume','Femur_volume','Tibia_volume','Patella_Car_volume','Femur_Car_volume','Tibia_M_Car_volume','Tibia_L_Car_volume','Patella_bounds_x','Femur_bounds_x','Tibia_bounds_x','Patella_Car_bounds_x','Femur_Car_bounds_x','Tibia_M_Car_bounds_x','Tibia_L_Car_bounds_x','Patella_bounds_y','Femur_bounds_y','Tibia_bounds_y','Patella_Car_bounds_y','Femur_Car_bounds_y','Tibia_M_Car_bounds_y','Tibia_L_Car_bounds_y','Patella_bounds_z','Femur_bounds_z','Tibia_bounds_z','Patella_Car_bounds_z','Femur_Car_bounds_z','Tibia_M_Car_bounds_z','Tibia_L_Car_bounds_z','Max_dist_femur_tibia_lat_car','Min_dist_femur_tibia_lat_car','Mean_dist_femur_tibia_lat_car','Max_dist_femur_tibia_med_car','Min_dist_femur_tibia_med_car','Mean_dist_femur_tibia_med_car']\n",
    "## Result columns for y values\n",
    "#y_cols = ['Max_tib_lat_contact_pressure', 'Max_tib_med_contact_pressure']\n",
    "\n",
    "\n",
    "\n",
    "\n",
    "## Folding train-test split lines 11 - 12\n",
    "def train_model(X, y):\n",
    "     \n",
    "    #print(\"%d %d\" % (len(X_train),len(X_test)))\n",
    "    \n",
    "    #model = GaussianNB()\n",
    "    model = BernoulliNB()\n",
    "    #model = RandomForestClassifier()\n",
    "    model.fit(X_train, y_train)\n",
    "    y_pred = model.predict(X_test)\n",
    "    return accuracy_score(y_test, y_pred)\n",
    "    #print(\"Accuracy: %.2f%%\" % (result*100.0))\n"
   ]
  },
  {
   "cell_type": "markdown",
   "metadata": {},
   "source": [
    "### Bagging"
   ]
  },
  {
   "cell_type": "code",
   "execution_count": 72,
   "metadata": {},
   "outputs": [
    {
     "name": "stdout",
     "output_type": "stream",
     "text": [
      "accuracy :\n",
      "nan\n"
     ]
    },
    {
     "name": "stderr",
     "output_type": "stream",
     "text": [
      "C:\\Users\\steph\\anaconda3.9\\lib\\site-packages\\sklearn\\model_selection\\_validation.py:615: FitFailedWarning: Estimator fit failed. The score on this train-test partition for these parameters will be set to nan. Details: \n",
      "Traceback (most recent call last):\n",
      "  File \"C:\\Users\\steph\\anaconda3.9\\lib\\site-packages\\sklearn\\model_selection\\_validation.py\", line 598, in _fit_and_score\n",
      "    estimator.fit(X_train, y_train, **fit_params)\n",
      "  File \"C:\\Users\\steph\\anaconda3.9\\lib\\site-packages\\sklearn\\ensemble\\_bagging.py\", line 244, in fit\n",
      "    return self._fit(X, y, self.max_samples, sample_weight=sample_weight)\n",
      "  File \"C:\\Users\\steph\\anaconda3.9\\lib\\site-packages\\sklearn\\ensemble\\_bagging.py\", line 292, in _fit\n",
      "    y = self._validate_y(y)\n",
      "  File \"C:\\Users\\steph\\anaconda3.9\\lib\\site-packages\\sklearn\\ensemble\\_bagging.py\", line 653, in _validate_y\n",
      "    check_classification_targets(y)\n",
      "  File \"C:\\Users\\steph\\anaconda3.9\\lib\\site-packages\\sklearn\\utils\\multiclass.py\", line 183, in check_classification_targets\n",
      "    raise ValueError(\"Unknown label type: %r\" % y_type)\n",
      "ValueError: Unknown label type: 'unknown'\n",
      "\n",
      "  warnings.warn(\"Estimator fit failed. The score on this train-test\"\n",
      "C:\\Users\\steph\\anaconda3.9\\lib\\site-packages\\sklearn\\model_selection\\_validation.py:615: FitFailedWarning: Estimator fit failed. The score on this train-test partition for these parameters will be set to nan. Details: \n",
      "Traceback (most recent call last):\n",
      "  File \"C:\\Users\\steph\\anaconda3.9\\lib\\site-packages\\sklearn\\model_selection\\_validation.py\", line 598, in _fit_and_score\n",
      "    estimator.fit(X_train, y_train, **fit_params)\n",
      "  File \"C:\\Users\\steph\\anaconda3.9\\lib\\site-packages\\sklearn\\ensemble\\_bagging.py\", line 244, in fit\n",
      "    return self._fit(X, y, self.max_samples, sample_weight=sample_weight)\n",
      "  File \"C:\\Users\\steph\\anaconda3.9\\lib\\site-packages\\sklearn\\ensemble\\_bagging.py\", line 292, in _fit\n",
      "    y = self._validate_y(y)\n",
      "  File \"C:\\Users\\steph\\anaconda3.9\\lib\\site-packages\\sklearn\\ensemble\\_bagging.py\", line 653, in _validate_y\n",
      "    check_classification_targets(y)\n",
      "  File \"C:\\Users\\steph\\anaconda3.9\\lib\\site-packages\\sklearn\\utils\\multiclass.py\", line 183, in check_classification_targets\n",
      "    raise ValueError(\"Unknown label type: %r\" % y_type)\n",
      "ValueError: Unknown label type: 'unknown'\n",
      "\n",
      "  warnings.warn(\"Estimator fit failed. The score on this train-test\"\n",
      "C:\\Users\\steph\\anaconda3.9\\lib\\site-packages\\sklearn\\model_selection\\_validation.py:615: FitFailedWarning: Estimator fit failed. The score on this train-test partition for these parameters will be set to nan. Details: \n",
      "Traceback (most recent call last):\n",
      "  File \"C:\\Users\\steph\\anaconda3.9\\lib\\site-packages\\sklearn\\model_selection\\_validation.py\", line 598, in _fit_and_score\n",
      "    estimator.fit(X_train, y_train, **fit_params)\n",
      "  File \"C:\\Users\\steph\\anaconda3.9\\lib\\site-packages\\sklearn\\ensemble\\_bagging.py\", line 244, in fit\n",
      "    return self._fit(X, y, self.max_samples, sample_weight=sample_weight)\n",
      "  File \"C:\\Users\\steph\\anaconda3.9\\lib\\site-packages\\sklearn\\ensemble\\_bagging.py\", line 292, in _fit\n",
      "    y = self._validate_y(y)\n",
      "  File \"C:\\Users\\steph\\anaconda3.9\\lib\\site-packages\\sklearn\\ensemble\\_bagging.py\", line 653, in _validate_y\n",
      "    check_classification_targets(y)\n",
      "  File \"C:\\Users\\steph\\anaconda3.9\\lib\\site-packages\\sklearn\\utils\\multiclass.py\", line 183, in check_classification_targets\n",
      "    raise ValueError(\"Unknown label type: %r\" % y_type)\n",
      "ValueError: Unknown label type: 'unknown'\n",
      "\n",
      "  warnings.warn(\"Estimator fit failed. The score on this train-test\"\n"
     ]
    }
   ],
   "source": [
    "from sklearn import model_selection\n",
    "from sklearn.ensemble import BaggingClassifier\n",
    "from sklearn.tree import DecisionTreeClassifier\n",
    "import pandas as pd\n",
    "  \n",
    "arr = data.values\n",
    "\n",
    "X = arr[:, 1:26]\n",
    "Y = arr[:,27]\n",
    "\n",
    "seed = 8\n",
    "kfold = model_selection.KFold(n_splits = 3,\n",
    "                       random_state = None)\n",
    "  \n",
    "# initialize the base classifier\n",
    "base_cls = DecisionTreeClassifier()\n",
    "  \n",
    "# no. of base classifier\n",
    "num_trees = 500\n",
    "  \n",
    "# bagging classifier\n",
    "model = BaggingClassifier(base_estimator = base_cls,\n",
    "                          n_estimators = num_trees,\n",
    "                          random_state = seed)\n",
    "  \n",
    "results = model_selection.cross_val_score(model, X, Y, cv = kfold)\n",
    "print(\"accuracy :\")\n",
    "print(results.mean())"
   ]
  },
  {
   "cell_type": "markdown",
   "metadata": {},
   "source": [
    "### Boosting"
   ]
  },
  {
   "cell_type": "code",
   "execution_count": 46,
   "metadata": {},
   "outputs": [],
   "source": [
    "#y_train = data['Max_tib_lat_contact_pressure']\n",
    "#y_train = data['Max_tib_med_contact_pressure']\n",
    "#data.drop(labels='Max_tib_med_contact_pressure', axis=1, inplace=True)\n",
    "#data.drop(labels='Max_tib_lat_contact_pressure', axis=1, inplace=True)\n",
    "data.drop(labels='Code', axis=1, inplace=True)"
   ]
  },
  {
   "cell_type": "code",
   "execution_count": 47,
   "metadata": {},
   "outputs": [],
   "source": [
    "full_data = data.append(data)"
   ]
  },
  {
   "cell_type": "code",
   "execution_count": 48,
   "metadata": {},
   "outputs": [],
   "source": [
    "X_train = full_data.values[2:15]\n",
    "X_test = full_data.values[15:]"
   ]
  },
  {
   "cell_type": "code",
   "execution_count": 49,
   "metadata": {},
   "outputs": [
    {
     "name": "stdout",
     "output_type": "stream",
     "text": [
      "[[6.18000000e+02 3.11900000e+03 2.19500000e+03 ... 1.12611759e+01\n",
      "  1.44828273e+00 4.37071187e+00]\n",
      " [7.76000000e+02 3.80900000e+03 2.46700000e+03 ... 1.81382744e+01\n",
      "  3.24368614e+00 7.20889880e+00]\n",
      " [7.86000000e+02 3.98800000e+03 2.33000000e+03 ... 1.72741778e+01\n",
      "  3.31879122e+00 7.17167988e+00]\n",
      " ...\n",
      " [8.01000000e+02 3.80500000e+03 2.57500000e+03 ... 1.25613781e+01\n",
      "  2.24690994e+00 4.47138742e+00]\n",
      " [8.68000000e+02 3.79400000e+03 3.02900000e+03 ... 1.62677290e+01\n",
      "  1.75970582e+00 5.52514579e+00]\n",
      " [8.73000000e+02 3.92100000e+03 2.83100000e+03 ... 1.59431995e+01\n",
      "  2.83373618e+00 6.48220913e+00]]\n"
     ]
    }
   ],
   "source": [
    "print(X_test)"
   ]
  },
  {
   "cell_type": "code",
   "execution_count": 50,
   "metadata": {},
   "outputs": [],
   "source": [
    "scaler = MinMaxScaler()\n",
    "X_train = scaler.fit_transform(X_train)\n",
    "X_test = scaler.transform(X_test)"
   ]
  },
  {
   "cell_type": "code",
   "execution_count": 51,
   "metadata": {},
   "outputs": [
    {
     "ename": "ValueError",
     "evalue": "Found input variables with inconsistent numbers of samples: [13, 28]",
     "output_type": "error",
     "traceback": [
      "\u001b[1;31m---------------------------------------------------------------------------\u001b[0m",
      "\u001b[1;31mValueError\u001b[0m                                Traceback (most recent call last)",
      "\u001b[1;32m~\\AppData\\Local\\Temp/ipykernel_70612/1475436522.py\u001b[0m in \u001b[0;36m<module>\u001b[1;34m\u001b[0m\n\u001b[0;32m      2\u001b[0m \u001b[0mtest_size\u001b[0m \u001b[1;33m=\u001b[0m \u001b[1;36m0.30\u001b[0m\u001b[1;33m\u001b[0m\u001b[1;33m\u001b[0m\u001b[0m\n\u001b[0;32m      3\u001b[0m \u001b[1;33m\u001b[0m\u001b[0m\n\u001b[1;32m----> 4\u001b[1;33m X_train, X_val, y_train, y_val = train_test_split(X_train, y_train,  \n\u001b[0m\u001b[0;32m      5\u001b[0m     test_size=test_size, random_state=state)\n",
      "\u001b[1;32m~\\anaconda3.9\\lib\\site-packages\\sklearn\\model_selection\\_split.py\u001b[0m in \u001b[0;36mtrain_test_split\u001b[1;34m(test_size, train_size, random_state, shuffle, stratify, *arrays)\u001b[0m\n\u001b[0;32m   2170\u001b[0m         \u001b[1;32mraise\u001b[0m \u001b[0mValueError\u001b[0m\u001b[1;33m(\u001b[0m\u001b[1;34m\"At least one array required as input\"\u001b[0m\u001b[1;33m)\u001b[0m\u001b[1;33m\u001b[0m\u001b[1;33m\u001b[0m\u001b[0m\n\u001b[0;32m   2171\u001b[0m \u001b[1;33m\u001b[0m\u001b[0m\n\u001b[1;32m-> 2172\u001b[1;33m     \u001b[0marrays\u001b[0m \u001b[1;33m=\u001b[0m \u001b[0mindexable\u001b[0m\u001b[1;33m(\u001b[0m\u001b[1;33m*\u001b[0m\u001b[0marrays\u001b[0m\u001b[1;33m)\u001b[0m\u001b[1;33m\u001b[0m\u001b[1;33m\u001b[0m\u001b[0m\n\u001b[0m\u001b[0;32m   2173\u001b[0m \u001b[1;33m\u001b[0m\u001b[0m\n\u001b[0;32m   2174\u001b[0m     \u001b[0mn_samples\u001b[0m \u001b[1;33m=\u001b[0m \u001b[0m_num_samples\u001b[0m\u001b[1;33m(\u001b[0m\u001b[0marrays\u001b[0m\u001b[1;33m[\u001b[0m\u001b[1;36m0\u001b[0m\u001b[1;33m]\u001b[0m\u001b[1;33m)\u001b[0m\u001b[1;33m\u001b[0m\u001b[1;33m\u001b[0m\u001b[0m\n",
      "\u001b[1;32m~\\anaconda3.9\\lib\\site-packages\\sklearn\\utils\\validation.py\u001b[0m in \u001b[0;36mindexable\u001b[1;34m(*iterables)\u001b[0m\n\u001b[0;32m    354\u001b[0m     \"\"\"\n\u001b[0;32m    355\u001b[0m     \u001b[0mresult\u001b[0m \u001b[1;33m=\u001b[0m \u001b[1;33m[\u001b[0m\u001b[0m_make_indexable\u001b[0m\u001b[1;33m(\u001b[0m\u001b[0mX\u001b[0m\u001b[1;33m)\u001b[0m \u001b[1;32mfor\u001b[0m \u001b[0mX\u001b[0m \u001b[1;32min\u001b[0m \u001b[0miterables\u001b[0m\u001b[1;33m]\u001b[0m\u001b[1;33m\u001b[0m\u001b[1;33m\u001b[0m\u001b[0m\n\u001b[1;32m--> 356\u001b[1;33m     \u001b[0mcheck_consistent_length\u001b[0m\u001b[1;33m(\u001b[0m\u001b[1;33m*\u001b[0m\u001b[0mresult\u001b[0m\u001b[1;33m)\u001b[0m\u001b[1;33m\u001b[0m\u001b[1;33m\u001b[0m\u001b[0m\n\u001b[0m\u001b[0;32m    357\u001b[0m     \u001b[1;32mreturn\u001b[0m \u001b[0mresult\u001b[0m\u001b[1;33m\u001b[0m\u001b[1;33m\u001b[0m\u001b[0m\n\u001b[0;32m    358\u001b[0m \u001b[1;33m\u001b[0m\u001b[0m\n",
      "\u001b[1;32m~\\anaconda3.9\\lib\\site-packages\\sklearn\\utils\\validation.py\u001b[0m in \u001b[0;36mcheck_consistent_length\u001b[1;34m(*arrays)\u001b[0m\n\u001b[0;32m    317\u001b[0m     \u001b[0muniques\u001b[0m \u001b[1;33m=\u001b[0m \u001b[0mnp\u001b[0m\u001b[1;33m.\u001b[0m\u001b[0munique\u001b[0m\u001b[1;33m(\u001b[0m\u001b[0mlengths\u001b[0m\u001b[1;33m)\u001b[0m\u001b[1;33m\u001b[0m\u001b[1;33m\u001b[0m\u001b[0m\n\u001b[0;32m    318\u001b[0m     \u001b[1;32mif\u001b[0m \u001b[0mlen\u001b[0m\u001b[1;33m(\u001b[0m\u001b[0muniques\u001b[0m\u001b[1;33m)\u001b[0m \u001b[1;33m>\u001b[0m \u001b[1;36m1\u001b[0m\u001b[1;33m:\u001b[0m\u001b[1;33m\u001b[0m\u001b[1;33m\u001b[0m\u001b[0m\n\u001b[1;32m--> 319\u001b[1;33m         raise ValueError(\"Found input variables with inconsistent numbers of\"\n\u001b[0m\u001b[0;32m    320\u001b[0m                          \" samples: %r\" % [int(l) for l in lengths])\n\u001b[0;32m    321\u001b[0m \u001b[1;33m\u001b[0m\u001b[0m\n",
      "\u001b[1;31mValueError\u001b[0m: Found input variables with inconsistent numbers of samples: [13, 28]"
     ]
    }
   ],
   "source": [
    "state = 12  \n",
    "test_size = 0.30  \n",
    "  \n",
    "X_train, X_val, y_train, y_val = train_test_split(X_train, y_train,  \n",
    "    test_size=test_size, random_state=state)"
   ]
  },
  {
   "cell_type": "code",
   "execution_count": null,
   "metadata": {},
   "outputs": [],
   "source": []
  },
  {
   "cell_type": "code",
   "execution_count": null,
   "metadata": {},
   "outputs": [],
   "source": []
  },
  {
   "cell_type": "code",
   "execution_count": null,
   "metadata": {},
   "outputs": [],
   "source": []
  },
  {
   "cell_type": "code",
   "execution_count": null,
   "metadata": {},
   "outputs": [],
   "source": []
  },
  {
   "cell_type": "code",
   "execution_count": null,
   "metadata": {},
   "outputs": [],
   "source": []
  },
  {
   "cell_type": "code",
   "execution_count": null,
   "metadata": {},
   "outputs": [],
   "source": []
  },
  {
   "cell_type": "markdown",
   "metadata": {},
   "source": [
    "### Evaluations"
   ]
  },
  {
   "cell_type": "code",
   "execution_count": 9,
   "metadata": {},
   "outputs": [
    {
     "data": {
      "image/png": "[encoded data removed]",
      "text/plain": [
       "<Figure size 432x288 with 1 Axes>"
      ]
     },
     "metadata": {
      "needs_background": "light"
     },
     "output_type": "display_data"
    }
   ],
   "source": [
    "fig, ax = plt.subplots()\n",
    "ax.scatter(y_pred, y_test, edgecolors=(0, 0, 1))\n",
    "ax.plot([y_test.min(), y_test.max()], [y_test.min(), y_test.max()], 'r--', lw=3)\n",
    "ax.set_xlabel('Predicted')\n",
    "ax.set_ylabel('Actual')\n",
    "plt.show()"
   ]
  },
  {
   "cell_type": "code",
   "execution_count": 10,
   "metadata": {},
   "outputs": [
    {
     "name": "stdout",
     "output_type": "stream",
     "text": [
      "The model performance for testing set\n",
      "--------------------------------------\n",
      "MAE is 49.5872219017597\n",
      "MSE is 10848.146074311284\n",
      "R2 score is -0.12473858715461028\n"
     ]
    }
   ],
   "source": [
    "from sklearn import metrics\n",
    "\n",
    "# model evaluation for testing set\n",
    "\n",
    "mae = metrics.mean_absolute_error(y_test, y_pred)\n",
    "mse = metrics.mean_squared_error(y_test, y_pred)\n",
    "r2 = metrics.r2_score(y_test, y_pred)\n",
    "\n",
    "print(\"The model performance for testing set\")\n",
    "print(\"--------------------------------------\")\n",
    "print('MAE is {}'.format(mae))\n",
    "print('MSE is {}'.format(mse))\n",
    "print('R2 score is {}'.format(r2))"
   ]
  },
  {
   "cell_type": "code",
   "execution_count": null,
   "metadata": {},
   "outputs": [],
   "source": []
  }
 ],
 "metadata": {
  "kernelspec": {
   "display_name": "Python 3 (ipykernel)",
   "language": "python",
   "name": "python3"
  },
  "language_info": {
   "codemirror_mode": {
    "name": "ipython",
    "version": 3
   },
   "file_extension": ".py",
   "mimetype": "text/x-python",
   "name": "python",
   "nbconvert_exporter": "python",
   "pygments_lexer": "ipython3",
   "version": "3.9.7"
  }
 },
 "nbformat": 4,
 "nbformat_minor": 1
}
