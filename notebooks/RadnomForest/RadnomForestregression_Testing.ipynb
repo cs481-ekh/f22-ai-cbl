{
  "cells": [
    {
      "cell_type": "markdown",
      "metadata": {
        "id": "LeamvpPVXuS_"
      },
      "source": [
        "# Random Forest Regression"
      ]
    },
    {
      "cell_type": "markdown",
      "metadata": {
        "id": "O2wvZ7SKXzVC"
      },
      "source": [
        "## Importing the libraries"
      ]
    },
    {
      "cell_type": "code",
      "execution_count": 76,
      "metadata": {
        "id": "PVmESEFZX4Ig"
      },
      "outputs": [],
      "source": [
        "import numpy as np\n",
        "import matplotlib.pyplot as plt\n",
        "import pandas as pd"
      ]
    },
    {
      "cell_type": "markdown",
      "metadata": {
        "id": "zgbK_F8-X7em"
      },
      "source": [
        "## Importing the dataset"
      ]
    },
    {
      "cell_type": "code",
      "source": [
        "dataset = pd.read_csv('/content/out_tall_cleaned.csv')\n",
        "dataset=dataset.drop(dataset.columns[1], axis=1)"
      ],
      "metadata": {
        "id": "rx3z18AIqdE8"
      },
      "execution_count": 77,
      "outputs": []
    },
    {
      "cell_type": "code",
      "source": [
        "titles=list(dataset.columns)\n",
        "print(titles)"
      ],
      "metadata": {
        "colab": {
          "base_uri": "https://localhost:8080/"
        },
        "id": "eWRihIpfqXgY",
        "outputId": "cdd20947-9b5a-4b26-a2dd-53c470ed493e"
      },
      "execution_count": 78,
      "outputs": [
        {
          "output_type": "stream",
          "name": "stdout",
          "text": [
            "['Unnamed: 0', 'Patella_PN', 'Femur_PN', 'Tibia_PN', 'Patella_Car_PN', 'Femur_Car_PN', 'Tibia_M_Car_PN', 'Tibia_L_Car_PN', 'Patella_volume', 'Femur_volume', 'Tibia_volume', 'Patella_Car_volume', 'Femur_Car_volume', 'Tibia_M_Car_volume', 'Tibia_L_Car_volume', 'Patella_bounds_x', 'Femur_bounds_x', 'Tibia_bounds_x', 'Patella_Car_bounds_x', 'Femur_Car_bounds_x', 'Tibia_M_Car_bounds_x', 'Tibia_L_Car_bounds_x', 'Patella_bounds_y', 'Femur_bounds_y', 'Tibia_bounds_y', 'Patella_Car_bounds_y', 'Femur_Car_bounds_y', 'Tibia_M_Car_bounds_y', 'Tibia_L_Car_bounds_y', 'Patella_bounds_z', 'Femur_bounds_z', 'Tibia_bounds_z', 'Patella_Car_bounds_z', 'Femur_Car_bounds_z', 'Tibia_M_Car_bounds_z', 'Tibia_L_Car_bounds_z', 'Simulation_len', 'Max_dist_femur_tibia_lat_car', 'Min_dist_femur_tibia_lat_car', 'Mean_dist_femur_tibia_lat_car', 'Max_dist_femur_tibia_med_car', 'Min_dist_femur_tibia_med_car', 'Mean_dist_femur_tibia_med_car', 'frame', 'Max_tib_med_contact_pressure', 'Max_tib_lat_contact_pressure']\n"
          ]
        }
      ]
    },
    {
      "cell_type": "code",
      "source": [
        "titles[43],titles[44] = titles[44], titles[43]\n",
        "titles[44],titles[45] = titles[45], titles[44]\n",
        "titles"
      ],
      "metadata": {
        "colab": {
          "base_uri": "https://localhost:8080/"
        },
        "id": "RYAszVx3qUyM",
        "outputId": "bc99ee7c-7cd9-4a5a-fc9d-74ceeac8d3f3"
      },
      "execution_count": 79,
      "outputs": [
        {
          "output_type": "execute_result",
          "data": {
            "text/plain": [
              "['Unnamed: 0',\n",
              " 'Patella_PN',\n",
              " 'Femur_PN',\n",
              " 'Tibia_PN',\n",
              " 'Patella_Car_PN',\n",
              " 'Femur_Car_PN',\n",
              " 'Tibia_M_Car_PN',\n",
              " 'Tibia_L_Car_PN',\n",
              " 'Patella_volume',\n",
              " 'Femur_volume',\n",
              " 'Tibia_volume',\n",
              " 'Patella_Car_volume',\n",
              " 'Femur_Car_volume',\n",
              " 'Tibia_M_Car_volume',\n",
              " 'Tibia_L_Car_volume',\n",
              " 'Patella_bounds_x',\n",
              " 'Femur_bounds_x',\n",
              " 'Tibia_bounds_x',\n",
              " 'Patella_Car_bounds_x',\n",
              " 'Femur_Car_bounds_x',\n",
              " 'Tibia_M_Car_bounds_x',\n",
              " 'Tibia_L_Car_bounds_x',\n",
              " 'Patella_bounds_y',\n",
              " 'Femur_bounds_y',\n",
              " 'Tibia_bounds_y',\n",
              " 'Patella_Car_bounds_y',\n",
              " 'Femur_Car_bounds_y',\n",
              " 'Tibia_M_Car_bounds_y',\n",
              " 'Tibia_L_Car_bounds_y',\n",
              " 'Patella_bounds_z',\n",
              " 'Femur_bounds_z',\n",
              " 'Tibia_bounds_z',\n",
              " 'Patella_Car_bounds_z',\n",
              " 'Femur_Car_bounds_z',\n",
              " 'Tibia_M_Car_bounds_z',\n",
              " 'Tibia_L_Car_bounds_z',\n",
              " 'Simulation_len',\n",
              " 'Max_dist_femur_tibia_lat_car',\n",
              " 'Min_dist_femur_tibia_lat_car',\n",
              " 'Mean_dist_femur_tibia_lat_car',\n",
              " 'Max_dist_femur_tibia_med_car',\n",
              " 'Min_dist_femur_tibia_med_car',\n",
              " 'Mean_dist_femur_tibia_med_car',\n",
              " 'Max_tib_med_contact_pressure',\n",
              " 'Max_tib_lat_contact_pressure',\n",
              " 'frame']"
            ]
          },
          "metadata": {},
          "execution_count": 79
        }
      ]
    },
    {
      "cell_type": "code",
      "source": [
        "dataset = dataset[titles]\n",
        "dataset"
      ],
      "metadata": {
        "colab": {
          "base_uri": "https://localhost:8080/",
          "height": 505
        },
        "id": "T-M9pu-xqcMI",
        "outputId": "3c2fbacf-743e-4765-e4e3-e209e19edfac"
      },
      "execution_count": 80,
      "outputs": [
        {
          "output_type": "execute_result",
          "data": {
            "text/plain": [
              "       Unnamed: 0  Patella_PN  Femur_PN  Tibia_PN  Patella_Car_PN  \\\n",
              "0               0        1137      4142      2789            5275   \n",
              "1               1        1137      4142      2789            5275   \n",
              "2               2        1137      4142      2789            5275   \n",
              "3               3        1137      4142      2789            5275   \n",
              "4               4        1137      4142      2789            5275   \n",
              "...           ...         ...       ...       ...             ...   \n",
              "37005       40724         873      3921      2831            5690   \n",
              "37006       40725         873      3921      2831            5690   \n",
              "37007       40726         873      3921      2831            5690   \n",
              "37008       40727         873      3921      2831            5690   \n",
              "37009       40728         873      3921      2831            5690   \n",
              "\n",
              "       Femur_Car_PN  Tibia_M_Car_PN  Tibia_L_Car_PN  Patella_volume  \\\n",
              "0             21420            2840            2840    33682.157434   \n",
              "1             21420            2840            2840    33682.157434   \n",
              "2             21420            2840            2840    33682.157434   \n",
              "3             21420            2840            2840    33682.157434   \n",
              "4             21420            2840            2840    33682.157434   \n",
              "...             ...             ...             ...             ...   \n",
              "37005         21495            2840            2840    24799.135262   \n",
              "37006         21495            2840            2840    24799.135262   \n",
              "37007         21495            2840            2840    24799.135262   \n",
              "37008         21495            2840            2840    24799.135262   \n",
              "37009         21495            2840            2840    24799.135262   \n",
              "\n",
              "        Femur_volume  ...  Simulation_len  Max_dist_femur_tibia_lat_car  \\\n",
              "0      231437.991665  ...               0                     13.941570   \n",
              "1      231437.991665  ...               0                     13.941570   \n",
              "2      231437.991665  ...               0                     13.941570   \n",
              "3      231437.991665  ...               0                     13.941570   \n",
              "4      231437.991665  ...               0                     13.941570   \n",
              "...              ...  ...             ...                           ...   \n",
              "37005  226161.340527  ...              12                     18.862473   \n",
              "37006  226161.340527  ...              12                     18.862473   \n",
              "37007  226161.340527  ...              12                     18.862473   \n",
              "37008  226161.340527  ...              12                     18.862473   \n",
              "37009  226161.340527  ...              12                     18.862473   \n",
              "\n",
              "       Min_dist_femur_tibia_lat_car  Mean_dist_femur_tibia_lat_car  \\\n",
              "0                          0.987391                       6.105886   \n",
              "1                          0.987391                       6.105886   \n",
              "2                          0.987391                       6.105886   \n",
              "3                          0.987391                       6.105886   \n",
              "4                          0.987391                       6.105886   \n",
              "...                             ...                            ...   \n",
              "37005                      2.616759                       6.815766   \n",
              "37006                      2.616759                       6.815766   \n",
              "37007                      2.616759                       6.815766   \n",
              "37008                      2.616759                       6.815766   \n",
              "37009                      2.616759                       6.815766   \n",
              "\n",
              "       Max_dist_femur_tibia_med_car  Min_dist_femur_tibia_med_car  \\\n",
              "0                         10.304892                      1.376902   \n",
              "1                         10.304892                      1.376902   \n",
              "2                         10.304892                      1.376902   \n",
              "3                         10.304892                      1.376902   \n",
              "4                         10.304892                      1.376902   \n",
              "...                             ...                           ...   \n",
              "37005                     15.943200                      2.833736   \n",
              "37006                     15.943200                      2.833736   \n",
              "37007                     15.943200                      2.833736   \n",
              "37008                     15.943200                      2.833736   \n",
              "37009                     15.943200                      2.833736   \n",
              "\n",
              "       Mean_dist_femur_tibia_med_car  Max_tib_med_contact_pressure  \\\n",
              "0                           4.580906                      7.619495   \n",
              "1                           4.580906                      8.068417   \n",
              "2                           4.580906                      7.796326   \n",
              "3                           4.580906                      8.058777   \n",
              "4                           4.580906                      8.098284   \n",
              "...                              ...                           ...   \n",
              "37005                       6.482209                     11.455851   \n",
              "37006                       6.482209                     11.642740   \n",
              "37007                       6.482209                     12.039758   \n",
              "37008                       6.482209                     11.383085   \n",
              "37009                       6.482209                     11.772991   \n",
              "\n",
              "       Max_tib_lat_contact_pressure  frame  \n",
              "0                          6.696390      0  \n",
              "1                          5.042103      1  \n",
              "2                          5.344840      2  \n",
              "3                          6.240049      3  \n",
              "4                          7.306662      4  \n",
              "...                             ...    ...  \n",
              "37005                      7.974414    236  \n",
              "37006                      8.043670    237  \n",
              "37007                      8.359842    238  \n",
              "37008                      8.170403    239  \n",
              "37009                      8.193823    240  \n",
              "\n",
              "[37010 rows x 46 columns]"
            ],
            "text/html": [
              "\n",
              "  <div id=\"df-1fb3a084-bc82-4bca-9acd-5411c5c1a8a6\">\n",
              "    <div class=\"colab-df-container\">\n",
              "      <div>\n",
              "<style scoped>\n",
              "    .dataframe tbody tr th:only-of-type {\n",
              "        vertical-align: middle;\n",
              "    }\n",
              "\n",
              "    .dataframe tbody tr th {\n",
              "        vertical-align: top;\n",
              "    }\n",
              "\n",
              "    .dataframe thead th {\n",
              "        text-align: right;\n",
              "    }\n",
              "</style>\n",
              "<table border=\"1\" class=\"dataframe\">\n",
              "  <thead>\n",
              "    <tr style=\"text-align: right;\">\n",
              "      <th></th>\n",
              "      <th>Unnamed: 0</th>\n",
              "      <th>Patella_PN</th>\n",
              "      <th>Femur_PN</th>\n",
              "      <th>Tibia_PN</th>\n",
              "      <th>Patella_Car_PN</th>\n",
              "      <th>Femur_Car_PN</th>\n",
              "      <th>Tibia_M_Car_PN</th>\n",
              "      <th>Tibia_L_Car_PN</th>\n",
              "      <th>Patella_volume</th>\n",
              "      <th>Femur_volume</th>\n",
              "      <th>...</th>\n",
              "      <th>Simulation_len</th>\n",
              "      <th>Max_dist_femur_tibia_lat_car</th>\n",
              "      <th>Min_dist_femur_tibia_lat_car</th>\n",
              "      <th>Mean_dist_femur_tibia_lat_car</th>\n",
              "      <th>Max_dist_femur_tibia_med_car</th>\n",
              "      <th>Min_dist_femur_tibia_med_car</th>\n",
              "      <th>Mean_dist_femur_tibia_med_car</th>\n",
              "      <th>Max_tib_med_contact_pressure</th>\n",
              "      <th>Max_tib_lat_contact_pressure</th>\n",
              "      <th>frame</th>\n",
              "    </tr>\n",
              "  </thead>\n",
              "  <tbody>\n",
              "    <tr>\n",
              "      <th>0</th>\n",
              "      <td>0</td>\n",
              "      <td>1137</td>\n",
              "      <td>4142</td>\n",
              "      <td>2789</td>\n",
              "      <td>5275</td>\n",
              "      <td>21420</td>\n",
              "      <td>2840</td>\n",
              "      <td>2840</td>\n",
              "      <td>33682.157434</td>\n",
              "      <td>231437.991665</td>\n",
              "      <td>...</td>\n",
              "      <td>0</td>\n",
              "      <td>13.941570</td>\n",
              "      <td>0.987391</td>\n",
              "      <td>6.105886</td>\n",
              "      <td>10.304892</td>\n",
              "      <td>1.376902</td>\n",
              "      <td>4.580906</td>\n",
              "      <td>7.619495</td>\n",
              "      <td>6.696390</td>\n",
              "      <td>0</td>\n",
              "    </tr>\n",
              "    <tr>\n",
              "      <th>1</th>\n",
              "      <td>1</td>\n",
              "      <td>1137</td>\n",
              "      <td>4142</td>\n",
              "      <td>2789</td>\n",
              "      <td>5275</td>\n",
              "      <td>21420</td>\n",
              "      <td>2840</td>\n",
              "      <td>2840</td>\n",
              "      <td>33682.157434</td>\n",
              "      <td>231437.991665</td>\n",
              "      <td>...</td>\n",
              "      <td>0</td>\n",
              "      <td>13.941570</td>\n",
              "      <td>0.987391</td>\n",
              "      <td>6.105886</td>\n",
              "      <td>10.304892</td>\n",
              "      <td>1.376902</td>\n",
              "      <td>4.580906</td>\n",
              "      <td>8.068417</td>\n",
              "      <td>5.042103</td>\n",
              "      <td>1</td>\n",
              "    </tr>\n",
              "    <tr>\n",
              "      <th>2</th>\n",
              "      <td>2</td>\n",
              "      <td>1137</td>\n",
              "      <td>4142</td>\n",
              "      <td>2789</td>\n",
              "      <td>5275</td>\n",
              "      <td>21420</td>\n",
              "      <td>2840</td>\n",
              "      <td>2840</td>\n",
              "      <td>33682.157434</td>\n",
              "      <td>231437.991665</td>\n",
              "      <td>...</td>\n",
              "      <td>0</td>\n",
              "      <td>13.941570</td>\n",
              "      <td>0.987391</td>\n",
              "      <td>6.105886</td>\n",
              "      <td>10.304892</td>\n",
              "      <td>1.376902</td>\n",
              "      <td>4.580906</td>\n",
              "      <td>7.796326</td>\n",
              "      <td>5.344840</td>\n",
              "      <td>2</td>\n",
              "    </tr>\n",
              "    <tr>\n",
              "      <th>3</th>\n",
              "      <td>3</td>\n",
              "      <td>1137</td>\n",
              "      <td>4142</td>\n",
              "      <td>2789</td>\n",
              "      <td>5275</td>\n",
              "      <td>21420</td>\n",
              "      <td>2840</td>\n",
              "      <td>2840</td>\n",
              "      <td>33682.157434</td>\n",
              "      <td>231437.991665</td>\n",
              "      <td>...</td>\n",
              "      <td>0</td>\n",
              "      <td>13.941570</td>\n",
              "      <td>0.987391</td>\n",
              "      <td>6.105886</td>\n",
              "      <td>10.304892</td>\n",
              "      <td>1.376902</td>\n",
              "      <td>4.580906</td>\n",
              "      <td>8.058777</td>\n",
              "      <td>6.240049</td>\n",
              "      <td>3</td>\n",
              "    </tr>\n",
              "    <tr>\n",
              "      <th>4</th>\n",
              "      <td>4</td>\n",
              "      <td>1137</td>\n",
              "      <td>4142</td>\n",
              "      <td>2789</td>\n",
              "      <td>5275</td>\n",
              "      <td>21420</td>\n",
              "      <td>2840</td>\n",
              "      <td>2840</td>\n",
              "      <td>33682.157434</td>\n",
              "      <td>231437.991665</td>\n",
              "      <td>...</td>\n",
              "      <td>0</td>\n",
              "      <td>13.941570</td>\n",
              "      <td>0.987391</td>\n",
              "      <td>6.105886</td>\n",
              "      <td>10.304892</td>\n",
              "      <td>1.376902</td>\n",
              "      <td>4.580906</td>\n",
              "      <td>8.098284</td>\n",
              "      <td>7.306662</td>\n",
              "      <td>4</td>\n",
              "    </tr>\n",
              "    <tr>\n",
              "      <th>...</th>\n",
              "      <td>...</td>\n",
              "      <td>...</td>\n",
              "      <td>...</td>\n",
              "      <td>...</td>\n",
              "      <td>...</td>\n",
              "      <td>...</td>\n",
              "      <td>...</td>\n",
              "      <td>...</td>\n",
              "      <td>...</td>\n",
              "      <td>...</td>\n",
              "      <td>...</td>\n",
              "      <td>...</td>\n",
              "      <td>...</td>\n",
              "      <td>...</td>\n",
              "      <td>...</td>\n",
              "      <td>...</td>\n",
              "      <td>...</td>\n",
              "      <td>...</td>\n",
              "      <td>...</td>\n",
              "      <td>...</td>\n",
              "      <td>...</td>\n",
              "    </tr>\n",
              "    <tr>\n",
              "      <th>37005</th>\n",
              "      <td>40724</td>\n",
              "      <td>873</td>\n",
              "      <td>3921</td>\n",
              "      <td>2831</td>\n",
              "      <td>5690</td>\n",
              "      <td>21495</td>\n",
              "      <td>2840</td>\n",
              "      <td>2840</td>\n",
              "      <td>24799.135262</td>\n",
              "      <td>226161.340527</td>\n",
              "      <td>...</td>\n",
              "      <td>12</td>\n",
              "      <td>18.862473</td>\n",
              "      <td>2.616759</td>\n",
              "      <td>6.815766</td>\n",
              "      <td>15.943200</td>\n",
              "      <td>2.833736</td>\n",
              "      <td>6.482209</td>\n",
              "      <td>11.455851</td>\n",
              "      <td>7.974414</td>\n",
              "      <td>236</td>\n",
              "    </tr>\n",
              "    <tr>\n",
              "      <th>37006</th>\n",
              "      <td>40725</td>\n",
              "      <td>873</td>\n",
              "      <td>3921</td>\n",
              "      <td>2831</td>\n",
              "      <td>5690</td>\n",
              "      <td>21495</td>\n",
              "      <td>2840</td>\n",
              "      <td>2840</td>\n",
              "      <td>24799.135262</td>\n",
              "      <td>226161.340527</td>\n",
              "      <td>...</td>\n",
              "      <td>12</td>\n",
              "      <td>18.862473</td>\n",
              "      <td>2.616759</td>\n",
              "      <td>6.815766</td>\n",
              "      <td>15.943200</td>\n",
              "      <td>2.833736</td>\n",
              "      <td>6.482209</td>\n",
              "      <td>11.642740</td>\n",
              "      <td>8.043670</td>\n",
              "      <td>237</td>\n",
              "    </tr>\n",
              "    <tr>\n",
              "      <th>37007</th>\n",
              "      <td>40726</td>\n",
              "      <td>873</td>\n",
              "      <td>3921</td>\n",
              "      <td>2831</td>\n",
              "      <td>5690</td>\n",
              "      <td>21495</td>\n",
              "      <td>2840</td>\n",
              "      <td>2840</td>\n",
              "      <td>24799.135262</td>\n",
              "      <td>226161.340527</td>\n",
              "      <td>...</td>\n",
              "      <td>12</td>\n",
              "      <td>18.862473</td>\n",
              "      <td>2.616759</td>\n",
              "      <td>6.815766</td>\n",
              "      <td>15.943200</td>\n",
              "      <td>2.833736</td>\n",
              "      <td>6.482209</td>\n",
              "      <td>12.039758</td>\n",
              "      <td>8.359842</td>\n",
              "      <td>238</td>\n",
              "    </tr>\n",
              "    <tr>\n",
              "      <th>37008</th>\n",
              "      <td>40727</td>\n",
              "      <td>873</td>\n",
              "      <td>3921</td>\n",
              "      <td>2831</td>\n",
              "      <td>5690</td>\n",
              "      <td>21495</td>\n",
              "      <td>2840</td>\n",
              "      <td>2840</td>\n",
              "      <td>24799.135262</td>\n",
              "      <td>226161.340527</td>\n",
              "      <td>...</td>\n",
              "      <td>12</td>\n",
              "      <td>18.862473</td>\n",
              "      <td>2.616759</td>\n",
              "      <td>6.815766</td>\n",
              "      <td>15.943200</td>\n",
              "      <td>2.833736</td>\n",
              "      <td>6.482209</td>\n",
              "      <td>11.383085</td>\n",
              "      <td>8.170403</td>\n",
              "      <td>239</td>\n",
              "    </tr>\n",
              "    <tr>\n",
              "      <th>37009</th>\n",
              "      <td>40728</td>\n",
              "      <td>873</td>\n",
              "      <td>3921</td>\n",
              "      <td>2831</td>\n",
              "      <td>5690</td>\n",
              "      <td>21495</td>\n",
              "      <td>2840</td>\n",
              "      <td>2840</td>\n",
              "      <td>24799.135262</td>\n",
              "      <td>226161.340527</td>\n",
              "      <td>...</td>\n",
              "      <td>12</td>\n",
              "      <td>18.862473</td>\n",
              "      <td>2.616759</td>\n",
              "      <td>6.815766</td>\n",
              "      <td>15.943200</td>\n",
              "      <td>2.833736</td>\n",
              "      <td>6.482209</td>\n",
              "      <td>11.772991</td>\n",
              "      <td>8.193823</td>\n",
              "      <td>240</td>\n",
              "    </tr>\n",
              "  </tbody>\n",
              "</table>\n",
              "<p>37010 rows × 46 columns</p>\n",
              "</div>\n",
              "      <button class=\"colab-df-convert\" onclick=\"convertToInteractive('df-1fb3a084-bc82-4bca-9acd-5411c5c1a8a6')\"\n",
              "              title=\"Convert this dataframe to an interactive table.\"\n",
              "              style=\"display:none;\">\n",
              "        \n",
              "  <svg xmlns=\"http://www.w3.org/2000/svg\" height=\"24px\"viewBox=\"0 0 24 24\"\n",
              "       width=\"24px\">\n",
              "    <path d=\"M0 0h24v24H0V0z\" fill=\"none\"/>\n",
              "    <path d=\"M18.56 5.44l.94 2.06.94-2.06 2.06-.94-2.06-.94-.94-2.06-.94 2.06-2.06.94zm-11 1L8.5 8.5l.94-2.06 2.06-.94-2.06-.94L8.5 2.5l-.94 2.06-2.06.94zm10 10l.94 2.06.94-2.06 2.06-.94-2.06-.94-.94-2.06-.94 2.06-2.06.94z\"/><path d=\"M17.41 7.96l-1.37-1.37c-.4-.4-.92-.59-1.43-.59-.52 0-1.04.2-1.43.59L10.3 9.45l-7.72 7.72c-.78.78-.78 2.05 0 2.83L4 21.41c.39.39.9.59 1.41.59.51 0 1.02-.2 1.41-.59l7.78-7.78 2.81-2.81c.8-.78.8-2.07 0-2.86zM5.41 20L4 18.59l7.72-7.72 1.47 1.35L5.41 20z\"/>\n",
              "  </svg>\n",
              "      </button>\n",
              "      \n",
              "  <style>\n",
              "    .colab-df-container {\n",
              "      display:flex;\n",
              "      flex-wrap:wrap;\n",
              "      gap: 12px;\n",
              "    }\n",
              "\n",
              "    .colab-df-convert {\n",
              "      background-color: #E8F0FE;\n",
              "      border: none;\n",
              "      border-radius: 50%;\n",
              "      cursor: pointer;\n",
              "      display: none;\n",
              "      fill: #1967D2;\n",
              "      height: 32px;\n",
              "      padding: 0 0 0 0;\n",
              "      width: 32px;\n",
              "    }\n",
              "\n",
              "    .colab-df-convert:hover {\n",
              "      background-color: #E2EBFA;\n",
              "      box-shadow: 0px 1px 2px rgba(60, 64, 67, 0.3), 0px 1px 3px 1px rgba(60, 64, 67, 0.15);\n",
              "      fill: #174EA6;\n",
              "    }\n",
              "\n",
              "    [theme=dark] .colab-df-convert {\n",
              "      background-color: #3B4455;\n",
              "      fill: #D2E3FC;\n",
              "    }\n",
              "\n",
              "    [theme=dark] .colab-df-convert:hover {\n",
              "      background-color: #434B5C;\n",
              "      box-shadow: 0px 1px 3px 1px rgba(0, 0, 0, 0.15);\n",
              "      filter: drop-shadow(0px 1px 2px rgba(0, 0, 0, 0.3));\n",
              "      fill: #FFFFFF;\n",
              "    }\n",
              "  </style>\n",
              "\n",
              "      <script>\n",
              "        const buttonEl =\n",
              "          document.querySelector('#df-1fb3a084-bc82-4bca-9acd-5411c5c1a8a6 button.colab-df-convert');\n",
              "        buttonEl.style.display =\n",
              "          google.colab.kernel.accessAllowed ? 'block' : 'none';\n",
              "\n",
              "        async function convertToInteractive(key) {\n",
              "          const element = document.querySelector('#df-1fb3a084-bc82-4bca-9acd-5411c5c1a8a6');\n",
              "          const dataTable =\n",
              "            await google.colab.kernel.invokeFunction('convertToInteractive',\n",
              "                                                     [key], {});\n",
              "          if (!dataTable) return;\n",
              "\n",
              "          const docLinkHtml = 'Like what you see? Visit the ' +\n",
              "            '<a target=\"_blank\" href=https://colab.research.google.com/notebooks/data_table.ipynb>data table notebook</a>'\n",
              "            + ' to learn more about interactive tables.';\n",
              "          element.innerHTML = '';\n",
              "          dataTable['output_type'] = 'display_data';\n",
              "          await google.colab.output.renderOutput(dataTable, element);\n",
              "          const docLink = document.createElement('div');\n",
              "          docLink.innerHTML = docLinkHtml;\n",
              "          element.appendChild(docLink);\n",
              "        }\n",
              "      </script>\n",
              "    </div>\n",
              "  </div>\n",
              "  "
            ]
          },
          "metadata": {},
          "execution_count": 80
        }
      ]
    },
    {
      "cell_type": "code",
      "source": [
        "\n",
        "X = dataset.iloc[0:40727, 45:46]\n",
        "y = dataset.iloc[0:40727, 40:44]\n",
        "print(X)\n",
        "\n",
        "from sklearn.model_selection import train_test_split\n",
        "X_train, X_test, y_train, y_test = train_test_split(X, y, test_size = 0.2, random_state = 0)"
      ],
      "metadata": {
        "colab": {
          "base_uri": "https://localhost:8080/"
        },
        "id": "V2Isc8OlqhnH",
        "outputId": "5ea403ab-5148-43e7-9beb-2a963ba31941"
      },
      "execution_count": 114,
      "outputs": [
        {
          "output_type": "stream",
          "name": "stdout",
          "text": [
            "       frame\n",
            "0          0\n",
            "1          1\n",
            "2          2\n",
            "3          3\n",
            "4          4\n",
            "...      ...\n",
            "37005    236\n",
            "37006    237\n",
            "37007    238\n",
            "37008    239\n",
            "37009    240\n",
            "\n",
            "[37010 rows x 1 columns]\n"
          ]
        }
      ]
    },
    {
      "cell_type": "code",
      "source": [
        "# dataset = pd.read_csv('/content/out_tall_cleaned.csv')\n",
        "\n",
        "# dataset=dataset.drop(dataset.columns[1], axis=1)\n",
        "# # X = dataset.iloc[:, 26:].values\n",
        "# # y = dataset.iloc[:, 2:25].values\n",
        "\n",
        "# # X = dataset.iloc[0:-1, 2:25].values\n",
        "# # y = dataset.iloc[0:-1, 27:-1].values\n",
        "\n",
        "# # X = dataset.iloc[:, 1:-1].values\n",
        "# # y = dataset.iloc[:, -1].values\n",
        "\n",
        "\n",
        "# # X = dataset.iloc[0:40727, 43:44].values\n",
        "# # print(X)\n",
        "# # y = dataset.iloc[0:40727, 2:42].values\n",
        "# # print(y)\n",
        "\n",
        "\n",
        "\n",
        "# X = dataset.iloc[0:40727, 43:44]\n",
        "# # print(X)\n",
        "# # Try to include other data as well\n",
        "# # y = dataset.iloc[0:40727, 44:46]\n",
        "# y = dataset.iloc[0:40727, 44:46]\n",
        "\n",
        "# # y=  dataset.iloc[0:40727, 1:43]\n",
        "# # y = dataset.loc[[ : ,'Max_tib_lat_contact_pressure'],[:,'Max_tib_med_contact_pressure']]\n",
        "\n",
        "# # y = dataset.loc[ :,'Max_tib_lat_contact_pressure'], [: , 'Max_tib_med_contact_pressure']\n",
        "# # y = dataset.loc[ :,'Max_tib_med_contact_pressure']\n",
        "\n",
        "# # data.iloc[[0,3,6,24], [0,5,6]] # 1st, 4th, 7th, 25th row + 1st 6th 7th columns.\n",
        "\n",
        "\n",
        "# print(y)\n",
        "\n",
        "# from sklearn.model_selection import train_test_split\n",
        "# X_train, X_test, y_train, y_test = train_test_split(X, y, test_size = 0.2, random_state = 0)\n"
      ],
      "metadata": {
        "id": "562O7ZfNse9a"
      },
      "execution_count": 115,
      "outputs": []
    },
    {
      "cell_type": "markdown",
      "metadata": {
        "id": "v4S2fyIBYDcu"
      },
      "source": [
        "## Training the Random Forest Regression model on the whole dataset"
      ]
    },
    {
      "cell_type": "code",
      "source": [
        "from sklearn.ensemble import RandomForestRegressor\n",
        "regressor = RandomForestRegressor(n_estimators = 100, random_state = 0)\n",
        "regressor.fit(X_train, y_train)"
      ],
      "metadata": {
        "colab": {
          "base_uri": "https://localhost:8080/"
        },
        "id": "scUvCydbNHhV",
        "outputId": "7e14a8f1-a887-4908-d6d0-fff934814819"
      },
      "execution_count": 116,
      "outputs": [
        {
          "output_type": "execute_result",
          "data": {
            "text/plain": [
              "RandomForestRegressor(random_state=0)"
            ]
          },
          "metadata": {},
          "execution_count": 116
        }
      ]
    },
    {
      "cell_type": "code",
      "execution_count": 117,
      "metadata": {
        "id": "o8dOCoJ1YKMc"
      },
      "outputs": [],
      "source": [
        "# from sklearn.ensemble import RandomForestRegressor\n",
        "# regressor = RandomForestRegressor(n_estimators = 10, random_state = 0)\n",
        "# regressor.fit(X, y)"
      ]
    },
    {
      "cell_type": "markdown",
      "metadata": {
        "id": "8IbsXbK3YM4M"
      },
      "source": [
        "## Predicting a new result"
      ]
    },
    {
      "cell_type": "code",
      "execution_count": 118,
      "metadata": {
        "id": "pTXrS8FEYQlJ"
      },
      "outputs": [],
      "source": [
        "# regressor.predict([[6.5,1,2,3,4,5,6,8,7,8,9,9,10,12,13,13,13,13,13,13,13,13,13]])"
      ]
    },
    {
      "cell_type": "code",
      "source": [
        "regressor.predict([[4]])"
      ],
      "metadata": {
        "colab": {
          "base_uri": "https://localhost:8080/"
        },
        "id": "ZYtasZ5lz7Ec",
        "outputId": "bf519be4-42bd-409f-a278-d330c9960269"
      },
      "execution_count": 119,
      "outputs": [
        {
          "output_type": "stream",
          "name": "stderr",
          "text": [
            "/usr/local/lib/python3.7/dist-packages/sklearn/base.py:451: UserWarning: X does not have valid feature names, but RandomForestRegressor was fitted with feature names\n",
            "  \"X does not have valid feature names, but\"\n"
          ]
        },
        {
          "output_type": "execute_result",
          "data": {
            "text/plain": [
              "array([[12.53607307,  1.43701326,  4.84159563,  8.28780661]])"
            ]
          },
          "metadata": {},
          "execution_count": 119
        }
      ]
    },
    {
      "cell_type": "code",
      "source": [
        "out=regressor.predict([[4]])\n",
        "print(max(out))"
      ],
      "metadata": {
        "colab": {
          "base_uri": "https://localhost:8080/"
        },
        "id": "9LsKg7dFCQ-E",
        "outputId": "ce90b647-36ab-4dda-fbd1-e125570a9cd9"
      },
      "execution_count": 120,
      "outputs": [
        {
          "output_type": "stream",
          "name": "stdout",
          "text": [
            "[12.53607307  1.43701326  4.84159563  8.28780661]\n"
          ]
        },
        {
          "output_type": "stream",
          "name": "stderr",
          "text": [
            "/usr/local/lib/python3.7/dist-packages/sklearn/base.py:451: UserWarning: X does not have valid feature names, but RandomForestRegressor was fitted with feature names\n",
            "  \"X does not have valid feature names, but\"\n"
          ]
        }
      ]
    },
    {
      "cell_type": "code",
      "source": [
        "# regressor.predict(X)"
      ],
      "metadata": {
        "id": "pBTiUodx716n"
      },
      "execution_count": 121,
      "outputs": []
    },
    {
      "cell_type": "code",
      "source": [
        "regressor.score(X_train, y_train, sample_weight=None)"
      ],
      "metadata": {
        "id": "NSp28RGwtFfO"
      },
      "execution_count": null,
      "outputs": []
    },
    {
      "cell_type": "code",
      "source": [
        "regressor.score(X_test, y_test, sample_weight=None)"
      ],
      "metadata": {
        "id": "C__8NsIMxypC"
      },
      "execution_count": null,
      "outputs": []
    },
    {
      "cell_type": "markdown",
      "source": [],
      "metadata": {
        "id": "WGbBcGuUtO-_"
      }
    }
  ],
  "metadata": {
    "colab": {
      "provenance": [],
      "collapsed_sections": []
    },
    "kernelspec": {
      "display_name": "Python 3",
      "name": "python3"
    }
  },
  "nbformat": 4,
  "nbformat_minor": 0
}
