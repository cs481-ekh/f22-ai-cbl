{
  "cells": [
    {
      "cell_type": "markdown",
      "metadata": {
        "id": "LeamvpPVXuS_"
      },
      "source": [
        "# Random Forest Regression"
      ]
    },
    {
      "cell_type": "markdown",
      "metadata": {
        "id": "O2wvZ7SKXzVC"
      },
      "source": [
        "## Importing the libraries"
      ]
    },
    {
      "cell_type": "code",
      "execution_count": 124,
      "metadata": {
        "id": "PVmESEFZX4Ig"
      },
      "outputs": [],
      "source": [
        "import numpy as np\n",
        "import matplotlib.pyplot as plt\n",
        "import pandas as pd"
      ]
    },
    {
      "cell_type": "markdown",
      "metadata": {
        "id": "zgbK_F8-X7em"
      },
      "source": [
        "## Importing the dataset"
      ]
    },
    {
      "cell_type": "code",
      "source": [
        "dataset = pd.read_csv('/content/out_tall_cleaned.csv')\n",
        "dataset=dataset.drop(dataset.columns[1], axis=1)"
      ],
      "metadata": {
        "id": "rx3z18AIqdE8"
      },
      "execution_count": 125,
      "outputs": []
    },
    {
      "cell_type": "code",
      "source": [
        "titles=list(dataset.columns)\n",
        "print(titles)"
      ],
      "metadata": {
        "colab": {
          "base_uri": "https://localhost:8080/"
        },
        "id": "eWRihIpfqXgY",
        "outputId": "acd9a4c0-c914-4089-a392-bd5b096ce520"
      },
      "execution_count": 126,
      "outputs": [
        {
          "output_type": "stream",
          "name": "stdout",
          "text": [
            "['Unnamed: 0', 'Patella_PN', 'Femur_PN', 'Tibia_PN', 'Patella_Car_PN', 'Femur_Car_PN', 'Tibia_M_Car_PN', 'Tibia_L_Car_PN', 'Patella_volume', 'Femur_volume', 'Tibia_volume', 'Patella_Car_volume', 'Femur_Car_volume', 'Tibia_M_Car_volume', 'Tibia_L_Car_volume', 'Patella_bounds_x', 'Femur_bounds_x', 'Tibia_bounds_x', 'Patella_Car_bounds_x', 'Femur_Car_bounds_x', 'Tibia_M_Car_bounds_x', 'Tibia_L_Car_bounds_x', 'Patella_bounds_y', 'Femur_bounds_y', 'Tibia_bounds_y', 'Patella_Car_bounds_y', 'Femur_Car_bounds_y', 'Tibia_M_Car_bounds_y', 'Tibia_L_Car_bounds_y', 'Patella_bounds_z', 'Femur_bounds_z', 'Tibia_bounds_z', 'Patella_Car_bounds_z', 'Femur_Car_bounds_z', 'Tibia_M_Car_bounds_z', 'Tibia_L_Car_bounds_z', 'Simulation_len', 'Max_dist_femur_tibia_lat_car', 'Min_dist_femur_tibia_lat_car', 'Mean_dist_femur_tibia_lat_car', 'Max_dist_femur_tibia_med_car', 'Min_dist_femur_tibia_med_car', 'Mean_dist_femur_tibia_med_car', 'frame', 'Max_tib_med_contact_pressure', 'Max_tib_lat_contact_pressure']\n"
          ]
        }
      ]
    },
    {
      "cell_type": "code",
      "source": [
        "titles[43],titles[44] = titles[44], titles[43]\n",
        "titles[44],titles[45] = titles[45], titles[44]\n",
        "titles"
      ],
      "metadata": {
        "colab": {
          "base_uri": "https://localhost:8080/"
        },
        "id": "RYAszVx3qUyM",
        "outputId": "31a144d6-1413-47e2-c54c-f4f3b53e68b1"
      },
      "execution_count": 127,
      "outputs": [
        {
          "output_type": "execute_result",
          "data": {
            "text/plain": [
              "['Unnamed: 0',\n",
              " 'Patella_PN',\n",
              " 'Femur_PN',\n",
              " 'Tibia_PN',\n",
              " 'Patella_Car_PN',\n",
              " 'Femur_Car_PN',\n",
              " 'Tibia_M_Car_PN',\n",
              " 'Tibia_L_Car_PN',\n",
              " 'Patella_volume',\n",
              " 'Femur_volume',\n",
              " 'Tibia_volume',\n",
              " 'Patella_Car_volume',\n",
              " 'Femur_Car_volume',\n",
              " 'Tibia_M_Car_volume',\n",
              " 'Tibia_L_Car_volume',\n",
              " 'Patella_bounds_x',\n",
              " 'Femur_bounds_x',\n",
              " 'Tibia_bounds_x',\n",
              " 'Patella_Car_bounds_x',\n",
              " 'Femur_Car_bounds_x',\n",
              " 'Tibia_M_Car_bounds_x',\n",
              " 'Tibia_L_Car_bounds_x',\n",
              " 'Patella_bounds_y',\n",
              " 'Femur_bounds_y',\n",
              " 'Tibia_bounds_y',\n",
              " 'Patella_Car_bounds_y',\n",
              " 'Femur_Car_bounds_y',\n",
              " 'Tibia_M_Car_bounds_y',\n",
              " 'Tibia_L_Car_bounds_y',\n",
              " 'Patella_bounds_z',\n",
              " 'Femur_bounds_z',\n",
              " 'Tibia_bounds_z',\n",
              " 'Patella_Car_bounds_z',\n",
              " 'Femur_Car_bounds_z',\n",
              " 'Tibia_M_Car_bounds_z',\n",
              " 'Tibia_L_Car_bounds_z',\n",
              " 'Simulation_len',\n",
              " 'Max_dist_femur_tibia_lat_car',\n",
              " 'Min_dist_femur_tibia_lat_car',\n",
              " 'Mean_dist_femur_tibia_lat_car',\n",
              " 'Max_dist_femur_tibia_med_car',\n",
              " 'Min_dist_femur_tibia_med_car',\n",
              " 'Mean_dist_femur_tibia_med_car',\n",
              " 'Max_tib_med_contact_pressure',\n",
              " 'Max_tib_lat_contact_pressure',\n",
              " 'frame']"
            ]
          },
          "metadata": {},
          "execution_count": 127
        }
      ]
    },
    {
      "cell_type": "code",
      "source": [
        "dataset = dataset[titles]\n",
        "dataset"
      ],
      "metadata": {
        "colab": {
          "base_uri": "https://localhost:8080/",
          "height": 505
        },
        "id": "T-M9pu-xqcMI",
        "outputId": "f9910b73-7bce-4e81-a10e-8bf40fc57b85"
      },
      "execution_count": 128,
      "outputs": [
        {
          "output_type": "execute_result",
          "data": {
            "text/plain": [
              "       Unnamed: 0  Patella_PN  Femur_PN  Tibia_PN  Patella_Car_PN  \\\n",
              "0               0        1137      4142      2789            5275   \n",
              "1               1        1137      4142      2789            5275   \n",
              "2               2        1137      4142      2789            5275   \n",
              "3               3        1137      4142      2789            5275   \n",
              "4               4        1137      4142      2789            5275   \n",
              "...           ...         ...       ...       ...             ...   \n",
              "37005       40724         873      3921      2831            5690   \n",
              "37006       40725         873      3921      2831            5690   \n",
              "37007       40726         873      3921      2831            5690   \n",
              "37008       40727         873      3921      2831            5690   \n",
              "37009       40728         873      3921      2831            5690   \n",
              "\n",
              "       Femur_Car_PN  Tibia_M_Car_PN  Tibia_L_Car_PN  Patella_volume  \\\n",
              "0             21420            2840            2840    33682.157434   \n",
              "1             21420            2840            2840    33682.157434   \n",
              "2             21420            2840            2840    33682.157434   \n",
              "3             21420            2840            2840    33682.157434   \n",
              "4             21420            2840            2840    33682.157434   \n",
              "...             ...             ...             ...             ...   \n",
              "37005         21495            2840            2840    24799.135262   \n",
              "37006         21495            2840            2840    24799.135262   \n",
              "37007         21495            2840            2840    24799.135262   \n",
              "37008         21495            2840            2840    24799.135262   \n",
              "37009         21495            2840            2840    24799.135262   \n",
              "\n",
              "        Femur_volume  ...  Simulation_len  Max_dist_femur_tibia_lat_car  \\\n",
              "0      231437.991665  ...               0                     13.941570   \n",
              "1      231437.991665  ...               0                     13.941570   \n",
              "2      231437.991665  ...               0                     13.941570   \n",
              "3      231437.991665  ...               0                     13.941570   \n",
              "4      231437.991665  ...               0                     13.941570   \n",
              "...              ...  ...             ...                           ...   \n",
              "37005  226161.340527  ...              12                     18.862473   \n",
              "37006  226161.340527  ...              12                     18.862473   \n",
              "37007  226161.340527  ...              12                     18.862473   \n",
              "37008  226161.340527  ...              12                     18.862473   \n",
              "37009  226161.340527  ...              12                     18.862473   \n",
              "\n",
              "       Min_dist_femur_tibia_lat_car  Mean_dist_femur_tibia_lat_car  \\\n",
              "0                          0.987391                       6.105886   \n",
              "1                          0.987391                       6.105886   \n",
              "2                          0.987391                       6.105886   \n",
              "3                          0.987391                       6.105886   \n",
              "4                          0.987391                       6.105886   \n",
              "...                             ...                            ...   \n",
              "37005                      2.616759                       6.815766   \n",
              "37006                      2.616759                       6.815766   \n",
              "37007                      2.616759                       6.815766   \n",
              "37008                      2.616759                       6.815766   \n",
              "37009                      2.616759                       6.815766   \n",
              "\n",
              "       Max_dist_femur_tibia_med_car  Min_dist_femur_tibia_med_car  \\\n",
              "0                         10.304892                      1.376902   \n",
              "1                         10.304892                      1.376902   \n",
              "2                         10.304892                      1.376902   \n",
              "3                         10.304892                      1.376902   \n",
              "4                         10.304892                      1.376902   \n",
              "...                             ...                           ...   \n",
              "37005                     15.943200                      2.833736   \n",
              "37006                     15.943200                      2.833736   \n",
              "37007                     15.943200                      2.833736   \n",
              "37008                     15.943200                      2.833736   \n",
              "37009                     15.943200                      2.833736   \n",
              "\n",
              "       Mean_dist_femur_tibia_med_car  Max_tib_med_contact_pressure  \\\n",
              "0                           4.580906                      7.619495   \n",
              "1                           4.580906                      8.068417   \n",
              "2                           4.580906                      7.796326   \n",
              "3                           4.580906                      8.058777   \n",
              "4                           4.580906                      8.098284   \n",
              "...                              ...                           ...   \n",
              "37005                       6.482209                     11.455851   \n",
              "37006                       6.482209                     11.642740   \n",
              "37007                       6.482209                     12.039758   \n",
              "37008                       6.482209                     11.383085   \n",
              "37009                       6.482209                     11.772991   \n",
              "\n",
              "       Max_tib_lat_contact_pressure  frame  \n",
              "0                          6.696390      0  \n",
              "1                          5.042103      1  \n",
              "2                          5.344840      2  \n",
              "3                          6.240049      3  \n",
              "4                          7.306662      4  \n",
              "...                             ...    ...  \n",
              "37005                      7.974414    236  \n",
              "37006                      8.043670    237  \n",
              "37007                      8.359842    238  \n",
              "37008                      8.170403    239  \n",
              "37009                      8.193823    240  \n",
              "\n",
              "[37010 rows x 46 columns]"
            ],
            "text/html": [
              "\n",
              "  <div id=\"df-ff4a674b-0ce7-477c-ad1c-91e2dd314f37\">\n",
              "    <div class=\"colab-df-container\">\n",
              "      <div>\n",
              "<style scoped>\n",
              "    .dataframe tbody tr th:only-of-type {\n",
              "        vertical-align: middle;\n",
              "    }\n",
              "\n",
              "    .dataframe tbody tr th {\n",
              "        vertical-align: top;\n",
              "    }\n",
              "\n",
              "    .dataframe thead th {\n",
              "        text-align: right;\n",
              "    }\n",
              "</style>\n",
              "<table border=\"1\" class=\"dataframe\">\n",
              "  <thead>\n",
              "    <tr style=\"text-align: right;\">\n",
              "      <th></th>\n",
              "      <th>Unnamed: 0</th>\n",
              "      <th>Patella_PN</th>\n",
              "      <th>Femur_PN</th>\n",
              "      <th>Tibia_PN</th>\n",
              "      <th>Patella_Car_PN</th>\n",
              "      <th>Femur_Car_PN</th>\n",
              "      <th>Tibia_M_Car_PN</th>\n",
              "      <th>Tibia_L_Car_PN</th>\n",
              "      <th>Patella_volume</th>\n",
              "      <th>Femur_volume</th>\n",
              "      <th>...</th>\n",
              "      <th>Simulation_len</th>\n",
              "      <th>Max_dist_femur_tibia_lat_car</th>\n",
              "      <th>Min_dist_femur_tibia_lat_car</th>\n",
              "      <th>Mean_dist_femur_tibia_lat_car</th>\n",
              "      <th>Max_dist_femur_tibia_med_car</th>\n",
              "      <th>Min_dist_femur_tibia_med_car</th>\n",
              "      <th>Mean_dist_femur_tibia_med_car</th>\n",
              "      <th>Max_tib_med_contact_pressure</th>\n",
              "      <th>Max_tib_lat_contact_pressure</th>\n",
              "      <th>frame</th>\n",
              "    </tr>\n",
              "  </thead>\n",
              "  <tbody>\n",
              "    <tr>\n",
              "      <th>0</th>\n",
              "      <td>0</td>\n",
              "      <td>1137</td>\n",
              "      <td>4142</td>\n",
              "      <td>2789</td>\n",
              "      <td>5275</td>\n",
              "      <td>21420</td>\n",
              "      <td>2840</td>\n",
              "      <td>2840</td>\n",
              "      <td>33682.157434</td>\n",
              "      <td>231437.991665</td>\n",
              "      <td>...</td>\n",
              "      <td>0</td>\n",
              "      <td>13.941570</td>\n",
              "      <td>0.987391</td>\n",
              "      <td>6.105886</td>\n",
              "      <td>10.304892</td>\n",
              "      <td>1.376902</td>\n",
              "      <td>4.580906</td>\n",
              "      <td>7.619495</td>\n",
              "      <td>6.696390</td>\n",
              "      <td>0</td>\n",
              "    </tr>\n",
              "    <tr>\n",
              "      <th>1</th>\n",
              "      <td>1</td>\n",
              "      <td>1137</td>\n",
              "      <td>4142</td>\n",
              "      <td>2789</td>\n",
              "      <td>5275</td>\n",
              "      <td>21420</td>\n",
              "      <td>2840</td>\n",
              "      <td>2840</td>\n",
              "      <td>33682.157434</td>\n",
              "      <td>231437.991665</td>\n",
              "      <td>...</td>\n",
              "      <td>0</td>\n",
              "      <td>13.941570</td>\n",
              "      <td>0.987391</td>\n",
              "      <td>6.105886</td>\n",
              "      <td>10.304892</td>\n",
              "      <td>1.376902</td>\n",
              "      <td>4.580906</td>\n",
              "      <td>8.068417</td>\n",
              "      <td>5.042103</td>\n",
              "      <td>1</td>\n",
              "    </tr>\n",
              "    <tr>\n",
              "      <th>2</th>\n",
              "      <td>2</td>\n",
              "      <td>1137</td>\n",
              "      <td>4142</td>\n",
              "      <td>2789</td>\n",
              "      <td>5275</td>\n",
              "      <td>21420</td>\n",
              "      <td>2840</td>\n",
              "      <td>2840</td>\n",
              "      <td>33682.157434</td>\n",
              "      <td>231437.991665</td>\n",
              "      <td>...</td>\n",
              "      <td>0</td>\n",
              "      <td>13.941570</td>\n",
              "      <td>0.987391</td>\n",
              "      <td>6.105886</td>\n",
              "      <td>10.304892</td>\n",
              "      <td>1.376902</td>\n",
              "      <td>4.580906</td>\n",
              "      <td>7.796326</td>\n",
              "      <td>5.344840</td>\n",
              "      <td>2</td>\n",
              "    </tr>\n",
              "    <tr>\n",
              "      <th>3</th>\n",
              "      <td>3</td>\n",
              "      <td>1137</td>\n",
              "      <td>4142</td>\n",
              "      <td>2789</td>\n",
              "      <td>5275</td>\n",
              "      <td>21420</td>\n",
              "      <td>2840</td>\n",
              "      <td>2840</td>\n",
              "      <td>33682.157434</td>\n",
              "      <td>231437.991665</td>\n",
              "      <td>...</td>\n",
              "      <td>0</td>\n",
              "      <td>13.941570</td>\n",
              "      <td>0.987391</td>\n",
              "      <td>6.105886</td>\n",
              "      <td>10.304892</td>\n",
              "      <td>1.376902</td>\n",
              "      <td>4.580906</td>\n",
              "      <td>8.058777</td>\n",
              "      <td>6.240049</td>\n",
              "      <td>3</td>\n",
              "    </tr>\n",
              "    <tr>\n",
              "      <th>4</th>\n",
              "      <td>4</td>\n",
              "      <td>1137</td>\n",
              "      <td>4142</td>\n",
              "      <td>2789</td>\n",
              "      <td>5275</td>\n",
              "      <td>21420</td>\n",
              "      <td>2840</td>\n",
              "      <td>2840</td>\n",
              "      <td>33682.157434</td>\n",
              "      <td>231437.991665</td>\n",
              "      <td>...</td>\n",
              "      <td>0</td>\n",
              "      <td>13.941570</td>\n",
              "      <td>0.987391</td>\n",
              "      <td>6.105886</td>\n",
              "      <td>10.304892</td>\n",
              "      <td>1.376902</td>\n",
              "      <td>4.580906</td>\n",
              "      <td>8.098284</td>\n",
              "      <td>7.306662</td>\n",
              "      <td>4</td>\n",
              "    </tr>\n",
              "    <tr>\n",
              "      <th>...</th>\n",
              "      <td>...</td>\n",
              "      <td>...</td>\n",
              "      <td>...</td>\n",
              "      <td>...</td>\n",
              "      <td>...</td>\n",
              "      <td>...</td>\n",
              "      <td>...</td>\n",
              "      <td>...</td>\n",
              "      <td>...</td>\n",
              "      <td>...</td>\n",
              "      <td>...</td>\n",
              "      <td>...</td>\n",
              "      <td>...</td>\n",
              "      <td>...</td>\n",
              "      <td>...</td>\n",
              "      <td>...</td>\n",
              "      <td>...</td>\n",
              "      <td>...</td>\n",
              "      <td>...</td>\n",
              "      <td>...</td>\n",
              "      <td>...</td>\n",
              "    </tr>\n",
              "    <tr>\n",
              "      <th>37005</th>\n",
              "      <td>40724</td>\n",
              "      <td>873</td>\n",
              "      <td>3921</td>\n",
              "      <td>2831</td>\n",
              "      <td>5690</td>\n",
              "      <td>21495</td>\n",
              "      <td>2840</td>\n",
              "      <td>2840</td>\n",
              "      <td>24799.135262</td>\n",
              "      <td>226161.340527</td>\n",
              "      <td>...</td>\n",
              "      <td>12</td>\n",
              "      <td>18.862473</td>\n",
              "      <td>2.616759</td>\n",
              "      <td>6.815766</td>\n",
              "      <td>15.943200</td>\n",
              "      <td>2.833736</td>\n",
              "      <td>6.482209</td>\n",
              "      <td>11.455851</td>\n",
              "      <td>7.974414</td>\n",
              "      <td>236</td>\n",
              "    </tr>\n",
              "    <tr>\n",
              "      <th>37006</th>\n",
              "      <td>40725</td>\n",
              "      <td>873</td>\n",
              "      <td>3921</td>\n",
              "      <td>2831</td>\n",
              "      <td>5690</td>\n",
              "      <td>21495</td>\n",
              "      <td>2840</td>\n",
              "      <td>2840</td>\n",
              "      <td>24799.135262</td>\n",
              "      <td>226161.340527</td>\n",
              "      <td>...</td>\n",
              "      <td>12</td>\n",
              "      <td>18.862473</td>\n",
              "      <td>2.616759</td>\n",
              "      <td>6.815766</td>\n",
              "      <td>15.943200</td>\n",
              "      <td>2.833736</td>\n",
              "      <td>6.482209</td>\n",
              "      <td>11.642740</td>\n",
              "      <td>8.043670</td>\n",
              "      <td>237</td>\n",
              "    </tr>\n",
              "    <tr>\n",
              "      <th>37007</th>\n",
              "      <td>40726</td>\n",
              "      <td>873</td>\n",
              "      <td>3921</td>\n",
              "      <td>2831</td>\n",
              "      <td>5690</td>\n",
              "      <td>21495</td>\n",
              "      <td>2840</td>\n",
              "      <td>2840</td>\n",
              "      <td>24799.135262</td>\n",
              "      <td>226161.340527</td>\n",
              "      <td>...</td>\n",
              "      <td>12</td>\n",
              "      <td>18.862473</td>\n",
              "      <td>2.616759</td>\n",
              "      <td>6.815766</td>\n",
              "      <td>15.943200</td>\n",
              "      <td>2.833736</td>\n",
              "      <td>6.482209</td>\n",
              "      <td>12.039758</td>\n",
              "      <td>8.359842</td>\n",
              "      <td>238</td>\n",
              "    </tr>\n",
              "    <tr>\n",
              "      <th>37008</th>\n",
              "      <td>40727</td>\n",
              "      <td>873</td>\n",
              "      <td>3921</td>\n",
              "      <td>2831</td>\n",
              "      <td>5690</td>\n",
              "      <td>21495</td>\n",
              "      <td>2840</td>\n",
              "      <td>2840</td>\n",
              "      <td>24799.135262</td>\n",
              "      <td>226161.340527</td>\n",
              "      <td>...</td>\n",
              "      <td>12</td>\n",
              "      <td>18.862473</td>\n",
              "      <td>2.616759</td>\n",
              "      <td>6.815766</td>\n",
              "      <td>15.943200</td>\n",
              "      <td>2.833736</td>\n",
              "      <td>6.482209</td>\n",
              "      <td>11.383085</td>\n",
              "      <td>8.170403</td>\n",
              "      <td>239</td>\n",
              "    </tr>\n",
              "    <tr>\n",
              "      <th>37009</th>\n",
              "      <td>40728</td>\n",
              "      <td>873</td>\n",
              "      <td>3921</td>\n",
              "      <td>2831</td>\n",
              "      <td>5690</td>\n",
              "      <td>21495</td>\n",
              "      <td>2840</td>\n",
              "      <td>2840</td>\n",
              "      <td>24799.135262</td>\n",
              "      <td>226161.340527</td>\n",
              "      <td>...</td>\n",
              "      <td>12</td>\n",
              "      <td>18.862473</td>\n",
              "      <td>2.616759</td>\n",
              "      <td>6.815766</td>\n",
              "      <td>15.943200</td>\n",
              "      <td>2.833736</td>\n",
              "      <td>6.482209</td>\n",
              "      <td>11.772991</td>\n",
              "      <td>8.193823</td>\n",
              "      <td>240</td>\n",
              "    </tr>\n",
              "  </tbody>\n",
              "</table>\n",
              "<p>37010 rows × 46 columns</p>\n",
              "</div>\n",
              "      <button class=\"colab-df-convert\" onclick=\"convertToInteractive('df-ff4a674b-0ce7-477c-ad1c-91e2dd314f37')\"\n",
              "              title=\"Convert this dataframe to an interactive table.\"\n",
              "              style=\"display:none;\">\n",
              "        \n",
              "  <svg xmlns=\"http://www.w3.org/2000/svg\" height=\"24px\"viewBox=\"0 0 24 24\"\n",
              "       width=\"24px\">\n",
              "    <path d=\"M0 0h24v24H0V0z\" fill=\"none\"/>\n",
              "    <path d=\"M18.56 5.44l.94 2.06.94-2.06 2.06-.94-2.06-.94-.94-2.06-.94 2.06-2.06.94zm-11 1L8.5 8.5l.94-2.06 2.06-.94-2.06-.94L8.5 2.5l-.94 2.06-2.06.94zm10 10l.94 2.06.94-2.06 2.06-.94-2.06-.94-.94-2.06-.94 2.06-2.06.94z\"/><path d=\"M17.41 7.96l-1.37-1.37c-.4-.4-.92-.59-1.43-.59-.52 0-1.04.2-1.43.59L10.3 9.45l-7.72 7.72c-.78.78-.78 2.05 0 2.83L4 21.41c.39.39.9.59 1.41.59.51 0 1.02-.2 1.41-.59l7.78-7.78 2.81-2.81c.8-.78.8-2.07 0-2.86zM5.41 20L4 18.59l7.72-7.72 1.47 1.35L5.41 20z\"/>\n",
              "  </svg>\n",
              "      </button>\n",
              "      \n",
              "  <style>\n",
              "    .colab-df-container {\n",
              "      display:flex;\n",
              "      flex-wrap:wrap;\n",
              "      gap: 12px;\n",
              "    }\n",
              "\n",
              "    .colab-df-convert {\n",
              "      background-color: #E8F0FE;\n",
              "      border: none;\n",
              "      border-radius: 50%;\n",
              "      cursor: pointer;\n",
              "      display: none;\n",
              "      fill: #1967D2;\n",
              "      height: 32px;\n",
              "      padding: 0 0 0 0;\n",
              "      width: 32px;\n",
              "    }\n",
              "\n",
              "    .colab-df-convert:hover {\n",
              "      background-color: #E2EBFA;\n",
              "      box-shadow: 0px 1px 2px rgba(60, 64, 67, 0.3), 0px 1px 3px 1px rgba(60, 64, 67, 0.15);\n",
              "      fill: #174EA6;\n",
              "    }\n",
              "\n",
              "    [theme=dark] .colab-df-convert {\n",
              "      background-color: #3B4455;\n",
              "      fill: #D2E3FC;\n",
              "    }\n",
              "\n",
              "    [theme=dark] .colab-df-convert:hover {\n",
              "      background-color: #434B5C;\n",
              "      box-shadow: 0px 1px 3px 1px rgba(0, 0, 0, 0.15);\n",
              "      filter: drop-shadow(0px 1px 2px rgba(0, 0, 0, 0.3));\n",
              "      fill: #FFFFFF;\n",
              "    }\n",
              "  </style>\n",
              "\n",
              "      <script>\n",
              "        const buttonEl =\n",
              "          document.querySelector('#df-ff4a674b-0ce7-477c-ad1c-91e2dd314f37 button.colab-df-convert');\n",
              "        buttonEl.style.display =\n",
              "          google.colab.kernel.accessAllowed ? 'block' : 'none';\n",
              "\n",
              "        async function convertToInteractive(key) {\n",
              "          const element = document.querySelector('#df-ff4a674b-0ce7-477c-ad1c-91e2dd314f37');\n",
              "          const dataTable =\n",
              "            await google.colab.kernel.invokeFunction('convertToInteractive',\n",
              "                                                     [key], {});\n",
              "          if (!dataTable) return;\n",
              "\n",
              "          const docLinkHtml = 'Like what you see? Visit the ' +\n",
              "            '<a target=\"_blank\" href=https://colab.research.google.com/notebooks/data_table.ipynb>data table notebook</a>'\n",
              "            + ' to learn more about interactive tables.';\n",
              "          element.innerHTML = '';\n",
              "          dataTable['output_type'] = 'display_data';\n",
              "          await google.colab.output.renderOutput(dataTable, element);\n",
              "          const docLink = document.createElement('div');\n",
              "          docLink.innerHTML = docLinkHtml;\n",
              "          element.appendChild(docLink);\n",
              "        }\n",
              "      </script>\n",
              "    </div>\n",
              "  </div>\n",
              "  "
            ]
          },
          "metadata": {},
          "execution_count": 128
        }
      ]
    },
    {
      "cell_type": "code",
      "source": [
        "# X = dataset.iloc[0:40727, 45:46].values\n",
        "# # y = dataset.iloc[0:40727, 40:46]\n",
        "# # y = dataset.iloc[0:40727, 40:45].values\n",
        "# y = dataset.iloc[0:40727, 44:45]\n",
        "\n",
        "\n",
        "# print(y)\n",
        "\n",
        "# from sklearn.model_selection import train_test_split\n",
        "# X_train, X_test, y_train, y_test = train_test_split(X, y, test_size = 0.2, random_state = 0)"
      ],
      "metadata": {
        "colab": {
          "base_uri": "https://localhost:8080/"
        },
        "id": "V2Isc8OlqhnH",
        "outputId": "1e64df8e-1394-4a35-fa8d-8ba58577e003"
      },
      "execution_count": 271,
      "outputs": [
        {
          "output_type": "stream",
          "name": "stdout",
          "text": [
            "       Max_tib_lat_contact_pressure\n",
            "0                          6.696390\n",
            "1                          5.042103\n",
            "2                          5.344840\n",
            "3                          6.240049\n",
            "4                          7.306662\n",
            "...                             ...\n",
            "37005                      7.974414\n",
            "37006                      8.043670\n",
            "37007                      8.359842\n",
            "37008                      8.170403\n",
            "37009                      8.193823\n",
            "\n",
            "[37010 rows x 1 columns]\n"
          ]
        }
      ]
    },
    {
      "cell_type": "code",
      "source": [
        "X = dataset.iloc[0:40727, 45:46].values\n",
        "# y = dataset.iloc[0:40727, 40:46]\n",
        "# y = dataset.iloc[0:40727, 40:45].values\n",
        "y = dataset.iloc[0:40727, 43:44].values\n",
        "\n",
        "\n",
        "print(max(y))\n",
        "# print((y))\n",
        "\n",
        "# y = dataset.iloc[0:40727, 43:44]\n",
        "# print(y)\n",
        "\n",
        "\n",
        "y = dataset.iloc[0:40727, 44:45].values\n",
        "print(max(y))\n",
        "\n",
        "\n",
        "from sklearn.model_selection import train_test_split\n",
        "X_train, X_test, y_train, y_test = train_test_split(X, y, test_size = 0.2, random_state = 0)"
      ],
      "metadata": {
        "colab": {
          "base_uri": "https://localhost:8080/"
        },
        "id": "7jOVQ4XA0sR7",
        "outputId": "8f87d275-3bbf-4cba-b22d-b9fdca04dfda"
      },
      "execution_count": 334,
      "outputs": [
        {
          "output_type": "stream",
          "name": "stdout",
          "text": [
            "[99.6297226]\n",
            "       Max_tib_med_contact_pressure\n",
            "0                          7.619495\n",
            "1                          8.068417\n",
            "2                          7.796326\n",
            "3                          8.058777\n",
            "4                          8.098284\n",
            "...                             ...\n",
            "37005                     11.455851\n",
            "37006                     11.642740\n",
            "37007                     12.039758\n",
            "37008                     11.383085\n",
            "37009                     11.772991\n",
            "\n",
            "[37010 rows x 1 columns]\n",
            "[99.79545593]\n"
          ]
        }
      ]
    },
    {
      "cell_type": "code",
      "source": [
        "# dataset = pd.read_csv('/content/out_tall_cleaned.csv')\n",
        "\n",
        "# dataset=dataset.drop(dataset.columns[1], axis=1)\n",
        "# # X = dataset.iloc[:, 26:].values\n",
        "# # y = dataset.iloc[:, 2:25].values\n",
        "\n",
        "# # X = dataset.iloc[0:-1, 2:25].values\n",
        "# # y = dataset.iloc[0:-1, 27:-1].values\n",
        "\n",
        "# # X = dataset.iloc[:, 1:-1].values\n",
        "# # y = dataset.iloc[:, -1].values\n",
        "\n",
        "\n",
        "# # X = dataset.iloc[0:40727, 43:44].values\n",
        "# # print(X)\n",
        "# # y = dataset.iloc[0:40727, 2:42].values\n",
        "# # print(y)\n",
        "\n",
        "\n",
        "\n",
        "# X = dataset.iloc[0:40727, 43:44]\n",
        "# # print(X)\n",
        "# # Try to include other data as well\n",
        "# # y = dataset.iloc[0:40727, 44:46]\n",
        "# y = dataset.iloc[0:40727, 44:46]\n",
        "\n",
        "# # y=  dataset.iloc[0:40727, 1:43]\n",
        "# # y = dataset.loc[[ : ,'Max_tib_lat_contact_pressure'],[:,'Max_tib_med_contact_pressure']]\n",
        "\n",
        "# # y = dataset.loc[ :,'Max_tib_lat_contact_pressure'], [: , 'Max_tib_med_contact_pressure']\n",
        "# # y = dataset.loc[ :,'Max_tib_med_contact_pressure']\n",
        "\n",
        "# # data.iloc[[0,3,6,24], [0,5,6]] # 1st, 4th, 7th, 25th row + 1st 6th 7th columns.\n",
        "\n",
        "\n",
        "# print(y)\n",
        "\n",
        "# from sklearn.model_selection import train_test_split\n",
        "# X_train, X_test, y_train, y_test = train_test_split(X, y, test_size = 0.2, random_state = 0)\n"
      ],
      "metadata": {
        "id": "562O7ZfNse9a"
      },
      "execution_count": 272,
      "outputs": []
    },
    {
      "cell_type": "markdown",
      "metadata": {
        "id": "v4S2fyIBYDcu"
      },
      "source": [
        "## Training the Random Forest Regression model on the whole dataset"
      ]
    },
    {
      "cell_type": "code",
      "source": [
        "from sklearn.ensemble import RandomForestRegressor\n",
        "regressor = RandomForestRegressor(n_estimators = 100, random_state = 0)\n",
        "# regressor.fit(X_train, y_train)\n",
        "regressor.fit(X, y)"
      ],
      "metadata": {
        "colab": {
          "base_uri": "https://localhost:8080/"
        },
        "id": "scUvCydbNHhV",
        "outputId": "6c3a4906-b58e-4c2b-99cb-1eaa9d730e21"
      },
      "execution_count": 328,
      "outputs": [
        {
          "output_type": "stream",
          "name": "stderr",
          "text": [
            "/usr/local/lib/python3.7/dist-packages/ipykernel_launcher.py:4: DataConversionWarning: A column-vector y was passed when a 1d array was expected. Please change the shape of y to (n_samples,), for example using ravel().\n",
            "  after removing the cwd from sys.path.\n"
          ]
        },
        {
          "output_type": "execute_result",
          "data": {
            "text/plain": [
              "RandomForestRegressor(random_state=0)"
            ]
          },
          "metadata": {},
          "execution_count": 328
        }
      ]
    },
    {
      "cell_type": "code",
      "execution_count": 274,
      "metadata": {
        "id": "o8dOCoJ1YKMc"
      },
      "outputs": [],
      "source": [
        "# from sklearn.ensemble import RandomForestRegressor\n",
        "# regressor = RandomForestRegressor(n_estimators = 10, random_state = 0)\n",
        "# regressor.fit(X, y)"
      ]
    },
    {
      "cell_type": "markdown",
      "metadata": {
        "id": "8IbsXbK3YM4M"
      },
      "source": [
        "## Predicting a new result"
      ]
    },
    {
      "cell_type": "code",
      "execution_count": 275,
      "metadata": {
        "id": "pTXrS8FEYQlJ"
      },
      "outputs": [],
      "source": [
        "# regressor.predict([[6.5,1,2,3,4,5,6,8,7,8,9,9,10,12,13,13,13,13,13,13,13,13,13]])"
      ]
    },
    {
      "cell_type": "code",
      "source": [
        "regressor.predict([[10]])"
      ],
      "metadata": {
        "colab": {
          "base_uri": "https://localhost:8080/"
        },
        "id": "ZYtasZ5lz7Ec",
        "outputId": "f4e3f7f7-a3e3-4cae-9a2d-bb2909929d77"
      },
      "execution_count": 316,
      "outputs": [
        {
          "output_type": "execute_result",
          "data": {
            "text/plain": [
              "array([[8.45097038, 6.93918565]])"
            ]
          },
          "metadata": {},
          "execution_count": 316
        }
      ]
    },
    {
      "cell_type": "code",
      "source": [
        "out=regressor.predict([[10]])\n",
        "print(max(out))"
      ],
      "metadata": {
        "colab": {
          "base_uri": "https://localhost:8080/"
        },
        "id": "9LsKg7dFCQ-E",
        "outputId": "4dbb7168-6730-4152-e20a-8634e747b869"
      },
      "execution_count": 277,
      "outputs": [
        {
          "output_type": "stream",
          "name": "stdout",
          "text": [
            "6.9391856459674095\n"
          ]
        }
      ]
    },
    {
      "cell_type": "code",
      "source": [
        "# regressor.predict(X)"
      ],
      "metadata": {
        "id": "pBTiUodx716n",
        "colab": {
          "base_uri": "https://localhost:8080/"
        },
        "outputId": "46a4ad0b-8154-4da6-8931-7d55c6561c11"
      },
      "execution_count": 287,
      "outputs": [
        {
          "output_type": "execute_result",
          "data": {
            "text/plain": [
              "array([ 7.64932998,  7.0628334 ,  7.08974269, ..., 10.33632781,\n",
              "       10.41421425, 10.52017372])"
            ]
          },
          "metadata": {},
          "execution_count": 287
        }
      ]
    },
    {
      "cell_type": "code",
      "source": [
        "regressor.score(X, y, sample_weight=None)"
      ],
      "metadata": {
        "colab": {
          "base_uri": "https://localhost:8080/"
        },
        "id": "NSp28RGwtFfO",
        "outputId": "45c3d471-8a0b-4de4-9c32-f755a822ceb1"
      },
      "execution_count": 279,
      "outputs": [
        {
          "output_type": "execute_result",
          "data": {
            "text/plain": [
              "0.42009054710459737"
            ]
          },
          "metadata": {},
          "execution_count": 279
        }
      ]
    },
    {
      "cell_type": "code",
      "source": [
        "regressor.score(X_test, y_test, sample_weight=None)"
      ],
      "metadata": {
        "colab": {
          "base_uri": "https://localhost:8080/"
        },
        "id": "C__8NsIMxypC",
        "outputId": "52367417-8e32-4ce1-8b25-df705d71880b"
      },
      "execution_count": 286,
      "outputs": [
        {
          "output_type": "execute_result",
          "data": {
            "text/plain": [
              "0.4436048150108344"
            ]
          },
          "metadata": {},
          "execution_count": 286
        }
      ]
    },
    {
      "cell_type": "code",
      "source": [
        "# y_pred= regressor.predict(X_test)\n",
        "# np.set_printoptinos(precision=2)\n"
      ],
      "metadata": {
        "id": "R3NgefA80Auo"
      },
      "execution_count": null,
      "outputs": []
    },
    {
      "cell_type": "code",
      "source": [
        "from sklearn.metrics import r2_score\n",
        "y_pred= regressor.predict(X_test)\n",
        "r2_score (y_test, y_pred)"
      ],
      "metadata": {
        "colab": {
          "base_uri": "https://localhost:8080/"
        },
        "id": "2TBS2muWzi-c",
        "outputId": "14e89722-f4fd-4166-962e-9daecf088823"
      },
      "execution_count": 313,
      "outputs": [
        {
          "output_type": "execute_result",
          "data": {
            "text/plain": [
              "0.3243225949209001"
            ]
          },
          "metadata": {},
          "execution_count": 313
        }
      ]
    },
    {
      "cell_type": "code",
      "source": [
        "regressor.predict([[85]])"
      ],
      "metadata": {
        "colab": {
          "base_uri": "https://localhost:8080/"
        },
        "id": "DdBE67qi8t70",
        "outputId": "89cc4bef-54d0-405c-ce50-c6272f92134e"
      },
      "execution_count": 317,
      "outputs": [
        {
          "output_type": "execute_result",
          "data": {
            "text/plain": [
              "array([[24.28277672, 18.82833128]])"
            ]
          },
          "metadata": {},
          "execution_count": 317
        }
      ]
    },
    {
      "cell_type": "code",
      "source": [
        "X_grid = np.arange(min(X), max(X), 0.01)\n",
        "X_grid = X_grid.reshape((len(X_grid), 1))\n",
        "plt.scatter(X, y, color = 'red')\n",
        "plt.plot(X_grid, regressor.predict(X_grid), color = 'blue')\n",
        "plt.title('Stress Peak for Max_tib_lat_contact_pressure ')\n",
        "plt.xlabel('Frame Number')\n",
        "plt.ylabel('Max_tib_lat_contact_pressure')\n",
        "plt.show()"
      ],
      "metadata": {
        "colab": {
          "base_uri": "https://localhost:8080/",
          "height": 295
        },
        "id": "_qNRBKqgHET5",
        "outputId": "d6bd5008-8735-44c5-b7c3-15f684203c31"
      },
      "execution_count": 285,
      "outputs": [
        {
          "output_type": "display_data",
          "data": {
            "text/plain": [
              "<Figure size 432x288 with 1 Axes>"
            ],
            "image/png": "[encoded data removed]"
          },
          "metadata": {
            "needs_background": "light"
          }
        }
      ]
    },
    {
      "cell_type": "code",
      "source": [
        "X_grid = np.arange(min(X), max(X), 0.01)\n",
        "X_grid = X_grid.reshape((len(X_grid), 1))\n",
        "plt.scatter(X, y, color = 'red')\n",
        "plt.plot(X_grid, regressor.predict(X_grid), color = 'blue')\n",
        "plt.title('Stress Peak for Max_tib_med_contact_pressure ')\n",
        "plt.xlabel('Frame Number')\n",
        "plt.ylabel('Max_tib_med_contact_pressure')\n",
        "plt.figure(figsize=(20, 20))\n",
        "plt.show()"
      ],
      "metadata": {
        "colab": {
          "base_uri": "https://localhost:8080/",
          "height": 312
        },
        "id": "y9YOq5T14TvH",
        "outputId": "1be51096-c00f-4b3c-e153-f70c22367dcd"
      },
      "execution_count": 340,
      "outputs": [
        {
          "output_type": "display_data",
          "data": {
            "text/plain": [
              "<Figure size 432x288 with 1 Axes>"
            ],
            "image/png": "[encoded data removed]"
          },
          "metadata": {
            "needs_background": "light"
          }
        },
        {
          "output_type": "display_data",
          "data": {
            "text/plain": [
              "<Figure size 1440x1440 with 0 Axes>"
            ]
          },
          "metadata": {}
        }
      ]
    },
    {
      "cell_type": "code",
      "source": [
        "X_grid = np.arange(min(X), max(X), 0.01)\n",
        "X_grid = X_grid.reshape((len(X_grid), 1))\n",
        "plt.scatter(X, y, color = 'red')\n",
        "plt.plot(X_grid, regressor.predict(X_grid), color = 'blue')\n",
        "plt.title('Stress Peak for Max_tib_med_contact_pressure ')\n",
        "plt.xlabel('Frame Number')\n",
        "plt.ylabel('Max_tib_med_contact_pressure')\n",
        "plt.show()"
      ],
      "metadata": {
        "colab": {
          "base_uri": "https://localhost:8080/",
          "height": 295
        },
        "id": "8nC8l41a5ffa",
        "outputId": "a4342b8e-01d8-47ca-d27f-3f8d2cc469f6"
      },
      "execution_count": 311,
      "outputs": [
        {
          "output_type": "display_data",
          "data": {
            "text/plain": [
              "<Figure size 432x288 with 1 Axes>"
            ],
            "image/png": "[encoded data removed]"
          },
          "metadata": {
            "needs_background": "light"
          }
        }
      ]
    },
    {
      "cell_type": "code",
      "source": [
        "from sklearn.metrics import r2_score\n",
        "y_pred= regressor.predict(X_test)\n",
        "r2_score (y_test, y_pred)"
      ],
      "metadata": {
        "colab": {
          "base_uri": "https://localhost:8080/"
        },
        "id": "lqseOGM34tL6",
        "outputId": "3f9d9c2a-4e1b-4266-a607-1e43645a4d83"
      },
      "execution_count": 302,
      "outputs": [
        {
          "output_type": "execute_result",
          "data": {
            "text/plain": [
              "0.3243225949209001"
            ]
          },
          "metadata": {},
          "execution_count": 302
        }
      ]
    },
    {
      "cell_type": "markdown",
      "source": [
        "[link text](https://)"
      ],
      "metadata": {
        "id": "WGbBcGuUtO-_"
      }
    }
  ],
  "metadata": {
    "colab": {
      "provenance": [],
      "collapsed_sections": []
    },
    "kernelspec": {
      "display_name": "Python 3",
      "name": "python3"
    }
  },
  "nbformat": 4,
  "nbformat_minor": 0
}
