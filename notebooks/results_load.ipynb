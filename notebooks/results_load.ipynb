{
 "cells": [
  {
   "cell_type": "markdown",
   "source": [
    "# READING RESULTS"
   ],
   "metadata": {
    "collapsed": false
   }
  },
  {
   "cell_type": "markdown",
   "source": [
    "## Setup and Load Data\n",
    "This notebook aims to describe and download the results data files of the Finite Element Model that simulates knee bending. Results files contain Stress or Strain data that was recorded for each individual element of four knee cartilages (8 files in total) for 100-time points.\n",
    "Each file has the following naming convention:\n",
    "CART_NAME_TYPE.results where\n",
    "Four possible cartilage names CART_NAME:\n",
    "- CART-FEMUR - femur cartilage\n",
    "- CART-PATELLA - cartilage under the kneecap\n",
    "- CART-TIBIA-LAT - lateral tibial cartilage\n",
    "- CART-TIBIA-MED - medial tibial cartilage\n",
    "\n",
    "Two different types of measurements TYPE:\n",
    "- LE strain\n",
    "- L stress\n",
    "\n",
    "Each file contains a specified in filename type of measurements for sets by the filename type of cartilages for 100-time points."
   ],
   "metadata": {
    "collapsed": false
   }
  },
  {
   "cell_type": "code",
   "execution_count": 7,
   "outputs": [],
   "source": [
    "import pandas as pd\n",
    "import numpy as np\n",
    "from pathlib import Path\n",
    "from knee_stress_predict.config import raw_data_dir"
   ],
   "metadata": {
    "collapsed": false
   }
  },
  {
   "cell_type": "code",
   "execution_count": 13,
   "outputs": [
    {
     "data": {
      "text/plain": "                   0   1     2      3     4      5     6      7     8      9   \\\nstruture                                                                        \nCART-FEMUR_LE       0   0     0  16432     0  16432     0  16432     0  16432   \nCART-FEMUR_S        0   0     0  16432     0  16432     0  16432     0  16432   \nCART-PATELLA_LE     0   0     0   4000     0   4000     0   4000     0   4000   \nCART-PATELLA_S      0   0     0   4000     0   4000     0   4000     0   4000   \nCART-TIBIA-LAT_LE   0   0  2176      0  2176      0  2176      0  2176      0   \nCART-TIBIA-LAT_S    0   0  2176      0  2176      0  2176      0  2176      0   \nCART-TIBIA-MED_LE   0   0  2176      0  2176      0  2176      0  2176      0   \nCART-TIBIA-MED_S    0   0  2176      0  2176      0  2176      0  2176      0   \n\n                   ...    90     91    92     93    94     95    96     97  \\\nstruture           ...                                                       \nCART-FEMUR_LE      ...     0  16432     0  16432     0  16432     0  16432   \nCART-FEMUR_S       ...     0  16432     0  16432     0  16432     0  16432   \nCART-PATELLA_LE    ...     0   4000     0   4000     0   4000     0   4000   \nCART-PATELLA_S     ...     0   4000     0   4000     0   4000     0   4000   \nCART-TIBIA-LAT_LE  ...  2176      0  2176      0  2176      0  2176      0   \nCART-TIBIA-LAT_S   ...  2176      0  2176      0  2176      0  2176      0   \nCART-TIBIA-MED_LE  ...  2176      0  2176      0  2176      0  2176      0   \nCART-TIBIA-MED_S   ...  2176      0  2176      0  2176      0  2176      0   \n\n                     98     99  \nstruture                        \nCART-FEMUR_LE         0  16432  \nCART-FEMUR_S          0  16432  \nCART-PATELLA_LE       0   4000  \nCART-PATELLA_S        0   4000  \nCART-TIBIA-LAT_LE  2176      0  \nCART-TIBIA-LAT_S   2176      0  \nCART-TIBIA-MED_LE  2176      0  \nCART-TIBIA-MED_S   2176      0  \n\n[8 rows x 100 columns]",
      "text/html": "<div>\n<style scoped>\n    .dataframe tbody tr th:only-of-type {\n        vertical-align: middle;\n    }\n\n    .dataframe tbody tr th {\n        vertical-align: top;\n    }\n\n    .dataframe thead th {\n        text-align: right;\n    }\n</style>\n<table border=\"1\" class=\"dataframe\">\n  <thead>\n    <tr style=\"text-align: right;\">\n      <th></th>\n      <th>0</th>\n      <th>1</th>\n      <th>2</th>\n      <th>3</th>\n      <th>4</th>\n      <th>5</th>\n      <th>6</th>\n      <th>7</th>\n      <th>8</th>\n      <th>9</th>\n      <th>...</th>\n      <th>90</th>\n      <th>91</th>\n      <th>92</th>\n      <th>93</th>\n      <th>94</th>\n      <th>95</th>\n      <th>96</th>\n      <th>97</th>\n      <th>98</th>\n      <th>99</th>\n    </tr>\n    <tr>\n      <th>struture</th>\n      <th></th>\n      <th></th>\n      <th></th>\n      <th></th>\n      <th></th>\n      <th></th>\n      <th></th>\n      <th></th>\n      <th></th>\n      <th></th>\n      <th></th>\n      <th></th>\n      <th></th>\n      <th></th>\n      <th></th>\n      <th></th>\n      <th></th>\n      <th></th>\n      <th></th>\n      <th></th>\n      <th></th>\n    </tr>\n  </thead>\n  <tbody>\n    <tr>\n      <th>CART-FEMUR_LE</th>\n      <td>0</td>\n      <td>0</td>\n      <td>0</td>\n      <td>16432</td>\n      <td>0</td>\n      <td>16432</td>\n      <td>0</td>\n      <td>16432</td>\n      <td>0</td>\n      <td>16432</td>\n      <td>...</td>\n      <td>0</td>\n      <td>16432</td>\n      <td>0</td>\n      <td>16432</td>\n      <td>0</td>\n      <td>16432</td>\n      <td>0</td>\n      <td>16432</td>\n      <td>0</td>\n      <td>16432</td>\n    </tr>\n    <tr>\n      <th>CART-FEMUR_S</th>\n      <td>0</td>\n      <td>0</td>\n      <td>0</td>\n      <td>16432</td>\n      <td>0</td>\n      <td>16432</td>\n      <td>0</td>\n      <td>16432</td>\n      <td>0</td>\n      <td>16432</td>\n      <td>...</td>\n      <td>0</td>\n      <td>16432</td>\n      <td>0</td>\n      <td>16432</td>\n      <td>0</td>\n      <td>16432</td>\n      <td>0</td>\n      <td>16432</td>\n      <td>0</td>\n      <td>16432</td>\n    </tr>\n    <tr>\n      <th>CART-PATELLA_LE</th>\n      <td>0</td>\n      <td>0</td>\n      <td>0</td>\n      <td>4000</td>\n      <td>0</td>\n      <td>4000</td>\n      <td>0</td>\n      <td>4000</td>\n      <td>0</td>\n      <td>4000</td>\n      <td>...</td>\n      <td>0</td>\n      <td>4000</td>\n      <td>0</td>\n      <td>4000</td>\n      <td>0</td>\n      <td>4000</td>\n      <td>0</td>\n      <td>4000</td>\n      <td>0</td>\n      <td>4000</td>\n    </tr>\n    <tr>\n      <th>CART-PATELLA_S</th>\n      <td>0</td>\n      <td>0</td>\n      <td>0</td>\n      <td>4000</td>\n      <td>0</td>\n      <td>4000</td>\n      <td>0</td>\n      <td>4000</td>\n      <td>0</td>\n      <td>4000</td>\n      <td>...</td>\n      <td>0</td>\n      <td>4000</td>\n      <td>0</td>\n      <td>4000</td>\n      <td>0</td>\n      <td>4000</td>\n      <td>0</td>\n      <td>4000</td>\n      <td>0</td>\n      <td>4000</td>\n    </tr>\n    <tr>\n      <th>CART-TIBIA-LAT_LE</th>\n      <td>0</td>\n      <td>0</td>\n      <td>2176</td>\n      <td>0</td>\n      <td>2176</td>\n      <td>0</td>\n      <td>2176</td>\n      <td>0</td>\n      <td>2176</td>\n      <td>0</td>\n      <td>...</td>\n      <td>2176</td>\n      <td>0</td>\n      <td>2176</td>\n      <td>0</td>\n      <td>2176</td>\n      <td>0</td>\n      <td>2176</td>\n      <td>0</td>\n      <td>2176</td>\n      <td>0</td>\n    </tr>\n    <tr>\n      <th>CART-TIBIA-LAT_S</th>\n      <td>0</td>\n      <td>0</td>\n      <td>2176</td>\n      <td>0</td>\n      <td>2176</td>\n      <td>0</td>\n      <td>2176</td>\n      <td>0</td>\n      <td>2176</td>\n      <td>0</td>\n      <td>...</td>\n      <td>2176</td>\n      <td>0</td>\n      <td>2176</td>\n      <td>0</td>\n      <td>2176</td>\n      <td>0</td>\n      <td>2176</td>\n      <td>0</td>\n      <td>2176</td>\n      <td>0</td>\n    </tr>\n    <tr>\n      <th>CART-TIBIA-MED_LE</th>\n      <td>0</td>\n      <td>0</td>\n      <td>2176</td>\n      <td>0</td>\n      <td>2176</td>\n      <td>0</td>\n      <td>2176</td>\n      <td>0</td>\n      <td>2176</td>\n      <td>0</td>\n      <td>...</td>\n      <td>2176</td>\n      <td>0</td>\n      <td>2176</td>\n      <td>0</td>\n      <td>2176</td>\n      <td>0</td>\n      <td>2176</td>\n      <td>0</td>\n      <td>2176</td>\n      <td>0</td>\n    </tr>\n    <tr>\n      <th>CART-TIBIA-MED_S</th>\n      <td>0</td>\n      <td>0</td>\n      <td>2176</td>\n      <td>0</td>\n      <td>2176</td>\n      <td>0</td>\n      <td>2176</td>\n      <td>0</td>\n      <td>2176</td>\n      <td>0</td>\n      <td>...</td>\n      <td>2176</td>\n      <td>0</td>\n      <td>2176</td>\n      <td>0</td>\n      <td>2176</td>\n      <td>0</td>\n      <td>2176</td>\n      <td>0</td>\n      <td>2176</td>\n      <td>0</td>\n    </tr>\n  </tbody>\n</table>\n<p>8 rows × 100 columns</p>\n</div>"
     },
     "execution_count": 13,
     "metadata": {},
     "output_type": "execute_result"
    }
   ],
   "source": [
    "results_dir = \"2022.09.16_Results\"\n",
    "path = Path.joinpath(raw_data_dir, results_dir)\n",
    "results = []\n",
    "for i, elem_path in enumerate(path.rglob('*')):\n",
    "    temp_results = pd.read_csv(elem_path, sep=\" \", header=None)\n",
    "    temp_results['struture'] = elem_path.name.split('.')[0]\n",
    "    results.append(temp_results)\n",
    "data = pd.concat(results)\n",
    "\n",
    "data.groupby('struture').count()"
   ],
   "metadata": {
    "collapsed": false
   }
  },
  {
   "cell_type": "markdown",
   "source": [
    "## Find Peak stress/strain"
   ],
   "metadata": {
    "collapsed": false
   }
  },
  {
   "cell_type": "code",
   "execution_count": 26,
   "outputs": [
    {
     "data": {
      "text/plain": "struture\nCART-FEMUR_LE         0.022975\nCART-FEMUR_S          0.607885\nCART-PATELLA_LE       0.992294\nCART-PATELLA_S       62.379292\nCART-TIBIA-LAT_LE     0.004424\nCART-TIBIA-LAT_S      0.163638\nCART-TIBIA-MED_LE     0.001755\nCART-TIBIA-MED_S      0.061791\ndtype: float64"
     },
     "execution_count": 26,
     "metadata": {},
     "output_type": "execute_result"
    }
   ],
   "source": [
    "grouped_data = data.groupby('struture').max()\n",
    "remove_el_num = grouped_data.drop(columns=[2, 3])\n",
    "maxValues = remove_el_num.max(axis = 1)\n",
    "maxValues"
   ],
   "metadata": {
    "collapsed": false
   }
  },
  {
   "cell_type": "markdown",
   "source": [
    "## Number of elements in each mesh"
   ],
   "metadata": {
    "collapsed": false
   }
  },
  {
   "cell_type": "code",
   "execution_count": 28,
   "outputs": [
    {
     "data": {
      "text/plain": "struture\nCART-FEMUR_LE        16432\nCART-FEMUR_S         16432\nCART-PATELLA_LE       4000\nCART-PATELLA_S        4000\nCART-TIBIA-LAT_LE     2176\nCART-TIBIA-LAT_S      2176\nCART-TIBIA-MED_LE     2176\nCART-TIBIA-MED_S      2176\ndtype: int64"
     },
     "execution_count": 28,
     "metadata": {},
     "output_type": "execute_result"
    }
   ],
   "source": [
    "data.groupby('struture').count().max(axis = 1)"
   ],
   "metadata": {
    "collapsed": false
   }
  }
 ],
 "metadata": {
  "kernelspec": {
   "display_name": "Python 3",
   "language": "python",
   "name": "python3"
  },
  "language_info": {
   "codemirror_mode": {
    "name": "ipython",
    "version": 2
   },
   "file_extension": ".py",
   "mimetype": "text/x-python",
   "name": "python",
   "nbconvert_exporter": "python",
   "pygments_lexer": "ipython2",
   "version": "2.7.6"
  }
 },
 "nbformat": 4,
 "nbformat_minor": 0
}
