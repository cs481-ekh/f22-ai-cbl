{
 "cells": [
  {
   "cell_type": "markdown",
   "source": [
    "# READING RESULTS"
   ],
   "metadata": {
    "collapsed": false
   }
  },
  {
   "cell_type": "markdown",
   "source": [
    "## Setup and Load Data\n",
    "This notebook aims to describe and download the results data files of the Finite Element Model that simulates knee bending. Results files contain Stress or Strain data that was recorded for each individual element of four knee cartilages (8 files in total) for 100-time points.\n",
    "Each file has the following naming convention:\n",
    "CART_NAME_TYPE.results where\n",
    "Four possible cartilage names CART_NAME:\n",
    "- CART-FEMUR - femur cartilage\n",
    "- CART-PATELLA - cartilage under the kneecap\n",
    "- CART-TIBIA-LAT - lateral tibial cartilage\n",
    "- CART-TIBIA-MED - medial tibial cartilage\n",
    "\n",
    "Two different types of measurements TYPE:\n",
    "- LE strain\n",
    "- L stress\n",
    "\n",
    "Each file contains a specified in filename type of measurements for sets by the filename type of cartilages for 100-time points."
   ],
   "metadata": {
    "collapsed": false
   }
  }
 ],
 "metadata": {
  "kernelspec": {
   "display_name": "Python 3",
   "language": "python",
   "name": "python3"
  },
  "language_info": {
   "codemirror_mode": {
    "name": "ipython",
    "version": 2
   },
   "file_extension": ".py",
   "mimetype": "text/x-python",
   "name": "python",
   "nbconvert_exporter": "python",
   "pygments_lexer": "ipython2",
   "version": "2.7.6"
  }
 },
 "nbformat": 4,
 "nbformat_minor": 0
}
