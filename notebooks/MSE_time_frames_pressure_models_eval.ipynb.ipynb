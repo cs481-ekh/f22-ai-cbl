{
 "cells": [
  {
   "cell_type": "code",
   "execution_count": 2,
   "metadata": {
    "collapsed": true
   },
   "outputs": [],
   "source": [
    "from pathlib import Path\n",
    "import numpy as np\n",
    "import pandas as pd\n",
    "import warnings\n",
    "warnings.filterwarnings(\"ignore\")\n",
    "import matplotlib.pyplot as plt\n",
    "import seaborn as sns\n",
    "from sklearn.model_selection import train_test_split\n",
    "from knee_stress_predict.config import raw_data_dir, processed_data_dir\n",
    "from sklearn.tree import DecisionTreeClassifier, plot_tree\n",
    "from sklearn.metrics import mean_squared_error\n",
    "from sklearn.ensemble import RandomForestRegressor"
   ]
  },
  {
   "cell_type": "markdown",
   "source": [
    "## Load data\n"
   ],
   "metadata": {
    "collapsed": false
   },
   "execution_count": 1
  },
  {
   "cell_type": "code",
   "execution_count": 3,
   "outputs": [],
   "source": [
    "data_set_name = \"set_3\"\n",
    "train_file_path = Path.joinpath(processed_data_dir, data_set_name,  \"train_cleaned.csv\")\n",
    "test_file_path = Path.joinpath(processed_data_dir, data_set_name,  \"test_cleaned.csv\")\n",
    "train_data = pd.read_csv(train_file_path).drop('Unnamed: 0', axis=1)\n",
    "test_data = pd.read_csv(test_file_path).drop('Unnamed: 0', axis=1)"
   ],
   "metadata": {
    "collapsed": false
   }
  },
  {
   "cell_type": "code",
   "execution_count": 4,
   "outputs": [
    {
     "name": "stdout",
     "output_type": "stream",
     "text": [
      "<class 'pandas.core.frame.DataFrame'>\n",
      "RangeIndex: 32776 entries, 0 to 32775\n",
      "Data columns (total 53 columns):\n",
      " #   Column                         Non-Null Count  Dtype  \n",
      "---  ------                         --------------  -----  \n",
      " 0   Code                           32776 non-null  object \n",
      " 1   Patella_PN                     32776 non-null  int64  \n",
      " 2   Femur_PN                       32776 non-null  int64  \n",
      " 3   Tibia_PN                       32776 non-null  int64  \n",
      " 4   Patella_Car_PN                 32776 non-null  int64  \n",
      " 5   Femur_Car_PN                   32776 non-null  int64  \n",
      " 6   Tibia_M_Car_PN                 32776 non-null  int64  \n",
      " 7   Tibia_L_Car_PN                 32776 non-null  int64  \n",
      " 8   Patella_volume                 32776 non-null  float64\n",
      " 9   Femur_volume                   32776 non-null  float64\n",
      " 10  Tibia_volume                   32776 non-null  float64\n",
      " 11  Patella_Car_volume             32776 non-null  float64\n",
      " 12  Femur_Car_volume               32776 non-null  float64\n",
      " 13  Tibia_M_Car_volume             32776 non-null  float64\n",
      " 14  Tibia_L_Car_volume             32776 non-null  float64\n",
      " 15  Patella_bounds_x               32776 non-null  float64\n",
      " 16  Femur_bounds_x                 32776 non-null  float64\n",
      " 17  Tibia_bounds_x                 32776 non-null  float64\n",
      " 18  Patella_Car_bounds_x           32776 non-null  float64\n",
      " 19  Femur_Car_bounds_x             32776 non-null  float64\n",
      " 20  Tibia_M_Car_bounds_x           32776 non-null  float64\n",
      " 21  Tibia_L_Car_bounds_x           32776 non-null  float64\n",
      " 22  Patella_bounds_y               32776 non-null  float64\n",
      " 23  Femur_bounds_y                 32776 non-null  float64\n",
      " 24  Tibia_bounds_y                 32776 non-null  float64\n",
      " 25  Patella_Car_bounds_y           32776 non-null  float64\n",
      " 26  Femur_Car_bounds_y             32776 non-null  float64\n",
      " 27  Tibia_M_Car_bounds_y           32776 non-null  float64\n",
      " 28  Tibia_L_Car_bounds_y           32776 non-null  float64\n",
      " 29  Patella_bounds_z               32776 non-null  float64\n",
      " 30  Femur_bounds_z                 32776 non-null  float64\n",
      " 31  Tibia_bounds_z                 32776 non-null  float64\n",
      " 32  Patella_Car_bounds_z           32776 non-null  float64\n",
      " 33  Femur_Car_bounds_z             32776 non-null  float64\n",
      " 34  Tibia_M_Car_bounds_z           32776 non-null  float64\n",
      " 35  Tibia_L_Car_bounds_z           32776 non-null  float64\n",
      " 36  Simulation_len                 32776 non-null  int64  \n",
      " 37  tib_med_curv                   32776 non-null  float64\n",
      " 38  tib_lat_curv                   32776 non-null  float64\n",
      " 39  tib_med_ishealthy              32776 non-null  int64  \n",
      " 40  tib_lat_ishealthy              32776 non-null  int64  \n",
      " 41  femur_gap_dist                 32776 non-null  float64\n",
      " 42  Max_dist_femur_tibia_lat_car   32776 non-null  float64\n",
      " 43  Min_dist_femur_tibia_lat_car   32776 non-null  float64\n",
      " 44  Mean_dist_femur_tibia_lat_car  32776 non-null  float64\n",
      " 45  Max_dist_femur_tibia_med_car   32776 non-null  float64\n",
      " 46  Min_dist_femur_tibia_med_car   32776 non-null  float64\n",
      " 47  Mean_dist_femur_tibia_med_car  32776 non-null  float64\n",
      " 48  lat_Max_all_frames             32776 non-null  float64\n",
      " 49  med_Max_all_frames             32776 non-null  float64\n",
      " 50  frame                          32776 non-null  int64  \n",
      " 51  Max_tib_med_contact_pressure   30753 non-null  float64\n",
      " 52  Max_tib_lat_contact_pressure   30753 non-null  float64\n",
      "dtypes: float64(41), int64(11), object(1)\n",
      "memory usage: 13.3+ MB\n"
     ]
    }
   ],
   "source": [
    "train_data.info()"
   ],
   "metadata": {
    "collapsed": false
   }
  },
  {
   "cell_type": "code",
   "execution_count": 5,
   "outputs": [],
   "source": [
    "def get_tframe_dataset(tframe_num, dataset):\n",
    "    tframe_dataset = dataset[dataset['frame'] == tframe_num]\n",
    "    return tframe_dataset"
   ],
   "metadata": {
    "collapsed": false
   }
  },
  {
   "cell_type": "code",
   "execution_count": 6,
   "outputs": [],
   "source": [
    "tframe_nums = range(0, 240, 25)\n",
    "\n",
    "#Create a dictionary that contains 10 timeframes\n",
    "\n",
    "train_datasets = {}\n",
    "for tframe_num in tframe_nums:\n",
    "    train_datasets[tframe_num] = get_tframe_dataset(tframe_num, train_data)\n",
    "\n",
    "test_datasets = {}\n",
    "for tframe_num in tframe_nums:\n",
    "    test_datasets[tframe_num] = get_tframe_dataset(tframe_num, test_data)\n"
   ],
   "metadata": {
    "collapsed": false
   }
  },
  {
   "cell_type": "markdown",
   "source": [
    "## Drop unnecessary columns\n",
    "\n",
    "We need to delete \"lat_Max_all_frames\" and \"medlat_Max_all_frames\" since these features are for maximal pressure metrtic only. In this notebook, we are more concentrated on specific time frame, which are: \"Max_tib_lat_contact_pressure\" and \"Max_tib_med_contact_pressure\""
   ],
   "metadata": {
    "collapsed": false
   },
   "outputs": [
    {
     "ename": "SyntaxError",
     "evalue": "invalid syntax (4059813576.py, line 3)",
     "output_type": "error",
     "traceback": [
      "\u001B[1;36m  Cell \u001B[1;32mIn [1], line 3\u001B[1;36m\u001B[0m\n\u001B[1;33m    We need to delete \"lat_Max_all_frames\" and \"medlat_Max_all_frames\" since these features are for maximal pressure metrtic only. In this notebook, we are more concentrated on specific time frame, which are: \"Max_tib_lat_contact_pressure\" and \"Max_tib_med_contact_pressure\"\u001B[0m\n\u001B[1;37m       ^\u001B[0m\n\u001B[1;31mSyntaxError\u001B[0m\u001B[1;31m:\u001B[0m invalid syntax\n"
     ]
    }
   ],
   "execution_count": 1
  },
  {
   "cell_type": "markdown",
   "source": [
    "## Simple benchmark MSE"
   ],
   "metadata": {
    "collapsed": false
   }
  },
  {
   "cell_type": "code",
   "execution_count": 7,
   "outputs": [],
   "source": [
    "mse_simple = pd.DataFrame(columns=['frame', 'med_benchmark_MSE', 'lat_benchmark_MSE'])\n",
    "\n",
    "for key, values in train_datasets.items():\n",
    "    med_tibia_predicted = train_datasets[key]['Max_tib_med_contact_pressure'].mean()\n",
    "    mse_med = ((test_datasets[key]['Max_tib_med_contact_pressure'] - med_tibia_predicted)**2).mean()\n",
    "\n",
    "    lat_tibia_predicted = train_datasets[key]['Max_tib_lat_contact_pressure'].mean()\n",
    "    mse_lat = ((test_datasets[key]['Max_tib_lat_contact_pressure'] - lat_tibia_predicted)**2).mean()\n",
    "    mse_timeframe = { 'frame': key,  'med_benchmark_MSE': mse_med, 'lat_benchmark_MSE': mse_lat }\n",
    "\n",
    "    mse_simple = mse_simple.append(mse_timeframe, ignore_index=True)"
   ],
   "metadata": {
    "collapsed": false
   }
  },
  {
   "cell_type": "code",
   "execution_count": 8,
   "outputs": [
    {
     "data": {
      "text/plain": "   frame  med_benchmark_MSE  lat_benchmark_MSE\n0    0.0           3.403921           3.570362\n1   25.0           5.483597           4.796081\n2   50.0          16.483448          22.223952\n3   75.0          22.670257          15.475415\n4  100.0          13.281842          19.196565\n5  125.0          15.602978          19.193754\n6  150.0          19.383550          19.764094\n7  175.0          30.081430          12.659369\n8  200.0          12.207239           5.447543\n9  225.0           5.570674           4.072952",
      "text/html": "<div>\n<style scoped>\n    .dataframe tbody tr th:only-of-type {\n        vertical-align: middle;\n    }\n\n    .dataframe tbody tr th {\n        vertical-align: top;\n    }\n\n    .dataframe thead th {\n        text-align: right;\n    }\n</style>\n<table border=\"1\" class=\"dataframe\">\n  <thead>\n    <tr style=\"text-align: right;\">\n      <th></th>\n      <th>frame</th>\n      <th>med_benchmark_MSE</th>\n      <th>lat_benchmark_MSE</th>\n    </tr>\n  </thead>\n  <tbody>\n    <tr>\n      <th>0</th>\n      <td>0.0</td>\n      <td>3.403921</td>\n      <td>3.570362</td>\n    </tr>\n    <tr>\n      <th>1</th>\n      <td>25.0</td>\n      <td>5.483597</td>\n      <td>4.796081</td>\n    </tr>\n    <tr>\n      <th>2</th>\n      <td>50.0</td>\n      <td>16.483448</td>\n      <td>22.223952</td>\n    </tr>\n    <tr>\n      <th>3</th>\n      <td>75.0</td>\n      <td>22.670257</td>\n      <td>15.475415</td>\n    </tr>\n    <tr>\n      <th>4</th>\n      <td>100.0</td>\n      <td>13.281842</td>\n      <td>19.196565</td>\n    </tr>\n    <tr>\n      <th>5</th>\n      <td>125.0</td>\n      <td>15.602978</td>\n      <td>19.193754</td>\n    </tr>\n    <tr>\n      <th>6</th>\n      <td>150.0</td>\n      <td>19.383550</td>\n      <td>19.764094</td>\n    </tr>\n    <tr>\n      <th>7</th>\n      <td>175.0</td>\n      <td>30.081430</td>\n      <td>12.659369</td>\n    </tr>\n    <tr>\n      <th>8</th>\n      <td>200.0</td>\n      <td>12.207239</td>\n      <td>5.447543</td>\n    </tr>\n    <tr>\n      <th>9</th>\n      <td>225.0</td>\n      <td>5.570674</td>\n      <td>4.072952</td>\n    </tr>\n  </tbody>\n</table>\n</div>"
     },
     "execution_count": 8,
     "metadata": {},
     "output_type": "execute_result"
    }
   ],
   "source": [
    "mse_simple"
   ],
   "metadata": {
    "collapsed": false
   }
  },
  {
   "cell_type": "markdown",
   "source": [
    "## Random Forest"
   ],
   "metadata": {
    "collapsed": false
   }
  },
  {
   "cell_type": "code",
   "execution_count": 9,
   "outputs": [
    {
     "ename": "ValueError",
     "evalue": "Input y contains NaN.",
     "output_type": "error",
     "traceback": [
      "\u001B[1;31m---------------------------------------------------------------------------\u001B[0m",
      "\u001B[1;31mValueError\u001B[0m                                Traceback (most recent call last)",
      "Cell \u001B[1;32mIn [9], line 16\u001B[0m\n\u001B[0;32m     12\u001B[0m test_y_lat \u001B[38;5;241m=\u001B[39m test_datasets[key][[\u001B[38;5;124m'\u001B[39m\u001B[38;5;124mMax_tib_lat_contact_pressure\u001B[39m\u001B[38;5;124m'\u001B[39m]]\n\u001B[0;32m     15\u001B[0m rf_model_med \u001B[38;5;241m=\u001B[39m RandomForestRegressor()\n\u001B[1;32m---> 16\u001B[0m \u001B[43mrf_model_med\u001B[49m\u001B[38;5;241;43m.\u001B[39;49m\u001B[43mfit\u001B[49m\u001B[43m(\u001B[49m\u001B[43mtrain_x\u001B[49m\u001B[43m,\u001B[49m\u001B[43m \u001B[49m\u001B[43mtrain_y_med\u001B[49m\u001B[43m)\u001B[49m\n\u001B[0;32m     17\u001B[0m yhat_med \u001B[38;5;241m=\u001B[39m rf_model_med\u001B[38;5;241m.\u001B[39mpredict(test_x)\n\u001B[0;32m     18\u001B[0m mse_med \u001B[38;5;241m=\u001B[39m mean_squared_error(yhat_med, test_y_med)\n",
      "File \u001B[1;32m~\\miniconda3\\envs\\cs533\\lib\\site-packages\\sklearn\\ensemble\\_forest.py:331\u001B[0m, in \u001B[0;36mBaseForest.fit\u001B[1;34m(self, X, y, sample_weight)\u001B[0m\n\u001B[0;32m    329\u001B[0m \u001B[38;5;28;01mif\u001B[39;00m issparse(y):\n\u001B[0;32m    330\u001B[0m     \u001B[38;5;28;01mraise\u001B[39;00m \u001B[38;5;167;01mValueError\u001B[39;00m(\u001B[38;5;124m\"\u001B[39m\u001B[38;5;124msparse multilabel-indicator for y is not supported.\u001B[39m\u001B[38;5;124m\"\u001B[39m)\n\u001B[1;32m--> 331\u001B[0m X, y \u001B[38;5;241m=\u001B[39m \u001B[38;5;28;43mself\u001B[39;49m\u001B[38;5;241;43m.\u001B[39;49m\u001B[43m_validate_data\u001B[49m\u001B[43m(\u001B[49m\n\u001B[0;32m    332\u001B[0m \u001B[43m    \u001B[49m\u001B[43mX\u001B[49m\u001B[43m,\u001B[49m\u001B[43m \u001B[49m\u001B[43my\u001B[49m\u001B[43m,\u001B[49m\u001B[43m \u001B[49m\u001B[43mmulti_output\u001B[49m\u001B[38;5;241;43m=\u001B[39;49m\u001B[38;5;28;43;01mTrue\u001B[39;49;00m\u001B[43m,\u001B[49m\u001B[43m \u001B[49m\u001B[43maccept_sparse\u001B[49m\u001B[38;5;241;43m=\u001B[39;49m\u001B[38;5;124;43m\"\u001B[39;49m\u001B[38;5;124;43mcsc\u001B[39;49m\u001B[38;5;124;43m\"\u001B[39;49m\u001B[43m,\u001B[49m\u001B[43m \u001B[49m\u001B[43mdtype\u001B[49m\u001B[38;5;241;43m=\u001B[39;49m\u001B[43mDTYPE\u001B[49m\n\u001B[0;32m    333\u001B[0m \u001B[43m\u001B[49m\u001B[43m)\u001B[49m\n\u001B[0;32m    334\u001B[0m \u001B[38;5;28;01mif\u001B[39;00m sample_weight \u001B[38;5;129;01mis\u001B[39;00m \u001B[38;5;129;01mnot\u001B[39;00m \u001B[38;5;28;01mNone\u001B[39;00m:\n\u001B[0;32m    335\u001B[0m     sample_weight \u001B[38;5;241m=\u001B[39m _check_sample_weight(sample_weight, X)\n",
      "File \u001B[1;32m~\\miniconda3\\envs\\cs533\\lib\\site-packages\\sklearn\\base.py:596\u001B[0m, in \u001B[0;36mBaseEstimator._validate_data\u001B[1;34m(self, X, y, reset, validate_separately, **check_params)\u001B[0m\n\u001B[0;32m    594\u001B[0m         y \u001B[38;5;241m=\u001B[39m check_array(y, input_name\u001B[38;5;241m=\u001B[39m\u001B[38;5;124m\"\u001B[39m\u001B[38;5;124my\u001B[39m\u001B[38;5;124m\"\u001B[39m, \u001B[38;5;241m*\u001B[39m\u001B[38;5;241m*\u001B[39mcheck_y_params)\n\u001B[0;32m    595\u001B[0m     \u001B[38;5;28;01melse\u001B[39;00m:\n\u001B[1;32m--> 596\u001B[0m         X, y \u001B[38;5;241m=\u001B[39m check_X_y(X, y, \u001B[38;5;241m*\u001B[39m\u001B[38;5;241m*\u001B[39mcheck_params)\n\u001B[0;32m    597\u001B[0m     out \u001B[38;5;241m=\u001B[39m X, y\n\u001B[0;32m    599\u001B[0m \u001B[38;5;28;01mif\u001B[39;00m \u001B[38;5;129;01mnot\u001B[39;00m no_val_X \u001B[38;5;129;01mand\u001B[39;00m check_params\u001B[38;5;241m.\u001B[39mget(\u001B[38;5;124m\"\u001B[39m\u001B[38;5;124mensure_2d\u001B[39m\u001B[38;5;124m\"\u001B[39m, \u001B[38;5;28;01mTrue\u001B[39;00m):\n",
      "File \u001B[1;32m~\\miniconda3\\envs\\cs533\\lib\\site-packages\\sklearn\\utils\\validation.py:1090\u001B[0m, in \u001B[0;36mcheck_X_y\u001B[1;34m(X, y, accept_sparse, accept_large_sparse, dtype, order, copy, force_all_finite, ensure_2d, allow_nd, multi_output, ensure_min_samples, ensure_min_features, y_numeric, estimator)\u001B[0m\n\u001B[0;32m   1070\u001B[0m     \u001B[38;5;28;01mraise\u001B[39;00m \u001B[38;5;167;01mValueError\u001B[39;00m(\n\u001B[0;32m   1071\u001B[0m         \u001B[38;5;124mf\u001B[39m\u001B[38;5;124m\"\u001B[39m\u001B[38;5;132;01m{\u001B[39;00mestimator_name\u001B[38;5;132;01m}\u001B[39;00m\u001B[38;5;124m requires y to be passed, but the target y is None\u001B[39m\u001B[38;5;124m\"\u001B[39m\n\u001B[0;32m   1072\u001B[0m     )\n\u001B[0;32m   1074\u001B[0m X \u001B[38;5;241m=\u001B[39m check_array(\n\u001B[0;32m   1075\u001B[0m     X,\n\u001B[0;32m   1076\u001B[0m     accept_sparse\u001B[38;5;241m=\u001B[39maccept_sparse,\n\u001B[1;32m   (...)\u001B[0m\n\u001B[0;32m   1087\u001B[0m     input_name\u001B[38;5;241m=\u001B[39m\u001B[38;5;124m\"\u001B[39m\u001B[38;5;124mX\u001B[39m\u001B[38;5;124m\"\u001B[39m,\n\u001B[0;32m   1088\u001B[0m )\n\u001B[1;32m-> 1090\u001B[0m y \u001B[38;5;241m=\u001B[39m \u001B[43m_check_y\u001B[49m\u001B[43m(\u001B[49m\u001B[43my\u001B[49m\u001B[43m,\u001B[49m\u001B[43m \u001B[49m\u001B[43mmulti_output\u001B[49m\u001B[38;5;241;43m=\u001B[39;49m\u001B[43mmulti_output\u001B[49m\u001B[43m,\u001B[49m\u001B[43m \u001B[49m\u001B[43my_numeric\u001B[49m\u001B[38;5;241;43m=\u001B[39;49m\u001B[43my_numeric\u001B[49m\u001B[43m,\u001B[49m\u001B[43m \u001B[49m\u001B[43mestimator\u001B[49m\u001B[38;5;241;43m=\u001B[39;49m\u001B[43mestimator\u001B[49m\u001B[43m)\u001B[49m\n\u001B[0;32m   1092\u001B[0m check_consistent_length(X, y)\n\u001B[0;32m   1094\u001B[0m \u001B[38;5;28;01mreturn\u001B[39;00m X, y\n",
      "File \u001B[1;32m~\\miniconda3\\envs\\cs533\\lib\\site-packages\\sklearn\\utils\\validation.py:1100\u001B[0m, in \u001B[0;36m_check_y\u001B[1;34m(y, multi_output, y_numeric, estimator)\u001B[0m\n\u001B[0;32m   1098\u001B[0m \u001B[38;5;124;03m\"\"\"Isolated part of check_X_y dedicated to y validation\"\"\"\u001B[39;00m\n\u001B[0;32m   1099\u001B[0m \u001B[38;5;28;01mif\u001B[39;00m multi_output:\n\u001B[1;32m-> 1100\u001B[0m     y \u001B[38;5;241m=\u001B[39m \u001B[43mcheck_array\u001B[49m\u001B[43m(\u001B[49m\n\u001B[0;32m   1101\u001B[0m \u001B[43m        \u001B[49m\u001B[43my\u001B[49m\u001B[43m,\u001B[49m\n\u001B[0;32m   1102\u001B[0m \u001B[43m        \u001B[49m\u001B[43maccept_sparse\u001B[49m\u001B[38;5;241;43m=\u001B[39;49m\u001B[38;5;124;43m\"\u001B[39;49m\u001B[38;5;124;43mcsr\u001B[39;49m\u001B[38;5;124;43m\"\u001B[39;49m\u001B[43m,\u001B[49m\n\u001B[0;32m   1103\u001B[0m \u001B[43m        \u001B[49m\u001B[43mforce_all_finite\u001B[49m\u001B[38;5;241;43m=\u001B[39;49m\u001B[38;5;28;43;01mTrue\u001B[39;49;00m\u001B[43m,\u001B[49m\n\u001B[0;32m   1104\u001B[0m \u001B[43m        \u001B[49m\u001B[43mensure_2d\u001B[49m\u001B[38;5;241;43m=\u001B[39;49m\u001B[38;5;28;43;01mFalse\u001B[39;49;00m\u001B[43m,\u001B[49m\n\u001B[0;32m   1105\u001B[0m \u001B[43m        \u001B[49m\u001B[43mdtype\u001B[49m\u001B[38;5;241;43m=\u001B[39;49m\u001B[38;5;28;43;01mNone\u001B[39;49;00m\u001B[43m,\u001B[49m\n\u001B[0;32m   1106\u001B[0m \u001B[43m        \u001B[49m\u001B[43minput_name\u001B[49m\u001B[38;5;241;43m=\u001B[39;49m\u001B[38;5;124;43m\"\u001B[39;49m\u001B[38;5;124;43my\u001B[39;49m\u001B[38;5;124;43m\"\u001B[39;49m\u001B[43m,\u001B[49m\n\u001B[0;32m   1107\u001B[0m \u001B[43m        \u001B[49m\u001B[43mestimator\u001B[49m\u001B[38;5;241;43m=\u001B[39;49m\u001B[43mestimator\u001B[49m\u001B[43m,\u001B[49m\n\u001B[0;32m   1108\u001B[0m \u001B[43m    \u001B[49m\u001B[43m)\u001B[49m\n\u001B[0;32m   1109\u001B[0m \u001B[38;5;28;01melse\u001B[39;00m:\n\u001B[0;32m   1110\u001B[0m     estimator_name \u001B[38;5;241m=\u001B[39m _check_estimator_name(estimator)\n",
      "File \u001B[1;32m~\\miniconda3\\envs\\cs533\\lib\\site-packages\\sklearn\\utils\\validation.py:899\u001B[0m, in \u001B[0;36mcheck_array\u001B[1;34m(array, accept_sparse, accept_large_sparse, dtype, order, copy, force_all_finite, ensure_2d, allow_nd, ensure_min_samples, ensure_min_features, estimator, input_name)\u001B[0m\n\u001B[0;32m    893\u001B[0m         \u001B[38;5;28;01mraise\u001B[39;00m \u001B[38;5;167;01mValueError\u001B[39;00m(\n\u001B[0;32m    894\u001B[0m             \u001B[38;5;124m\"\u001B[39m\u001B[38;5;124mFound array with dim \u001B[39m\u001B[38;5;132;01m%d\u001B[39;00m\u001B[38;5;124m. \u001B[39m\u001B[38;5;132;01m%s\u001B[39;00m\u001B[38;5;124m expected <= 2.\u001B[39m\u001B[38;5;124m\"\u001B[39m\n\u001B[0;32m    895\u001B[0m             \u001B[38;5;241m%\u001B[39m (array\u001B[38;5;241m.\u001B[39mndim, estimator_name)\n\u001B[0;32m    896\u001B[0m         )\n\u001B[0;32m    898\u001B[0m     \u001B[38;5;28;01mif\u001B[39;00m force_all_finite:\n\u001B[1;32m--> 899\u001B[0m         \u001B[43m_assert_all_finite\u001B[49m\u001B[43m(\u001B[49m\n\u001B[0;32m    900\u001B[0m \u001B[43m            \u001B[49m\u001B[43marray\u001B[49m\u001B[43m,\u001B[49m\n\u001B[0;32m    901\u001B[0m \u001B[43m            \u001B[49m\u001B[43minput_name\u001B[49m\u001B[38;5;241;43m=\u001B[39;49m\u001B[43minput_name\u001B[49m\u001B[43m,\u001B[49m\n\u001B[0;32m    902\u001B[0m \u001B[43m            \u001B[49m\u001B[43mestimator_name\u001B[49m\u001B[38;5;241;43m=\u001B[39;49m\u001B[43mestimator_name\u001B[49m\u001B[43m,\u001B[49m\n\u001B[0;32m    903\u001B[0m \u001B[43m            \u001B[49m\u001B[43mallow_nan\u001B[49m\u001B[38;5;241;43m=\u001B[39;49m\u001B[43mforce_all_finite\u001B[49m\u001B[43m \u001B[49m\u001B[38;5;241;43m==\u001B[39;49m\u001B[43m \u001B[49m\u001B[38;5;124;43m\"\u001B[39;49m\u001B[38;5;124;43mallow-nan\u001B[39;49m\u001B[38;5;124;43m\"\u001B[39;49m\u001B[43m,\u001B[49m\n\u001B[0;32m    904\u001B[0m \u001B[43m        \u001B[49m\u001B[43m)\u001B[49m\n\u001B[0;32m    906\u001B[0m \u001B[38;5;28;01mif\u001B[39;00m ensure_min_samples \u001B[38;5;241m>\u001B[39m \u001B[38;5;241m0\u001B[39m:\n\u001B[0;32m    907\u001B[0m     n_samples \u001B[38;5;241m=\u001B[39m _num_samples(array)\n",
      "File \u001B[1;32m~\\miniconda3\\envs\\cs533\\lib\\site-packages\\sklearn\\utils\\validation.py:146\u001B[0m, in \u001B[0;36m_assert_all_finite\u001B[1;34m(X, allow_nan, msg_dtype, estimator_name, input_name)\u001B[0m\n\u001B[0;32m    124\u001B[0m         \u001B[38;5;28;01mif\u001B[39;00m (\n\u001B[0;32m    125\u001B[0m             \u001B[38;5;129;01mnot\u001B[39;00m allow_nan\n\u001B[0;32m    126\u001B[0m             \u001B[38;5;129;01mand\u001B[39;00m estimator_name\n\u001B[1;32m   (...)\u001B[0m\n\u001B[0;32m    130\u001B[0m             \u001B[38;5;66;03m# Improve the error message on how to handle missing values in\u001B[39;00m\n\u001B[0;32m    131\u001B[0m             \u001B[38;5;66;03m# scikit-learn.\u001B[39;00m\n\u001B[0;32m    132\u001B[0m             msg_err \u001B[38;5;241m+\u001B[39m\u001B[38;5;241m=\u001B[39m (\n\u001B[0;32m    133\u001B[0m                 \u001B[38;5;124mf\u001B[39m\u001B[38;5;124m\"\u001B[39m\u001B[38;5;130;01m\\n\u001B[39;00m\u001B[38;5;132;01m{\u001B[39;00mestimator_name\u001B[38;5;132;01m}\u001B[39;00m\u001B[38;5;124m does not accept missing values\u001B[39m\u001B[38;5;124m\"\u001B[39m\n\u001B[0;32m    134\u001B[0m                 \u001B[38;5;124m\"\u001B[39m\u001B[38;5;124m encoded as NaN natively. For supervised learning, you might want\u001B[39m\u001B[38;5;124m\"\u001B[39m\n\u001B[1;32m   (...)\u001B[0m\n\u001B[0;32m    144\u001B[0m                 \u001B[38;5;124m\"\u001B[39m\u001B[38;5;124m#estimators-that-handle-nan-values\u001B[39m\u001B[38;5;124m\"\u001B[39m\n\u001B[0;32m    145\u001B[0m             )\n\u001B[1;32m--> 146\u001B[0m         \u001B[38;5;28;01mraise\u001B[39;00m \u001B[38;5;167;01mValueError\u001B[39;00m(msg_err)\n\u001B[0;32m    148\u001B[0m \u001B[38;5;66;03m# for object dtype data, we only check for NaNs (GH-13254)\u001B[39;00m\n\u001B[0;32m    149\u001B[0m \u001B[38;5;28;01melif\u001B[39;00m X\u001B[38;5;241m.\u001B[39mdtype \u001B[38;5;241m==\u001B[39m np\u001B[38;5;241m.\u001B[39mdtype(\u001B[38;5;124m\"\u001B[39m\u001B[38;5;124mobject\u001B[39m\u001B[38;5;124m\"\u001B[39m) \u001B[38;5;129;01mand\u001B[39;00m \u001B[38;5;129;01mnot\u001B[39;00m allow_nan:\n",
      "\u001B[1;31mValueError\u001B[0m: Input y contains NaN."
     ]
    }
   ],
   "source": [
    "mse_rf = pd.DataFrame(columns=['frame', 'med_rf_MSE', 'lat_rf_MSE'])\n",
    "\n",
    "for key,value in train_datasets.items():\n",
    "    out_col = ['Max_tib_med_contact_pressure', 'Max_tib_lat_contact_pressure']\n",
    "    feat_cols = list(set(list(train_datasets[key].columns)) - set(out_col) - {'Code', 'frame'})\n",
    "    train_x = train_datasets[key][feat_cols]\n",
    "    train_y_med = train_datasets[key][['Max_tib_med_contact_pressure']]\n",
    "    train_y_lat = train_datasets[key][['Max_tib_lat_contact_pressure']]\n",
    "\n",
    "    test_x = test_datasets[key][feat_cols]\n",
    "    test_y_med = test_datasets[key][['Max_tib_med_contact_pressure']]\n",
    "    test_y_lat = test_datasets[key][['Max_tib_lat_contact_pressure']]\n",
    "\n",
    "\n",
    "    rf_model_med = RandomForestRegressor()\n",
    "    rf_model_med.fit(train_x, train_y_med)\n",
    "    yhat_med = rf_model_med.predict(test_x)\n",
    "    mse_med = mean_squared_error(yhat_med, test_y_med)\n",
    "\n",
    "\n",
    "    rf_model_lat = RandomForestRegressor()\n",
    "    rf_model_lat.fit(train_x, train_y_lat)\n",
    "    yhat_lat = rf_model_lat.predict(test_x)\n",
    "    mse_lat = mean_squared_error(yhat_lat, test_y_lat)\n",
    "\n",
    "    mse_timeframe = { 'frame': key,  'med_rf_MSE': mse_med, 'lat_rf_MSE': mse_lat }\n",
    "\n",
    "    mse_rf = mse_rf.append(mse_timeframe, ignore_index=True)"
   ],
   "metadata": {
    "collapsed": false
   }
  },
  {
   "cell_type": "code",
   "execution_count": 110,
   "outputs": [
    {
     "data": {
      "text/plain": "   frame  med_rf_MSE  lat_rf_MSE\n0    0.0    3.811144    4.227729\n1   25.0   48.612159    8.539264\n2   50.0  426.042633   18.620912\n3   75.0  242.205623  102.787584\n4  100.0  168.137798   26.287569\n5  125.0  165.212561   30.818430\n6  150.0  485.741782   24.028660\n7  175.0  344.258752   14.891539\n8  200.0  203.810161   35.680066\n9  225.0  445.700542    4.088089",
      "text/html": "<div>\n<style scoped>\n    .dataframe tbody tr th:only-of-type {\n        vertical-align: middle;\n    }\n\n    .dataframe tbody tr th {\n        vertical-align: top;\n    }\n\n    .dataframe thead th {\n        text-align: right;\n    }\n</style>\n<table border=\"1\" class=\"dataframe\">\n  <thead>\n    <tr style=\"text-align: right;\">\n      <th></th>\n      <th>frame</th>\n      <th>med_rf_MSE</th>\n      <th>lat_rf_MSE</th>\n    </tr>\n  </thead>\n  <tbody>\n    <tr>\n      <th>0</th>\n      <td>0.0</td>\n      <td>3.811144</td>\n      <td>4.227729</td>\n    </tr>\n    <tr>\n      <th>1</th>\n      <td>25.0</td>\n      <td>48.612159</td>\n      <td>8.539264</td>\n    </tr>\n    <tr>\n      <th>2</th>\n      <td>50.0</td>\n      <td>426.042633</td>\n      <td>18.620912</td>\n    </tr>\n    <tr>\n      <th>3</th>\n      <td>75.0</td>\n      <td>242.205623</td>\n      <td>102.787584</td>\n    </tr>\n    <tr>\n      <th>4</th>\n      <td>100.0</td>\n      <td>168.137798</td>\n      <td>26.287569</td>\n    </tr>\n    <tr>\n      <th>5</th>\n      <td>125.0</td>\n      <td>165.212561</td>\n      <td>30.818430</td>\n    </tr>\n    <tr>\n      <th>6</th>\n      <td>150.0</td>\n      <td>485.741782</td>\n      <td>24.028660</td>\n    </tr>\n    <tr>\n      <th>7</th>\n      <td>175.0</td>\n      <td>344.258752</td>\n      <td>14.891539</td>\n    </tr>\n    <tr>\n      <th>8</th>\n      <td>200.0</td>\n      <td>203.810161</td>\n      <td>35.680066</td>\n    </tr>\n    <tr>\n      <th>9</th>\n      <td>225.0</td>\n      <td>445.700542</td>\n      <td>4.088089</td>\n    </tr>\n  </tbody>\n</table>\n</div>"
     },
     "execution_count": 110,
     "metadata": {},
     "output_type": "execute_result"
    }
   ],
   "source": [
    "mse_rf"
   ],
   "metadata": {
    "collapsed": false
   }
  },
  {
   "cell_type": "code",
   "execution_count": 111,
   "outputs": [],
   "source": [
    "mse = mse_simple.merge(mse_rf, on='frame')"
   ],
   "metadata": {
    "collapsed": false
   }
  },
  {
   "cell_type": "code",
   "execution_count": 112,
   "outputs": [
    {
     "data": {
      "text/plain": "   frame  med_benchmark_MSE  lat_benchmark_MSE  med_rf_MSE  lat_rf_MSE\n0    0.0           3.636854           4.885563    3.811144    4.227729\n1   25.0          29.753810           8.142631   48.612159    8.539264\n2   50.0         222.903957          21.289709  426.042633   18.620912\n3   75.0          60.357285          18.445215  242.205623  102.787584\n4  100.0          92.651709          23.605557  168.137798   26.287569\n5  125.0          77.510633          20.768768  165.212561   30.818430\n6  150.0          82.510877          18.547202  485.741782   24.028660\n7  175.0         111.937007          12.345029  344.258752   14.891539\n8  200.0          81.277607           9.835287  203.810161   35.680066\n9  225.0          12.943481           3.406698  445.700542    4.088089",
      "text/html": "<div>\n<style scoped>\n    .dataframe tbody tr th:only-of-type {\n        vertical-align: middle;\n    }\n\n    .dataframe tbody tr th {\n        vertical-align: top;\n    }\n\n    .dataframe thead th {\n        text-align: right;\n    }\n</style>\n<table border=\"1\" class=\"dataframe\">\n  <thead>\n    <tr style=\"text-align: right;\">\n      <th></th>\n      <th>frame</th>\n      <th>med_benchmark_MSE</th>\n      <th>lat_benchmark_MSE</th>\n      <th>med_rf_MSE</th>\n      <th>lat_rf_MSE</th>\n    </tr>\n  </thead>\n  <tbody>\n    <tr>\n      <th>0</th>\n      <td>0.0</td>\n      <td>3.636854</td>\n      <td>4.885563</td>\n      <td>3.811144</td>\n      <td>4.227729</td>\n    </tr>\n    <tr>\n      <th>1</th>\n      <td>25.0</td>\n      <td>29.753810</td>\n      <td>8.142631</td>\n      <td>48.612159</td>\n      <td>8.539264</td>\n    </tr>\n    <tr>\n      <th>2</th>\n      <td>50.0</td>\n      <td>222.903957</td>\n      <td>21.289709</td>\n      <td>426.042633</td>\n      <td>18.620912</td>\n    </tr>\n    <tr>\n      <th>3</th>\n      <td>75.0</td>\n      <td>60.357285</td>\n      <td>18.445215</td>\n      <td>242.205623</td>\n      <td>102.787584</td>\n    </tr>\n    <tr>\n      <th>4</th>\n      <td>100.0</td>\n      <td>92.651709</td>\n      <td>23.605557</td>\n      <td>168.137798</td>\n      <td>26.287569</td>\n    </tr>\n    <tr>\n      <th>5</th>\n      <td>125.0</td>\n      <td>77.510633</td>\n      <td>20.768768</td>\n      <td>165.212561</td>\n      <td>30.818430</td>\n    </tr>\n    <tr>\n      <th>6</th>\n      <td>150.0</td>\n      <td>82.510877</td>\n      <td>18.547202</td>\n      <td>485.741782</td>\n      <td>24.028660</td>\n    </tr>\n    <tr>\n      <th>7</th>\n      <td>175.0</td>\n      <td>111.937007</td>\n      <td>12.345029</td>\n      <td>344.258752</td>\n      <td>14.891539</td>\n    </tr>\n    <tr>\n      <th>8</th>\n      <td>200.0</td>\n      <td>81.277607</td>\n      <td>9.835287</td>\n      <td>203.810161</td>\n      <td>35.680066</td>\n    </tr>\n    <tr>\n      <th>9</th>\n      <td>225.0</td>\n      <td>12.943481</td>\n      <td>3.406698</td>\n      <td>445.700542</td>\n      <td>4.088089</td>\n    </tr>\n  </tbody>\n</table>\n</div>"
     },
     "execution_count": 112,
     "metadata": {},
     "output_type": "execute_result"
    }
   ],
   "source": [
    "mse"
   ],
   "metadata": {
    "collapsed": false
   }
  },
  {
   "cell_type": "code",
   "execution_count": null,
   "outputs": [],
   "source": [],
   "metadata": {
    "collapsed": false
   }
  }
 ],
 "metadata": {
  "kernelspec": {
   "display_name": "Python 3",
   "language": "python",
   "name": "python3"
  },
  "language_info": {
   "codemirror_mode": {
    "name": "ipython",
    "version": 2
   },
   "file_extension": ".py",
   "mimetype": "text/x-python",
   "name": "python",
   "nbconvert_exporter": "python",
   "pygments_lexer": "ipython2",
   "version": "2.7.6"
  }
 },
 "nbformat": 4,
 "nbformat_minor": 0
}
