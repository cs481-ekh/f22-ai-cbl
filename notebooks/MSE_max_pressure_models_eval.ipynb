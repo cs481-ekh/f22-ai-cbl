{
 "cells": [
  {
   "cell_type": "code",
   "execution_count": 1,
   "metadata": {
    "collapsed": true
   },
   "outputs": [],
   "source": [
    "from pathlib import Path\n",
    "import numpy as np\n",
    "import pandas as pd\n",
    "import warnings\n",
    "warnings.filterwarnings(\"ignore\")\n",
    "import matplotlib.pyplot as plt\n",
    "import seaborn as sns\n",
    "from knee_stress_predict.config import processed_data_dir\n",
    "from sklearn import linear_model\n",
    "from sklearn.metrics import mean_squared_error, r2_score\n",
    "from sklearn.ensemble import RandomForestRegressor\n",
    "from sklearn.neural_network import MLPRegressor\n",
    "import xgboost as xgb\n",
    "from sklearn.cluster import KMeans\n"
   ]
  },
  {
   "cell_type": "markdown",
   "source": [
    "## Load data"
   ],
   "metadata": {
    "collapsed": false
   }
  },
  {
   "cell_type": "code",
   "execution_count": 2,
   "outputs": [],
   "source": [
    "data_set_name = \"set_3\"\n",
    "train_file_path = Path.joinpath(processed_data_dir, data_set_name,  \"train_cleaned.csv\")\n",
    "test_file_path = Path.joinpath(processed_data_dir, data_set_name,  \"test_cleaned.csv\")\n",
    "train_data = pd.read_csv(train_file_path).drop('Unnamed: 0', axis=1)\n",
    "test_data = pd.read_csv(test_file_path).drop('Unnamed: 0', axis=1)"
   ],
   "metadata": {
    "collapsed": false
   }
  },
  {
   "cell_type": "code",
   "execution_count": 3,
   "outputs": [
    {
     "name": "stdout",
     "output_type": "stream",
     "text": [
      "<class 'pandas.core.frame.DataFrame'>\n",
      "RangeIndex: 27715 entries, 0 to 27714\n",
      "Data columns (total 53 columns):\n",
      " #   Column                         Non-Null Count  Dtype  \n",
      "---  ------                         --------------  -----  \n",
      " 0   Code                           27715 non-null  object \n",
      " 1   Patella_PN                     27715 non-null  int64  \n",
      " 2   Femur_PN                       27715 non-null  int64  \n",
      " 3   Tibia_PN                       27715 non-null  int64  \n",
      " 4   Patella_Car_PN                 27715 non-null  int64  \n",
      " 5   Femur_Car_PN                   27715 non-null  int64  \n",
      " 6   Tibia_M_Car_PN                 27715 non-null  int64  \n",
      " 7   Tibia_L_Car_PN                 27715 non-null  int64  \n",
      " 8   Patella_volume                 27715 non-null  float64\n",
      " 9   Femur_volume                   27715 non-null  float64\n",
      " 10  Tibia_volume                   27715 non-null  float64\n",
      " 11  Patella_Car_volume             27715 non-null  float64\n",
      " 12  Femur_Car_volume               27715 non-null  float64\n",
      " 13  Tibia_M_Car_volume             27715 non-null  float64\n",
      " 14  Tibia_L_Car_volume             27715 non-null  float64\n",
      " 15  Patella_bounds_x               27715 non-null  float64\n",
      " 16  Femur_bounds_x                 27715 non-null  float64\n",
      " 17  Tibia_bounds_x                 27715 non-null  float64\n",
      " 18  Patella_Car_bounds_x           27715 non-null  float64\n",
      " 19  Femur_Car_bounds_x             27715 non-null  float64\n",
      " 20  Tibia_M_Car_bounds_x           27715 non-null  float64\n",
      " 21  Tibia_L_Car_bounds_x           27715 non-null  float64\n",
      " 22  Patella_bounds_y               27715 non-null  float64\n",
      " 23  Femur_bounds_y                 27715 non-null  float64\n",
      " 24  Tibia_bounds_y                 27715 non-null  float64\n",
      " 25  Patella_Car_bounds_y           27715 non-null  float64\n",
      " 26  Femur_Car_bounds_y             27715 non-null  float64\n",
      " 27  Tibia_M_Car_bounds_y           27715 non-null  float64\n",
      " 28  Tibia_L_Car_bounds_y           27715 non-null  float64\n",
      " 29  Patella_bounds_z               27715 non-null  float64\n",
      " 30  Femur_bounds_z                 27715 non-null  float64\n",
      " 31  Tibia_bounds_z                 27715 non-null  float64\n",
      " 32  Patella_Car_bounds_z           27715 non-null  float64\n",
      " 33  Femur_Car_bounds_z             27715 non-null  float64\n",
      " 34  Tibia_M_Car_bounds_z           27715 non-null  float64\n",
      " 35  Tibia_L_Car_bounds_z           27715 non-null  float64\n",
      " 36  Simulation_len                 27715 non-null  int64  \n",
      " 37  tib_med_curv                   27715 non-null  float64\n",
      " 38  tib_lat_curv                   27715 non-null  float64\n",
      " 39  tib_med_ishealthy              27715 non-null  int64  \n",
      " 40  tib_lat_ishealthy              27715 non-null  int64  \n",
      " 41  femur_gap_dist                 27715 non-null  float64\n",
      " 42  Max_dist_femur_tibia_lat_car   27715 non-null  float64\n",
      " 43  Min_dist_femur_tibia_lat_car   27715 non-null  float64\n",
      " 44  Mean_dist_femur_tibia_lat_car  27715 non-null  float64\n",
      " 45  Max_dist_femur_tibia_med_car   27715 non-null  float64\n",
      " 46  Min_dist_femur_tibia_med_car   27715 non-null  float64\n",
      " 47  Mean_dist_femur_tibia_med_car  27715 non-null  float64\n",
      " 48  lat_Max_all_frames             27715 non-null  float64\n",
      " 49  med_Max_all_frames             27715 non-null  float64\n",
      " 50  frame                          27715 non-null  int64  \n",
      " 51  Max_tib_med_contact_pressure   27715 non-null  float64\n",
      " 52  Max_tib_lat_contact_pressure   27715 non-null  float64\n",
      "dtypes: float64(41), int64(11), object(1)\n",
      "memory usage: 11.2+ MB\n"
     ]
    }
   ],
   "source": [
    "train_data.info()"
   ],
   "metadata": {
    "collapsed": false
   }
  },
  {
   "cell_type": "code",
   "execution_count": 4,
   "outputs": [],
   "source": [
    "def get_tframe_dataset(tframe_num, dataset):\n",
    "    tframe_dataset = dataset[dataset['frame'] == tframe_num]\n",
    "    return tframe_dataset"
   ],
   "metadata": {
    "collapsed": false
   }
  },
  {
   "cell_type": "code",
   "execution_count": 5,
   "outputs": [],
   "source": [
    "train_datasets = get_tframe_dataset(0, train_data)\n",
    "test_datasets = get_tframe_dataset(0, test_data)"
   ],
   "metadata": {
    "collapsed": false
   }
  },
  {
   "cell_type": "markdown",
   "source": [
    "## Drop unnecessary columns\n",
    "\n",
    "We need to delete \"Max_tib_med_contact_pressure\" and \"Max_tib_lat_contact_pressure\" since these features are for 0-time points only. In this notebook, we are more concentrated on maximal contact pressure, which are: \"med_Max_all_frames\" and \"lat_Max_all_frames\""
   ],
   "metadata": {
    "collapsed": false
   }
  },
  {
   "cell_type": "code",
   "execution_count": 6,
   "outputs": [],
   "source": [
    "train_datasets = train_datasets.drop([\"frame\", \"Code\", \"Max_tib_med_contact_pressure\", \"Max_tib_lat_contact_pressure\"], axis=1)\n",
    "\n",
    "test_datasets = test_datasets.drop([\"frame\", \"Code\", \"Max_tib_med_contact_pressure\", \"Max_tib_lat_contact_pressure\"], axis=1)"
   ],
   "metadata": {
    "collapsed": false
   }
  },
  {
   "cell_type": "code",
   "execution_count": 7,
   "outputs": [
    {
     "data": {
      "text/plain": "       Patella_PN  Femur_PN  Tibia_PN  Patella_Car_PN  Femur_Car_PN  \\\n0            1137      4142      2789            5275         21420   \n241          1126      4113      2684            5900         21030   \n482           771      3414      2596            4485         18385   \n723           730      3404      2600            5055         18755   \n964           667      3814      2631            5245         19370   \n...           ...       ...       ...             ...           ...   \n26510         686      2963      2388            4405         20910   \n26751         795      3669      2724            4765         20410   \n26992         801      3805      2575            4885         20400   \n27233         868      3794      3029            5430         20755   \n27474         873      3921      2831            5690         21495   \n\n       Tibia_M_Car_PN  Tibia_L_Car_PN  Patella_volume   Femur_volume  \\\n0                2840            2840    33682.157434  231437.991665   \n241              2840            2840    33039.218053  228671.171460   \n482              2840            2840    21736.919532  184294.924991   \n723              2840            2840    20866.993760  184114.045604   \n964              2840            2840    17949.168458  221202.458278   \n...               ...             ...             ...            ...   \n26510            2155            2840    15821.015946  140615.628188   \n26751            2840            2840    22375.020348  207318.185631   \n26992            2840            2840    22439.863013  215968.865103   \n27233            2840            2840    25084.417057  216622.182978   \n27474            2840            2840    24799.135262  226161.340527   \n\n        Tibia_volume  ...  tib_lat_ishealthy  femur_gap_dist  \\\n0      139880.512171  ...                  1       19.629001   \n241    134963.134980  ...                  1       22.935425   \n482    127637.611277  ...                  1       19.539911   \n723    128295.783408  ...                  1       18.387004   \n964    137472.394625  ...                  1       19.128202   \n...              ...  ...                ...             ...   \n26510  110523.109264  ...                  1       19.857552   \n26751  146786.471170  ...                  1       22.148186   \n26992  136753.285023  ...                  1       22.762806   \n27233  168327.403757  ...                  1       19.888791   \n27474  154353.942127  ...                  1       19.603810   \n\n       Max_dist_femur_tibia_lat_car  Min_dist_femur_tibia_lat_car  \\\n0                         13.941570                      0.987391   \n241                       13.560157                      0.800195   \n482                       12.892850                      1.504442   \n723                       11.617199                      1.119438   \n964                       12.324972                      2.210197   \n...                             ...                           ...   \n26510                     18.010511                      1.444001   \n26751                     16.633343                      1.874496   \n26992                     17.640301                      1.481010   \n27233                     19.743281                      2.204936   \n27474                     18.862473                      2.616759   \n\n       Mean_dist_femur_tibia_lat_car  Max_dist_femur_tibia_med_car  \\\n0                           6.105886                     10.304892   \n241                         6.226970                     10.677269   \n482                         4.844820                      9.243396   \n723                         4.698536                      9.107268   \n964                         6.003760                     10.941657   \n...                              ...                           ...   \n26510                       5.899954                     13.425811   \n26751                       6.641354                     15.426130   \n26992                       6.875417                     12.561378   \n27233                       6.574413                     16.267729   \n27474                       6.815766                     15.943200   \n\n       Min_dist_femur_tibia_med_car  Mean_dist_femur_tibia_med_car  \\\n0                          1.376902                       4.580906   \n241                        1.029139                       4.306716   \n482                        1.418712                       4.015682   \n723                        1.398252                       3.890993   \n964                        2.428147                       5.948101   \n...                             ...                            ...   \n26510                      1.667098                       5.354239   \n26751                      2.258161                       4.898385   \n26992                      2.246910                       4.471387   \n27233                      1.759706                       5.525146   \n27474                      2.833736                       6.482209   \n\n       lat_Max_all_frames  med_Max_all_frames  \n0               15.890460           34.044975  \n241             20.057634           31.649405  \n482             18.555532           26.223894  \n723             19.447876           24.808067  \n964             19.930437           25.919180  \n...                   ...                 ...  \n26510           27.401314           34.442417  \n26751           19.478767           22.278835  \n26992           20.616781           26.929873  \n27233           17.599583           22.764488  \n27474           16.316133           22.707045  \n\n[115 rows x 49 columns]",
      "text/html": "<div>\n<style scoped>\n    .dataframe tbody tr th:only-of-type {\n        vertical-align: middle;\n    }\n\n    .dataframe tbody tr th {\n        vertical-align: top;\n    }\n\n    .dataframe thead th {\n        text-align: right;\n    }\n</style>\n<table border=\"1\" class=\"dataframe\">\n  <thead>\n    <tr style=\"text-align: right;\">\n      <th></th>\n      <th>Patella_PN</th>\n      <th>Femur_PN</th>\n      <th>Tibia_PN</th>\n      <th>Patella_Car_PN</th>\n      <th>Femur_Car_PN</th>\n      <th>Tibia_M_Car_PN</th>\n      <th>Tibia_L_Car_PN</th>\n      <th>Patella_volume</th>\n      <th>Femur_volume</th>\n      <th>Tibia_volume</th>\n      <th>...</th>\n      <th>tib_lat_ishealthy</th>\n      <th>femur_gap_dist</th>\n      <th>Max_dist_femur_tibia_lat_car</th>\n      <th>Min_dist_femur_tibia_lat_car</th>\n      <th>Mean_dist_femur_tibia_lat_car</th>\n      <th>Max_dist_femur_tibia_med_car</th>\n      <th>Min_dist_femur_tibia_med_car</th>\n      <th>Mean_dist_femur_tibia_med_car</th>\n      <th>lat_Max_all_frames</th>\n      <th>med_Max_all_frames</th>\n    </tr>\n  </thead>\n  <tbody>\n    <tr>\n      <th>0</th>\n      <td>1137</td>\n      <td>4142</td>\n      <td>2789</td>\n      <td>5275</td>\n      <td>21420</td>\n      <td>2840</td>\n      <td>2840</td>\n      <td>33682.157434</td>\n      <td>231437.991665</td>\n      <td>139880.512171</td>\n      <td>...</td>\n      <td>1</td>\n      <td>19.629001</td>\n      <td>13.941570</td>\n      <td>0.987391</td>\n      <td>6.105886</td>\n      <td>10.304892</td>\n      <td>1.376902</td>\n      <td>4.580906</td>\n      <td>15.890460</td>\n      <td>34.044975</td>\n    </tr>\n    <tr>\n      <th>241</th>\n      <td>1126</td>\n      <td>4113</td>\n      <td>2684</td>\n      <td>5900</td>\n      <td>21030</td>\n      <td>2840</td>\n      <td>2840</td>\n      <td>33039.218053</td>\n      <td>228671.171460</td>\n      <td>134963.134980</td>\n      <td>...</td>\n      <td>1</td>\n      <td>22.935425</td>\n      <td>13.560157</td>\n      <td>0.800195</td>\n      <td>6.226970</td>\n      <td>10.677269</td>\n      <td>1.029139</td>\n      <td>4.306716</td>\n      <td>20.057634</td>\n      <td>31.649405</td>\n    </tr>\n    <tr>\n      <th>482</th>\n      <td>771</td>\n      <td>3414</td>\n      <td>2596</td>\n      <td>4485</td>\n      <td>18385</td>\n      <td>2840</td>\n      <td>2840</td>\n      <td>21736.919532</td>\n      <td>184294.924991</td>\n      <td>127637.611277</td>\n      <td>...</td>\n      <td>1</td>\n      <td>19.539911</td>\n      <td>12.892850</td>\n      <td>1.504442</td>\n      <td>4.844820</td>\n      <td>9.243396</td>\n      <td>1.418712</td>\n      <td>4.015682</td>\n      <td>18.555532</td>\n      <td>26.223894</td>\n    </tr>\n    <tr>\n      <th>723</th>\n      <td>730</td>\n      <td>3404</td>\n      <td>2600</td>\n      <td>5055</td>\n      <td>18755</td>\n      <td>2840</td>\n      <td>2840</td>\n      <td>20866.993760</td>\n      <td>184114.045604</td>\n      <td>128295.783408</td>\n      <td>...</td>\n      <td>1</td>\n      <td>18.387004</td>\n      <td>11.617199</td>\n      <td>1.119438</td>\n      <td>4.698536</td>\n      <td>9.107268</td>\n      <td>1.398252</td>\n      <td>3.890993</td>\n      <td>19.447876</td>\n      <td>24.808067</td>\n    </tr>\n    <tr>\n      <th>964</th>\n      <td>667</td>\n      <td>3814</td>\n      <td>2631</td>\n      <td>5245</td>\n      <td>19370</td>\n      <td>2840</td>\n      <td>2840</td>\n      <td>17949.168458</td>\n      <td>221202.458278</td>\n      <td>137472.394625</td>\n      <td>...</td>\n      <td>1</td>\n      <td>19.128202</td>\n      <td>12.324972</td>\n      <td>2.210197</td>\n      <td>6.003760</td>\n      <td>10.941657</td>\n      <td>2.428147</td>\n      <td>5.948101</td>\n      <td>19.930437</td>\n      <td>25.919180</td>\n    </tr>\n    <tr>\n      <th>...</th>\n      <td>...</td>\n      <td>...</td>\n      <td>...</td>\n      <td>...</td>\n      <td>...</td>\n      <td>...</td>\n      <td>...</td>\n      <td>...</td>\n      <td>...</td>\n      <td>...</td>\n      <td>...</td>\n      <td>...</td>\n      <td>...</td>\n      <td>...</td>\n      <td>...</td>\n      <td>...</td>\n      <td>...</td>\n      <td>...</td>\n      <td>...</td>\n      <td>...</td>\n      <td>...</td>\n    </tr>\n    <tr>\n      <th>26510</th>\n      <td>686</td>\n      <td>2963</td>\n      <td>2388</td>\n      <td>4405</td>\n      <td>20910</td>\n      <td>2155</td>\n      <td>2840</td>\n      <td>15821.015946</td>\n      <td>140615.628188</td>\n      <td>110523.109264</td>\n      <td>...</td>\n      <td>1</td>\n      <td>19.857552</td>\n      <td>18.010511</td>\n      <td>1.444001</td>\n      <td>5.899954</td>\n      <td>13.425811</td>\n      <td>1.667098</td>\n      <td>5.354239</td>\n      <td>27.401314</td>\n      <td>34.442417</td>\n    </tr>\n    <tr>\n      <th>26751</th>\n      <td>795</td>\n      <td>3669</td>\n      <td>2724</td>\n      <td>4765</td>\n      <td>20410</td>\n      <td>2840</td>\n      <td>2840</td>\n      <td>22375.020348</td>\n      <td>207318.185631</td>\n      <td>146786.471170</td>\n      <td>...</td>\n      <td>1</td>\n      <td>22.148186</td>\n      <td>16.633343</td>\n      <td>1.874496</td>\n      <td>6.641354</td>\n      <td>15.426130</td>\n      <td>2.258161</td>\n      <td>4.898385</td>\n      <td>19.478767</td>\n      <td>22.278835</td>\n    </tr>\n    <tr>\n      <th>26992</th>\n      <td>801</td>\n      <td>3805</td>\n      <td>2575</td>\n      <td>4885</td>\n      <td>20400</td>\n      <td>2840</td>\n      <td>2840</td>\n      <td>22439.863013</td>\n      <td>215968.865103</td>\n      <td>136753.285023</td>\n      <td>...</td>\n      <td>1</td>\n      <td>22.762806</td>\n      <td>17.640301</td>\n      <td>1.481010</td>\n      <td>6.875417</td>\n      <td>12.561378</td>\n      <td>2.246910</td>\n      <td>4.471387</td>\n      <td>20.616781</td>\n      <td>26.929873</td>\n    </tr>\n    <tr>\n      <th>27233</th>\n      <td>868</td>\n      <td>3794</td>\n      <td>3029</td>\n      <td>5430</td>\n      <td>20755</td>\n      <td>2840</td>\n      <td>2840</td>\n      <td>25084.417057</td>\n      <td>216622.182978</td>\n      <td>168327.403757</td>\n      <td>...</td>\n      <td>1</td>\n      <td>19.888791</td>\n      <td>19.743281</td>\n      <td>2.204936</td>\n      <td>6.574413</td>\n      <td>16.267729</td>\n      <td>1.759706</td>\n      <td>5.525146</td>\n      <td>17.599583</td>\n      <td>22.764488</td>\n    </tr>\n    <tr>\n      <th>27474</th>\n      <td>873</td>\n      <td>3921</td>\n      <td>2831</td>\n      <td>5690</td>\n      <td>21495</td>\n      <td>2840</td>\n      <td>2840</td>\n      <td>24799.135262</td>\n      <td>226161.340527</td>\n      <td>154353.942127</td>\n      <td>...</td>\n      <td>1</td>\n      <td>19.603810</td>\n      <td>18.862473</td>\n      <td>2.616759</td>\n      <td>6.815766</td>\n      <td>15.943200</td>\n      <td>2.833736</td>\n      <td>6.482209</td>\n      <td>16.316133</td>\n      <td>22.707045</td>\n    </tr>\n  </tbody>\n</table>\n<p>115 rows × 49 columns</p>\n</div>"
     },
     "execution_count": 7,
     "metadata": {},
     "output_type": "execute_result"
    }
   ],
   "source": [
    "train_datasets"
   ],
   "metadata": {
    "collapsed": false
   }
  },
  {
   "cell_type": "code",
   "execution_count": 8,
   "outputs": [
    {
     "data": {
      "text/plain": "      Patella_PN  Femur_PN  Tibia_PN  Patella_Car_PN  Femur_Car_PN  \\\n0           1012      4339      2724            3400         17045   \n241          816      3471      2805            5045         20905   \n482          781      3906      2604            5105         20875   \n723          531      2696      2023            4205         17575   \n964          555      2867      2215            3915         19845   \n1205         856      3741      2639            4765         21095   \n1446         833      3828      2647            4945         18155   \n1687         785      3686      2669            4050         21750   \n1928         922      3866      2738            4645         21800   \n2169         706      3320      2170            3360         20680   \n2410         858      4083      2707            5025         22990   \n2651         874      4567      3008            4865         20755   \n2892         611      3057      2092            4145         19695   \n3133         524      3495      2281            4325         20280   \n3374         833      3823      3383            4635         23675   \n3615         980      4499      2993            5405         20765   \n3856         942      4234      2908            5295         22175   \n4097         822      3751      2578            4675         22110   \n4338         846      3654      2740            5335         21525   \n4579         590      3138      2021            1975         17215   \n4820         538      3171      2037            4375         17065   \n5061         592      3551      2065            4845         19315   \n5302         663      2905      2226            3965         17145   \n5543         539      3078      2148            4425         18345   \n5784         526      2741      2006            4385         20085   \n6025         689      2966      2077            4595         15715   \n6266         855      3977      2671            5115         21935   \n6507         910      3959      2787            4885         20640   \n6748         843      3910      3065            4795         22215   \n\n      Tibia_M_Car_PN  Tibia_L_Car_PN  Patella_volume   Femur_volume  \\\n0               2840            2840    29331.968623  258414.715255   \n241             2840            2840    23077.844638  194402.116965   \n482             2840            2840    18940.943691  229538.339366   \n723             2840            2840    12678.464250  125961.766310   \n964             2840            2840    13201.065463  146557.241204   \n1205            2840            2840    24802.070768  207480.555638   \n1446            2840            2840    24544.137968  220856.274195   \n1687            2840            2840    22224.955876  205583.220678   \n1928            2340            2840    26822.466759  217761.486440   \n2169            4260            2840    18799.562749  164129.999650   \n2410            2615            4705    23410.896986  229455.106430   \n2651            2840            2840    25026.644353  288050.344340   \n2892            2840            2840    15567.950907  156262.322634   \n3133            2840            2840    10861.113629  149663.093646   \n3374            2840            2840    23409.743900  222278.585224   \n3615            2840            2840    30048.239370  299203.953810   \n3856            2840            2840    29203.657327  271905.336853   \n4097            2020            2840    21919.160507  209790.697993   \n4338            2840            2840    24195.661422  200937.997038   \n4579            2840            2840    13334.627523  154965.866839   \n4820            2840            2840    14251.846467  167175.168350   \n5061            2840            2840    15279.612310  193244.285315   \n5302            2840            2840    17426.903019  142594.561437   \n5543            2840            2840    13217.352901  157049.737203   \n5784            2840            2840    12663.576956  130774.058804   \n6025            2840            2840    18292.157772  145846.011609   \n6266            2840            2840    23301.600675  233733.822627   \n6507            2840            2840    27220.954972  227144.807346   \n6748            2840            2840    21222.626105  218472.551214   \n\n       Tibia_volume  ...  tib_lat_ishealthy  femur_gap_dist  \\\n0     138731.987496  ...                  1       17.180449   \n241   153097.503228  ...                  1       19.552980   \n482   133149.812222  ...                  1       17.651614   \n723    91553.631588  ...                  1       19.605713   \n964   109181.460201  ...                  1       16.593467   \n1205  132782.842515  ...                  1       22.239408   \n1446  142191.973295  ...                  1       19.109862   \n1687  139236.369399  ...                  1       21.568833   \n1928  143150.197170  ...                  1       24.568038   \n2169   97898.558255  ...                  1       44.107787   \n2410  141995.817714  ...                  1       26.096776   \n2651  165709.356480  ...                  1       17.716091   \n2892  102400.110454  ...                  1       17.294457   \n3133  102277.000493  ...                  1       23.274702   \n3374  189256.363446  ...                  1       17.758061   \n3615  178656.803929  ...                  1       26.693968   \n3856  171764.090577  ...                  1       24.527069   \n4097  131852.517229  ...                  1       14.549205   \n4338  138719.693798  ...                  1       21.535173   \n4579   92857.435500  ...                  1       12.201016   \n4820   99476.192374  ...                  1       17.501860   \n5061   99665.362517  ...                  1       15.985784   \n5302  103598.308726  ...                  1       23.447672   \n5543  106526.281429  ...                  1       14.423590   \n5784   94132.699154  ...                  1       18.487373   \n6025   97972.266625  ...                  1       17.877899   \n6266  141833.552617  ...                  1       18.326267   \n6507  158048.737895  ...                  1       22.151389   \n6748  162582.815716  ...                  1       19.691313   \n\n      Max_dist_femur_tibia_lat_car  Min_dist_femur_tibia_lat_car  \\\n0                        12.178187                      1.852458   \n241                      17.436416                      1.832786   \n482                      16.163145                      1.537181   \n723                      13.193326                      0.692153   \n964                      14.282174                      1.322267   \n1205                     17.744752                      2.717176   \n1446                     16.368454                      1.582719   \n1687                     14.102408                      1.646955   \n1928                     22.752636                      1.440737   \n2169                     10.271868                      1.303613   \n2410                     17.763949                      1.489321   \n2651                     15.947195                      1.915356   \n2892                     12.309982                      0.828767   \n3133                     20.372852                      1.027111   \n3374                     14.928099                      2.065924   \n3615                     14.819318                      1.243401   \n3856                     21.220951                      1.337257   \n4097                     16.346643                      1.403446   \n4338                     18.239340                      2.990285   \n4579                     14.387050                      1.618499   \n4820                     12.994156                      1.489624   \n5061                     16.858403                      1.857255   \n5302                     16.553041                      1.260226   \n5543                     14.321398                      1.585903   \n5784                     16.645856                      2.161365   \n6025                     15.156621                      1.137830   \n6266                     21.376461                      2.767358   \n6507                     17.402746                      2.745831   \n6748                     17.402953                      3.002287   \n\n      Mean_dist_femur_tibia_lat_car  Max_dist_femur_tibia_med_car  \\\n0                          6.176293                      9.838347   \n241                        7.209798                     11.834508   \n482                        5.402839                     10.835806   \n723                        4.076171                     10.188166   \n964                        5.516642                     10.594452   \n1205                       7.807945                     14.243176   \n1446                       5.936896                      9.762050   \n1687                       6.274178                     11.181971   \n1928                       7.901696                     17.943346   \n2169                       4.619040                      9.772798   \n2410                       5.863375                     12.595486   \n2651                       5.625811                      9.813440   \n2892                       4.627031                     11.085678   \n3133                       6.362542                     10.302171   \n3374                       5.934809                     10.347757   \n3615                       6.005265                     13.185246   \n3856                       6.822467                     14.470321   \n4097                       6.000296                      9.767852   \n4338                       7.824778                     16.905240   \n4579                       5.667536                     10.545760   \n4820                       4.589668                      9.035737   \n5061                       5.530255                     11.329026   \n5302                       5.272206                     11.639249   \n5543                       5.646224                      8.844857   \n5784                       6.294657                     12.607543   \n6025                       4.932682                      7.745907   \n6266                       7.356607                     15.192883   \n6507                       7.293635                     13.089355   \n6748                       7.321837                     12.228509   \n\n      Min_dist_femur_tibia_med_car  Mean_dist_femur_tibia_med_car  \\\n0                         1.248360                       5.243077   \n241                       1.773031                       5.090567   \n482                       2.228766                       5.153152   \n723                       0.872813                       3.153680   \n964                       0.796869                       3.753957   \n1205                      2.215854                       5.845854   \n1446                      1.829145                       4.255408   \n1687                      1.453194                       5.181219   \n1928                      0.774024                       5.269343   \n2169                      1.245017                       3.984866   \n2410                      0.436744                       4.404116   \n2651                      1.906544                       4.828412   \n2892                      1.035858                       4.474052   \n3133                      1.089262                       3.583892   \n3374                      1.311265                       4.411375   \n3615                      1.930638                       5.089810   \n3856                      1.662169                       5.061830   \n4097                      1.143582                       4.523379   \n4338                      1.689624                       5.798784   \n4579                      0.935307                       3.804411   \n4820                      1.395278                       3.702283   \n5061                      1.121597                       4.490827   \n5302                      1.450704                       3.950369   \n5543                      1.074716                       4.018044   \n5784                      1.659298                       4.424846   \n6025                      1.259327                       3.577955   \n6266                      1.717970                       4.952393   \n6507                      2.300227                       6.047347   \n6748                      1.443700                       5.174367   \n\n      lat_Max_all_frames  med_Max_all_frames  \n0              20.998919           21.368145  \n241            16.342916           24.726450  \n482            26.878704           20.836784  \n723            33.084023           41.899796  \n964            18.879358           30.542082  \n1205           27.747881           39.927299  \n1446           24.238981           25.002775  \n1687           18.729412           25.375481  \n1928           21.266918           26.806919  \n2169           23.169041           22.456438  \n2410           17.313013           25.371180  \n2651           19.942692           20.975821  \n2892           19.284252           36.411674  \n3133           27.795940           44.197102  \n3374           15.615541           21.096292  \n3615           18.923689           20.012444  \n3856           21.189606           21.580538  \n4097           18.718307           27.547150  \n4338           24.267471           34.837978  \n4579           25.597019           45.048309  \n4820           26.669691           23.855280  \n5061           17.698893           28.887547  \n5302           31.332338           32.124992  \n5543           20.898586           27.309856  \n5784           15.676988           31.926094  \n6025           20.273153           35.727104  \n6266           15.089072           26.854036  \n6507           15.311720           23.299423  \n6748           19.204107           21.499622  \n\n[29 rows x 49 columns]",
      "text/html": "<div>\n<style scoped>\n    .dataframe tbody tr th:only-of-type {\n        vertical-align: middle;\n    }\n\n    .dataframe tbody tr th {\n        vertical-align: top;\n    }\n\n    .dataframe thead th {\n        text-align: right;\n    }\n</style>\n<table border=\"1\" class=\"dataframe\">\n  <thead>\n    <tr style=\"text-align: right;\">\n      <th></th>\n      <th>Patella_PN</th>\n      <th>Femur_PN</th>\n      <th>Tibia_PN</th>\n      <th>Patella_Car_PN</th>\n      <th>Femur_Car_PN</th>\n      <th>Tibia_M_Car_PN</th>\n      <th>Tibia_L_Car_PN</th>\n      <th>Patella_volume</th>\n      <th>Femur_volume</th>\n      <th>Tibia_volume</th>\n      <th>...</th>\n      <th>tib_lat_ishealthy</th>\n      <th>femur_gap_dist</th>\n      <th>Max_dist_femur_tibia_lat_car</th>\n      <th>Min_dist_femur_tibia_lat_car</th>\n      <th>Mean_dist_femur_tibia_lat_car</th>\n      <th>Max_dist_femur_tibia_med_car</th>\n      <th>Min_dist_femur_tibia_med_car</th>\n      <th>Mean_dist_femur_tibia_med_car</th>\n      <th>lat_Max_all_frames</th>\n      <th>med_Max_all_frames</th>\n    </tr>\n  </thead>\n  <tbody>\n    <tr>\n      <th>0</th>\n      <td>1012</td>\n      <td>4339</td>\n      <td>2724</td>\n      <td>3400</td>\n      <td>17045</td>\n      <td>2840</td>\n      <td>2840</td>\n      <td>29331.968623</td>\n      <td>258414.715255</td>\n      <td>138731.987496</td>\n      <td>...</td>\n      <td>1</td>\n      <td>17.180449</td>\n      <td>12.178187</td>\n      <td>1.852458</td>\n      <td>6.176293</td>\n      <td>9.838347</td>\n      <td>1.248360</td>\n      <td>5.243077</td>\n      <td>20.998919</td>\n      <td>21.368145</td>\n    </tr>\n    <tr>\n      <th>241</th>\n      <td>816</td>\n      <td>3471</td>\n      <td>2805</td>\n      <td>5045</td>\n      <td>20905</td>\n      <td>2840</td>\n      <td>2840</td>\n      <td>23077.844638</td>\n      <td>194402.116965</td>\n      <td>153097.503228</td>\n      <td>...</td>\n      <td>1</td>\n      <td>19.552980</td>\n      <td>17.436416</td>\n      <td>1.832786</td>\n      <td>7.209798</td>\n      <td>11.834508</td>\n      <td>1.773031</td>\n      <td>5.090567</td>\n      <td>16.342916</td>\n      <td>24.726450</td>\n    </tr>\n    <tr>\n      <th>482</th>\n      <td>781</td>\n      <td>3906</td>\n      <td>2604</td>\n      <td>5105</td>\n      <td>20875</td>\n      <td>2840</td>\n      <td>2840</td>\n      <td>18940.943691</td>\n      <td>229538.339366</td>\n      <td>133149.812222</td>\n      <td>...</td>\n      <td>1</td>\n      <td>17.651614</td>\n      <td>16.163145</td>\n      <td>1.537181</td>\n      <td>5.402839</td>\n      <td>10.835806</td>\n      <td>2.228766</td>\n      <td>5.153152</td>\n      <td>26.878704</td>\n      <td>20.836784</td>\n    </tr>\n    <tr>\n      <th>723</th>\n      <td>531</td>\n      <td>2696</td>\n      <td>2023</td>\n      <td>4205</td>\n      <td>17575</td>\n      <td>2840</td>\n      <td>2840</td>\n      <td>12678.464250</td>\n      <td>125961.766310</td>\n      <td>91553.631588</td>\n      <td>...</td>\n      <td>1</td>\n      <td>19.605713</td>\n      <td>13.193326</td>\n      <td>0.692153</td>\n      <td>4.076171</td>\n      <td>10.188166</td>\n      <td>0.872813</td>\n      <td>3.153680</td>\n      <td>33.084023</td>\n      <td>41.899796</td>\n    </tr>\n    <tr>\n      <th>964</th>\n      <td>555</td>\n      <td>2867</td>\n      <td>2215</td>\n      <td>3915</td>\n      <td>19845</td>\n      <td>2840</td>\n      <td>2840</td>\n      <td>13201.065463</td>\n      <td>146557.241204</td>\n      <td>109181.460201</td>\n      <td>...</td>\n      <td>1</td>\n      <td>16.593467</td>\n      <td>14.282174</td>\n      <td>1.322267</td>\n      <td>5.516642</td>\n      <td>10.594452</td>\n      <td>0.796869</td>\n      <td>3.753957</td>\n      <td>18.879358</td>\n      <td>30.542082</td>\n    </tr>\n    <tr>\n      <th>1205</th>\n      <td>856</td>\n      <td>3741</td>\n      <td>2639</td>\n      <td>4765</td>\n      <td>21095</td>\n      <td>2840</td>\n      <td>2840</td>\n      <td>24802.070768</td>\n      <td>207480.555638</td>\n      <td>132782.842515</td>\n      <td>...</td>\n      <td>1</td>\n      <td>22.239408</td>\n      <td>17.744752</td>\n      <td>2.717176</td>\n      <td>7.807945</td>\n      <td>14.243176</td>\n      <td>2.215854</td>\n      <td>5.845854</td>\n      <td>27.747881</td>\n      <td>39.927299</td>\n    </tr>\n    <tr>\n      <th>1446</th>\n      <td>833</td>\n      <td>3828</td>\n      <td>2647</td>\n      <td>4945</td>\n      <td>18155</td>\n      <td>2840</td>\n      <td>2840</td>\n      <td>24544.137968</td>\n      <td>220856.274195</td>\n      <td>142191.973295</td>\n      <td>...</td>\n      <td>1</td>\n      <td>19.109862</td>\n      <td>16.368454</td>\n      <td>1.582719</td>\n      <td>5.936896</td>\n      <td>9.762050</td>\n      <td>1.829145</td>\n      <td>4.255408</td>\n      <td>24.238981</td>\n      <td>25.002775</td>\n    </tr>\n    <tr>\n      <th>1687</th>\n      <td>785</td>\n      <td>3686</td>\n      <td>2669</td>\n      <td>4050</td>\n      <td>21750</td>\n      <td>2840</td>\n      <td>2840</td>\n      <td>22224.955876</td>\n      <td>205583.220678</td>\n      <td>139236.369399</td>\n      <td>...</td>\n      <td>1</td>\n      <td>21.568833</td>\n      <td>14.102408</td>\n      <td>1.646955</td>\n      <td>6.274178</td>\n      <td>11.181971</td>\n      <td>1.453194</td>\n      <td>5.181219</td>\n      <td>18.729412</td>\n      <td>25.375481</td>\n    </tr>\n    <tr>\n      <th>1928</th>\n      <td>922</td>\n      <td>3866</td>\n      <td>2738</td>\n      <td>4645</td>\n      <td>21800</td>\n      <td>2340</td>\n      <td>2840</td>\n      <td>26822.466759</td>\n      <td>217761.486440</td>\n      <td>143150.197170</td>\n      <td>...</td>\n      <td>1</td>\n      <td>24.568038</td>\n      <td>22.752636</td>\n      <td>1.440737</td>\n      <td>7.901696</td>\n      <td>17.943346</td>\n      <td>0.774024</td>\n      <td>5.269343</td>\n      <td>21.266918</td>\n      <td>26.806919</td>\n    </tr>\n    <tr>\n      <th>2169</th>\n      <td>706</td>\n      <td>3320</td>\n      <td>2170</td>\n      <td>3360</td>\n      <td>20680</td>\n      <td>4260</td>\n      <td>2840</td>\n      <td>18799.562749</td>\n      <td>164129.999650</td>\n      <td>97898.558255</td>\n      <td>...</td>\n      <td>1</td>\n      <td>44.107787</td>\n      <td>10.271868</td>\n      <td>1.303613</td>\n      <td>4.619040</td>\n      <td>9.772798</td>\n      <td>1.245017</td>\n      <td>3.984866</td>\n      <td>23.169041</td>\n      <td>22.456438</td>\n    </tr>\n    <tr>\n      <th>2410</th>\n      <td>858</td>\n      <td>4083</td>\n      <td>2707</td>\n      <td>5025</td>\n      <td>22990</td>\n      <td>2615</td>\n      <td>4705</td>\n      <td>23410.896986</td>\n      <td>229455.106430</td>\n      <td>141995.817714</td>\n      <td>...</td>\n      <td>1</td>\n      <td>26.096776</td>\n      <td>17.763949</td>\n      <td>1.489321</td>\n      <td>5.863375</td>\n      <td>12.595486</td>\n      <td>0.436744</td>\n      <td>4.404116</td>\n      <td>17.313013</td>\n      <td>25.371180</td>\n    </tr>\n    <tr>\n      <th>2651</th>\n      <td>874</td>\n      <td>4567</td>\n      <td>3008</td>\n      <td>4865</td>\n      <td>20755</td>\n      <td>2840</td>\n      <td>2840</td>\n      <td>25026.644353</td>\n      <td>288050.344340</td>\n      <td>165709.356480</td>\n      <td>...</td>\n      <td>1</td>\n      <td>17.716091</td>\n      <td>15.947195</td>\n      <td>1.915356</td>\n      <td>5.625811</td>\n      <td>9.813440</td>\n      <td>1.906544</td>\n      <td>4.828412</td>\n      <td>19.942692</td>\n      <td>20.975821</td>\n    </tr>\n    <tr>\n      <th>2892</th>\n      <td>611</td>\n      <td>3057</td>\n      <td>2092</td>\n      <td>4145</td>\n      <td>19695</td>\n      <td>2840</td>\n      <td>2840</td>\n      <td>15567.950907</td>\n      <td>156262.322634</td>\n      <td>102400.110454</td>\n      <td>...</td>\n      <td>1</td>\n      <td>17.294457</td>\n      <td>12.309982</td>\n      <td>0.828767</td>\n      <td>4.627031</td>\n      <td>11.085678</td>\n      <td>1.035858</td>\n      <td>4.474052</td>\n      <td>19.284252</td>\n      <td>36.411674</td>\n    </tr>\n    <tr>\n      <th>3133</th>\n      <td>524</td>\n      <td>3495</td>\n      <td>2281</td>\n      <td>4325</td>\n      <td>20280</td>\n      <td>2840</td>\n      <td>2840</td>\n      <td>10861.113629</td>\n      <td>149663.093646</td>\n      <td>102277.000493</td>\n      <td>...</td>\n      <td>1</td>\n      <td>23.274702</td>\n      <td>20.372852</td>\n      <td>1.027111</td>\n      <td>6.362542</td>\n      <td>10.302171</td>\n      <td>1.089262</td>\n      <td>3.583892</td>\n      <td>27.795940</td>\n      <td>44.197102</td>\n    </tr>\n    <tr>\n      <th>3374</th>\n      <td>833</td>\n      <td>3823</td>\n      <td>3383</td>\n      <td>4635</td>\n      <td>23675</td>\n      <td>2840</td>\n      <td>2840</td>\n      <td>23409.743900</td>\n      <td>222278.585224</td>\n      <td>189256.363446</td>\n      <td>...</td>\n      <td>1</td>\n      <td>17.758061</td>\n      <td>14.928099</td>\n      <td>2.065924</td>\n      <td>5.934809</td>\n      <td>10.347757</td>\n      <td>1.311265</td>\n      <td>4.411375</td>\n      <td>15.615541</td>\n      <td>21.096292</td>\n    </tr>\n    <tr>\n      <th>3615</th>\n      <td>980</td>\n      <td>4499</td>\n      <td>2993</td>\n      <td>5405</td>\n      <td>20765</td>\n      <td>2840</td>\n      <td>2840</td>\n      <td>30048.239370</td>\n      <td>299203.953810</td>\n      <td>178656.803929</td>\n      <td>...</td>\n      <td>1</td>\n      <td>26.693968</td>\n      <td>14.819318</td>\n      <td>1.243401</td>\n      <td>6.005265</td>\n      <td>13.185246</td>\n      <td>1.930638</td>\n      <td>5.089810</td>\n      <td>18.923689</td>\n      <td>20.012444</td>\n    </tr>\n    <tr>\n      <th>3856</th>\n      <td>942</td>\n      <td>4234</td>\n      <td>2908</td>\n      <td>5295</td>\n      <td>22175</td>\n      <td>2840</td>\n      <td>2840</td>\n      <td>29203.657327</td>\n      <td>271905.336853</td>\n      <td>171764.090577</td>\n      <td>...</td>\n      <td>1</td>\n      <td>24.527069</td>\n      <td>21.220951</td>\n      <td>1.337257</td>\n      <td>6.822467</td>\n      <td>14.470321</td>\n      <td>1.662169</td>\n      <td>5.061830</td>\n      <td>21.189606</td>\n      <td>21.580538</td>\n    </tr>\n    <tr>\n      <th>4097</th>\n      <td>822</td>\n      <td>3751</td>\n      <td>2578</td>\n      <td>4675</td>\n      <td>22110</td>\n      <td>2020</td>\n      <td>2840</td>\n      <td>21919.160507</td>\n      <td>209790.697993</td>\n      <td>131852.517229</td>\n      <td>...</td>\n      <td>1</td>\n      <td>14.549205</td>\n      <td>16.346643</td>\n      <td>1.403446</td>\n      <td>6.000296</td>\n      <td>9.767852</td>\n      <td>1.143582</td>\n      <td>4.523379</td>\n      <td>18.718307</td>\n      <td>27.547150</td>\n    </tr>\n    <tr>\n      <th>4338</th>\n      <td>846</td>\n      <td>3654</td>\n      <td>2740</td>\n      <td>5335</td>\n      <td>21525</td>\n      <td>2840</td>\n      <td>2840</td>\n      <td>24195.661422</td>\n      <td>200937.997038</td>\n      <td>138719.693798</td>\n      <td>...</td>\n      <td>1</td>\n      <td>21.535173</td>\n      <td>18.239340</td>\n      <td>2.990285</td>\n      <td>7.824778</td>\n      <td>16.905240</td>\n      <td>1.689624</td>\n      <td>5.798784</td>\n      <td>24.267471</td>\n      <td>34.837978</td>\n    </tr>\n    <tr>\n      <th>4579</th>\n      <td>590</td>\n      <td>3138</td>\n      <td>2021</td>\n      <td>1975</td>\n      <td>17215</td>\n      <td>2840</td>\n      <td>2840</td>\n      <td>13334.627523</td>\n      <td>154965.866839</td>\n      <td>92857.435500</td>\n      <td>...</td>\n      <td>1</td>\n      <td>12.201016</td>\n      <td>14.387050</td>\n      <td>1.618499</td>\n      <td>5.667536</td>\n      <td>10.545760</td>\n      <td>0.935307</td>\n      <td>3.804411</td>\n      <td>25.597019</td>\n      <td>45.048309</td>\n    </tr>\n    <tr>\n      <th>4820</th>\n      <td>538</td>\n      <td>3171</td>\n      <td>2037</td>\n      <td>4375</td>\n      <td>17065</td>\n      <td>2840</td>\n      <td>2840</td>\n      <td>14251.846467</td>\n      <td>167175.168350</td>\n      <td>99476.192374</td>\n      <td>...</td>\n      <td>1</td>\n      <td>17.501860</td>\n      <td>12.994156</td>\n      <td>1.489624</td>\n      <td>4.589668</td>\n      <td>9.035737</td>\n      <td>1.395278</td>\n      <td>3.702283</td>\n      <td>26.669691</td>\n      <td>23.855280</td>\n    </tr>\n    <tr>\n      <th>5061</th>\n      <td>592</td>\n      <td>3551</td>\n      <td>2065</td>\n      <td>4845</td>\n      <td>19315</td>\n      <td>2840</td>\n      <td>2840</td>\n      <td>15279.612310</td>\n      <td>193244.285315</td>\n      <td>99665.362517</td>\n      <td>...</td>\n      <td>1</td>\n      <td>15.985784</td>\n      <td>16.858403</td>\n      <td>1.857255</td>\n      <td>5.530255</td>\n      <td>11.329026</td>\n      <td>1.121597</td>\n      <td>4.490827</td>\n      <td>17.698893</td>\n      <td>28.887547</td>\n    </tr>\n    <tr>\n      <th>5302</th>\n      <td>663</td>\n      <td>2905</td>\n      <td>2226</td>\n      <td>3965</td>\n      <td>17145</td>\n      <td>2840</td>\n      <td>2840</td>\n      <td>17426.903019</td>\n      <td>142594.561437</td>\n      <td>103598.308726</td>\n      <td>...</td>\n      <td>1</td>\n      <td>23.447672</td>\n      <td>16.553041</td>\n      <td>1.260226</td>\n      <td>5.272206</td>\n      <td>11.639249</td>\n      <td>1.450704</td>\n      <td>3.950369</td>\n      <td>31.332338</td>\n      <td>32.124992</td>\n    </tr>\n    <tr>\n      <th>5543</th>\n      <td>539</td>\n      <td>3078</td>\n      <td>2148</td>\n      <td>4425</td>\n      <td>18345</td>\n      <td>2840</td>\n      <td>2840</td>\n      <td>13217.352901</td>\n      <td>157049.737203</td>\n      <td>106526.281429</td>\n      <td>...</td>\n      <td>1</td>\n      <td>14.423590</td>\n      <td>14.321398</td>\n      <td>1.585903</td>\n      <td>5.646224</td>\n      <td>8.844857</td>\n      <td>1.074716</td>\n      <td>4.018044</td>\n      <td>20.898586</td>\n      <td>27.309856</td>\n    </tr>\n    <tr>\n      <th>5784</th>\n      <td>526</td>\n      <td>2741</td>\n      <td>2006</td>\n      <td>4385</td>\n      <td>20085</td>\n      <td>2840</td>\n      <td>2840</td>\n      <td>12663.576956</td>\n      <td>130774.058804</td>\n      <td>94132.699154</td>\n      <td>...</td>\n      <td>1</td>\n      <td>18.487373</td>\n      <td>16.645856</td>\n      <td>2.161365</td>\n      <td>6.294657</td>\n      <td>12.607543</td>\n      <td>1.659298</td>\n      <td>4.424846</td>\n      <td>15.676988</td>\n      <td>31.926094</td>\n    </tr>\n    <tr>\n      <th>6025</th>\n      <td>689</td>\n      <td>2966</td>\n      <td>2077</td>\n      <td>4595</td>\n      <td>15715</td>\n      <td>2840</td>\n      <td>2840</td>\n      <td>18292.157772</td>\n      <td>145846.011609</td>\n      <td>97972.266625</td>\n      <td>...</td>\n      <td>1</td>\n      <td>17.877899</td>\n      <td>15.156621</td>\n      <td>1.137830</td>\n      <td>4.932682</td>\n      <td>7.745907</td>\n      <td>1.259327</td>\n      <td>3.577955</td>\n      <td>20.273153</td>\n      <td>35.727104</td>\n    </tr>\n    <tr>\n      <th>6266</th>\n      <td>855</td>\n      <td>3977</td>\n      <td>2671</td>\n      <td>5115</td>\n      <td>21935</td>\n      <td>2840</td>\n      <td>2840</td>\n      <td>23301.600675</td>\n      <td>233733.822627</td>\n      <td>141833.552617</td>\n      <td>...</td>\n      <td>1</td>\n      <td>18.326267</td>\n      <td>21.376461</td>\n      <td>2.767358</td>\n      <td>7.356607</td>\n      <td>15.192883</td>\n      <td>1.717970</td>\n      <td>4.952393</td>\n      <td>15.089072</td>\n      <td>26.854036</td>\n    </tr>\n    <tr>\n      <th>6507</th>\n      <td>910</td>\n      <td>3959</td>\n      <td>2787</td>\n      <td>4885</td>\n      <td>20640</td>\n      <td>2840</td>\n      <td>2840</td>\n      <td>27220.954972</td>\n      <td>227144.807346</td>\n      <td>158048.737895</td>\n      <td>...</td>\n      <td>1</td>\n      <td>22.151389</td>\n      <td>17.402746</td>\n      <td>2.745831</td>\n      <td>7.293635</td>\n      <td>13.089355</td>\n      <td>2.300227</td>\n      <td>6.047347</td>\n      <td>15.311720</td>\n      <td>23.299423</td>\n    </tr>\n    <tr>\n      <th>6748</th>\n      <td>843</td>\n      <td>3910</td>\n      <td>3065</td>\n      <td>4795</td>\n      <td>22215</td>\n      <td>2840</td>\n      <td>2840</td>\n      <td>21222.626105</td>\n      <td>218472.551214</td>\n      <td>162582.815716</td>\n      <td>...</td>\n      <td>1</td>\n      <td>19.691313</td>\n      <td>17.402953</td>\n      <td>3.002287</td>\n      <td>7.321837</td>\n      <td>12.228509</td>\n      <td>1.443700</td>\n      <td>5.174367</td>\n      <td>19.204107</td>\n      <td>21.499622</td>\n    </tr>\n  </tbody>\n</table>\n<p>29 rows × 49 columns</p>\n</div>"
     },
     "execution_count": 8,
     "metadata": {},
     "output_type": "execute_result"
    }
   ],
   "source": [
    "test_datasets"
   ],
   "metadata": {
    "collapsed": false
   }
  },
  {
   "cell_type": "code",
   "execution_count": 9,
   "outputs": [
    {
     "data": {
      "text/plain": "(array([ 3.,  9.,  9., 11., 21., 12., 15.,  9., 11.,  2.,  2.,  3.,  3.,\n         0.,  1.,  1.,  0.,  1.,  0.,  0.,  0.,  0.,  1.,  0.,  0.,  0.,\n         0.,  0.,  0.,  1.]),\n array([13.80844021, 15.32736839, 16.84629656, 18.36522474, 19.88415292,\n        21.4030811 , 22.92200928, 24.44093746, 25.95986563, 27.47879381,\n        28.99772199, 30.51665017, 32.03557835, 33.55450652, 35.0734347 ,\n        36.59236288, 38.11129106, 39.63021924, 41.14914742, 42.66807559,\n        44.18700377, 45.70593195, 47.22486013, 48.74378831, 50.26271648,\n        51.78164466, 53.30057284, 54.81950102, 56.3384292 , 57.85735737,\n        59.37628555]),\n <BarContainer object of 30 artists>)"
     },
     "execution_count": 9,
     "metadata": {},
     "output_type": "execute_result"
    },
    {
     "data": {
      "text/plain": "<Figure size 640x480 with 1 Axes>",
      "image/png": "[encoded data removed]"
     },
     "metadata": {},
     "output_type": "display_data"
    }
   ],
   "source": [
    "plt.hist(train_datasets[['lat_Max_all_frames']], bins = 30)"
   ],
   "metadata": {
    "collapsed": false
   }
  },
  {
   "cell_type": "markdown",
   "source": [
    "## MSE Naive Benchmark"
   ],
   "metadata": {
    "collapsed": false
   }
  },
  {
   "cell_type": "code",
   "execution_count": 10,
   "outputs": [
    {
     "name": "stdout",
     "output_type": "stream",
     "text": [
      "Average medial cartilage pressure: med_Max_all_frames    29.375729\n",
      "dtype: float64\n",
      "Average lateral cartilage pressure: lat_Max_all_frames    23.144449\n",
      "dtype: float64\n"
     ]
    }
   ],
   "source": [
    "predicted_pressure_med = np.mean(train_datasets[['med_Max_all_frames']])\n",
    "predicted_pressure_lat = np.mean(train_datasets[['lat_Max_all_frames']])\n",
    "print(f\"Average medial cartilage pressure: {predicted_pressure_med}\")\n",
    "print(f\"Average lateral cartilage pressure: {predicted_pressure_lat}\")\n",
    "\n",
    "n = len(test_datasets[['lat_Max_all_frames']])\n",
    "\n",
    "simple_prediction_med = [predicted_pressure_med for i in range(n)]\n",
    "simple_prediction_lat = [predicted_pressure_lat for i in range(n)]\n"
   ],
   "metadata": {
    "collapsed": false
   }
  },
  {
   "cell_type": "markdown",
   "source": [
    "### Metrics for naive prediction"
   ],
   "metadata": {
    "collapsed": false
   }
  },
  {
   "cell_type": "code",
   "execution_count": 11,
   "outputs": [
    {
     "name": "stdout",
     "output_type": "stream",
     "text": [
      "Mean squared error medial: 53.93\n",
      "Mean squared error lateral: 25.28\n"
     ]
    }
   ],
   "source": [
    "# The mean squared error\n",
    "mse_mean_med = mean_squared_error(simple_prediction_med, test_datasets[['med_Max_all_frames']])\n",
    "\n",
    "mse_mean_lat = mean_squared_error(simple_prediction_lat, test_datasets[['lat_Max_all_frames']])\n",
    "\n",
    "print(\"Mean squared error medial: %.2f\" % mse_mean_med)\n",
    "print(\"Mean squared error lateral: %.2f\" % mse_mean_lat)"
   ],
   "metadata": {
    "collapsed": false
   }
  },
  {
   "cell_type": "markdown",
   "source": [
    "## Logistic Regression\n",
    "### Choose some features\n",
    "\n",
    "#### Train data set"
   ],
   "metadata": {
    "collapsed": false
   }
  },
  {
   "cell_type": "code",
   "execution_count": 12,
   "outputs": [],
   "source": [
    "train_x_LR = train_datasets[[\"Femur_volume\", \"Tibia_volume\", \"Femur_Car_volume\",\n",
    "                                \"Tibia_L_Car_volume\", \"Tibia_L_Car_volume\",\n",
    "                                \"Femur_bounds_x\", \"Tibia_bounds_x\",\n",
    "                                \"Femur_Car_bounds_x\",\n",
    "                                \"Tibia_M_Car_bounds_x\", \"Tibia_L_Car_bounds_x\",\n",
    "                                \"Femur_bounds_y\", \"Tibia_bounds_y\",\n",
    "                                \"Femur_Car_bounds_y\",\n",
    "                                \"Tibia_M_Car_bounds_y\", \"Tibia_L_Car_bounds_y\",\n",
    "                                \"Femur_bounds_z\", \"Tibia_bounds_z\",\n",
    "                                \"Femur_Car_bounds_z\",\n",
    "                                \"Tibia_M_Car_bounds_z\", \"Tibia_L_Car_bounds_z\",\n",
    "                                \"Simulation_len\",\n",
    "                                \"tib_med_curv\", \"tib_lat_curv\",\n",
    "                                \"tib_med_ishealthy\", \"tib_lat_ishealthy\",\n",
    "                                \"femur_gap_dist\",\n",
    "                                \"Mean_dist_femur_tibia_lat_car\", \"Mean_dist_femur_tibia_med_car\"]]"
   ],
   "metadata": {
    "collapsed": false
   }
  },
  {
   "cell_type": "code",
   "execution_count": 13,
   "outputs": [],
   "source": [
    "train_y_lat_LR = train_datasets[['lat_Max_all_frames']]\n",
    "train_y_med_LR = train_datasets[['med_Max_all_frames']]"
   ],
   "metadata": {
    "collapsed": false
   }
  },
  {
   "cell_type": "markdown",
   "source": [
    "#### Test data set"
   ],
   "metadata": {
    "collapsed": false
   }
  },
  {
   "cell_type": "code",
   "execution_count": 14,
   "outputs": [],
   "source": [
    "test_x_LR = test_datasets[[\"Femur_volume\", \"Tibia_volume\", \"Femur_Car_volume\",\n",
    "                                \"Tibia_L_Car_volume\", \"Tibia_L_Car_volume\",\n",
    "                                \"Femur_bounds_x\", \"Tibia_bounds_x\",\n",
    "                                \"Femur_Car_bounds_x\",\n",
    "                                \"Tibia_M_Car_bounds_x\", \"Tibia_L_Car_bounds_x\",\n",
    "                                \"Femur_bounds_y\", \"Tibia_bounds_y\",\n",
    "                                \"Femur_Car_bounds_y\",\n",
    "                                \"Tibia_M_Car_bounds_y\", \"Tibia_L_Car_bounds_y\",\n",
    "                                \"Femur_bounds_z\", \"Tibia_bounds_z\",\n",
    "                                \"Femur_Car_bounds_z\",\n",
    "                                \"Tibia_M_Car_bounds_z\", \"Tibia_L_Car_bounds_z\",\n",
    "                                \"Simulation_len\",\n",
    "                                \"tib_med_curv\", \"tib_lat_curv\",\n",
    "                                \"tib_med_ishealthy\", \"tib_lat_ishealthy\",\n",
    "                                \"femur_gap_dist\",\n",
    "                                \"Mean_dist_femur_tibia_lat_car\", \"Mean_dist_femur_tibia_med_car\"]]"
   ],
   "metadata": {
    "collapsed": false
   }
  },
  {
   "cell_type": "code",
   "execution_count": 15,
   "outputs": [],
   "source": [
    "test_y_lat_LR = test_datasets[['lat_Max_all_frames']]\n",
    "test_y_med_LR = test_datasets[['med_Max_all_frames']]"
   ],
   "metadata": {
    "collapsed": false
   }
  },
  {
   "cell_type": "markdown",
   "source": [
    "### Train LR model"
   ],
   "metadata": {
    "collapsed": false
   }
  },
  {
   "cell_type": "code",
   "execution_count": 16,
   "outputs": [
    {
     "data": {
      "text/plain": "LinearRegression()",
      "text/html": "<style>#sk-container-id-1 {color: black;background-color: white;}#sk-container-id-1 pre{padding: 0;}#sk-container-id-1 div.sk-toggleable {background-color: white;}#sk-container-id-1 label.sk-toggleable__label {cursor: pointer;display: block;width: 100%;margin-bottom: 0;padding: 0.3em;box-sizing: border-box;text-align: center;}#sk-container-id-1 label.sk-toggleable__label-arrow:before {content: \"▸\";float: left;margin-right: 0.25em;color: #696969;}#sk-container-id-1 label.sk-toggleable__label-arrow:hover:before {color: black;}#sk-container-id-1 div.sk-estimator:hover label.sk-toggleable__label-arrow:before {color: black;}#sk-container-id-1 div.sk-toggleable__content {max-height: 0;max-width: 0;overflow: hidden;text-align: left;background-color: #f0f8ff;}#sk-container-id-1 div.sk-toggleable__content pre {margin: 0.2em;color: black;border-radius: 0.25em;background-color: #f0f8ff;}#sk-container-id-1 input.sk-toggleable__control:checked~div.sk-toggleable__content {max-height: 200px;max-width: 100%;overflow: auto;}#sk-container-id-1 input.sk-toggleable__control:checked~label.sk-toggleable__label-arrow:before {content: \"▾\";}#sk-container-id-1 div.sk-estimator input.sk-toggleable__control:checked~label.sk-toggleable__label {background-color: #d4ebff;}#sk-container-id-1 div.sk-label input.sk-toggleable__control:checked~label.sk-toggleable__label {background-color: #d4ebff;}#sk-container-id-1 input.sk-hidden--visually {border: 0;clip: rect(1px 1px 1px 1px);clip: rect(1px, 1px, 1px, 1px);height: 1px;margin: -1px;overflow: hidden;padding: 0;position: absolute;width: 1px;}#sk-container-id-1 div.sk-estimator {font-family: monospace;background-color: #f0f8ff;border: 1px dotted black;border-radius: 0.25em;box-sizing: border-box;margin-bottom: 0.5em;}#sk-container-id-1 div.sk-estimator:hover {background-color: #d4ebff;}#sk-container-id-1 div.sk-parallel-item::after {content: \"\";width: 100%;border-bottom: 1px solid gray;flex-grow: 1;}#sk-container-id-1 div.sk-label:hover label.sk-toggleable__label {background-color: #d4ebff;}#sk-container-id-1 div.sk-serial::before {content: \"\";position: absolute;border-left: 1px solid gray;box-sizing: border-box;top: 0;bottom: 0;left: 50%;z-index: 0;}#sk-container-id-1 div.sk-serial {display: flex;flex-direction: column;align-items: center;background-color: white;padding-right: 0.2em;padding-left: 0.2em;position: relative;}#sk-container-id-1 div.sk-item {position: relative;z-index: 1;}#sk-container-id-1 div.sk-parallel {display: flex;align-items: stretch;justify-content: center;background-color: white;position: relative;}#sk-container-id-1 div.sk-item::before, #sk-container-id-1 div.sk-parallel-item::before {content: \"\";position: absolute;border-left: 1px solid gray;box-sizing: border-box;top: 0;bottom: 0;left: 50%;z-index: -1;}#sk-container-id-1 div.sk-parallel-item {display: flex;flex-direction: column;z-index: 1;position: relative;background-color: white;}#sk-container-id-1 div.sk-parallel-item:first-child::after {align-self: flex-end;width: 50%;}#sk-container-id-1 div.sk-parallel-item:last-child::after {align-self: flex-start;width: 50%;}#sk-container-id-1 div.sk-parallel-item:only-child::after {width: 0;}#sk-container-id-1 div.sk-dashed-wrapped {border: 1px dashed gray;margin: 0 0.4em 0.5em 0.4em;box-sizing: border-box;padding-bottom: 0.4em;background-color: white;}#sk-container-id-1 div.sk-label label {font-family: monospace;font-weight: bold;display: inline-block;line-height: 1.2em;}#sk-container-id-1 div.sk-label-container {text-align: center;}#sk-container-id-1 div.sk-container {/* jupyter's `normalize.less` sets `[hidden] { display: none; }` but bootstrap.min.css set `[hidden] { display: none !important; }` so we also need the `!important` here to be able to override the default hidden behavior on the sphinx rendered scikit-learn.org. See: https://github.com/scikit-learn/scikit-learn/issues/21755 */display: inline-block !important;position: relative;}#sk-container-id-1 div.sk-text-repr-fallback {display: none;}</style><div id=\"sk-container-id-1\" class=\"sk-top-container\"><div class=\"sk-text-repr-fallback\"><pre>LinearRegression()</pre><b>In a Jupyter environment, please rerun this cell to show the HTML representation or trust the notebook. <br />On GitHub, the HTML representation is unable to render, please try loading this page with nbviewer.org.</b></div><div class=\"sk-container\" hidden><div class=\"sk-item\"><div class=\"sk-estimator sk-toggleable\"><input class=\"sk-toggleable__control sk-hidden--visually\" id=\"sk-estimator-id-1\" type=\"checkbox\" checked><label for=\"sk-estimator-id-1\" class=\"sk-toggleable__label sk-toggleable__label-arrow\">LinearRegression</label><div class=\"sk-toggleable__content\"><pre>LinearRegression()</pre></div></div></div></div></div>"
     },
     "execution_count": 16,
     "metadata": {},
     "output_type": "execute_result"
    }
   ],
   "source": [
    "# define the model\n",
    "# Create linear regression object\n",
    "regr_lat = linear_model.LinearRegression()\n",
    "regr_med = linear_model.LinearRegression()\n",
    "\n",
    "# Train the model using the training sets\n",
    "regr_lat.fit(train_x_LR, train_y_lat_LR)\n",
    "regr_med.fit(train_x_LR, train_y_med_LR)"
   ],
   "metadata": {
    "collapsed": false
   }
  },
  {
   "cell_type": "markdown",
   "source": [
    "### Verify results"
   ],
   "metadata": {
    "collapsed": false
   }
  },
  {
   "cell_type": "code",
   "execution_count": 17,
   "outputs": [],
   "source": [
    "# Make predictions using the testing set\n",
    "test_y_med_LR_pred = regr_med.predict(test_x_LR)\n",
    "test_y_lat_LR_pred = regr_lat.predict(test_x_LR)"
   ],
   "metadata": {
    "collapsed": false
   }
  },
  {
   "cell_type": "code",
   "execution_count": 18,
   "outputs": [
    {
     "name": "stdout",
     "output_type": "stream",
     "text": [
      "Mean squared error medial: 44.26\n",
      "Mean squared error lateral: 28.09\n",
      "Coefficient of determination medial: -0.19\n",
      "Coefficient of determination lateral: -0.19\n"
     ]
    }
   ],
   "source": [
    "mse_LR_med = mean_squared_error(test_y_med_LR_pred, test_y_med_LR)\n",
    "mse_LR_lat = mean_squared_error(test_y_lat_LR_pred, test_y_lat_LR)\n",
    "\n",
    "# The mean squared error\n",
    "print(\"Mean squared error medial: %.2f\" % mse_LR_med)\n",
    "print(\"Mean squared error lateral: %.2f\" % mse_LR_lat)\n",
    "\n",
    "# The coefficient of determination: 1 is perfect prediction\n",
    "print(\"Coefficient of determination medial: %.2f\" % r2_score(test_y_med_LR_pred, test_y_med_LR))\n",
    "print(\"Coefficient of determination lateral: %.2f\" % r2_score(test_y_lat_LR_pred, test_y_lat_LR))"
   ],
   "metadata": {
    "collapsed": false
   }
  },
  {
   "cell_type": "markdown",
   "source": [
    "## Regularized Regression"
   ],
   "metadata": {
    "collapsed": false
   }
  },
  {
   "cell_type": "code",
   "execution_count": 19,
   "outputs": [],
   "source": [
    "train_x = train_datasets.drop(['lat_Max_all_frames', 'med_Max_all_frames'], axis=1)\n",
    "test_x = test_datasets.drop(['lat_Max_all_frames', 'med_Max_all_frames'], axis=1)"
   ],
   "metadata": {
    "collapsed": false
   }
  },
  {
   "cell_type": "code",
   "execution_count": 20,
   "outputs": [],
   "source": [
    "train_y_lat = train_datasets[['lat_Max_all_frames']]\n",
    "train_y_med = train_datasets[['med_Max_all_frames']]\n",
    "\n",
    "test_y_lat = test_datasets[['lat_Max_all_frames']]\n",
    "test_y_med = test_datasets[['med_Max_all_frames']]"
   ],
   "metadata": {
    "collapsed": false
   }
  },
  {
   "cell_type": "markdown",
   "source": [
    "### Lasso"
   ],
   "metadata": {
    "collapsed": false
   }
  },
  {
   "cell_type": "code",
   "execution_count": 21,
   "outputs": [
    {
     "data": {
      "text/plain": "Lasso(alpha=100, max_iter=1000000)",
      "text/html": "<style>#sk-container-id-2 {color: black;background-color: white;}#sk-container-id-2 pre{padding: 0;}#sk-container-id-2 div.sk-toggleable {background-color: white;}#sk-container-id-2 label.sk-toggleable__label {cursor: pointer;display: block;width: 100%;margin-bottom: 0;padding: 0.3em;box-sizing: border-box;text-align: center;}#sk-container-id-2 label.sk-toggleable__label-arrow:before {content: \"▸\";float: left;margin-right: 0.25em;color: #696969;}#sk-container-id-2 label.sk-toggleable__label-arrow:hover:before {color: black;}#sk-container-id-2 div.sk-estimator:hover label.sk-toggleable__label-arrow:before {color: black;}#sk-container-id-2 div.sk-toggleable__content {max-height: 0;max-width: 0;overflow: hidden;text-align: left;background-color: #f0f8ff;}#sk-container-id-2 div.sk-toggleable__content pre {margin: 0.2em;color: black;border-radius: 0.25em;background-color: #f0f8ff;}#sk-container-id-2 input.sk-toggleable__control:checked~div.sk-toggleable__content {max-height: 200px;max-width: 100%;overflow: auto;}#sk-container-id-2 input.sk-toggleable__control:checked~label.sk-toggleable__label-arrow:before {content: \"▾\";}#sk-container-id-2 div.sk-estimator input.sk-toggleable__control:checked~label.sk-toggleable__label {background-color: #d4ebff;}#sk-container-id-2 div.sk-label input.sk-toggleable__control:checked~label.sk-toggleable__label {background-color: #d4ebff;}#sk-container-id-2 input.sk-hidden--visually {border: 0;clip: rect(1px 1px 1px 1px);clip: rect(1px, 1px, 1px, 1px);height: 1px;margin: -1px;overflow: hidden;padding: 0;position: absolute;width: 1px;}#sk-container-id-2 div.sk-estimator {font-family: monospace;background-color: #f0f8ff;border: 1px dotted black;border-radius: 0.25em;box-sizing: border-box;margin-bottom: 0.5em;}#sk-container-id-2 div.sk-estimator:hover {background-color: #d4ebff;}#sk-container-id-2 div.sk-parallel-item::after {content: \"\";width: 100%;border-bottom: 1px solid gray;flex-grow: 1;}#sk-container-id-2 div.sk-label:hover label.sk-toggleable__label {background-color: #d4ebff;}#sk-container-id-2 div.sk-serial::before {content: \"\";position: absolute;border-left: 1px solid gray;box-sizing: border-box;top: 0;bottom: 0;left: 50%;z-index: 0;}#sk-container-id-2 div.sk-serial {display: flex;flex-direction: column;align-items: center;background-color: white;padding-right: 0.2em;padding-left: 0.2em;position: relative;}#sk-container-id-2 div.sk-item {position: relative;z-index: 1;}#sk-container-id-2 div.sk-parallel {display: flex;align-items: stretch;justify-content: center;background-color: white;position: relative;}#sk-container-id-2 div.sk-item::before, #sk-container-id-2 div.sk-parallel-item::before {content: \"\";position: absolute;border-left: 1px solid gray;box-sizing: border-box;top: 0;bottom: 0;left: 50%;z-index: -1;}#sk-container-id-2 div.sk-parallel-item {display: flex;flex-direction: column;z-index: 1;position: relative;background-color: white;}#sk-container-id-2 div.sk-parallel-item:first-child::after {align-self: flex-end;width: 50%;}#sk-container-id-2 div.sk-parallel-item:last-child::after {align-self: flex-start;width: 50%;}#sk-container-id-2 div.sk-parallel-item:only-child::after {width: 0;}#sk-container-id-2 div.sk-dashed-wrapped {border: 1px dashed gray;margin: 0 0.4em 0.5em 0.4em;box-sizing: border-box;padding-bottom: 0.4em;background-color: white;}#sk-container-id-2 div.sk-label label {font-family: monospace;font-weight: bold;display: inline-block;line-height: 1.2em;}#sk-container-id-2 div.sk-label-container {text-align: center;}#sk-container-id-2 div.sk-container {/* jupyter's `normalize.less` sets `[hidden] { display: none; }` but bootstrap.min.css set `[hidden] { display: none !important; }` so we also need the `!important` here to be able to override the default hidden behavior on the sphinx rendered scikit-learn.org. See: https://github.com/scikit-learn/scikit-learn/issues/21755 */display: inline-block !important;position: relative;}#sk-container-id-2 div.sk-text-repr-fallback {display: none;}</style><div id=\"sk-container-id-2\" class=\"sk-top-container\"><div class=\"sk-text-repr-fallback\"><pre>Lasso(alpha=100, max_iter=1000000)</pre><b>In a Jupyter environment, please rerun this cell to show the HTML representation or trust the notebook. <br />On GitHub, the HTML representation is unable to render, please try loading this page with nbviewer.org.</b></div><div class=\"sk-container\" hidden><div class=\"sk-item\"><div class=\"sk-estimator sk-toggleable\"><input class=\"sk-toggleable__control sk-hidden--visually\" id=\"sk-estimator-id-2\" type=\"checkbox\" checked><label for=\"sk-estimator-id-2\" class=\"sk-toggleable__label sk-toggleable__label-arrow\">Lasso</label><div class=\"sk-toggleable__content\"><pre>Lasso(alpha=100, max_iter=1000000)</pre></div></div></div></div></div>"
     },
     "execution_count": 21,
     "metadata": {},
     "output_type": "execute_result"
    }
   ],
   "source": [
    "model_lasso_lat = linear_model.Lasso(alpha=100, max_iter=1000000)\n",
    "model_lasso_lat.fit(train_x, train_y_lat)"
   ],
   "metadata": {
    "collapsed": false
   }
  },
  {
   "cell_type": "code",
   "execution_count": 22,
   "outputs": [
    {
     "data": {
      "text/plain": "Lasso(alpha=100, max_iter=1000000)",
      "text/html": "<style>#sk-container-id-3 {color: black;background-color: white;}#sk-container-id-3 pre{padding: 0;}#sk-container-id-3 div.sk-toggleable {background-color: white;}#sk-container-id-3 label.sk-toggleable__label {cursor: pointer;display: block;width: 100%;margin-bottom: 0;padding: 0.3em;box-sizing: border-box;text-align: center;}#sk-container-id-3 label.sk-toggleable__label-arrow:before {content: \"▸\";float: left;margin-right: 0.25em;color: #696969;}#sk-container-id-3 label.sk-toggleable__label-arrow:hover:before {color: black;}#sk-container-id-3 div.sk-estimator:hover label.sk-toggleable__label-arrow:before {color: black;}#sk-container-id-3 div.sk-toggleable__content {max-height: 0;max-width: 0;overflow: hidden;text-align: left;background-color: #f0f8ff;}#sk-container-id-3 div.sk-toggleable__content pre {margin: 0.2em;color: black;border-radius: 0.25em;background-color: #f0f8ff;}#sk-container-id-3 input.sk-toggleable__control:checked~div.sk-toggleable__content {max-height: 200px;max-width: 100%;overflow: auto;}#sk-container-id-3 input.sk-toggleable__control:checked~label.sk-toggleable__label-arrow:before {content: \"▾\";}#sk-container-id-3 div.sk-estimator input.sk-toggleable__control:checked~label.sk-toggleable__label {background-color: #d4ebff;}#sk-container-id-3 div.sk-label input.sk-toggleable__control:checked~label.sk-toggleable__label {background-color: #d4ebff;}#sk-container-id-3 input.sk-hidden--visually {border: 0;clip: rect(1px 1px 1px 1px);clip: rect(1px, 1px, 1px, 1px);height: 1px;margin: -1px;overflow: hidden;padding: 0;position: absolute;width: 1px;}#sk-container-id-3 div.sk-estimator {font-family: monospace;background-color: #f0f8ff;border: 1px dotted black;border-radius: 0.25em;box-sizing: border-box;margin-bottom: 0.5em;}#sk-container-id-3 div.sk-estimator:hover {background-color: #d4ebff;}#sk-container-id-3 div.sk-parallel-item::after {content: \"\";width: 100%;border-bottom: 1px solid gray;flex-grow: 1;}#sk-container-id-3 div.sk-label:hover label.sk-toggleable__label {background-color: #d4ebff;}#sk-container-id-3 div.sk-serial::before {content: \"\";position: absolute;border-left: 1px solid gray;box-sizing: border-box;top: 0;bottom: 0;left: 50%;z-index: 0;}#sk-container-id-3 div.sk-serial {display: flex;flex-direction: column;align-items: center;background-color: white;padding-right: 0.2em;padding-left: 0.2em;position: relative;}#sk-container-id-3 div.sk-item {position: relative;z-index: 1;}#sk-container-id-3 div.sk-parallel {display: flex;align-items: stretch;justify-content: center;background-color: white;position: relative;}#sk-container-id-3 div.sk-item::before, #sk-container-id-3 div.sk-parallel-item::before {content: \"\";position: absolute;border-left: 1px solid gray;box-sizing: border-box;top: 0;bottom: 0;left: 50%;z-index: -1;}#sk-container-id-3 div.sk-parallel-item {display: flex;flex-direction: column;z-index: 1;position: relative;background-color: white;}#sk-container-id-3 div.sk-parallel-item:first-child::after {align-self: flex-end;width: 50%;}#sk-container-id-3 div.sk-parallel-item:last-child::after {align-self: flex-start;width: 50%;}#sk-container-id-3 div.sk-parallel-item:only-child::after {width: 0;}#sk-container-id-3 div.sk-dashed-wrapped {border: 1px dashed gray;margin: 0 0.4em 0.5em 0.4em;box-sizing: border-box;padding-bottom: 0.4em;background-color: white;}#sk-container-id-3 div.sk-label label {font-family: monospace;font-weight: bold;display: inline-block;line-height: 1.2em;}#sk-container-id-3 div.sk-label-container {text-align: center;}#sk-container-id-3 div.sk-container {/* jupyter's `normalize.less` sets `[hidden] { display: none; }` but bootstrap.min.css set `[hidden] { display: none !important; }` so we also need the `!important` here to be able to override the default hidden behavior on the sphinx rendered scikit-learn.org. See: https://github.com/scikit-learn/scikit-learn/issues/21755 */display: inline-block !important;position: relative;}#sk-container-id-3 div.sk-text-repr-fallback {display: none;}</style><div id=\"sk-container-id-3\" class=\"sk-top-container\"><div class=\"sk-text-repr-fallback\"><pre>Lasso(alpha=100, max_iter=1000000)</pre><b>In a Jupyter environment, please rerun this cell to show the HTML representation or trust the notebook. <br />On GitHub, the HTML representation is unable to render, please try loading this page with nbviewer.org.</b></div><div class=\"sk-container\" hidden><div class=\"sk-item\"><div class=\"sk-estimator sk-toggleable\"><input class=\"sk-toggleable__control sk-hidden--visually\" id=\"sk-estimator-id-3\" type=\"checkbox\" checked><label for=\"sk-estimator-id-3\" class=\"sk-toggleable__label sk-toggleable__label-arrow\">Lasso</label><div class=\"sk-toggleable__content\"><pre>Lasso(alpha=100, max_iter=1000000)</pre></div></div></div></div></div>"
     },
     "execution_count": 22,
     "metadata": {},
     "output_type": "execute_result"
    }
   ],
   "source": [
    "model_lasso_med = linear_model.Lasso(alpha=100, max_iter=1000000)\n",
    "model_lasso_med.fit(train_x, train_y_med)"
   ],
   "metadata": {
    "collapsed": false
   }
  },
  {
   "cell_type": "code",
   "execution_count": 23,
   "outputs": [],
   "source": [
    "test_y_lat_lasso_predict = model_lasso_lat.predict(test_x)\n",
    "test_y_mrd_lasso_predict = model_lasso_med.predict(test_x)"
   ],
   "metadata": {
    "collapsed": false
   }
  },
  {
   "cell_type": "code",
   "execution_count": 24,
   "outputs": [
    {
     "name": "stdout",
     "output_type": "stream",
     "text": [
      "Mean squared error medial: 39.33\n",
      "Mean squared error lateral: 51.50\n"
     ]
    }
   ],
   "source": [
    "mse_lasso_med = mean_squared_error(test_y_med, test_y_mrd_lasso_predict)\n",
    "mse_lasso_lat = mean_squared_error(test_y_lat, test_y_lat_lasso_predict )\n",
    "# The mean squared error\n",
    "print(\"Mean squared error medial: %.2f\" % mse_lasso_med)\n",
    "print(\"Mean squared error lateral: %.2f\" % mse_lasso_lat)"
   ],
   "metadata": {
    "collapsed": false
   }
  },
  {
   "cell_type": "markdown",
   "source": [
    "## Random Forest"
   ],
   "metadata": {
    "collapsed": false
   }
  },
  {
   "cell_type": "code",
   "execution_count": 25,
   "outputs": [],
   "source": [
    "n_estimator = 1000\n",
    "model_rf_lat = RandomForestRegressor(n_estimators=n_estimator)\n",
    "model_rf_med = RandomForestRegressor(n_estimators=n_estimator)\n",
    "\n",
    "model_rf_lat.fit(train_x, train_y_lat)\n",
    "model_rf_med.fit(train_x, train_y_med)\n",
    "test_y_lat_rf_predict = model_rf_lat.predict(test_x)\n",
    "test_y_med_rf_predict = model_rf_med.predict(test_x)\n"
   ],
   "metadata": {
    "collapsed": false
   }
  },
  {
   "cell_type": "code",
   "execution_count": 26,
   "outputs": [
    {
     "name": "stdout",
     "output_type": "stream",
     "text": [
      "Mean squared error medial: 36.58\n",
      "Mean squared error lateral: 43.01\n"
     ]
    }
   ],
   "source": [
    "mse_RF_med = mean_squared_error(test_y_med, test_y_med_rf_predict)\n",
    "mse_RF_lat = mean_squared_error(test_y_lat, test_y_lat_rf_predict)\n",
    "# The mean squared error\n",
    "print(\"Mean squared error medial: %.2f\" % mse_RF_med)\n",
    "print(\"Mean squared error lateral: %.2f\" % mse_RF_lat)"
   ],
   "metadata": {
    "collapsed": false
   }
  },
  {
   "cell_type": "markdown",
   "source": [
    "## XGBoost"
   ],
   "metadata": {
    "collapsed": false
   }
  },
  {
   "cell_type": "code",
   "execution_count": 27,
   "outputs": [],
   "source": [
    "model_xgb_lat = xgb.XGBRegressor(n_estimators=1000, max_depth=10, eta=0.1, subsample=0.6, colsample_bytree=0.8)\n",
    "model_xgb_med = xgb.XGBRegressor(n_estimators=1000, max_depth=10, eta=0.1, subsample=0.6, colsample_bytree=0.8)"
   ],
   "metadata": {
    "collapsed": false
   }
  },
  {
   "cell_type": "code",
   "execution_count": 28,
   "outputs": [
    {
     "data": {
      "text/plain": "XGBRegressor(base_score=0.5, booster='gbtree', callbacks=None,\n             colsample_bylevel=1, colsample_bynode=1, colsample_bytree=0.8,\n             early_stopping_rounds=None, enable_categorical=False, eta=0.1,\n             eval_metric=None, feature_types=None, gamma=0, gpu_id=-1,\n             grow_policy='depthwise', importance_type=None,\n             interaction_constraints='', learning_rate=0.100000001, max_bin=256,\n             max_cat_threshold=64, max_cat_to_onehot=4, max_delta_step=0,\n             max_depth=10, max_leaves=0, min_child_weight=1, missing=nan,\n             monotone_constraints='()', n_estimators=1000, n_jobs=0,\n             num_parallel_tree=1, predictor='auto', ...)",
      "text/html": "<style>#sk-container-id-4 {color: black;background-color: white;}#sk-container-id-4 pre{padding: 0;}#sk-container-id-4 div.sk-toggleable {background-color: white;}#sk-container-id-4 label.sk-toggleable__label {cursor: pointer;display: block;width: 100%;margin-bottom: 0;padding: 0.3em;box-sizing: border-box;text-align: center;}#sk-container-id-4 label.sk-toggleable__label-arrow:before {content: \"▸\";float: left;margin-right: 0.25em;color: #696969;}#sk-container-id-4 label.sk-toggleable__label-arrow:hover:before {color: black;}#sk-container-id-4 div.sk-estimator:hover label.sk-toggleable__label-arrow:before {color: black;}#sk-container-id-4 div.sk-toggleable__content {max-height: 0;max-width: 0;overflow: hidden;text-align: left;background-color: #f0f8ff;}#sk-container-id-4 div.sk-toggleable__content pre {margin: 0.2em;color: black;border-radius: 0.25em;background-color: #f0f8ff;}#sk-container-id-4 input.sk-toggleable__control:checked~div.sk-toggleable__content {max-height: 200px;max-width: 100%;overflow: auto;}#sk-container-id-4 input.sk-toggleable__control:checked~label.sk-toggleable__label-arrow:before {content: \"▾\";}#sk-container-id-4 div.sk-estimator input.sk-toggleable__control:checked~label.sk-toggleable__label {background-color: #d4ebff;}#sk-container-id-4 div.sk-label input.sk-toggleable__control:checked~label.sk-toggleable__label {background-color: #d4ebff;}#sk-container-id-4 input.sk-hidden--visually {border: 0;clip: rect(1px 1px 1px 1px);clip: rect(1px, 1px, 1px, 1px);height: 1px;margin: -1px;overflow: hidden;padding: 0;position: absolute;width: 1px;}#sk-container-id-4 div.sk-estimator {font-family: monospace;background-color: #f0f8ff;border: 1px dotted black;border-radius: 0.25em;box-sizing: border-box;margin-bottom: 0.5em;}#sk-container-id-4 div.sk-estimator:hover {background-color: #d4ebff;}#sk-container-id-4 div.sk-parallel-item::after {content: \"\";width: 100%;border-bottom: 1px solid gray;flex-grow: 1;}#sk-container-id-4 div.sk-label:hover label.sk-toggleable__label {background-color: #d4ebff;}#sk-container-id-4 div.sk-serial::before {content: \"\";position: absolute;border-left: 1px solid gray;box-sizing: border-box;top: 0;bottom: 0;left: 50%;z-index: 0;}#sk-container-id-4 div.sk-serial {display: flex;flex-direction: column;align-items: center;background-color: white;padding-right: 0.2em;padding-left: 0.2em;position: relative;}#sk-container-id-4 div.sk-item {position: relative;z-index: 1;}#sk-container-id-4 div.sk-parallel {display: flex;align-items: stretch;justify-content: center;background-color: white;position: relative;}#sk-container-id-4 div.sk-item::before, #sk-container-id-4 div.sk-parallel-item::before {content: \"\";position: absolute;border-left: 1px solid gray;box-sizing: border-box;top: 0;bottom: 0;left: 50%;z-index: -1;}#sk-container-id-4 div.sk-parallel-item {display: flex;flex-direction: column;z-index: 1;position: relative;background-color: white;}#sk-container-id-4 div.sk-parallel-item:first-child::after {align-self: flex-end;width: 50%;}#sk-container-id-4 div.sk-parallel-item:last-child::after {align-self: flex-start;width: 50%;}#sk-container-id-4 div.sk-parallel-item:only-child::after {width: 0;}#sk-container-id-4 div.sk-dashed-wrapped {border: 1px dashed gray;margin: 0 0.4em 0.5em 0.4em;box-sizing: border-box;padding-bottom: 0.4em;background-color: white;}#sk-container-id-4 div.sk-label label {font-family: monospace;font-weight: bold;display: inline-block;line-height: 1.2em;}#sk-container-id-4 div.sk-label-container {text-align: center;}#sk-container-id-4 div.sk-container {/* jupyter's `normalize.less` sets `[hidden] { display: none; }` but bootstrap.min.css set `[hidden] { display: none !important; }` so we also need the `!important` here to be able to override the default hidden behavior on the sphinx rendered scikit-learn.org. See: https://github.com/scikit-learn/scikit-learn/issues/21755 */display: inline-block !important;position: relative;}#sk-container-id-4 div.sk-text-repr-fallback {display: none;}</style><div id=\"sk-container-id-4\" class=\"sk-top-container\"><div class=\"sk-text-repr-fallback\"><pre>XGBRegressor(base_score=0.5, booster=&#x27;gbtree&#x27;, callbacks=None,\n             colsample_bylevel=1, colsample_bynode=1, colsample_bytree=0.8,\n             early_stopping_rounds=None, enable_categorical=False, eta=0.1,\n             eval_metric=None, feature_types=None, gamma=0, gpu_id=-1,\n             grow_policy=&#x27;depthwise&#x27;, importance_type=None,\n             interaction_constraints=&#x27;&#x27;, learning_rate=0.100000001, max_bin=256,\n             max_cat_threshold=64, max_cat_to_onehot=4, max_delta_step=0,\n             max_depth=10, max_leaves=0, min_child_weight=1, missing=nan,\n             monotone_constraints=&#x27;()&#x27;, n_estimators=1000, n_jobs=0,\n             num_parallel_tree=1, predictor=&#x27;auto&#x27;, ...)</pre><b>In a Jupyter environment, please rerun this cell to show the HTML representation or trust the notebook. <br />On GitHub, the HTML representation is unable to render, please try loading this page with nbviewer.org.</b></div><div class=\"sk-container\" hidden><div class=\"sk-item\"><div class=\"sk-estimator sk-toggleable\"><input class=\"sk-toggleable__control sk-hidden--visually\" id=\"sk-estimator-id-4\" type=\"checkbox\" checked><label for=\"sk-estimator-id-4\" class=\"sk-toggleable__label sk-toggleable__label-arrow\">XGBRegressor</label><div class=\"sk-toggleable__content\"><pre>XGBRegressor(base_score=0.5, booster=&#x27;gbtree&#x27;, callbacks=None,\n             colsample_bylevel=1, colsample_bynode=1, colsample_bytree=0.8,\n             early_stopping_rounds=None, enable_categorical=False, eta=0.1,\n             eval_metric=None, feature_types=None, gamma=0, gpu_id=-1,\n             grow_policy=&#x27;depthwise&#x27;, importance_type=None,\n             interaction_constraints=&#x27;&#x27;, learning_rate=0.100000001, max_bin=256,\n             max_cat_threshold=64, max_cat_to_onehot=4, max_delta_step=0,\n             max_depth=10, max_leaves=0, min_child_weight=1, missing=nan,\n             monotone_constraints=&#x27;()&#x27;, n_estimators=1000, n_jobs=0,\n             num_parallel_tree=1, predictor=&#x27;auto&#x27;, ...)</pre></div></div></div></div></div>"
     },
     "execution_count": 28,
     "metadata": {},
     "output_type": "execute_result"
    }
   ],
   "source": [
    "model_xgb_lat.fit(train_x, train_y_lat)\n",
    "model_xgb_med.fit(train_x, train_y_med)"
   ],
   "metadata": {
    "collapsed": false
   }
  },
  {
   "cell_type": "code",
   "execution_count": 29,
   "outputs": [],
   "source": [
    "test_y_lat_rgb_predict = model_xgb_lat.predict(test_x)\n",
    "test_y_med_rgb_predict = model_xgb_med.predict(test_x)"
   ],
   "metadata": {
    "collapsed": false
   }
  },
  {
   "cell_type": "code",
   "execution_count": 30,
   "outputs": [
    {
     "name": "stdout",
     "output_type": "stream",
     "text": [
      "Mean squared error medial: 40.32\n",
      "Mean squared error lateral: 54.19\n"
     ]
    }
   ],
   "source": [
    "mse_RGB_med = mean_squared_error(test_y_med, test_y_med_rgb_predict)\n",
    "mse_RGB_lat = mean_squared_error(test_y_lat, test_y_lat_rgb_predict)\n",
    "\n",
    "# The mean squared error\n",
    "print(\"Mean squared error medial: %.2f\" % mse_RGB_med)\n",
    "print(\"Mean squared error lateral: %.2f\" % mse_RGB_lat)"
   ],
   "metadata": {
    "collapsed": false
   }
  },
  {
   "cell_type": "markdown",
   "source": [
    "## MultiLayer Perceptron Model"
   ],
   "metadata": {
    "collapsed": false
   }
  },
  {
   "cell_type": "code",
   "execution_count": 31,
   "outputs": [],
   "source": [
    "model_regr_lat = MLPRegressor(random_state=1, max_iter=5000)\n",
    "model_regr_med = MLPRegressor(random_state=1, max_iter=5000)\n",
    "\n",
    "model_regr_lat.fit(train_x, train_y_lat)\n",
    "model_regr_med.fit(train_x, train_y_med)\n",
    "test_y_lat_regr_predict = model_regr_lat.predict(test_x)\n",
    "test_y_med_regr_predict = model_regr_med.predict(test_x)"
   ],
   "metadata": {
    "collapsed": false
   }
  },
  {
   "cell_type": "code",
   "execution_count": 32,
   "outputs": [
    {
     "name": "stdout",
     "output_type": "stream",
     "text": [
      "Mean squared error medial: 7146.50\n",
      "Mean squared error lateral: 2107.94\n"
     ]
    }
   ],
   "source": [
    "mse_MLP_med = mean_squared_error(test_y_med, test_y_med_regr_predict)\n",
    "mse_MLP_lat = mean_squared_error(test_y_lat, test_y_lat_regr_predict)\n",
    "\n",
    "# The mean squared error\n",
    "print(\"Mean squared error medial: %.2f\" % mse_MLP_med)\n",
    "print(\"Mean squared error lateral: %.2f\" % mse_MLP_lat)"
   ],
   "metadata": {
    "collapsed": false
   }
  },
  {
   "cell_type": "markdown",
   "source": [
    "## Combine all data together"
   ],
   "metadata": {
    "collapsed": false
   }
  },
  {
   "cell_type": "code",
   "execution_count": 33,
   "outputs": [],
   "source": [
    "mse_df = pd.DataFrame({\n",
    "    \"Model\": [\"Mean\", \"Linear Regression\", \"Lasso\", \"Random Forest\", \"XGBoost\", \"MultiLayer Perception\"],\n",
    "    \"MSE for medial\": [mse_mean_med, mse_LR_med, mse_lasso_med, mse_RF_med, mse_RGB_med, mse_MLP_med],\n",
    "    \"MSE for lateral\": [mse_mean_lat, mse_LR_lat, mse_lasso_lat, mse_RF_lat, mse_RGB_lat, mse_MLP_lat],\n",
    "})"
   ],
   "metadata": {
    "collapsed": false
   }
  },
  {
   "cell_type": "code",
   "execution_count": 34,
   "outputs": [
    {
     "data": {
      "text/plain": "                   Model  MSE for medial  MSE for lateral\n0                   Mean       53.933248        25.280210\n1      Linear Regression       44.259566        28.091058\n2                  Lasso       39.331195        51.495012\n3          Random Forest       36.584808        43.006081\n4                XGBoost       40.315562        54.185539\n5  MultiLayer Perception     7146.495407      2107.941451",
      "text/html": "<div>\n<style scoped>\n    .dataframe tbody tr th:only-of-type {\n        vertical-align: middle;\n    }\n\n    .dataframe tbody tr th {\n        vertical-align: top;\n    }\n\n    .dataframe thead th {\n        text-align: right;\n    }\n</style>\n<table border=\"1\" class=\"dataframe\">\n  <thead>\n    <tr style=\"text-align: right;\">\n      <th></th>\n      <th>Model</th>\n      <th>MSE for medial</th>\n      <th>MSE for lateral</th>\n    </tr>\n  </thead>\n  <tbody>\n    <tr>\n      <th>0</th>\n      <td>Mean</td>\n      <td>53.933248</td>\n      <td>25.280210</td>\n    </tr>\n    <tr>\n      <th>1</th>\n      <td>Linear Regression</td>\n      <td>44.259566</td>\n      <td>28.091058</td>\n    </tr>\n    <tr>\n      <th>2</th>\n      <td>Lasso</td>\n      <td>39.331195</td>\n      <td>51.495012</td>\n    </tr>\n    <tr>\n      <th>3</th>\n      <td>Random Forest</td>\n      <td>36.584808</td>\n      <td>43.006081</td>\n    </tr>\n    <tr>\n      <th>4</th>\n      <td>XGBoost</td>\n      <td>40.315562</td>\n      <td>54.185539</td>\n    </tr>\n    <tr>\n      <th>5</th>\n      <td>MultiLayer Perception</td>\n      <td>7146.495407</td>\n      <td>2107.941451</td>\n    </tr>\n  </tbody>\n</table>\n</div>"
     },
     "execution_count": 34,
     "metadata": {},
     "output_type": "execute_result"
    }
   ],
   "source": [
    "mse_df"
   ],
   "metadata": {
    "collapsed": false
   }
  },
  {
   "cell_type": "markdown",
   "source": [
    "## Check clustering\n"
   ],
   "metadata": {
    "collapsed": false
   }
  },
  {
   "cell_type": "code",
   "execution_count": 35,
   "outputs": [
    {
     "data": {
      "text/plain": "<Figure size 640x480 with 1 Axes>",
      "image/png": "[encoded data removed]"
     },
     "metadata": {},
     "output_type": "display_data"
    }
   ],
   "source": [
    "wcss = []\n",
    "for i in range(1, 11):\n",
    "    kmeans = KMeans(n_clusters = i, init = 'k-means++', random_state = 42)\n",
    "    kmeans.fit(train_x)\n",
    "    wcss.append(kmeans.inertia_)\n",
    "\n",
    "kmeans = KMeans(n_clusters = 19, init = 'k-means++', random_state = 42)\n",
    "kmeans.fit(train_x)\n",
    "wcss.append(kmeans.inertia_)\n",
    "plt.plot(range(1, 12), wcss)\n",
    "plt.title('The Elbow Method')\n",
    "plt.xlabel('Number of clusters')\n",
    "plt.ylabel('WCSS')\n",
    "plt.show()"
   ],
   "metadata": {
    "collapsed": false
   }
  },
  {
   "cell_type": "code",
   "execution_count": 36,
   "outputs": [],
   "source": [
    "kmeans = KMeans(n_clusters = 3, init = 'k-means++', random_state = 100)\n",
    "y_kmeans = kmeans.fit_predict(train_x)"
   ],
   "metadata": {
    "collapsed": false
   }
  },
  {
   "cell_type": "code",
   "execution_count": 38,
   "outputs": [],
   "source": [
    "cluster_df = pd.DataFrame.from_dict({\"Medial\": train_y_med[\"med_Max_all_frames\"],\n",
    "                           \"Lateral\": train_y_lat[\"lat_Max_all_frames\"],\n",
    "                           \"Cluster\": y_kmeans})"
   ],
   "metadata": {
    "collapsed": false
   }
  },
  {
   "cell_type": "code",
   "execution_count": 39,
   "outputs": [
    {
     "data": {
      "text/plain": "<AxesSubplot:xlabel='Medial', ylabel='Lateral'>"
     },
     "execution_count": 39,
     "metadata": {},
     "output_type": "execute_result"
    },
    {
     "data": {
      "text/plain": "<Figure size 640x480 with 1 Axes>",
      "image/png": "[encoded data removed]"
     },
     "metadata": {},
     "output_type": "display_data"
    }
   ],
   "source": [
    "sns.scatterplot(data=cluster_df, x=\"Medial\", y=\"Lateral\", hue=\"Cluster\")\n"
   ],
   "metadata": {
    "collapsed": false
   }
  }
 ],
 "metadata": {
  "kernelspec": {
   "display_name": "Python 3",
   "language": "python",
   "name": "python3"
  },
  "language_info": {
   "codemirror_mode": {
    "name": "ipython",
    "version": 2
   },
   "file_extension": ".py",
   "mimetype": "text/x-python",
   "name": "python",
   "nbconvert_exporter": "python",
   "pygments_lexer": "ipython2",
   "version": "2.7.6"
  }
 },
 "nbformat": 4,
 "nbformat_minor": 0
}
