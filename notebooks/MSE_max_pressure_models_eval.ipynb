{
 "cells": [
  {
   "cell_type": "code",
   "execution_count": 283,
   "metadata": {
    "collapsed": true
   },
   "outputs": [],
   "source": [
    "from pathlib import Path\n",
    "import numpy as np\n",
    "import pandas as pd\n",
    "import warnings\n",
    "warnings.filterwarnings(\"ignore\")\n",
    "import matplotlib.pyplot as plt\n",
    "import seaborn as sns\n",
    "from knee_stress_predict.config import processed_data_dir\n",
    "from sklearn import datasets, linear_model\n",
    "from sklearn.metrics import mean_squared_error, r2_score\n",
    "from sklearn.ensemble import RandomForestRegressor\n",
    "from sklearn.neural_network import MLPRegressor\n",
    "import xgboost as xgb"
   ]
  },
  {
   "cell_type": "markdown",
   "source": [
    "## Load data"
   ],
   "metadata": {
    "collapsed": false
   }
  },
  {
   "cell_type": "code",
   "execution_count": 172,
   "outputs": [],
   "source": [
    "data_set_name = \"set_3\"\n",
    "train_file_path = Path.joinpath(processed_data_dir, data_set_name,  \"train_cleaned.csv\")\n",
    "test_file_path = Path.joinpath(processed_data_dir, data_set_name,  \"test_cleaned.csv\")\n",
    "train_data = pd.read_csv(train_file_path).drop('Unnamed: 0', axis=1)\n",
    "test_data = pd.read_csv(test_file_path).drop('Unnamed: 0', axis=1)"
   ],
   "metadata": {
    "collapsed": false
   }
  },
  {
   "cell_type": "code",
   "execution_count": 173,
   "outputs": [
    {
     "name": "stdout",
     "output_type": "stream",
     "text": [
      "<class 'pandas.core.frame.DataFrame'>\n",
      "RangeIndex: 32776 entries, 0 to 32775\n",
      "Data columns (total 53 columns):\n",
      " #   Column                         Non-Null Count  Dtype  \n",
      "---  ------                         --------------  -----  \n",
      " 0   Code                           32776 non-null  object \n",
      " 1   Patella_PN                     32776 non-null  int64  \n",
      " 2   Femur_PN                       32776 non-null  int64  \n",
      " 3   Tibia_PN                       32776 non-null  int64  \n",
      " 4   Patella_Car_PN                 32776 non-null  int64  \n",
      " 5   Femur_Car_PN                   32776 non-null  int64  \n",
      " 6   Tibia_M_Car_PN                 32776 non-null  int64  \n",
      " 7   Tibia_L_Car_PN                 32776 non-null  int64  \n",
      " 8   Patella_volume                 32776 non-null  float64\n",
      " 9   Femur_volume                   32776 non-null  float64\n",
      " 10  Tibia_volume                   32776 non-null  float64\n",
      " 11  Patella_Car_volume             32776 non-null  float64\n",
      " 12  Femur_Car_volume               32776 non-null  float64\n",
      " 13  Tibia_M_Car_volume             32776 non-null  float64\n",
      " 14  Tibia_L_Car_volume             32776 non-null  float64\n",
      " 15  Patella_bounds_x               32776 non-null  float64\n",
      " 16  Femur_bounds_x                 32776 non-null  float64\n",
      " 17  Tibia_bounds_x                 32776 non-null  float64\n",
      " 18  Patella_Car_bounds_x           32776 non-null  float64\n",
      " 19  Femur_Car_bounds_x             32776 non-null  float64\n",
      " 20  Tibia_M_Car_bounds_x           32776 non-null  float64\n",
      " 21  Tibia_L_Car_bounds_x           32776 non-null  float64\n",
      " 22  Patella_bounds_y               32776 non-null  float64\n",
      " 23  Femur_bounds_y                 32776 non-null  float64\n",
      " 24  Tibia_bounds_y                 32776 non-null  float64\n",
      " 25  Patella_Car_bounds_y           32776 non-null  float64\n",
      " 26  Femur_Car_bounds_y             32776 non-null  float64\n",
      " 27  Tibia_M_Car_bounds_y           32776 non-null  float64\n",
      " 28  Tibia_L_Car_bounds_y           32776 non-null  float64\n",
      " 29  Patella_bounds_z               32776 non-null  float64\n",
      " 30  Femur_bounds_z                 32776 non-null  float64\n",
      " 31  Tibia_bounds_z                 32776 non-null  float64\n",
      " 32  Patella_Car_bounds_z           32776 non-null  float64\n",
      " 33  Femur_Car_bounds_z             32776 non-null  float64\n",
      " 34  Tibia_M_Car_bounds_z           32776 non-null  float64\n",
      " 35  Tibia_L_Car_bounds_z           32776 non-null  float64\n",
      " 36  Simulation_len                 32776 non-null  int64  \n",
      " 37  tib_med_curv                   32776 non-null  float64\n",
      " 38  tib_lat_curv                   32776 non-null  float64\n",
      " 39  tib_med_ishealthy              32776 non-null  int64  \n",
      " 40  tib_lat_ishealthy              32776 non-null  int64  \n",
      " 41  femur_gap_dist                 32776 non-null  float64\n",
      " 42  Max_dist_femur_tibia_lat_car   32776 non-null  float64\n",
      " 43  Min_dist_femur_tibia_lat_car   32776 non-null  float64\n",
      " 44  Mean_dist_femur_tibia_lat_car  32776 non-null  float64\n",
      " 45  Max_dist_femur_tibia_med_car   32776 non-null  float64\n",
      " 46  Min_dist_femur_tibia_med_car   32776 non-null  float64\n",
      " 47  Mean_dist_femur_tibia_med_car  32776 non-null  float64\n",
      " 48  lat_Max_all_frames             32776 non-null  float64\n",
      " 49  med_Max_all_frames             32776 non-null  float64\n",
      " 50  frame                          32776 non-null  int64  \n",
      " 51  Max_tib_med_contact_pressure   30753 non-null  float64\n",
      " 52  Max_tib_lat_contact_pressure   30753 non-null  float64\n",
      "dtypes: float64(41), int64(11), object(1)\n",
      "memory usage: 13.3+ MB\n"
     ]
    }
   ],
   "source": [
    "train_data.info()"
   ],
   "metadata": {
    "collapsed": false
   }
  },
  {
   "cell_type": "code",
   "execution_count": 174,
   "outputs": [],
   "source": [
    "def get_tframe_dataset(tframe_num, dataset):\n",
    "    tframe_dataset = dataset[dataset['frame'] == tframe_num]\n",
    "    return tframe_dataset"
   ],
   "metadata": {
    "collapsed": false
   }
  },
  {
   "cell_type": "code",
   "execution_count": 175,
   "outputs": [],
   "source": [
    "train_datasets = get_tframe_dataset(0, train_data)\n",
    "test_datasets = get_tframe_dataset(0, test_data)"
   ],
   "metadata": {
    "collapsed": false
   }
  },
  {
   "cell_type": "markdown",
   "source": [
    "## Drop unnecessary columns\n",
    "\n",
    "We need to delete \"Max_tib_med_contact_pressure\" and \"Max_tib_lat_contact_pressure\" since these features are for 0-time points only. In this notebook, we are more concentrated on maximal contact pressure, which are: \"med_Max_all_frames\" and \"lat_Max_all_frames\""
   ],
   "metadata": {
    "collapsed": false
   }
  },
  {
   "cell_type": "code",
   "execution_count": 176,
   "outputs": [],
   "source": [
    "train_datasets = train_datasets.drop([\"frame\", \"Code\", \"Max_tib_med_contact_pressure\", \"Max_tib_lat_contact_pressure\"], axis=1)\n",
    "\n",
    "test_datasets = test_datasets.drop([\"frame\", \"Code\", \"Max_tib_med_contact_pressure\", \"Max_tib_lat_contact_pressure\"], axis=1)"
   ],
   "metadata": {
    "collapsed": false
   }
  },
  {
   "cell_type": "code",
   "execution_count": 177,
   "outputs": [
    {
     "data": {
      "text/plain": "       Patella_PN  Femur_PN  Tibia_PN  Patella_Car_PN  Femur_Car_PN  \\\n0            1126      4113      2684            5900         21030   \n241           771      3414      2596            4485         18385   \n482           730      3404      2600            5055         18755   \n723           667      3814      2631            5245         19370   \n964           971      3746      2799            4985         22785   \n...           ...       ...       ...             ...           ...   \n31571         633      3084      2205            4255         20260   \n31812         686      2963      2388            4405         20910   \n32053         795      3669      2724            4765         20410   \n32294         801      3805      2575            4885         20400   \n32535         868      3794      3029            5430         20755   \n\n       Tibia_M_Car_PN  Tibia_L_Car_PN  Patella_volume   Femur_volume  \\\n0                2840            2840    33039.218053  228671.171460   \n241              2840            2840    21736.919532  184294.924991   \n482              2840            2840    20866.993760  184114.045604   \n723              2840            2840    17949.168458  221202.458278   \n964              2840            2840    30455.804840  217672.765536   \n...               ...             ...             ...            ...   \n31571            2185            2840    15168.028148  146698.667898   \n31812            2155            2840    15821.015946  140615.628188   \n32053            2840            2840    22375.020348  207318.185631   \n32294            2840            2840    22439.863013  215968.865103   \n32535            2840            2840    25084.417057  216622.182978   \n\n        Tibia_volume  ...  tib_lat_ishealthy  femur_gap_dist  \\\n0      134963.134980  ...                  1       22.935425   \n241    127637.611277  ...                  1       19.539911   \n482    128295.783408  ...                  1       18.387004   \n723    137472.394625  ...                  1       19.128202   \n964    155360.366258  ...                  1       22.098599   \n...              ...  ...                ...             ...   \n31571  102326.881891  ...                  1       21.102991   \n31812  110523.109264  ...                  1       19.857552   \n32053  146786.471170  ...                  1       22.148186   \n32294  136753.285023  ...                  1       22.762806   \n32535  168327.403757  ...                  1       19.888791   \n\n       Max_dist_femur_tibia_lat_car  Min_dist_femur_tibia_lat_car  \\\n0                         13.560157                      0.800195   \n241                       12.892850                      1.504442   \n482                       11.617199                      1.119438   \n723                       12.324972                      2.210197   \n964                       16.570434                      1.646447   \n...                             ...                           ...   \n31571                     14.732158                      1.686715   \n31812                     18.010511                      1.444001   \n32053                     16.633343                      1.874496   \n32294                     17.640301                      1.481010   \n32535                     19.743281                      2.204936   \n\n       Mean_dist_femur_tibia_lat_car  Max_dist_femur_tibia_med_car  \\\n0                           6.226970                     10.677269   \n241                         4.844820                      9.243396   \n482                         4.698536                      9.107268   \n723                         6.003760                     10.941657   \n964                         5.989795                     11.721987   \n...                              ...                           ...   \n31571                       5.659945                     13.039994   \n31812                       5.899954                     13.425811   \n32053                       6.641354                     15.426130   \n32294                       6.875417                     12.561378   \n32535                       6.574413                     16.267729   \n\n       Min_dist_femur_tibia_med_car  Mean_dist_femur_tibia_med_car  \\\n0                          1.029139                       4.306716   \n241                        1.418712                       4.015682   \n482                        1.398252                       3.890993   \n723                        2.428147                       5.948101   \n964                        1.394432                       4.899639   \n...                             ...                            ...   \n31571                      1.308433                       4.848711   \n31812                      1.667098                       5.354239   \n32053                      2.258161                       4.898385   \n32294                      2.246910                       4.471387   \n32535                      1.759706                       5.525146   \n\n       lat_Max_all_frames  med_Max_all_frames  \n0               20.057634           31.649405  \n241             18.555532           26.223894  \n482             19.447876           24.808067  \n723             19.930437           25.919180  \n964             26.539942           14.729120  \n...                   ...                 ...  \n31571           20.220541           36.707184  \n31812           27.401314           34.442417  \n32053           19.478767           22.278835  \n32294           20.616781           26.929873  \n32535           17.599583           22.764488  \n\n[136 rows x 49 columns]",
      "text/html": "<div>\n<style scoped>\n    .dataframe tbody tr th:only-of-type {\n        vertical-align: middle;\n    }\n\n    .dataframe tbody tr th {\n        vertical-align: top;\n    }\n\n    .dataframe thead th {\n        text-align: right;\n    }\n</style>\n<table border=\"1\" class=\"dataframe\">\n  <thead>\n    <tr style=\"text-align: right;\">\n      <th></th>\n      <th>Patella_PN</th>\n      <th>Femur_PN</th>\n      <th>Tibia_PN</th>\n      <th>Patella_Car_PN</th>\n      <th>Femur_Car_PN</th>\n      <th>Tibia_M_Car_PN</th>\n      <th>Tibia_L_Car_PN</th>\n      <th>Patella_volume</th>\n      <th>Femur_volume</th>\n      <th>Tibia_volume</th>\n      <th>...</th>\n      <th>tib_lat_ishealthy</th>\n      <th>femur_gap_dist</th>\n      <th>Max_dist_femur_tibia_lat_car</th>\n      <th>Min_dist_femur_tibia_lat_car</th>\n      <th>Mean_dist_femur_tibia_lat_car</th>\n      <th>Max_dist_femur_tibia_med_car</th>\n      <th>Min_dist_femur_tibia_med_car</th>\n      <th>Mean_dist_femur_tibia_med_car</th>\n      <th>lat_Max_all_frames</th>\n      <th>med_Max_all_frames</th>\n    </tr>\n  </thead>\n  <tbody>\n    <tr>\n      <th>0</th>\n      <td>1126</td>\n      <td>4113</td>\n      <td>2684</td>\n      <td>5900</td>\n      <td>21030</td>\n      <td>2840</td>\n      <td>2840</td>\n      <td>33039.218053</td>\n      <td>228671.171460</td>\n      <td>134963.134980</td>\n      <td>...</td>\n      <td>1</td>\n      <td>22.935425</td>\n      <td>13.560157</td>\n      <td>0.800195</td>\n      <td>6.226970</td>\n      <td>10.677269</td>\n      <td>1.029139</td>\n      <td>4.306716</td>\n      <td>20.057634</td>\n      <td>31.649405</td>\n    </tr>\n    <tr>\n      <th>241</th>\n      <td>771</td>\n      <td>3414</td>\n      <td>2596</td>\n      <td>4485</td>\n      <td>18385</td>\n      <td>2840</td>\n      <td>2840</td>\n      <td>21736.919532</td>\n      <td>184294.924991</td>\n      <td>127637.611277</td>\n      <td>...</td>\n      <td>1</td>\n      <td>19.539911</td>\n      <td>12.892850</td>\n      <td>1.504442</td>\n      <td>4.844820</td>\n      <td>9.243396</td>\n      <td>1.418712</td>\n      <td>4.015682</td>\n      <td>18.555532</td>\n      <td>26.223894</td>\n    </tr>\n    <tr>\n      <th>482</th>\n      <td>730</td>\n      <td>3404</td>\n      <td>2600</td>\n      <td>5055</td>\n      <td>18755</td>\n      <td>2840</td>\n      <td>2840</td>\n      <td>20866.993760</td>\n      <td>184114.045604</td>\n      <td>128295.783408</td>\n      <td>...</td>\n      <td>1</td>\n      <td>18.387004</td>\n      <td>11.617199</td>\n      <td>1.119438</td>\n      <td>4.698536</td>\n      <td>9.107268</td>\n      <td>1.398252</td>\n      <td>3.890993</td>\n      <td>19.447876</td>\n      <td>24.808067</td>\n    </tr>\n    <tr>\n      <th>723</th>\n      <td>667</td>\n      <td>3814</td>\n      <td>2631</td>\n      <td>5245</td>\n      <td>19370</td>\n      <td>2840</td>\n      <td>2840</td>\n      <td>17949.168458</td>\n      <td>221202.458278</td>\n      <td>137472.394625</td>\n      <td>...</td>\n      <td>1</td>\n      <td>19.128202</td>\n      <td>12.324972</td>\n      <td>2.210197</td>\n      <td>6.003760</td>\n      <td>10.941657</td>\n      <td>2.428147</td>\n      <td>5.948101</td>\n      <td>19.930437</td>\n      <td>25.919180</td>\n    </tr>\n    <tr>\n      <th>964</th>\n      <td>971</td>\n      <td>3746</td>\n      <td>2799</td>\n      <td>4985</td>\n      <td>22785</td>\n      <td>2840</td>\n      <td>2840</td>\n      <td>30455.804840</td>\n      <td>217672.765536</td>\n      <td>155360.366258</td>\n      <td>...</td>\n      <td>1</td>\n      <td>22.098599</td>\n      <td>16.570434</td>\n      <td>1.646447</td>\n      <td>5.989795</td>\n      <td>11.721987</td>\n      <td>1.394432</td>\n      <td>4.899639</td>\n      <td>26.539942</td>\n      <td>14.729120</td>\n    </tr>\n    <tr>\n      <th>...</th>\n      <td>...</td>\n      <td>...</td>\n      <td>...</td>\n      <td>...</td>\n      <td>...</td>\n      <td>...</td>\n      <td>...</td>\n      <td>...</td>\n      <td>...</td>\n      <td>...</td>\n      <td>...</td>\n      <td>...</td>\n      <td>...</td>\n      <td>...</td>\n      <td>...</td>\n      <td>...</td>\n      <td>...</td>\n      <td>...</td>\n      <td>...</td>\n      <td>...</td>\n      <td>...</td>\n    </tr>\n    <tr>\n      <th>31571</th>\n      <td>633</td>\n      <td>3084</td>\n      <td>2205</td>\n      <td>4255</td>\n      <td>20260</td>\n      <td>2185</td>\n      <td>2840</td>\n      <td>15168.028148</td>\n      <td>146698.667898</td>\n      <td>102326.881891</td>\n      <td>...</td>\n      <td>1</td>\n      <td>21.102991</td>\n      <td>14.732158</td>\n      <td>1.686715</td>\n      <td>5.659945</td>\n      <td>13.039994</td>\n      <td>1.308433</td>\n      <td>4.848711</td>\n      <td>20.220541</td>\n      <td>36.707184</td>\n    </tr>\n    <tr>\n      <th>31812</th>\n      <td>686</td>\n      <td>2963</td>\n      <td>2388</td>\n      <td>4405</td>\n      <td>20910</td>\n      <td>2155</td>\n      <td>2840</td>\n      <td>15821.015946</td>\n      <td>140615.628188</td>\n      <td>110523.109264</td>\n      <td>...</td>\n      <td>1</td>\n      <td>19.857552</td>\n      <td>18.010511</td>\n      <td>1.444001</td>\n      <td>5.899954</td>\n      <td>13.425811</td>\n      <td>1.667098</td>\n      <td>5.354239</td>\n      <td>27.401314</td>\n      <td>34.442417</td>\n    </tr>\n    <tr>\n      <th>32053</th>\n      <td>795</td>\n      <td>3669</td>\n      <td>2724</td>\n      <td>4765</td>\n      <td>20410</td>\n      <td>2840</td>\n      <td>2840</td>\n      <td>22375.020348</td>\n      <td>207318.185631</td>\n      <td>146786.471170</td>\n      <td>...</td>\n      <td>1</td>\n      <td>22.148186</td>\n      <td>16.633343</td>\n      <td>1.874496</td>\n      <td>6.641354</td>\n      <td>15.426130</td>\n      <td>2.258161</td>\n      <td>4.898385</td>\n      <td>19.478767</td>\n      <td>22.278835</td>\n    </tr>\n    <tr>\n      <th>32294</th>\n      <td>801</td>\n      <td>3805</td>\n      <td>2575</td>\n      <td>4885</td>\n      <td>20400</td>\n      <td>2840</td>\n      <td>2840</td>\n      <td>22439.863013</td>\n      <td>215968.865103</td>\n      <td>136753.285023</td>\n      <td>...</td>\n      <td>1</td>\n      <td>22.762806</td>\n      <td>17.640301</td>\n      <td>1.481010</td>\n      <td>6.875417</td>\n      <td>12.561378</td>\n      <td>2.246910</td>\n      <td>4.471387</td>\n      <td>20.616781</td>\n      <td>26.929873</td>\n    </tr>\n    <tr>\n      <th>32535</th>\n      <td>868</td>\n      <td>3794</td>\n      <td>3029</td>\n      <td>5430</td>\n      <td>20755</td>\n      <td>2840</td>\n      <td>2840</td>\n      <td>25084.417057</td>\n      <td>216622.182978</td>\n      <td>168327.403757</td>\n      <td>...</td>\n      <td>1</td>\n      <td>19.888791</td>\n      <td>19.743281</td>\n      <td>2.204936</td>\n      <td>6.574413</td>\n      <td>16.267729</td>\n      <td>1.759706</td>\n      <td>5.525146</td>\n      <td>17.599583</td>\n      <td>22.764488</td>\n    </tr>\n  </tbody>\n</table>\n<p>136 rows × 49 columns</p>\n</div>"
     },
     "execution_count": 177,
     "metadata": {},
     "output_type": "execute_result"
    }
   ],
   "source": [
    "train_datasets"
   ],
   "metadata": {
    "collapsed": false
   }
  },
  {
   "cell_type": "code",
   "execution_count": 178,
   "outputs": [
    {
     "data": {
      "text/plain": "      Patella_PN  Femur_PN  Tibia_PN  Patella_Car_PN  Femur_Car_PN  \\\n0            539      3078      2148            4425         18345   \n241          540      3022      2184            4285         16095   \n482          632      3265      2300            4615         19715   \n723          869      3581      3042            4875         20620   \n964          922      3866      2738            4645         21800   \n1205         997      3569      3013            5035         22675   \n1446         580      2726      2223            4575         20165   \n1687         704      3589      2680            5735         19095   \n1928         639      2942      2069            1605         14805   \n2169         706      3320      2170            3360         20680   \n2410         818      3902      2694            5075         20825   \n2651         700      3117      2365            5145         18940   \n2892         670      3422      2511            4665         20300   \n3133         816      3471      2805            5045         20905   \n3374         637      3353      2186            2435         16635   \n3615         833      4182      3019            4825         22425   \n3856         759      3396      2249            4295         20085   \n4097        1012      4339      2724            3400         17045   \n4338         544      2508      2227            4345         18355   \n4579         511      3024      1854            3635         17165   \n4820         625      3022      2171            4715         19385   \n5061        1137      4142      2789            5275         21420   \n5302         696      3413      2690            3985         19245   \n5543         873      3921      2831            5690         21495   \n\n      Tibia_M_Car_PN  Tibia_L_Car_PN  Patella_volume   Femur_volume  \\\n0               2840            2840    13217.352901  157049.737203   \n241             2840            2840    14288.702996  159086.371584   \n482             2840            2840    16215.273244  174308.699962   \n723             2840            2840    26373.133976  201525.181237   \n964             2340            2840    26822.466759  217761.486440   \n1205            2840            2840    31601.733987  206925.519779   \n1446            2840            2840    13901.490578  129091.525824   \n1687            2840            2840    19181.692461  197000.659506   \n1928            2840            2840    15908.433842  149242.250217   \n2169            4260            2840    18799.562749  164129.999650   \n2410            2840            2840    23075.887366  230963.673009   \n2651            2460            2840    18278.178261  157254.990870   \n2892            5230            2840    17575.301278  182748.729439   \n3133            2840            2840    23077.844638  194402.116965   \n3374            2840            2840    16694.647128  173668.399345   \n3615            2840            2840    23435.137802  250617.357844   \n3856            2560            2840    20821.845928  169346.982475   \n4097            2840            2840    29331.968623  258414.715255   \n4338            2840            2840    13648.391518  121664.789636   \n4579            2840            2840    11670.115705  146963.825591   \n4820            2840            2840    14931.893097  149215.886238   \n5061            2840            2840    33682.157434  231437.991665   \n5302            2810            2840    19319.371684  195894.933676   \n5543            2840            2840    24799.135262  226161.340527   \n\n       Tibia_volume  ...  tib_lat_ishealthy  femur_gap_dist  \\\n0     106526.281429  ...                  1       14.423590   \n241   107813.929805  ...                  1       16.590023   \n482   113090.275314  ...                  1       17.502411   \n723   172656.815701  ...                  1       19.041824   \n964   143150.197170  ...                  1       24.568038   \n1205  168725.205892  ...                  1       19.937188   \n1446  102711.476797  ...                  1       17.791252   \n1687  145652.581038  ...                  1       18.845673   \n1928   99087.964847  ...                  1       16.251732   \n2169   97898.558255  ...                  1       44.107787   \n2410  147679.363356  ...                  1       16.083458   \n2651  112849.858005  ...                  1       15.477152   \n2892  126046.471411  ...                  1       19.165730   \n3133  153097.503228  ...                  1       19.552980   \n3374  106859.100304  ...                  1       20.416480   \n3615  165233.704125  ...                  1       19.964504   \n3856  103577.888218  ...                  1       15.972282   \n4097  138731.987496  ...                  1       17.180449   \n4338  103540.878736  ...                  1       20.837398   \n4579   84706.500340  ...                  1       17.021116   \n4820  102911.929577  ...                  1       18.540133   \n5061  139880.512171  ...                  1       19.629001   \n5302  147013.678392  ...                  1       17.630828   \n5543  154353.942127  ...                  1       19.603810   \n\n      Max_dist_femur_tibia_lat_car  Min_dist_femur_tibia_lat_car  \\\n0                        14.321398                      1.585903   \n241                      13.103768                      1.331985   \n482                      13.700978                      1.615834   \n723                      18.442018                      2.367709   \n964                      22.752636                      1.440737   \n1205                     16.729068                      1.207820   \n1446                     18.501297                      1.912809   \n1687                     14.280392                      2.602943   \n1928                     12.877489                      1.427210   \n2169                     10.271868                      1.303613   \n2410                     21.738448                      2.589250   \n2651                     18.596600                      2.718477   \n2892                     15.353947                      1.648240   \n3133                     17.436416                      1.832786   \n3374                     12.223973                      2.159055   \n3615                     14.383140                      2.171260   \n3856                     11.121685                      1.345430   \n4097                     12.178187                      1.852458   \n4338                     12.489628                      0.570422   \n4579                     20.315245                      2.178005   \n4820                     15.747611                      1.651787   \n5061                     13.941570                      0.987391   \n5302                     12.024448                      1.326659   \n5543                     18.862473                      2.616759   \n\n      Mean_dist_femur_tibia_lat_car  Max_dist_femur_tibia_med_car  \\\n0                          5.646224                      8.844857   \n241                        4.745842                      8.821852   \n482                        4.960033                     10.516684   \n723                        7.102561                     15.291503   \n964                        7.901696                     17.943346   \n1205                       6.030796                     10.350523   \n1446                       6.434524                     14.265063   \n1687                       6.476641                      9.661562   \n1928                       5.348188                      9.862777   \n2169                       4.619040                      9.772798   \n2410                       7.281379                     15.505745   \n2651                       6.753637                     12.078570   \n2892                       6.569890                     11.380183   \n3133                       7.209798                     11.834508   \n3374                       5.817460                     12.458664   \n3615                       5.927577                      9.368965   \n3856                       4.722723                     10.199230   \n4097                       6.176293                      9.838347   \n4338                       4.024060                      8.928969   \n4579                       6.800092                     13.785551   \n4820                       5.670845                      9.728744   \n5061                       6.105886                     10.304892   \n5302                       4.721662                     10.686018   \n5543                       6.815766                     15.943200   \n\n      Min_dist_femur_tibia_med_car  Mean_dist_femur_tibia_med_car  \\\n0                         1.074716                       4.018044   \n241                       0.469025                       3.081904   \n482                       0.908140                       4.071796   \n723                       2.578706                       6.441420   \n964                       0.774024                       5.269343   \n1205                      0.664740                       4.025312   \n1446                      1.038996                       4.600930   \n1687                      1.733849                       4.836324   \n1928                      1.474976                       4.303591   \n2169                      1.245017                       3.984866   \n2410                      1.479752                       4.971591   \n2651                      2.214038                       4.716952   \n2892                      1.514471                       4.698942   \n3133                      1.773031                       5.090567   \n3374                      1.134852                       5.603682   \n3615                      1.846610                       4.584824   \n3856                      1.059355                       3.856471   \n4097                      1.248360                       5.243077   \n4338                      1.147111                       3.341166   \n4579                      1.997644                       4.846633   \n4820                      1.010164                       4.052701   \n5061                      1.376902                       4.580906   \n5302                      0.717505                       3.511625   \n5543                      2.833736                       6.482209   \n\n      lat_Max_all_frames  med_Max_all_frames  \n0              20.898586           27.309856  \n241            27.334072           33.981598  \n482            20.869864           22.966322  \n723            19.721767           21.458328  \n964            21.266918           26.806919  \n1205           24.263035           16.543530  \n1446           24.354988           31.521906  \n1687           22.124178           29.335966  \n1928           18.513151           23.035765  \n2169           23.169041           22.456438  \n2410           18.191074           26.955072  \n2651           22.595034           23.070911  \n2892           13.808440           29.090311  \n3133           16.342916           24.726450  \n3374           30.219351           19.829250  \n3615           14.558925           17.618099  \n3856           22.920734           22.461914  \n4097           20.998919           21.368145  \n4338           25.943632           28.294409  \n4579           30.518879           29.017887  \n4820           26.788031           41.688950  \n5061           15.890460           34.044975  \n5302           20.504147           33.202858  \n5543           16.316133           22.707045  \n\n[24 rows x 49 columns]",
      "text/html": "<div>\n<style scoped>\n    .dataframe tbody tr th:only-of-type {\n        vertical-align: middle;\n    }\n\n    .dataframe tbody tr th {\n        vertical-align: top;\n    }\n\n    .dataframe thead th {\n        text-align: right;\n    }\n</style>\n<table border=\"1\" class=\"dataframe\">\n  <thead>\n    <tr style=\"text-align: right;\">\n      <th></th>\n      <th>Patella_PN</th>\n      <th>Femur_PN</th>\n      <th>Tibia_PN</th>\n      <th>Patella_Car_PN</th>\n      <th>Femur_Car_PN</th>\n      <th>Tibia_M_Car_PN</th>\n      <th>Tibia_L_Car_PN</th>\n      <th>Patella_volume</th>\n      <th>Femur_volume</th>\n      <th>Tibia_volume</th>\n      <th>...</th>\n      <th>tib_lat_ishealthy</th>\n      <th>femur_gap_dist</th>\n      <th>Max_dist_femur_tibia_lat_car</th>\n      <th>Min_dist_femur_tibia_lat_car</th>\n      <th>Mean_dist_femur_tibia_lat_car</th>\n      <th>Max_dist_femur_tibia_med_car</th>\n      <th>Min_dist_femur_tibia_med_car</th>\n      <th>Mean_dist_femur_tibia_med_car</th>\n      <th>lat_Max_all_frames</th>\n      <th>med_Max_all_frames</th>\n    </tr>\n  </thead>\n  <tbody>\n    <tr>\n      <th>0</th>\n      <td>539</td>\n      <td>3078</td>\n      <td>2148</td>\n      <td>4425</td>\n      <td>18345</td>\n      <td>2840</td>\n      <td>2840</td>\n      <td>13217.352901</td>\n      <td>157049.737203</td>\n      <td>106526.281429</td>\n      <td>...</td>\n      <td>1</td>\n      <td>14.423590</td>\n      <td>14.321398</td>\n      <td>1.585903</td>\n      <td>5.646224</td>\n      <td>8.844857</td>\n      <td>1.074716</td>\n      <td>4.018044</td>\n      <td>20.898586</td>\n      <td>27.309856</td>\n    </tr>\n    <tr>\n      <th>241</th>\n      <td>540</td>\n      <td>3022</td>\n      <td>2184</td>\n      <td>4285</td>\n      <td>16095</td>\n      <td>2840</td>\n      <td>2840</td>\n      <td>14288.702996</td>\n      <td>159086.371584</td>\n      <td>107813.929805</td>\n      <td>...</td>\n      <td>1</td>\n      <td>16.590023</td>\n      <td>13.103768</td>\n      <td>1.331985</td>\n      <td>4.745842</td>\n      <td>8.821852</td>\n      <td>0.469025</td>\n      <td>3.081904</td>\n      <td>27.334072</td>\n      <td>33.981598</td>\n    </tr>\n    <tr>\n      <th>482</th>\n      <td>632</td>\n      <td>3265</td>\n      <td>2300</td>\n      <td>4615</td>\n      <td>19715</td>\n      <td>2840</td>\n      <td>2840</td>\n      <td>16215.273244</td>\n      <td>174308.699962</td>\n      <td>113090.275314</td>\n      <td>...</td>\n      <td>1</td>\n      <td>17.502411</td>\n      <td>13.700978</td>\n      <td>1.615834</td>\n      <td>4.960033</td>\n      <td>10.516684</td>\n      <td>0.908140</td>\n      <td>4.071796</td>\n      <td>20.869864</td>\n      <td>22.966322</td>\n    </tr>\n    <tr>\n      <th>723</th>\n      <td>869</td>\n      <td>3581</td>\n      <td>3042</td>\n      <td>4875</td>\n      <td>20620</td>\n      <td>2840</td>\n      <td>2840</td>\n      <td>26373.133976</td>\n      <td>201525.181237</td>\n      <td>172656.815701</td>\n      <td>...</td>\n      <td>1</td>\n      <td>19.041824</td>\n      <td>18.442018</td>\n      <td>2.367709</td>\n      <td>7.102561</td>\n      <td>15.291503</td>\n      <td>2.578706</td>\n      <td>6.441420</td>\n      <td>19.721767</td>\n      <td>21.458328</td>\n    </tr>\n    <tr>\n      <th>964</th>\n      <td>922</td>\n      <td>3866</td>\n      <td>2738</td>\n      <td>4645</td>\n      <td>21800</td>\n      <td>2340</td>\n      <td>2840</td>\n      <td>26822.466759</td>\n      <td>217761.486440</td>\n      <td>143150.197170</td>\n      <td>...</td>\n      <td>1</td>\n      <td>24.568038</td>\n      <td>22.752636</td>\n      <td>1.440737</td>\n      <td>7.901696</td>\n      <td>17.943346</td>\n      <td>0.774024</td>\n      <td>5.269343</td>\n      <td>21.266918</td>\n      <td>26.806919</td>\n    </tr>\n    <tr>\n      <th>1205</th>\n      <td>997</td>\n      <td>3569</td>\n      <td>3013</td>\n      <td>5035</td>\n      <td>22675</td>\n      <td>2840</td>\n      <td>2840</td>\n      <td>31601.733987</td>\n      <td>206925.519779</td>\n      <td>168725.205892</td>\n      <td>...</td>\n      <td>1</td>\n      <td>19.937188</td>\n      <td>16.729068</td>\n      <td>1.207820</td>\n      <td>6.030796</td>\n      <td>10.350523</td>\n      <td>0.664740</td>\n      <td>4.025312</td>\n      <td>24.263035</td>\n      <td>16.543530</td>\n    </tr>\n    <tr>\n      <th>1446</th>\n      <td>580</td>\n      <td>2726</td>\n      <td>2223</td>\n      <td>4575</td>\n      <td>20165</td>\n      <td>2840</td>\n      <td>2840</td>\n      <td>13901.490578</td>\n      <td>129091.525824</td>\n      <td>102711.476797</td>\n      <td>...</td>\n      <td>1</td>\n      <td>17.791252</td>\n      <td>18.501297</td>\n      <td>1.912809</td>\n      <td>6.434524</td>\n      <td>14.265063</td>\n      <td>1.038996</td>\n      <td>4.600930</td>\n      <td>24.354988</td>\n      <td>31.521906</td>\n    </tr>\n    <tr>\n      <th>1687</th>\n      <td>704</td>\n      <td>3589</td>\n      <td>2680</td>\n      <td>5735</td>\n      <td>19095</td>\n      <td>2840</td>\n      <td>2840</td>\n      <td>19181.692461</td>\n      <td>197000.659506</td>\n      <td>145652.581038</td>\n      <td>...</td>\n      <td>1</td>\n      <td>18.845673</td>\n      <td>14.280392</td>\n      <td>2.602943</td>\n      <td>6.476641</td>\n      <td>9.661562</td>\n      <td>1.733849</td>\n      <td>4.836324</td>\n      <td>22.124178</td>\n      <td>29.335966</td>\n    </tr>\n    <tr>\n      <th>1928</th>\n      <td>639</td>\n      <td>2942</td>\n      <td>2069</td>\n      <td>1605</td>\n      <td>14805</td>\n      <td>2840</td>\n      <td>2840</td>\n      <td>15908.433842</td>\n      <td>149242.250217</td>\n      <td>99087.964847</td>\n      <td>...</td>\n      <td>1</td>\n      <td>16.251732</td>\n      <td>12.877489</td>\n      <td>1.427210</td>\n      <td>5.348188</td>\n      <td>9.862777</td>\n      <td>1.474976</td>\n      <td>4.303591</td>\n      <td>18.513151</td>\n      <td>23.035765</td>\n    </tr>\n    <tr>\n      <th>2169</th>\n      <td>706</td>\n      <td>3320</td>\n      <td>2170</td>\n      <td>3360</td>\n      <td>20680</td>\n      <td>4260</td>\n      <td>2840</td>\n      <td>18799.562749</td>\n      <td>164129.999650</td>\n      <td>97898.558255</td>\n      <td>...</td>\n      <td>1</td>\n      <td>44.107787</td>\n      <td>10.271868</td>\n      <td>1.303613</td>\n      <td>4.619040</td>\n      <td>9.772798</td>\n      <td>1.245017</td>\n      <td>3.984866</td>\n      <td>23.169041</td>\n      <td>22.456438</td>\n    </tr>\n    <tr>\n      <th>2410</th>\n      <td>818</td>\n      <td>3902</td>\n      <td>2694</td>\n      <td>5075</td>\n      <td>20825</td>\n      <td>2840</td>\n      <td>2840</td>\n      <td>23075.887366</td>\n      <td>230963.673009</td>\n      <td>147679.363356</td>\n      <td>...</td>\n      <td>1</td>\n      <td>16.083458</td>\n      <td>21.738448</td>\n      <td>2.589250</td>\n      <td>7.281379</td>\n      <td>15.505745</td>\n      <td>1.479752</td>\n      <td>4.971591</td>\n      <td>18.191074</td>\n      <td>26.955072</td>\n    </tr>\n    <tr>\n      <th>2651</th>\n      <td>700</td>\n      <td>3117</td>\n      <td>2365</td>\n      <td>5145</td>\n      <td>18940</td>\n      <td>2460</td>\n      <td>2840</td>\n      <td>18278.178261</td>\n      <td>157254.990870</td>\n      <td>112849.858005</td>\n      <td>...</td>\n      <td>1</td>\n      <td>15.477152</td>\n      <td>18.596600</td>\n      <td>2.718477</td>\n      <td>6.753637</td>\n      <td>12.078570</td>\n      <td>2.214038</td>\n      <td>4.716952</td>\n      <td>22.595034</td>\n      <td>23.070911</td>\n    </tr>\n    <tr>\n      <th>2892</th>\n      <td>670</td>\n      <td>3422</td>\n      <td>2511</td>\n      <td>4665</td>\n      <td>20300</td>\n      <td>5230</td>\n      <td>2840</td>\n      <td>17575.301278</td>\n      <td>182748.729439</td>\n      <td>126046.471411</td>\n      <td>...</td>\n      <td>1</td>\n      <td>19.165730</td>\n      <td>15.353947</td>\n      <td>1.648240</td>\n      <td>6.569890</td>\n      <td>11.380183</td>\n      <td>1.514471</td>\n      <td>4.698942</td>\n      <td>13.808440</td>\n      <td>29.090311</td>\n    </tr>\n    <tr>\n      <th>3133</th>\n      <td>816</td>\n      <td>3471</td>\n      <td>2805</td>\n      <td>5045</td>\n      <td>20905</td>\n      <td>2840</td>\n      <td>2840</td>\n      <td>23077.844638</td>\n      <td>194402.116965</td>\n      <td>153097.503228</td>\n      <td>...</td>\n      <td>1</td>\n      <td>19.552980</td>\n      <td>17.436416</td>\n      <td>1.832786</td>\n      <td>7.209798</td>\n      <td>11.834508</td>\n      <td>1.773031</td>\n      <td>5.090567</td>\n      <td>16.342916</td>\n      <td>24.726450</td>\n    </tr>\n    <tr>\n      <th>3374</th>\n      <td>637</td>\n      <td>3353</td>\n      <td>2186</td>\n      <td>2435</td>\n      <td>16635</td>\n      <td>2840</td>\n      <td>2840</td>\n      <td>16694.647128</td>\n      <td>173668.399345</td>\n      <td>106859.100304</td>\n      <td>...</td>\n      <td>1</td>\n      <td>20.416480</td>\n      <td>12.223973</td>\n      <td>2.159055</td>\n      <td>5.817460</td>\n      <td>12.458664</td>\n      <td>1.134852</td>\n      <td>5.603682</td>\n      <td>30.219351</td>\n      <td>19.829250</td>\n    </tr>\n    <tr>\n      <th>3615</th>\n      <td>833</td>\n      <td>4182</td>\n      <td>3019</td>\n      <td>4825</td>\n      <td>22425</td>\n      <td>2840</td>\n      <td>2840</td>\n      <td>23435.137802</td>\n      <td>250617.357844</td>\n      <td>165233.704125</td>\n      <td>...</td>\n      <td>1</td>\n      <td>19.964504</td>\n      <td>14.383140</td>\n      <td>2.171260</td>\n      <td>5.927577</td>\n      <td>9.368965</td>\n      <td>1.846610</td>\n      <td>4.584824</td>\n      <td>14.558925</td>\n      <td>17.618099</td>\n    </tr>\n    <tr>\n      <th>3856</th>\n      <td>759</td>\n      <td>3396</td>\n      <td>2249</td>\n      <td>4295</td>\n      <td>20085</td>\n      <td>2560</td>\n      <td>2840</td>\n      <td>20821.845928</td>\n      <td>169346.982475</td>\n      <td>103577.888218</td>\n      <td>...</td>\n      <td>1</td>\n      <td>15.972282</td>\n      <td>11.121685</td>\n      <td>1.345430</td>\n      <td>4.722723</td>\n      <td>10.199230</td>\n      <td>1.059355</td>\n      <td>3.856471</td>\n      <td>22.920734</td>\n      <td>22.461914</td>\n    </tr>\n    <tr>\n      <th>4097</th>\n      <td>1012</td>\n      <td>4339</td>\n      <td>2724</td>\n      <td>3400</td>\n      <td>17045</td>\n      <td>2840</td>\n      <td>2840</td>\n      <td>29331.968623</td>\n      <td>258414.715255</td>\n      <td>138731.987496</td>\n      <td>...</td>\n      <td>1</td>\n      <td>17.180449</td>\n      <td>12.178187</td>\n      <td>1.852458</td>\n      <td>6.176293</td>\n      <td>9.838347</td>\n      <td>1.248360</td>\n      <td>5.243077</td>\n      <td>20.998919</td>\n      <td>21.368145</td>\n    </tr>\n    <tr>\n      <th>4338</th>\n      <td>544</td>\n      <td>2508</td>\n      <td>2227</td>\n      <td>4345</td>\n      <td>18355</td>\n      <td>2840</td>\n      <td>2840</td>\n      <td>13648.391518</td>\n      <td>121664.789636</td>\n      <td>103540.878736</td>\n      <td>...</td>\n      <td>1</td>\n      <td>20.837398</td>\n      <td>12.489628</td>\n      <td>0.570422</td>\n      <td>4.024060</td>\n      <td>8.928969</td>\n      <td>1.147111</td>\n      <td>3.341166</td>\n      <td>25.943632</td>\n      <td>28.294409</td>\n    </tr>\n    <tr>\n      <th>4579</th>\n      <td>511</td>\n      <td>3024</td>\n      <td>1854</td>\n      <td>3635</td>\n      <td>17165</td>\n      <td>2840</td>\n      <td>2840</td>\n      <td>11670.115705</td>\n      <td>146963.825591</td>\n      <td>84706.500340</td>\n      <td>...</td>\n      <td>1</td>\n      <td>17.021116</td>\n      <td>20.315245</td>\n      <td>2.178005</td>\n      <td>6.800092</td>\n      <td>13.785551</td>\n      <td>1.997644</td>\n      <td>4.846633</td>\n      <td>30.518879</td>\n      <td>29.017887</td>\n    </tr>\n    <tr>\n      <th>4820</th>\n      <td>625</td>\n      <td>3022</td>\n      <td>2171</td>\n      <td>4715</td>\n      <td>19385</td>\n      <td>2840</td>\n      <td>2840</td>\n      <td>14931.893097</td>\n      <td>149215.886238</td>\n      <td>102911.929577</td>\n      <td>...</td>\n      <td>1</td>\n      <td>18.540133</td>\n      <td>15.747611</td>\n      <td>1.651787</td>\n      <td>5.670845</td>\n      <td>9.728744</td>\n      <td>1.010164</td>\n      <td>4.052701</td>\n      <td>26.788031</td>\n      <td>41.688950</td>\n    </tr>\n    <tr>\n      <th>5061</th>\n      <td>1137</td>\n      <td>4142</td>\n      <td>2789</td>\n      <td>5275</td>\n      <td>21420</td>\n      <td>2840</td>\n      <td>2840</td>\n      <td>33682.157434</td>\n      <td>231437.991665</td>\n      <td>139880.512171</td>\n      <td>...</td>\n      <td>1</td>\n      <td>19.629001</td>\n      <td>13.941570</td>\n      <td>0.987391</td>\n      <td>6.105886</td>\n      <td>10.304892</td>\n      <td>1.376902</td>\n      <td>4.580906</td>\n      <td>15.890460</td>\n      <td>34.044975</td>\n    </tr>\n    <tr>\n      <th>5302</th>\n      <td>696</td>\n      <td>3413</td>\n      <td>2690</td>\n      <td>3985</td>\n      <td>19245</td>\n      <td>2810</td>\n      <td>2840</td>\n      <td>19319.371684</td>\n      <td>195894.933676</td>\n      <td>147013.678392</td>\n      <td>...</td>\n      <td>1</td>\n      <td>17.630828</td>\n      <td>12.024448</td>\n      <td>1.326659</td>\n      <td>4.721662</td>\n      <td>10.686018</td>\n      <td>0.717505</td>\n      <td>3.511625</td>\n      <td>20.504147</td>\n      <td>33.202858</td>\n    </tr>\n    <tr>\n      <th>5543</th>\n      <td>873</td>\n      <td>3921</td>\n      <td>2831</td>\n      <td>5690</td>\n      <td>21495</td>\n      <td>2840</td>\n      <td>2840</td>\n      <td>24799.135262</td>\n      <td>226161.340527</td>\n      <td>154353.942127</td>\n      <td>...</td>\n      <td>1</td>\n      <td>19.603810</td>\n      <td>18.862473</td>\n      <td>2.616759</td>\n      <td>6.815766</td>\n      <td>15.943200</td>\n      <td>2.833736</td>\n      <td>6.482209</td>\n      <td>16.316133</td>\n      <td>22.707045</td>\n    </tr>\n  </tbody>\n</table>\n<p>24 rows × 49 columns</p>\n</div>"
     },
     "execution_count": 178,
     "metadata": {},
     "output_type": "execute_result"
    }
   ],
   "source": [
    "test_datasets"
   ],
   "metadata": {
    "collapsed": false
   }
  },
  {
   "cell_type": "code",
   "execution_count": 179,
   "outputs": [
    {
     "data": {
      "text/plain": "(array([ 1.,  0.,  5., 11., 14., 23., 16., 12., 18., 11.,  5.,  4.,  5.,\n         4.,  0.,  2.,  1.,  0.,  2.,  0.,  0.,  0.,  1.,  0.,  0.,  0.,\n         0.,  0.,  0.,  1.]),\n array([10.92055035, 12.53574152, 14.15093269, 15.76612387, 17.38131504,\n        18.99650621, 20.61169739, 22.22688856, 23.84207973, 25.45727091,\n        27.07246208, 28.68765326, 30.30284443, 31.9180356 , 33.53322678,\n        35.14841795, 36.76360912, 38.3788003 , 39.99399147, 41.60918264,\n        43.22437382, 44.83956499, 46.45475616, 48.06994734, 49.68513851,\n        51.30032969, 52.91552086, 54.53071203, 56.14590321, 57.76109438,\n        59.37628555]),\n <BarContainer object of 30 artists>)"
     },
     "execution_count": 179,
     "metadata": {},
     "output_type": "execute_result"
    },
    {
     "data": {
      "text/plain": "<Figure size 640x480 with 1 Axes>",
      "image/png": "[encoded data removed]"
     },
     "metadata": {},
     "output_type": "display_data"
    }
   ],
   "source": [
    "plt.hist(train_datasets[['lat_Max_all_frames']], bins = 30)"
   ],
   "metadata": {
    "collapsed": false
   }
  },
  {
   "cell_type": "markdown",
   "source": [
    "## MSE Naive Benchmark"
   ],
   "metadata": {
    "collapsed": false
   }
  },
  {
   "cell_type": "code",
   "execution_count": 180,
   "outputs": [
    {
     "name": "stdout",
     "output_type": "stream",
     "text": [
      "Average medial cartilage pressure: med_Max_all_frames    29.015095\n",
      "dtype: float64\n",
      "Average lateral cartilage pressure: lat_Max_all_frames    23.286776\n",
      "dtype: float64\n"
     ]
    }
   ],
   "source": [
    "predicted_pressure_med = np.mean(train_datasets[['med_Max_all_frames']])\n",
    "predicted_pressure_lat = np.mean(train_datasets[['lat_Max_all_frames']])\n",
    "print(f\"Average medial cartilage pressure: {predicted_pressure_med}\")\n",
    "print(f\"Average lateral cartilage pressure: {predicted_pressure_lat}\")\n",
    "\n",
    "n = len(test_datasets[['lat_Max_all_frames']])\n",
    "\n",
    "simple_prediction_med = [predicted_pressure_med for i in range(n)]\n",
    "simple_prediction_lat = [predicted_pressure_lat for i in range(n)]\n"
   ],
   "metadata": {
    "collapsed": false
   }
  },
  {
   "cell_type": "markdown",
   "source": [
    "### Metrics for naive prediction"
   ],
   "metadata": {
    "collapsed": false
   }
  },
  {
   "cell_type": "code",
   "execution_count": 303,
   "outputs": [
    {
     "name": "stdout",
     "output_type": "stream",
     "text": [
      "Mean squared error medial: 41.01\n",
      "Mean squared error lateral: 22.82\n"
     ]
    }
   ],
   "source": [
    "# The mean squared error\n",
    "mse_mean_med = mean_squared_error(simple_prediction_med, test_datasets[['med_Max_all_frames']])\n",
    "\n",
    "mse_mean_lat = mean_squared_error(simple_prediction_lat, test_datasets[['lat_Max_all_frames']])\n",
    "\n",
    "print(\"Mean squared error medial: %.2f\" % mse_mean_med)\n",
    "print(\"Mean squared error lateral: %.2f\" % mse_mean_lat)"
   ],
   "metadata": {
    "collapsed": false
   }
  },
  {
   "cell_type": "markdown",
   "source": [
    "## Logistic Regression\n",
    "### Choose some features\n",
    "\n",
    "#### Train data set"
   ],
   "metadata": {
    "collapsed": false
   }
  },
  {
   "cell_type": "code",
   "execution_count": 182,
   "outputs": [],
   "source": [
    "train_x_LR = train_datasets[[\"Femur_volume\", \"Tibia_volume\", \"Femur_Car_volume\",\n",
    "                                \"Tibia_L_Car_volume\", \"Tibia_L_Car_volume\",\n",
    "                                \"Femur_bounds_x\", \"Tibia_bounds_x\",\n",
    "                                \"Femur_Car_bounds_x\",\n",
    "                                \"Tibia_M_Car_bounds_x\", \"Tibia_L_Car_bounds_x\",\n",
    "                                \"Femur_bounds_y\", \"Tibia_bounds_y\",\n",
    "                                \"Femur_Car_bounds_y\",\n",
    "                                \"Tibia_M_Car_bounds_y\", \"Tibia_L_Car_bounds_y\",\n",
    "                                \"Femur_bounds_z\", \"Tibia_bounds_z\",\n",
    "                                \"Femur_Car_bounds_z\",\n",
    "                                \"Tibia_M_Car_bounds_z\", \"Tibia_L_Car_bounds_z\",\n",
    "                                \"Simulation_len\",\n",
    "                                \"tib_med_curv\", \"tib_lat_curv\",\n",
    "                                \"tib_med_ishealthy\", \"tib_lat_ishealthy\",\n",
    "                                \"femur_gap_dist\",\n",
    "                                \"Mean_dist_femur_tibia_lat_car\", \"Mean_dist_femur_tibia_med_car\"]]"
   ],
   "metadata": {
    "collapsed": false
   }
  },
  {
   "cell_type": "code",
   "execution_count": 183,
   "outputs": [],
   "source": [
    "train_y_lat_LR = train_datasets[['lat_Max_all_frames']]\n",
    "train_y_med_LR = train_datasets[['med_Max_all_frames']]"
   ],
   "metadata": {
    "collapsed": false
   }
  },
  {
   "cell_type": "markdown",
   "source": [
    "#### Test data set"
   ],
   "metadata": {
    "collapsed": false
   }
  },
  {
   "cell_type": "code",
   "execution_count": 184,
   "outputs": [],
   "source": [
    "test_x_LR = test_datasets[[\"Femur_volume\", \"Tibia_volume\", \"Femur_Car_volume\",\n",
    "                                \"Tibia_L_Car_volume\", \"Tibia_L_Car_volume\",\n",
    "                                \"Femur_bounds_x\", \"Tibia_bounds_x\",\n",
    "                                \"Femur_Car_bounds_x\",\n",
    "                                \"Tibia_M_Car_bounds_x\", \"Tibia_L_Car_bounds_x\",\n",
    "                                \"Femur_bounds_y\", \"Tibia_bounds_y\",\n",
    "                                \"Femur_Car_bounds_y\",\n",
    "                                \"Tibia_M_Car_bounds_y\", \"Tibia_L_Car_bounds_y\",\n",
    "                                \"Femur_bounds_z\", \"Tibia_bounds_z\",\n",
    "                                \"Femur_Car_bounds_z\",\n",
    "                                \"Tibia_M_Car_bounds_z\", \"Tibia_L_Car_bounds_z\",\n",
    "                                \"Simulation_len\",\n",
    "                                \"tib_med_curv\", \"tib_lat_curv\",\n",
    "                                \"tib_med_ishealthy\", \"tib_lat_ishealthy\",\n",
    "                                \"femur_gap_dist\",\n",
    "                                \"Mean_dist_femur_tibia_lat_car\", \"Mean_dist_femur_tibia_med_car\"]]"
   ],
   "metadata": {
    "collapsed": false
   }
  },
  {
   "cell_type": "code",
   "execution_count": 185,
   "outputs": [],
   "source": [
    "test_y_lat_LR = test_datasets[['lat_Max_all_frames']]\n",
    "test_y_med_LR = test_datasets[['med_Max_all_frames']]"
   ],
   "metadata": {
    "collapsed": false
   }
  },
  {
   "cell_type": "markdown",
   "source": [
    "### Train LR model"
   ],
   "metadata": {
    "collapsed": false
   }
  },
  {
   "cell_type": "code",
   "execution_count": 186,
   "outputs": [
    {
     "data": {
      "text/plain": "LinearRegression()",
      "text/html": "<style>#sk-container-id-23 {color: black;background-color: white;}#sk-container-id-23 pre{padding: 0;}#sk-container-id-23 div.sk-toggleable {background-color: white;}#sk-container-id-23 label.sk-toggleable__label {cursor: pointer;display: block;width: 100%;margin-bottom: 0;padding: 0.3em;box-sizing: border-box;text-align: center;}#sk-container-id-23 label.sk-toggleable__label-arrow:before {content: \"▸\";float: left;margin-right: 0.25em;color: #696969;}#sk-container-id-23 label.sk-toggleable__label-arrow:hover:before {color: black;}#sk-container-id-23 div.sk-estimator:hover label.sk-toggleable__label-arrow:before {color: black;}#sk-container-id-23 div.sk-toggleable__content {max-height: 0;max-width: 0;overflow: hidden;text-align: left;background-color: #f0f8ff;}#sk-container-id-23 div.sk-toggleable__content pre {margin: 0.2em;color: black;border-radius: 0.25em;background-color: #f0f8ff;}#sk-container-id-23 input.sk-toggleable__control:checked~div.sk-toggleable__content {max-height: 200px;max-width: 100%;overflow: auto;}#sk-container-id-23 input.sk-toggleable__control:checked~label.sk-toggleable__label-arrow:before {content: \"▾\";}#sk-container-id-23 div.sk-estimator input.sk-toggleable__control:checked~label.sk-toggleable__label {background-color: #d4ebff;}#sk-container-id-23 div.sk-label input.sk-toggleable__control:checked~label.sk-toggleable__label {background-color: #d4ebff;}#sk-container-id-23 input.sk-hidden--visually {border: 0;clip: rect(1px 1px 1px 1px);clip: rect(1px, 1px, 1px, 1px);height: 1px;margin: -1px;overflow: hidden;padding: 0;position: absolute;width: 1px;}#sk-container-id-23 div.sk-estimator {font-family: monospace;background-color: #f0f8ff;border: 1px dotted black;border-radius: 0.25em;box-sizing: border-box;margin-bottom: 0.5em;}#sk-container-id-23 div.sk-estimator:hover {background-color: #d4ebff;}#sk-container-id-23 div.sk-parallel-item::after {content: \"\";width: 100%;border-bottom: 1px solid gray;flex-grow: 1;}#sk-container-id-23 div.sk-label:hover label.sk-toggleable__label {background-color: #d4ebff;}#sk-container-id-23 div.sk-serial::before {content: \"\";position: absolute;border-left: 1px solid gray;box-sizing: border-box;top: 0;bottom: 0;left: 50%;z-index: 0;}#sk-container-id-23 div.sk-serial {display: flex;flex-direction: column;align-items: center;background-color: white;padding-right: 0.2em;padding-left: 0.2em;position: relative;}#sk-container-id-23 div.sk-item {position: relative;z-index: 1;}#sk-container-id-23 div.sk-parallel {display: flex;align-items: stretch;justify-content: center;background-color: white;position: relative;}#sk-container-id-23 div.sk-item::before, #sk-container-id-23 div.sk-parallel-item::before {content: \"\";position: absolute;border-left: 1px solid gray;box-sizing: border-box;top: 0;bottom: 0;left: 50%;z-index: -1;}#sk-container-id-23 div.sk-parallel-item {display: flex;flex-direction: column;z-index: 1;position: relative;background-color: white;}#sk-container-id-23 div.sk-parallel-item:first-child::after {align-self: flex-end;width: 50%;}#sk-container-id-23 div.sk-parallel-item:last-child::after {align-self: flex-start;width: 50%;}#sk-container-id-23 div.sk-parallel-item:only-child::after {width: 0;}#sk-container-id-23 div.sk-dashed-wrapped {border: 1px dashed gray;margin: 0 0.4em 0.5em 0.4em;box-sizing: border-box;padding-bottom: 0.4em;background-color: white;}#sk-container-id-23 div.sk-label label {font-family: monospace;font-weight: bold;display: inline-block;line-height: 1.2em;}#sk-container-id-23 div.sk-label-container {text-align: center;}#sk-container-id-23 div.sk-container {/* jupyter's `normalize.less` sets `[hidden] { display: none; }` but bootstrap.min.css set `[hidden] { display: none !important; }` so we also need the `!important` here to be able to override the default hidden behavior on the sphinx rendered scikit-learn.org. See: https://github.com/scikit-learn/scikit-learn/issues/21755 */display: inline-block !important;position: relative;}#sk-container-id-23 div.sk-text-repr-fallback {display: none;}</style><div id=\"sk-container-id-23\" class=\"sk-top-container\"><div class=\"sk-text-repr-fallback\"><pre>LinearRegression()</pre><b>In a Jupyter environment, please rerun this cell to show the HTML representation or trust the notebook. <br />On GitHub, the HTML representation is unable to render, please try loading this page with nbviewer.org.</b></div><div class=\"sk-container\" hidden><div class=\"sk-item\"><div class=\"sk-estimator sk-toggleable\"><input class=\"sk-toggleable__control sk-hidden--visually\" id=\"sk-estimator-id-23\" type=\"checkbox\" checked><label for=\"sk-estimator-id-23\" class=\"sk-toggleable__label sk-toggleable__label-arrow\">LinearRegression</label><div class=\"sk-toggleable__content\"><pre>LinearRegression()</pre></div></div></div></div></div>"
     },
     "execution_count": 186,
     "metadata": {},
     "output_type": "execute_result"
    }
   ],
   "source": [
    "# define the model\n",
    "# Create linear regression object\n",
    "regr_lat = linear_model.LinearRegression()\n",
    "regr_med = linear_model.LinearRegression()\n",
    "\n",
    "# Train the model using the training sets\n",
    "regr_lat.fit(train_x_LR, train_y_lat_LR)\n",
    "regr_med.fit(train_x_LR, train_y_med_LR)"
   ],
   "metadata": {
    "collapsed": false
   }
  },
  {
   "cell_type": "markdown",
   "source": [
    "### Verify results"
   ],
   "metadata": {
    "collapsed": false
   }
  },
  {
   "cell_type": "code",
   "execution_count": 279,
   "outputs": [],
   "source": [
    "# Make predictions using the testing set\n",
    "test_y_med_LR_pred = regr_med.predict(test_x_LR)\n",
    "test_y_lat_LR_pred = regr_lat.predict(test_x_LR)"
   ],
   "metadata": {
    "collapsed": false
   }
  },
  {
   "cell_type": "code",
   "execution_count": 280,
   "outputs": [
    {
     "name": "stdout",
     "output_type": "stream",
     "text": [
      "Mean squared error medial: 47.60\n",
      "Mean squared error lateral: 35.03\n",
      "Coefficient of determination medial: -0.85\n",
      "Coefficient of determination lateral: -0.87\n"
     ]
    }
   ],
   "source": [
    "mse_LR_med = mean_squared_error(test_y_med_LR_pred, test_y_med_LR)\n",
    "mse_LR_lat = mean_squared_error(test_y_lat_LR_pred, test_y_lat_LR)\n",
    "\n",
    "# The mean squared error\n",
    "print(\"Mean squared error medial: %.2f\" % mse_LR_med)\n",
    "print(\"Mean squared error lateral: %.2f\" % mse_LR_lat)\n",
    "\n",
    "# The coefficient of determination: 1 is perfect prediction\n",
    "print(\"Coefficient of determination medial: %.2f\" % r2_score(test_y_med_LR_pred, test_y_med_LR))\n",
    "print(\"Coefficient of determination lateral: %.2f\" % r2_score(test_y_lat_LR_pred, test_y_lat_LR))"
   ],
   "metadata": {
    "collapsed": false
   }
  },
  {
   "cell_type": "markdown",
   "source": [
    "## Regularized Regression"
   ],
   "metadata": {
    "collapsed": false
   }
  },
  {
   "cell_type": "code",
   "execution_count": 189,
   "outputs": [],
   "source": [
    "train_x = train_datasets.drop(['lat_Max_all_frames', 'med_Max_all_frames'], axis=1)\n",
    "test_x = test_datasets.drop(['lat_Max_all_frames', 'med_Max_all_frames'], axis=1)"
   ],
   "metadata": {
    "collapsed": false
   }
  },
  {
   "cell_type": "code",
   "execution_count": 190,
   "outputs": [],
   "source": [
    "train_y_lat = train_datasets[['lat_Max_all_frames']]\n",
    "train_y_med = train_datasets[['med_Max_all_frames']]\n",
    "\n",
    "test_y_lat = test_datasets[['lat_Max_all_frames']]\n",
    "test_y_med = test_datasets[['med_Max_all_frames']]"
   ],
   "metadata": {
    "collapsed": false
   }
  },
  {
   "cell_type": "markdown",
   "source": [
    "### Lasso"
   ],
   "metadata": {
    "collapsed": false
   }
  },
  {
   "cell_type": "code",
   "execution_count": 191,
   "outputs": [
    {
     "data": {
      "text/plain": "Lasso(alpha=100, max_iter=1000000)",
      "text/html": "<style>#sk-container-id-24 {color: black;background-color: white;}#sk-container-id-24 pre{padding: 0;}#sk-container-id-24 div.sk-toggleable {background-color: white;}#sk-container-id-24 label.sk-toggleable__label {cursor: pointer;display: block;width: 100%;margin-bottom: 0;padding: 0.3em;box-sizing: border-box;text-align: center;}#sk-container-id-24 label.sk-toggleable__label-arrow:before {content: \"▸\";float: left;margin-right: 0.25em;color: #696969;}#sk-container-id-24 label.sk-toggleable__label-arrow:hover:before {color: black;}#sk-container-id-24 div.sk-estimator:hover label.sk-toggleable__label-arrow:before {color: black;}#sk-container-id-24 div.sk-toggleable__content {max-height: 0;max-width: 0;overflow: hidden;text-align: left;background-color: #f0f8ff;}#sk-container-id-24 div.sk-toggleable__content pre {margin: 0.2em;color: black;border-radius: 0.25em;background-color: #f0f8ff;}#sk-container-id-24 input.sk-toggleable__control:checked~div.sk-toggleable__content {max-height: 200px;max-width: 100%;overflow: auto;}#sk-container-id-24 input.sk-toggleable__control:checked~label.sk-toggleable__label-arrow:before {content: \"▾\";}#sk-container-id-24 div.sk-estimator input.sk-toggleable__control:checked~label.sk-toggleable__label {background-color: #d4ebff;}#sk-container-id-24 div.sk-label input.sk-toggleable__control:checked~label.sk-toggleable__label {background-color: #d4ebff;}#sk-container-id-24 input.sk-hidden--visually {border: 0;clip: rect(1px 1px 1px 1px);clip: rect(1px, 1px, 1px, 1px);height: 1px;margin: -1px;overflow: hidden;padding: 0;position: absolute;width: 1px;}#sk-container-id-24 div.sk-estimator {font-family: monospace;background-color: #f0f8ff;border: 1px dotted black;border-radius: 0.25em;box-sizing: border-box;margin-bottom: 0.5em;}#sk-container-id-24 div.sk-estimator:hover {background-color: #d4ebff;}#sk-container-id-24 div.sk-parallel-item::after {content: \"\";width: 100%;border-bottom: 1px solid gray;flex-grow: 1;}#sk-container-id-24 div.sk-label:hover label.sk-toggleable__label {background-color: #d4ebff;}#sk-container-id-24 div.sk-serial::before {content: \"\";position: absolute;border-left: 1px solid gray;box-sizing: border-box;top: 0;bottom: 0;left: 50%;z-index: 0;}#sk-container-id-24 div.sk-serial {display: flex;flex-direction: column;align-items: center;background-color: white;padding-right: 0.2em;padding-left: 0.2em;position: relative;}#sk-container-id-24 div.sk-item {position: relative;z-index: 1;}#sk-container-id-24 div.sk-parallel {display: flex;align-items: stretch;justify-content: center;background-color: white;position: relative;}#sk-container-id-24 div.sk-item::before, #sk-container-id-24 div.sk-parallel-item::before {content: \"\";position: absolute;border-left: 1px solid gray;box-sizing: border-box;top: 0;bottom: 0;left: 50%;z-index: -1;}#sk-container-id-24 div.sk-parallel-item {display: flex;flex-direction: column;z-index: 1;position: relative;background-color: white;}#sk-container-id-24 div.sk-parallel-item:first-child::after {align-self: flex-end;width: 50%;}#sk-container-id-24 div.sk-parallel-item:last-child::after {align-self: flex-start;width: 50%;}#sk-container-id-24 div.sk-parallel-item:only-child::after {width: 0;}#sk-container-id-24 div.sk-dashed-wrapped {border: 1px dashed gray;margin: 0 0.4em 0.5em 0.4em;box-sizing: border-box;padding-bottom: 0.4em;background-color: white;}#sk-container-id-24 div.sk-label label {font-family: monospace;font-weight: bold;display: inline-block;line-height: 1.2em;}#sk-container-id-24 div.sk-label-container {text-align: center;}#sk-container-id-24 div.sk-container {/* jupyter's `normalize.less` sets `[hidden] { display: none; }` but bootstrap.min.css set `[hidden] { display: none !important; }` so we also need the `!important` here to be able to override the default hidden behavior on the sphinx rendered scikit-learn.org. See: https://github.com/scikit-learn/scikit-learn/issues/21755 */display: inline-block !important;position: relative;}#sk-container-id-24 div.sk-text-repr-fallback {display: none;}</style><div id=\"sk-container-id-24\" class=\"sk-top-container\"><div class=\"sk-text-repr-fallback\"><pre>Lasso(alpha=100, max_iter=1000000)</pre><b>In a Jupyter environment, please rerun this cell to show the HTML representation or trust the notebook. <br />On GitHub, the HTML representation is unable to render, please try loading this page with nbviewer.org.</b></div><div class=\"sk-container\" hidden><div class=\"sk-item\"><div class=\"sk-estimator sk-toggleable\"><input class=\"sk-toggleable__control sk-hidden--visually\" id=\"sk-estimator-id-24\" type=\"checkbox\" checked><label for=\"sk-estimator-id-24\" class=\"sk-toggleable__label sk-toggleable__label-arrow\">Lasso</label><div class=\"sk-toggleable__content\"><pre>Lasso(alpha=100, max_iter=1000000)</pre></div></div></div></div></div>"
     },
     "execution_count": 191,
     "metadata": {},
     "output_type": "execute_result"
    }
   ],
   "source": [
    "model_lasso_lat = linear_model.Lasso(alpha=100, max_iter=1000000)\n",
    "model_lasso_lat.fit(train_x, train_y_lat)"
   ],
   "metadata": {
    "collapsed": false
   }
  },
  {
   "cell_type": "code",
   "execution_count": 192,
   "outputs": [
    {
     "data": {
      "text/plain": "Lasso(alpha=100, max_iter=1000000)",
      "text/html": "<style>#sk-container-id-25 {color: black;background-color: white;}#sk-container-id-25 pre{padding: 0;}#sk-container-id-25 div.sk-toggleable {background-color: white;}#sk-container-id-25 label.sk-toggleable__label {cursor: pointer;display: block;width: 100%;margin-bottom: 0;padding: 0.3em;box-sizing: border-box;text-align: center;}#sk-container-id-25 label.sk-toggleable__label-arrow:before {content: \"▸\";float: left;margin-right: 0.25em;color: #696969;}#sk-container-id-25 label.sk-toggleable__label-arrow:hover:before {color: black;}#sk-container-id-25 div.sk-estimator:hover label.sk-toggleable__label-arrow:before {color: black;}#sk-container-id-25 div.sk-toggleable__content {max-height: 0;max-width: 0;overflow: hidden;text-align: left;background-color: #f0f8ff;}#sk-container-id-25 div.sk-toggleable__content pre {margin: 0.2em;color: black;border-radius: 0.25em;background-color: #f0f8ff;}#sk-container-id-25 input.sk-toggleable__control:checked~div.sk-toggleable__content {max-height: 200px;max-width: 100%;overflow: auto;}#sk-container-id-25 input.sk-toggleable__control:checked~label.sk-toggleable__label-arrow:before {content: \"▾\";}#sk-container-id-25 div.sk-estimator input.sk-toggleable__control:checked~label.sk-toggleable__label {background-color: #d4ebff;}#sk-container-id-25 div.sk-label input.sk-toggleable__control:checked~label.sk-toggleable__label {background-color: #d4ebff;}#sk-container-id-25 input.sk-hidden--visually {border: 0;clip: rect(1px 1px 1px 1px);clip: rect(1px, 1px, 1px, 1px);height: 1px;margin: -1px;overflow: hidden;padding: 0;position: absolute;width: 1px;}#sk-container-id-25 div.sk-estimator {font-family: monospace;background-color: #f0f8ff;border: 1px dotted black;border-radius: 0.25em;box-sizing: border-box;margin-bottom: 0.5em;}#sk-container-id-25 div.sk-estimator:hover {background-color: #d4ebff;}#sk-container-id-25 div.sk-parallel-item::after {content: \"\";width: 100%;border-bottom: 1px solid gray;flex-grow: 1;}#sk-container-id-25 div.sk-label:hover label.sk-toggleable__label {background-color: #d4ebff;}#sk-container-id-25 div.sk-serial::before {content: \"\";position: absolute;border-left: 1px solid gray;box-sizing: border-box;top: 0;bottom: 0;left: 50%;z-index: 0;}#sk-container-id-25 div.sk-serial {display: flex;flex-direction: column;align-items: center;background-color: white;padding-right: 0.2em;padding-left: 0.2em;position: relative;}#sk-container-id-25 div.sk-item {position: relative;z-index: 1;}#sk-container-id-25 div.sk-parallel {display: flex;align-items: stretch;justify-content: center;background-color: white;position: relative;}#sk-container-id-25 div.sk-item::before, #sk-container-id-25 div.sk-parallel-item::before {content: \"\";position: absolute;border-left: 1px solid gray;box-sizing: border-box;top: 0;bottom: 0;left: 50%;z-index: -1;}#sk-container-id-25 div.sk-parallel-item {display: flex;flex-direction: column;z-index: 1;position: relative;background-color: white;}#sk-container-id-25 div.sk-parallel-item:first-child::after {align-self: flex-end;width: 50%;}#sk-container-id-25 div.sk-parallel-item:last-child::after {align-self: flex-start;width: 50%;}#sk-container-id-25 div.sk-parallel-item:only-child::after {width: 0;}#sk-container-id-25 div.sk-dashed-wrapped {border: 1px dashed gray;margin: 0 0.4em 0.5em 0.4em;box-sizing: border-box;padding-bottom: 0.4em;background-color: white;}#sk-container-id-25 div.sk-label label {font-family: monospace;font-weight: bold;display: inline-block;line-height: 1.2em;}#sk-container-id-25 div.sk-label-container {text-align: center;}#sk-container-id-25 div.sk-container {/* jupyter's `normalize.less` sets `[hidden] { display: none; }` but bootstrap.min.css set `[hidden] { display: none !important; }` so we also need the `!important` here to be able to override the default hidden behavior on the sphinx rendered scikit-learn.org. See: https://github.com/scikit-learn/scikit-learn/issues/21755 */display: inline-block !important;position: relative;}#sk-container-id-25 div.sk-text-repr-fallback {display: none;}</style><div id=\"sk-container-id-25\" class=\"sk-top-container\"><div class=\"sk-text-repr-fallback\"><pre>Lasso(alpha=100, max_iter=1000000)</pre><b>In a Jupyter environment, please rerun this cell to show the HTML representation or trust the notebook. <br />On GitHub, the HTML representation is unable to render, please try loading this page with nbviewer.org.</b></div><div class=\"sk-container\" hidden><div class=\"sk-item\"><div class=\"sk-estimator sk-toggleable\"><input class=\"sk-toggleable__control sk-hidden--visually\" id=\"sk-estimator-id-25\" type=\"checkbox\" checked><label for=\"sk-estimator-id-25\" class=\"sk-toggleable__label sk-toggleable__label-arrow\">Lasso</label><div class=\"sk-toggleable__content\"><pre>Lasso(alpha=100, max_iter=1000000)</pre></div></div></div></div></div>"
     },
     "execution_count": 192,
     "metadata": {},
     "output_type": "execute_result"
    }
   ],
   "source": [
    "model_lasso_med = linear_model.Lasso(alpha=100, max_iter=1000000)\n",
    "model_lasso_med.fit(train_x, train_y_med)"
   ],
   "metadata": {
    "collapsed": false
   }
  },
  {
   "cell_type": "code",
   "execution_count": 197,
   "outputs": [],
   "source": [
    "test_y_lat_lasso_predict = model_lasso_lat.predict(test_x)\n",
    "test_y_mrd_lasso_predict = model_lasso_med.predict(test_x)"
   ],
   "metadata": {
    "collapsed": false
   }
  },
  {
   "cell_type": "code",
   "execution_count": 282,
   "outputs": [
    {
     "name": "stdout",
     "output_type": "stream",
     "text": [
      "Mean squared error medial: 45.02\n",
      "Mean squared error lateral: 16.33\n"
     ]
    }
   ],
   "source": [
    "mse_lasso_med = mean_squared_error(test_y_med, test_y_mrd_lasso_predict)\n",
    "mse_lasso_lat = mean_squared_error(test_y_lat, test_y_lat_lasso_predict )\n",
    "# The mean squared error\n",
    "print(\"Mean squared error medial: %.2f\" % mse_lasso_med)\n",
    "print(\"Mean squared error lateral: %.2f\" % mse_lasso_lat)"
   ],
   "metadata": {
    "collapsed": false
   }
  },
  {
   "cell_type": "markdown",
   "source": [
    "## Random Forest"
   ],
   "metadata": {
    "collapsed": false
   }
  },
  {
   "cell_type": "code",
   "execution_count": 204,
   "outputs": [],
   "source": [
    "n_estimator = 1000\n",
    "model_rf_lat = RandomForestRegressor(n_estimators=n_estimator)\n",
    "model_rf_med = RandomForestRegressor(n_estimators=n_estimator)\n",
    "\n",
    "model_rf_lat.fit(train_x, train_y_lat)\n",
    "model_rf_med.fit(train_x, train_y_med)\n",
    "test_y_lat_rf_predict = model_rf_lat.predict(test_x)\n",
    "test_y_med_rf_predict = model_rf_med.predict(test_x)\n"
   ],
   "metadata": {
    "collapsed": false
   }
  },
  {
   "cell_type": "code",
   "execution_count": 290,
   "outputs": [
    {
     "name": "stdout",
     "output_type": "stream",
     "text": [
      "Mean squared error medial: 41.21\n",
      "Mean squared error lateral: 14.45\n"
     ]
    }
   ],
   "source": [
    "mse_RF_med = mean_squared_error(test_y_med, test_y_med_rf_predict)\n",
    "mse_RF_lat = mean_squared_error(test_y_lat, test_y_lat_rf_predict)\n",
    "# The mean squared error\n",
    "print(\"Mean squared error medial: %.2f\" % mse_RF_med)\n",
    "print(\"Mean squared error lateral: %.2f\" % mse_RF_lat)"
   ],
   "metadata": {
    "collapsed": false
   }
  },
  {
   "cell_type": "markdown",
   "source": [
    "## XGBoost"
   ],
   "metadata": {
    "collapsed": false
   }
  },
  {
   "cell_type": "code",
   "execution_count": 291,
   "outputs": [],
   "source": [
    "model_xgb_lat = xgb.XGBRegressor(n_estimators=1000, max_depth=15, eta=0.1, subsample=0.7, colsample_bytree=0.8)\n",
    "model_xgb_med = xgb.XGBRegressor(n_estimators=1000, max_depth=15, eta=0.1, subsample=0.7, colsample_bytree=0.8)"
   ],
   "metadata": {
    "collapsed": false
   }
  },
  {
   "cell_type": "code",
   "execution_count": 292,
   "outputs": [
    {
     "data": {
      "text/plain": "XGBRegressor(base_score=0.5, booster='gbtree', callbacks=None,\n             colsample_bylevel=1, colsample_bynode=1, colsample_bytree=0.8,\n             early_stopping_rounds=None, enable_categorical=False, eta=0.1,\n             eval_metric=None, feature_types=None, gamma=0, gpu_id=-1,\n             grow_policy='depthwise', importance_type=None,\n             interaction_constraints='', learning_rate=0.100000001, max_bin=256,\n             max_cat_threshold=64, max_cat_to_onehot=4, max_delta_step=0,\n             max_depth=15, max_leaves=0, min_child_weight=1, missing=nan,\n             monotone_constraints='()', n_estimators=1000, n_jobs=0,\n             num_parallel_tree=1, predictor='auto', ...)",
      "text/html": "<style>#sk-container-id-37 {color: black;background-color: white;}#sk-container-id-37 pre{padding: 0;}#sk-container-id-37 div.sk-toggleable {background-color: white;}#sk-container-id-37 label.sk-toggleable__label {cursor: pointer;display: block;width: 100%;margin-bottom: 0;padding: 0.3em;box-sizing: border-box;text-align: center;}#sk-container-id-37 label.sk-toggleable__label-arrow:before {content: \"▸\";float: left;margin-right: 0.25em;color: #696969;}#sk-container-id-37 label.sk-toggleable__label-arrow:hover:before {color: black;}#sk-container-id-37 div.sk-estimator:hover label.sk-toggleable__label-arrow:before {color: black;}#sk-container-id-37 div.sk-toggleable__content {max-height: 0;max-width: 0;overflow: hidden;text-align: left;background-color: #f0f8ff;}#sk-container-id-37 div.sk-toggleable__content pre {margin: 0.2em;color: black;border-radius: 0.25em;background-color: #f0f8ff;}#sk-container-id-37 input.sk-toggleable__control:checked~div.sk-toggleable__content {max-height: 200px;max-width: 100%;overflow: auto;}#sk-container-id-37 input.sk-toggleable__control:checked~label.sk-toggleable__label-arrow:before {content: \"▾\";}#sk-container-id-37 div.sk-estimator input.sk-toggleable__control:checked~label.sk-toggleable__label {background-color: #d4ebff;}#sk-container-id-37 div.sk-label input.sk-toggleable__control:checked~label.sk-toggleable__label {background-color: #d4ebff;}#sk-container-id-37 input.sk-hidden--visually {border: 0;clip: rect(1px 1px 1px 1px);clip: rect(1px, 1px, 1px, 1px);height: 1px;margin: -1px;overflow: hidden;padding: 0;position: absolute;width: 1px;}#sk-container-id-37 div.sk-estimator {font-family: monospace;background-color: #f0f8ff;border: 1px dotted black;border-radius: 0.25em;box-sizing: border-box;margin-bottom: 0.5em;}#sk-container-id-37 div.sk-estimator:hover {background-color: #d4ebff;}#sk-container-id-37 div.sk-parallel-item::after {content: \"\";width: 100%;border-bottom: 1px solid gray;flex-grow: 1;}#sk-container-id-37 div.sk-label:hover label.sk-toggleable__label {background-color: #d4ebff;}#sk-container-id-37 div.sk-serial::before {content: \"\";position: absolute;border-left: 1px solid gray;box-sizing: border-box;top: 0;bottom: 0;left: 50%;z-index: 0;}#sk-container-id-37 div.sk-serial {display: flex;flex-direction: column;align-items: center;background-color: white;padding-right: 0.2em;padding-left: 0.2em;position: relative;}#sk-container-id-37 div.sk-item {position: relative;z-index: 1;}#sk-container-id-37 div.sk-parallel {display: flex;align-items: stretch;justify-content: center;background-color: white;position: relative;}#sk-container-id-37 div.sk-item::before, #sk-container-id-37 div.sk-parallel-item::before {content: \"\";position: absolute;border-left: 1px solid gray;box-sizing: border-box;top: 0;bottom: 0;left: 50%;z-index: -1;}#sk-container-id-37 div.sk-parallel-item {display: flex;flex-direction: column;z-index: 1;position: relative;background-color: white;}#sk-container-id-37 div.sk-parallel-item:first-child::after {align-self: flex-end;width: 50%;}#sk-container-id-37 div.sk-parallel-item:last-child::after {align-self: flex-start;width: 50%;}#sk-container-id-37 div.sk-parallel-item:only-child::after {width: 0;}#sk-container-id-37 div.sk-dashed-wrapped {border: 1px dashed gray;margin: 0 0.4em 0.5em 0.4em;box-sizing: border-box;padding-bottom: 0.4em;background-color: white;}#sk-container-id-37 div.sk-label label {font-family: monospace;font-weight: bold;display: inline-block;line-height: 1.2em;}#sk-container-id-37 div.sk-label-container {text-align: center;}#sk-container-id-37 div.sk-container {/* jupyter's `normalize.less` sets `[hidden] { display: none; }` but bootstrap.min.css set `[hidden] { display: none !important; }` so we also need the `!important` here to be able to override the default hidden behavior on the sphinx rendered scikit-learn.org. See: https://github.com/scikit-learn/scikit-learn/issues/21755 */display: inline-block !important;position: relative;}#sk-container-id-37 div.sk-text-repr-fallback {display: none;}</style><div id=\"sk-container-id-37\" class=\"sk-top-container\"><div class=\"sk-text-repr-fallback\"><pre>XGBRegressor(base_score=0.5, booster=&#x27;gbtree&#x27;, callbacks=None,\n             colsample_bylevel=1, colsample_bynode=1, colsample_bytree=0.8,\n             early_stopping_rounds=None, enable_categorical=False, eta=0.1,\n             eval_metric=None, feature_types=None, gamma=0, gpu_id=-1,\n             grow_policy=&#x27;depthwise&#x27;, importance_type=None,\n             interaction_constraints=&#x27;&#x27;, learning_rate=0.100000001, max_bin=256,\n             max_cat_threshold=64, max_cat_to_onehot=4, max_delta_step=0,\n             max_depth=15, max_leaves=0, min_child_weight=1, missing=nan,\n             monotone_constraints=&#x27;()&#x27;, n_estimators=1000, n_jobs=0,\n             num_parallel_tree=1, predictor=&#x27;auto&#x27;, ...)</pre><b>In a Jupyter environment, please rerun this cell to show the HTML representation or trust the notebook. <br />On GitHub, the HTML representation is unable to render, please try loading this page with nbviewer.org.</b></div><div class=\"sk-container\" hidden><div class=\"sk-item\"><div class=\"sk-estimator sk-toggleable\"><input class=\"sk-toggleable__control sk-hidden--visually\" id=\"sk-estimator-id-37\" type=\"checkbox\" checked><label for=\"sk-estimator-id-37\" class=\"sk-toggleable__label sk-toggleable__label-arrow\">XGBRegressor</label><div class=\"sk-toggleable__content\"><pre>XGBRegressor(base_score=0.5, booster=&#x27;gbtree&#x27;, callbacks=None,\n             colsample_bylevel=1, colsample_bynode=1, colsample_bytree=0.8,\n             early_stopping_rounds=None, enable_categorical=False, eta=0.1,\n             eval_metric=None, feature_types=None, gamma=0, gpu_id=-1,\n             grow_policy=&#x27;depthwise&#x27;, importance_type=None,\n             interaction_constraints=&#x27;&#x27;, learning_rate=0.100000001, max_bin=256,\n             max_cat_threshold=64, max_cat_to_onehot=4, max_delta_step=0,\n             max_depth=15, max_leaves=0, min_child_weight=1, missing=nan,\n             monotone_constraints=&#x27;()&#x27;, n_estimators=1000, n_jobs=0,\n             num_parallel_tree=1, predictor=&#x27;auto&#x27;, ...)</pre></div></div></div></div></div>"
     },
     "execution_count": 292,
     "metadata": {},
     "output_type": "execute_result"
    }
   ],
   "source": [
    "model_xgb_lat.fit(train_x, train_y_lat)\n",
    "model_xgb_med.fit(train_x, train_y_med)"
   ],
   "metadata": {
    "collapsed": false
   }
  },
  {
   "cell_type": "code",
   "execution_count": 293,
   "outputs": [],
   "source": [
    "test_y_lat_rgb_predict = model_xgb_lat.predict(test_x)\n",
    "test_y_med_rgb_predict = model_xgb_med.predict(test_x)"
   ],
   "metadata": {
    "collapsed": false
   }
  },
  {
   "cell_type": "code",
   "execution_count": 294,
   "outputs": [
    {
     "name": "stdout",
     "output_type": "stream",
     "text": [
      "Mean squared error medial: 32.41\n",
      "Mean squared error lateral: 15.94\n"
     ]
    }
   ],
   "source": [
    "mse_RGB_med = mean_squared_error(test_y_med, test_y_med_rgb_predict)\n",
    "mse_RGB_lat = mean_squared_error(test_y_lat, test_y_lat_rgb_predict)\n",
    "\n",
    "# The mean squared error\n",
    "print(\"Mean squared error medial: %.2f\" % mse_RGB_med)\n",
    "print(\"Mean squared error lateral: %.2f\" % mse_RGB_lat)"
   ],
   "metadata": {
    "collapsed": false
   }
  },
  {
   "cell_type": "markdown",
   "source": [
    "## MultiLayer Perceptron Model"
   ],
   "metadata": {
    "collapsed": false
   }
  },
  {
   "cell_type": "code",
   "execution_count": 295,
   "outputs": [],
   "source": [
    "model_regr_lat = MLPRegressor(random_state=1, max_iter=5000)\n",
    "model_regr_med = MLPRegressor(random_state=1, max_iter=5000)\n",
    "\n",
    "model_regr_lat.fit(train_x, train_y_lat)\n",
    "model_regr_med.fit(train_x, train_y_med)\n",
    "test_y_lat_regr_predict = model_regr_lat.predict(test_x)\n",
    "test_y_med_regr_predict = model_regr_med.predict(test_x)"
   ],
   "metadata": {
    "collapsed": false
   }
  },
  {
   "cell_type": "code",
   "execution_count": 296,
   "outputs": [
    {
     "name": "stdout",
     "output_type": "stream",
     "text": [
      "Mean squared error medial: 2211.54\n",
      "Mean squared error lateral: 4903.81\n"
     ]
    }
   ],
   "source": [
    "mse_MLP_med = mean_squared_error(test_y_med, test_y_med_regr_predict)\n",
    "mse_MLP_lat = mean_squared_error(test_y_lat, test_y_lat_regr_predict)\n",
    "\n",
    "# The mean squared error\n",
    "print(\"Mean squared error medial: %.2f\" % mse_MLP_med)\n",
    "print(\"Mean squared error lateral: %.2f\" % mse_MLP_lat)"
   ],
   "metadata": {
    "collapsed": false
   }
  },
  {
   "cell_type": "markdown",
   "source": [
    "## Combine all data together"
   ],
   "metadata": {
    "collapsed": false
   }
  },
  {
   "cell_type": "code",
   "execution_count": 301,
   "outputs": [],
   "source": [
    "mse_df = pd.DataFrame({\n",
    "    \"Model\": [\"Mean\", \"Linear Regression\", \"Lasso\", \"Random Forest\", \"XGBoost\", \"MultiLayer Perception\"],\n",
    "    \"MSE for medial\": [mse_mean_med, mse_LR_med, mse_lasso_med, mse_RF_med, mse_RGB_med, mse_MLP_med],\n",
    "    \"MSE for lateral\": [mse_mean_lat, mse_LR_lat, mse_lasso_lat, mse_RF_lat, mse_RGB_lat, mse_MLP_lat],\n",
    "})"
   ],
   "metadata": {
    "collapsed": false
   }
  },
  {
   "cell_type": "code",
   "execution_count": 302,
   "outputs": [
    {
     "data": {
      "text/plain": "                   Model  MSE for medial  MSE for lateral\n0                   Mean       41.011613        22.821920\n1      Linear Regression       47.598759        35.026235\n2                  Lasso       45.020195        16.325109\n3          Random Forest       41.214856        14.452985\n4                XGBoost       32.405159        15.941598\n5  MultiLayer Perception     2211.538843      4903.813549",
      "text/html": "<div>\n<style scoped>\n    .dataframe tbody tr th:only-of-type {\n        vertical-align: middle;\n    }\n\n    .dataframe tbody tr th {\n        vertical-align: top;\n    }\n\n    .dataframe thead th {\n        text-align: right;\n    }\n</style>\n<table border=\"1\" class=\"dataframe\">\n  <thead>\n    <tr style=\"text-align: right;\">\n      <th></th>\n      <th>Model</th>\n      <th>MSE for medial</th>\n      <th>MSE for lateral</th>\n    </tr>\n  </thead>\n  <tbody>\n    <tr>\n      <th>0</th>\n      <td>Mean</td>\n      <td>41.011613</td>\n      <td>22.821920</td>\n    </tr>\n    <tr>\n      <th>1</th>\n      <td>Linear Regression</td>\n      <td>47.598759</td>\n      <td>35.026235</td>\n    </tr>\n    <tr>\n      <th>2</th>\n      <td>Lasso</td>\n      <td>45.020195</td>\n      <td>16.325109</td>\n    </tr>\n    <tr>\n      <th>3</th>\n      <td>Random Forest</td>\n      <td>41.214856</td>\n      <td>14.452985</td>\n    </tr>\n    <tr>\n      <th>4</th>\n      <td>XGBoost</td>\n      <td>32.405159</td>\n      <td>15.941598</td>\n    </tr>\n    <tr>\n      <th>5</th>\n      <td>MultiLayer Perception</td>\n      <td>2211.538843</td>\n      <td>4903.813549</td>\n    </tr>\n  </tbody>\n</table>\n</div>"
     },
     "execution_count": 302,
     "metadata": {},
     "output_type": "execute_result"
    }
   ],
   "source": [
    "mse_df"
   ],
   "metadata": {
    "collapsed": false
   }
  },
  {
   "cell_type": "code",
   "execution_count": null,
   "outputs": [],
   "source": [],
   "metadata": {
    "collapsed": false
   }
  }
 ],
 "metadata": {
  "kernelspec": {
   "display_name": "Python 3",
   "language": "python",
   "name": "python3"
  },
  "language_info": {
   "codemirror_mode": {
    "name": "ipython",
    "version": 2
   },
   "file_extension": ".py",
   "mimetype": "text/x-python",
   "name": "python",
   "nbconvert_exporter": "python",
   "pygments_lexer": "ipython2",
   "version": "2.7.6"
  }
 },
 "nbformat": 4,
 "nbformat_minor": 0
}
