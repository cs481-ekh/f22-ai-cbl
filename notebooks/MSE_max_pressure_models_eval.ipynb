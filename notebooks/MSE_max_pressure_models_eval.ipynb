{
 "cells": [
  {
   "cell_type": "code",
   "execution_count": 89,
   "metadata": {
    "collapsed": true
   },
   "outputs": [],
   "source": [
    "from pathlib import Path\n",
    "import numpy as np\n",
    "import pandas as pd\n",
    "import warnings\n",
    "warnings.filterwarnings(\"ignore\")\n",
    "import matplotlib.pyplot as plt\n",
    "import seaborn as sns\n",
    "from sklearn.model_selection import train_test_split\n",
    "from knee_stress_predict.config import raw_data_dir, processed_data_dir\n",
    "from sklearn.tree import DecisionTreeClassifier, plot_tree\n",
    "from sklearn.metrics import mean_squared_error\n",
    "from sklearn.ensemble import RandomForestRegressor\n",
    "from sklearn import datasets, linear_model\n",
    "from sklearn.metrics import mean_squared_error, r2_score"
   ]
  },
  {
   "cell_type": "markdown",
   "source": [
    "## Load data"
   ],
   "metadata": {
    "collapsed": false
   }
  },
  {
   "cell_type": "code",
   "execution_count": 90,
   "outputs": [],
   "source": [
    "data_set_name = \"set_3\"\n",
    "train_file_path = Path.joinpath(processed_data_dir, data_set_name,  \"train_cleaned.csv\")\n",
    "test_file_path = Path.joinpath(processed_data_dir, data_set_name,  \"test_cleaned.csv\")\n",
    "train_data = pd.read_csv(train_file_path).drop('Unnamed: 0', axis=1)\n",
    "test_data = pd.read_csv(test_file_path).drop('Unnamed: 0', axis=1)"
   ],
   "metadata": {
    "collapsed": false
   }
  },
  {
   "cell_type": "code",
   "execution_count": 91,
   "outputs": [
    {
     "name": "stdout",
     "output_type": "stream",
     "text": [
      "<class 'pandas.core.frame.DataFrame'>\n",
      "RangeIndex: 27002 entries, 0 to 27001\n",
      "Data columns (total 53 columns):\n",
      " #   Column                         Non-Null Count  Dtype  \n",
      "---  ------                         --------------  -----  \n",
      " 0   Code                           27002 non-null  object \n",
      " 1   Patella_PN                     27002 non-null  int64  \n",
      " 2   Femur_PN                       27002 non-null  int64  \n",
      " 3   Tibia_PN                       27002 non-null  int64  \n",
      " 4   Patella_Car_PN                 27002 non-null  int64  \n",
      " 5   Femur_Car_PN                   27002 non-null  int64  \n",
      " 6   Tibia_M_Car_PN                 27002 non-null  int64  \n",
      " 7   Tibia_L_Car_PN                 27002 non-null  int64  \n",
      " 8   Patella_volume                 27002 non-null  float64\n",
      " 9   Femur_volume                   27002 non-null  float64\n",
      " 10  Tibia_volume                   27002 non-null  float64\n",
      " 11  Patella_Car_volume             27002 non-null  float64\n",
      " 12  Femur_Car_volume               27002 non-null  float64\n",
      " 13  Tibia_M_Car_volume             27002 non-null  float64\n",
      " 14  Tibia_L_Car_volume             27002 non-null  float64\n",
      " 15  Patella_bounds_x               27002 non-null  float64\n",
      " 16  Femur_bounds_x                 27002 non-null  float64\n",
      " 17  Tibia_bounds_x                 27002 non-null  float64\n",
      " 18  Patella_Car_bounds_x           27002 non-null  float64\n",
      " 19  Femur_Car_bounds_x             27002 non-null  float64\n",
      " 20  Tibia_M_Car_bounds_x           27002 non-null  float64\n",
      " 21  Tibia_L_Car_bounds_x           27002 non-null  float64\n",
      " 22  Patella_bounds_y               27002 non-null  float64\n",
      " 23  Femur_bounds_y                 27002 non-null  float64\n",
      " 24  Tibia_bounds_y                 27002 non-null  float64\n",
      " 25  Patella_Car_bounds_y           27002 non-null  float64\n",
      " 26  Femur_Car_bounds_y             27002 non-null  float64\n",
      " 27  Tibia_M_Car_bounds_y           27002 non-null  float64\n",
      " 28  Tibia_L_Car_bounds_y           27002 non-null  float64\n",
      " 29  Patella_bounds_z               27002 non-null  float64\n",
      " 30  Femur_bounds_z                 27002 non-null  float64\n",
      " 31  Tibia_bounds_z                 27002 non-null  float64\n",
      " 32  Patella_Car_bounds_z           27002 non-null  float64\n",
      " 33  Femur_Car_bounds_z             27002 non-null  float64\n",
      " 34  Tibia_M_Car_bounds_z           27002 non-null  float64\n",
      " 35  Tibia_L_Car_bounds_z           27002 non-null  float64\n",
      " 36  Simulation_len                 27002 non-null  int64  \n",
      " 37  tib_med_curv                   27002 non-null  float64\n",
      " 38  tib_lat_curv                   27002 non-null  float64\n",
      " 39  tib_med_ishealthy              27002 non-null  int64  \n",
      " 40  tib_lat_ishealthy              27002 non-null  int64  \n",
      " 41  femur_gap_dist                 27002 non-null  float64\n",
      " 42  Max_dist_femur_tibia_lat_car   27002 non-null  float64\n",
      " 43  Min_dist_femur_tibia_lat_car   27002 non-null  float64\n",
      " 44  Mean_dist_femur_tibia_lat_car  27002 non-null  float64\n",
      " 45  Max_dist_femur_tibia_med_car   27002 non-null  float64\n",
      " 46  Min_dist_femur_tibia_med_car   27002 non-null  float64\n",
      " 47  Mean_dist_femur_tibia_med_car  27002 non-null  float64\n",
      " 48  lat_Max_all_frames             27002 non-null  float64\n",
      " 49  med_Max_all_frames             27002 non-null  float64\n",
      " 50  frame                          27002 non-null  int64  \n",
      " 51  Max_tib_med_contact_pressure   27002 non-null  float64\n",
      " 52  Max_tib_lat_contact_pressure   27002 non-null  float64\n",
      "dtypes: float64(41), int64(11), object(1)\n",
      "memory usage: 10.9+ MB\n"
     ]
    }
   ],
   "source": [
    "train_data.info()"
   ],
   "metadata": {
    "collapsed": false
   }
  },
  {
   "cell_type": "code",
   "execution_count": 92,
   "outputs": [],
   "source": [
    "def get_tframe_dataset(tframe_num, dataset):\n",
    "    tframe_dataset = dataset[dataset['frame'] == tframe_num]\n",
    "    return tframe_dataset"
   ],
   "metadata": {
    "collapsed": false
   }
  },
  {
   "cell_type": "code",
   "execution_count": 93,
   "outputs": [],
   "source": [
    "train_datasets = get_tframe_dataset(0, train_data)\n",
    "test_datasets = get_tframe_dataset(0, test_data)"
   ],
   "metadata": {
    "collapsed": false
   }
  },
  {
   "cell_type": "markdown",
   "source": [
    "## Drop unnecessary columns\n",
    "\n",
    "We need to delete \"Max_tib_med_contact_pressure\" and \"Max_tib_lat_contact_pressure\" since these features are for 0-time points only. In this notebook, we are more concentrated on maximal contact pressure, which are: \"med_Max_all_frames\" and \"lat_Max_all_frames\""
   ],
   "metadata": {
    "collapsed": false
   }
  },
  {
   "cell_type": "code",
   "execution_count": 94,
   "outputs": [],
   "source": [
    "train_datasets = train_datasets.drop([\"frame\", \"Code\", \"Max_tib_med_contact_pressure\", \"Max_tib_lat_contact_pressure\"], axis=1)\n",
    "\n",
    "test_datasets = test_datasets.drop([\"frame\", \"Code\", \"Max_tib_med_contact_pressure\", \"Max_tib_lat_contact_pressure\"], axis=1)"
   ],
   "metadata": {
    "collapsed": false
   }
  },
  {
   "cell_type": "code",
   "execution_count": 95,
   "outputs": [
    {
     "data": {
      "text/plain": "       Patella_PN  Femur_PN  Tibia_PN  Patella_Car_PN  Femur_Car_PN  \\\n0            1126      4113      2684            5900         21030   \n241           771      3414      2596            4485         18385   \n482           730      3404      2600            5055         18755   \n723           667      3814      2631            5245         19370   \n964           997      3569      3013            5035         22675   \n...           ...       ...       ...             ...           ...   \n25797         633      3084      2205            4255         20260   \n26038         795      3669      2724            4765         20410   \n26279         801      3805      2575            4885         20400   \n26520         868      3794      3029            5430         20755   \n26761         873      3921      2831            5690         21495   \n\n       Tibia_M_Car_PN  Tibia_L_Car_PN  Patella_volume   Femur_volume  \\\n0                2840            2840    33039.218053  228671.171460   \n241              2840            2840    21736.919532  184294.924991   \n482              2840            2840    20866.993760  184114.045604   \n723              2840            2840    17949.168458  221202.458278   \n964              2840            2840    31601.733987  206925.519779   \n...               ...             ...             ...            ...   \n25797            2185            2840    15168.028148  146698.667898   \n26038            2840            2840    22375.020348  207318.185631   \n26279            2840            2840    22439.863013  215968.865103   \n26520            2840            2840    25084.417057  216622.182978   \n26761            2840            2840    24799.135262  226161.340527   \n\n        Tibia_volume  ...  tib_lat_ishealthy  femur_gap_dist  \\\n0      134963.134980  ...                  1       22.935425   \n241    127637.611277  ...                  1       19.539911   \n482    128295.783408  ...                  1       18.387004   \n723    137472.394625  ...                  1       19.128202   \n964    168725.205892  ...                  1       19.937188   \n...              ...  ...                ...             ...   \n25797  102326.881891  ...                  1       21.102991   \n26038  146786.471170  ...                  1       22.148186   \n26279  136753.285023  ...                  1       22.762806   \n26520  168327.403757  ...                  1       19.888791   \n26761  154353.942127  ...                  1       19.603810   \n\n       Max_dist_femur_tibia_lat_car  Min_dist_femur_tibia_lat_car  \\\n0                         13.560157                      0.800195   \n241                       12.892850                      1.504442   \n482                       11.617199                      1.119438   \n723                       12.324972                      2.210197   \n964                       16.729068                      1.207820   \n...                             ...                           ...   \n25797                     14.732158                      1.686715   \n26038                     16.633343                      1.874496   \n26279                     17.640301                      1.481010   \n26520                     19.743281                      2.204936   \n26761                     18.862473                      2.616759   \n\n       Mean_dist_femur_tibia_lat_car  Max_dist_femur_tibia_med_car  \\\n0                           6.226970                     10.677269   \n241                         4.844820                      9.243396   \n482                         4.698536                      9.107268   \n723                         6.003760                     10.941657   \n964                         6.030796                     10.350523   \n...                              ...                           ...   \n25797                       5.659945                     13.039994   \n26038                       6.641354                     15.426130   \n26279                       6.875417                     12.561378   \n26520                       6.574413                     16.267729   \n26761                       6.815766                     15.943200   \n\n       Min_dist_femur_tibia_med_car  Mean_dist_femur_tibia_med_car  \\\n0                          1.029139                       4.306716   \n241                        1.418712                       4.015682   \n482                        1.398252                       3.890993   \n723                        2.428147                       5.948101   \n964                        0.664740                       4.025312   \n...                             ...                            ...   \n25797                      1.308433                       4.848711   \n26038                      2.258161                       4.898385   \n26279                      2.246910                       4.471387   \n26520                      1.759706                       5.525146   \n26761                      2.833736                       6.482209   \n\n       lat_Max_all_frames  med_Max_all_frames  \n0               20.057634           31.649405  \n241             18.555532           26.223894  \n482             19.447876           24.808067  \n723             19.930437           25.919180  \n964             24.263035           16.543530  \n...                   ...                 ...  \n25797           20.220541           36.707184  \n26038           19.478767           22.278835  \n26279           20.616781           26.929873  \n26520           17.599583           22.764488  \n26761           16.316133           22.707045  \n\n[119 rows x 49 columns]",
      "text/html": "<div>\n<style scoped>\n    .dataframe tbody tr th:only-of-type {\n        vertical-align: middle;\n    }\n\n    .dataframe tbody tr th {\n        vertical-align: top;\n    }\n\n    .dataframe thead th {\n        text-align: right;\n    }\n</style>\n<table border=\"1\" class=\"dataframe\">\n  <thead>\n    <tr style=\"text-align: right;\">\n      <th></th>\n      <th>Patella_PN</th>\n      <th>Femur_PN</th>\n      <th>Tibia_PN</th>\n      <th>Patella_Car_PN</th>\n      <th>Femur_Car_PN</th>\n      <th>Tibia_M_Car_PN</th>\n      <th>Tibia_L_Car_PN</th>\n      <th>Patella_volume</th>\n      <th>Femur_volume</th>\n      <th>Tibia_volume</th>\n      <th>...</th>\n      <th>tib_lat_ishealthy</th>\n      <th>femur_gap_dist</th>\n      <th>Max_dist_femur_tibia_lat_car</th>\n      <th>Min_dist_femur_tibia_lat_car</th>\n      <th>Mean_dist_femur_tibia_lat_car</th>\n      <th>Max_dist_femur_tibia_med_car</th>\n      <th>Min_dist_femur_tibia_med_car</th>\n      <th>Mean_dist_femur_tibia_med_car</th>\n      <th>lat_Max_all_frames</th>\n      <th>med_Max_all_frames</th>\n    </tr>\n  </thead>\n  <tbody>\n    <tr>\n      <th>0</th>\n      <td>1126</td>\n      <td>4113</td>\n      <td>2684</td>\n      <td>5900</td>\n      <td>21030</td>\n      <td>2840</td>\n      <td>2840</td>\n      <td>33039.218053</td>\n      <td>228671.171460</td>\n      <td>134963.134980</td>\n      <td>...</td>\n      <td>1</td>\n      <td>22.935425</td>\n      <td>13.560157</td>\n      <td>0.800195</td>\n      <td>6.226970</td>\n      <td>10.677269</td>\n      <td>1.029139</td>\n      <td>4.306716</td>\n      <td>20.057634</td>\n      <td>31.649405</td>\n    </tr>\n    <tr>\n      <th>241</th>\n      <td>771</td>\n      <td>3414</td>\n      <td>2596</td>\n      <td>4485</td>\n      <td>18385</td>\n      <td>2840</td>\n      <td>2840</td>\n      <td>21736.919532</td>\n      <td>184294.924991</td>\n      <td>127637.611277</td>\n      <td>...</td>\n      <td>1</td>\n      <td>19.539911</td>\n      <td>12.892850</td>\n      <td>1.504442</td>\n      <td>4.844820</td>\n      <td>9.243396</td>\n      <td>1.418712</td>\n      <td>4.015682</td>\n      <td>18.555532</td>\n      <td>26.223894</td>\n    </tr>\n    <tr>\n      <th>482</th>\n      <td>730</td>\n      <td>3404</td>\n      <td>2600</td>\n      <td>5055</td>\n      <td>18755</td>\n      <td>2840</td>\n      <td>2840</td>\n      <td>20866.993760</td>\n      <td>184114.045604</td>\n      <td>128295.783408</td>\n      <td>...</td>\n      <td>1</td>\n      <td>18.387004</td>\n      <td>11.617199</td>\n      <td>1.119438</td>\n      <td>4.698536</td>\n      <td>9.107268</td>\n      <td>1.398252</td>\n      <td>3.890993</td>\n      <td>19.447876</td>\n      <td>24.808067</td>\n    </tr>\n    <tr>\n      <th>723</th>\n      <td>667</td>\n      <td>3814</td>\n      <td>2631</td>\n      <td>5245</td>\n      <td>19370</td>\n      <td>2840</td>\n      <td>2840</td>\n      <td>17949.168458</td>\n      <td>221202.458278</td>\n      <td>137472.394625</td>\n      <td>...</td>\n      <td>1</td>\n      <td>19.128202</td>\n      <td>12.324972</td>\n      <td>2.210197</td>\n      <td>6.003760</td>\n      <td>10.941657</td>\n      <td>2.428147</td>\n      <td>5.948101</td>\n      <td>19.930437</td>\n      <td>25.919180</td>\n    </tr>\n    <tr>\n      <th>964</th>\n      <td>997</td>\n      <td>3569</td>\n      <td>3013</td>\n      <td>5035</td>\n      <td>22675</td>\n      <td>2840</td>\n      <td>2840</td>\n      <td>31601.733987</td>\n      <td>206925.519779</td>\n      <td>168725.205892</td>\n      <td>...</td>\n      <td>1</td>\n      <td>19.937188</td>\n      <td>16.729068</td>\n      <td>1.207820</td>\n      <td>6.030796</td>\n      <td>10.350523</td>\n      <td>0.664740</td>\n      <td>4.025312</td>\n      <td>24.263035</td>\n      <td>16.543530</td>\n    </tr>\n    <tr>\n      <th>...</th>\n      <td>...</td>\n      <td>...</td>\n      <td>...</td>\n      <td>...</td>\n      <td>...</td>\n      <td>...</td>\n      <td>...</td>\n      <td>...</td>\n      <td>...</td>\n      <td>...</td>\n      <td>...</td>\n      <td>...</td>\n      <td>...</td>\n      <td>...</td>\n      <td>...</td>\n      <td>...</td>\n      <td>...</td>\n      <td>...</td>\n      <td>...</td>\n      <td>...</td>\n      <td>...</td>\n    </tr>\n    <tr>\n      <th>25797</th>\n      <td>633</td>\n      <td>3084</td>\n      <td>2205</td>\n      <td>4255</td>\n      <td>20260</td>\n      <td>2185</td>\n      <td>2840</td>\n      <td>15168.028148</td>\n      <td>146698.667898</td>\n      <td>102326.881891</td>\n      <td>...</td>\n      <td>1</td>\n      <td>21.102991</td>\n      <td>14.732158</td>\n      <td>1.686715</td>\n      <td>5.659945</td>\n      <td>13.039994</td>\n      <td>1.308433</td>\n      <td>4.848711</td>\n      <td>20.220541</td>\n      <td>36.707184</td>\n    </tr>\n    <tr>\n      <th>26038</th>\n      <td>795</td>\n      <td>3669</td>\n      <td>2724</td>\n      <td>4765</td>\n      <td>20410</td>\n      <td>2840</td>\n      <td>2840</td>\n      <td>22375.020348</td>\n      <td>207318.185631</td>\n      <td>146786.471170</td>\n      <td>...</td>\n      <td>1</td>\n      <td>22.148186</td>\n      <td>16.633343</td>\n      <td>1.874496</td>\n      <td>6.641354</td>\n      <td>15.426130</td>\n      <td>2.258161</td>\n      <td>4.898385</td>\n      <td>19.478767</td>\n      <td>22.278835</td>\n    </tr>\n    <tr>\n      <th>26279</th>\n      <td>801</td>\n      <td>3805</td>\n      <td>2575</td>\n      <td>4885</td>\n      <td>20400</td>\n      <td>2840</td>\n      <td>2840</td>\n      <td>22439.863013</td>\n      <td>215968.865103</td>\n      <td>136753.285023</td>\n      <td>...</td>\n      <td>1</td>\n      <td>22.762806</td>\n      <td>17.640301</td>\n      <td>1.481010</td>\n      <td>6.875417</td>\n      <td>12.561378</td>\n      <td>2.246910</td>\n      <td>4.471387</td>\n      <td>20.616781</td>\n      <td>26.929873</td>\n    </tr>\n    <tr>\n      <th>26520</th>\n      <td>868</td>\n      <td>3794</td>\n      <td>3029</td>\n      <td>5430</td>\n      <td>20755</td>\n      <td>2840</td>\n      <td>2840</td>\n      <td>25084.417057</td>\n      <td>216622.182978</td>\n      <td>168327.403757</td>\n      <td>...</td>\n      <td>1</td>\n      <td>19.888791</td>\n      <td>19.743281</td>\n      <td>2.204936</td>\n      <td>6.574413</td>\n      <td>16.267729</td>\n      <td>1.759706</td>\n      <td>5.525146</td>\n      <td>17.599583</td>\n      <td>22.764488</td>\n    </tr>\n    <tr>\n      <th>26761</th>\n      <td>873</td>\n      <td>3921</td>\n      <td>2831</td>\n      <td>5690</td>\n      <td>21495</td>\n      <td>2840</td>\n      <td>2840</td>\n      <td>24799.135262</td>\n      <td>226161.340527</td>\n      <td>154353.942127</td>\n      <td>...</td>\n      <td>1</td>\n      <td>19.603810</td>\n      <td>18.862473</td>\n      <td>2.616759</td>\n      <td>6.815766</td>\n      <td>15.943200</td>\n      <td>2.833736</td>\n      <td>6.482209</td>\n      <td>16.316133</td>\n      <td>22.707045</td>\n    </tr>\n  </tbody>\n</table>\n<p>119 rows × 49 columns</p>\n</div>"
     },
     "execution_count": 95,
     "metadata": {},
     "output_type": "execute_result"
    }
   ],
   "source": [
    "train_datasets"
   ],
   "metadata": {
    "collapsed": false
   }
  },
  {
   "cell_type": "code",
   "execution_count": 96,
   "outputs": [
    {
     "data": {
      "text/plain": "      Patella_PN  Femur_PN  Tibia_PN  Patella_Car_PN  Femur_Car_PN  \\\n0            788      4137      2689            5575         21035   \n241          527      3022      2229            3815         20220   \n482          971      3746      2799            4985         22785   \n723          867      3575      2604            4685         18085   \n964          796      3693      2820            4515         18505   \n1078         638      3334      2466            4685         20160   \n1319         725      3688      2568            5965         20005   \n1560         682      3536      2522            4165         19195   \n1801         653      3451      2169            4405         20275   \n2042         613      3064      2074            4095         18825   \n2283         759      3396      2249            4295         20085   \n2524         714      3287      2068            3600         19880   \n2765         637      3353      2186            2435         16635   \n2816         538      3171      2037            4375         17065   \n3057         661      3102      2154            2240         17585   \n3298         704      3589      2680            5735         19095   \n3539         623      3537      2045            2475         16375   \n3598         686      2963      2388            4405         20910   \n3839         589      3367      1988            3425         17120   \n4080         752      3674      2669            5225         22195   \n4321         922      3866      2738            4645         21800   \n4562         776      3809      2467            4315         21315   \n4803         686      3623      2489            5135         20875   \n4901         632      3265      2300            4615         19715   \n5142         526      2741      2006            4385         20085   \n5383         980      4499      2993            5405         20765   \n5624         696      3413      2690            3985         19245   \n5865         696      3460      2261            4355         21475   \n6106         656      3151      1921            1695         15475   \n6166         505      2970      1866            4635         16865   \n6407         663      3132      2263            4745         21250   \n6648         588      3313      2279            5005         19420   \n6889         495      2775      1924            4585         18055   \n7130         810      3712      2658            4855         21425   \n7371         802      3636      2781            5565         17575   \n7612         979      4160      2851            3630         16105   \n7853         792      3919      2562            5575         22680   \n8094        1137      4142      2789            5275         21420   \n8335         786      3988      2330            4815         20900   \n8576         779      3648      2813            5005         18515   \n8610         822      3751      2578            4675         22110   \n\n      Tibia_M_Car_PN  Tibia_L_Car_PN  Patella_volume   Femur_volume  \\\n0               2840            2840    22692.085291  248976.459037   \n241             2840            2840    10857.202560  146243.036440   \n482             2840            2840    30455.804840  217672.765536   \n723             2840            2840    26574.049046  207733.326164   \n964             2840            5160    21902.730915  206979.152648   \n1078            2315            2840    16611.521125  177709.783397   \n1319            2840            2840    19946.762534  204130.287956   \n1560            2355            2840    18909.762405  204468.276728   \n1801            2840            2840    15296.663201  173967.102959   \n2042            2840            2840    15630.041565  156580.112121   \n2283            2560            2840    20821.845928  169346.982475   \n2524            2840            2840    17875.393886  164289.430610   \n2765            2840            2840    16694.647128  173668.399345   \n2816            2840            2840    14251.846467  167175.168350   \n3057            2840            2840    15705.500910  155740.797732   \n3298            2840            2840    19181.692461  197000.659506   \n3539            2840            2840    15659.775715  180957.084547   \n3598            2155            2840    15821.015946  140615.628188   \n3839            2840            2840    14573.127769  173853.931209   \n4080            2840            2840    20204.268573  207124.042497   \n4321            2340            2840    26822.466759  217761.486440   \n4562            4595            2840    19727.842173  207103.898292   \n4803            2840            2840    18649.770780  204873.559441   \n4901            2840            2840    16215.273244  174308.699962   \n5142            2840            2840    12663.576956  130774.058804   \n5383            2840            2840    30048.239370  299203.953810   \n5624            2810            2840    19319.371684  195894.933676   \n5865            2840            2840    19005.275452  190608.250442   \n6106            2840            2840    16424.282232  159529.919626   \n6166            2840            2840    11494.193728  143275.073869   \n6407            2840            2230    16646.278538  149753.237886   \n6648            2840            2840    15070.902267  177284.728394   \n6889            2750            2840    11866.160605  136108.014091   \n7130            2045            2840    21756.264839  209011.659845   \n7371            2840            2840    24117.502212  208578.335130   \n7612            2840            2840    29234.702281  247627.299725   \n7853            2705            4910    20419.909757  218570.086543   \n8094            2840            2840    33682.157434  231437.991665   \n8335            4935            2840    20012.186577  218086.496735   \n8576            2840            2840    21386.889875  205316.314892   \n8610            2020            2840    21919.160507  209790.697993   \n\n       Tibia_volume  ...  tib_lat_ishealthy  femur_gap_dist  \\\n0     146188.096235  ...                  1       21.353662   \n241   102239.159975  ...                  1       17.904112   \n482   155360.366258  ...                  1       22.098599   \n723   139532.495131  ...                  1       21.861433   \n964   150993.716861  ...                  1       25.372615   \n1078  124081.197778  ...                  1       18.512777   \n1319  137407.126695  ...                  1       20.334987   \n1560  137445.470948  ...                  1       16.587481   \n1801   99355.880702  ...                  1       18.060899   \n2042  101463.017837  ...                  1       17.309278   \n2283  103577.888218  ...                  1       15.972282   \n2524   94995.557972  ...                  1       19.592009   \n2765  106859.100304  ...                  1       20.416480   \n2816   99476.192374  ...                  1       17.501860   \n3057  102222.837024  ...                  1       13.909748   \n3298  145652.581038  ...                  1       18.845673   \n3539   95025.626028  ...                  1       18.614869   \n3598  110523.109264  ...                  1       19.857552   \n3839   93189.242205  ...                  1       18.562110   \n4080  141823.277426  ...                  1       22.576122   \n4321  143150.197170  ...                  1       24.568038   \n4562  118871.430515  ...                  1       24.164017   \n4803  130201.395129  ...                  1       20.892684   \n4901  113090.275314  ...                  1       17.502411   \n5142   94132.699154  ...                  1       18.487373   \n5383  178656.803929  ...                  1       26.693968   \n5624  147013.678392  ...                  1       17.630828   \n5865  112432.026886  ...                  1       17.351840   \n6106   89844.438896  ...                  1       16.730696   \n6166   85202.818724  ...                  1       17.613860   \n6407  104534.303432  ...                  0       16.070062   \n6648  116046.067745  ...                  1       17.711154   \n6889   88900.905242  ...                  1       14.978076   \n7130  138489.846932  ...                  1       15.559444   \n7371  150163.538052  ...                  1       18.331475   \n7612  151503.832710  ...                  1       17.434834   \n7853  131815.930164  ...                  1       19.833591   \n8094  139880.512171  ...                  1       19.629001   \n8335  108967.563212  ...                  1       21.697216   \n8576  151356.498848  ...                  1       26.895931   \n8610  131852.517229  ...                  1       14.549205   \n\n      Max_dist_femur_tibia_lat_car  Min_dist_femur_tibia_lat_car  \\\n0                        13.779237                      1.205597   \n241                      21.284904                      1.277765   \n482                      16.570434                      1.646447   \n723                      19.327724                      1.414403   \n964                      14.922067                      1.157918   \n1078                     14.629710                      1.216608   \n1319                     12.480014                      2.688065   \n1560                     11.230420                      1.152456   \n1801                     14.342613                      2.279677   \n2042                     12.991571                      1.120302   \n2283                     11.121685                      1.345430   \n2524                     19.225288                      1.798683   \n2765                     12.223973                      2.159055   \n2816                     12.994156                      1.489624   \n3057                     12.521401                      1.390383   \n3298                     14.280392                      2.602943   \n3539                     14.384782                      2.843068   \n3598                     18.010511                      1.444001   \n3839                     16.834196                      2.328544   \n4080                     16.466665                      1.677136   \n4321                     22.752636                      1.440737   \n4562                     21.446570                      2.466809   \n4803                     17.076576                      2.482977   \n4901                     13.700978                      1.615834   \n5142                     16.645856                      2.161365   \n5383                     14.819318                      1.243401   \n5624                     12.024448                      1.326659   \n5865                     19.741360                      1.608253   \n6106                     12.797398                      1.705374   \n6166                     19.320394                      2.217106   \n6407                     11.728932                      2.148263   \n6648                     16.218147                      2.243479   \n6889                     16.067871                      1.079834   \n7130                     16.568882                      1.680482   \n7371                     14.573512                      1.835006   \n7612                     11.864629                      2.241676   \n7853                     18.734276                      1.864337   \n8094                     13.941570                      0.987391   \n8335                     21.411174                      2.631221   \n8576                     18.039526                      1.498072   \n8610                     16.346643                      1.403446   \n\n      Mean_dist_femur_tibia_lat_car  Max_dist_femur_tibia_med_car  \\\n0                          4.272830                     20.666032   \n241                        6.603770                     10.369182   \n482                        5.989795                     11.721987   \n723                        7.044505                     15.558528   \n964                        5.545328                      9.611753   \n1078                       6.158827                      9.355632   \n1319                       6.360378                      9.319604   \n1560                       4.571150                     11.410034   \n1801                       5.255860                     10.066185   \n2042                       4.794382                     12.351678   \n2283                       4.722723                     10.199230   \n2524                       6.421912                     13.749914   \n2765                       5.817460                     12.458664   \n2816                       4.589668                      9.035737   \n3057                       5.152775                     10.207051   \n3298                       6.476641                      9.661562   \n3539                       6.132561                     14.134136   \n3598                       5.899954                     13.425811   \n3839                       6.225361                     13.092864   \n4080                       5.663880                     20.177378   \n4321                       7.901696                     17.943346   \n4562                       8.009479                     18.138274   \n4803                       6.667352                     12.920082   \n4901                       4.960033                     10.516684   \n5142                       6.294657                     12.607543   \n5383                       6.005265                     13.185246   \n5624                       4.721662                     10.686018   \n5865                       7.573724                     15.617203   \n6106                       5.254277                      9.502496   \n6166                       6.661406                     14.738956   \n6407                       5.073033                     12.145781   \n6648                       5.755185                     14.281986   \n6889                       5.494725                     11.147517   \n7130                       5.966687                      9.430720   \n7371                       5.847904                      8.975198   \n7612                       6.061999                     10.152689   \n7853                       6.352416                     13.845760   \n8094                       6.105886                     10.304892   \n8335                       7.931749                     17.274178   \n8576                       5.479973                     11.500180   \n8610                       6.000296                      9.767852   \n\n      Min_dist_femur_tibia_med_car  Mean_dist_femur_tibia_med_car  \\\n0                         2.178122                       6.670601   \n241                       1.176817                       3.926511   \n482                       1.394432                       4.899639   \n723                       2.203551                       6.545311   \n964                       1.956866                       4.509022   \n1078                      1.965896                       4.348648   \n1319                      1.602352                       5.082682   \n1560                      0.823154                       3.888859   \n1801                      0.754882                       3.642400   \n2042                      1.012572                       4.638105   \n2283                      1.059355                       3.856471   \n2524                      2.226041                       4.980429   \n2765                      1.134852                       5.603682   \n2816                      1.395278                       3.702283   \n3057                      1.013948                       3.778895   \n3298                      1.733849                       4.836324   \n3539                      2.447915                       5.520313   \n3598                      1.667098                       5.354239   \n3839                      1.137896                       4.347738   \n4080                      2.723724                       7.444552   \n4321                      0.774024                       5.269343   \n4562                      3.243686                       7.208899   \n4803                     -0.375565                       3.581504   \n4901                      0.908140                       4.071796   \n5142                      1.659298                       4.424846   \n5383                      1.930638                       5.089810   \n5624                      0.717505                       3.511625   \n5865                      1.258967                       5.055492   \n6106                      1.573028                       4.399092   \n6166                      1.543427                       4.848147   \n6407                      2.067983                       6.368817   \n6648                      0.675598                       4.416988   \n6889                      0.039799                       3.149434   \n7130                      1.823473                       4.284823   \n7371                      1.720795                       4.322969   \n7612                      1.648338                       4.758850   \n7853                      1.539893                       4.734481   \n8094                      1.376902                       4.580906   \n8335                      3.318791                       7.171680   \n8576                      1.922562                       5.105238   \n8610                      1.143582                       4.523379   \n\n      lat_Max_all_frames  med_Max_all_frames  \n0              24.228903           16.497473  \n241            20.081484           31.558796  \n482            26.539942           14.729120  \n723            30.914001           32.082020  \n964            31.127924           18.559311  \n1078           18.824017           28.095928  \n1319           22.746050           36.272587  \n1560           20.282326           20.356743  \n1801           22.529240           32.366993  \n2042           18.645138           33.404396  \n2283           22.920734           22.461914  \n2524           24.914707           41.520279  \n2765           30.219351           19.829250  \n2816           26.669691           23.855280  \n3057           26.070108           11.829227  \n3298           22.124178           29.335966  \n3539           31.639830           27.220507  \n3598           27.401314           34.442417  \n3839           31.163488           53.636940  \n4080           33.180820           18.182465  \n4321           21.266918           26.806919  \n4562           22.231998           36.032612  \n4803           19.504101           24.921755  \n4901           20.869864           22.966322  \n5142           15.676988           31.926094  \n5383           18.923689           20.012444  \n5624           20.504147           33.202858  \n5865           19.909859           30.066025  \n6106           28.818628           33.324368  \n6166           36.473061           27.946938  \n6407           32.254631           19.853733  \n6648           16.179705           52.546146  \n6889           24.452759           32.046146  \n7130           16.687788           32.048462  \n7371           24.233860           26.373680  \n7612           29.088636           32.144409  \n7853           59.376286           22.238661  \n8094           15.890460           34.044975  \n8335           20.790525           22.939425  \n8576           10.920550           10.130311  \n8610           18.718307           27.547150  \n\n[41 rows x 49 columns]",
      "text/html": "<div>\n<style scoped>\n    .dataframe tbody tr th:only-of-type {\n        vertical-align: middle;\n    }\n\n    .dataframe tbody tr th {\n        vertical-align: top;\n    }\n\n    .dataframe thead th {\n        text-align: right;\n    }\n</style>\n<table border=\"1\" class=\"dataframe\">\n  <thead>\n    <tr style=\"text-align: right;\">\n      <th></th>\n      <th>Patella_PN</th>\n      <th>Femur_PN</th>\n      <th>Tibia_PN</th>\n      <th>Patella_Car_PN</th>\n      <th>Femur_Car_PN</th>\n      <th>Tibia_M_Car_PN</th>\n      <th>Tibia_L_Car_PN</th>\n      <th>Patella_volume</th>\n      <th>Femur_volume</th>\n      <th>Tibia_volume</th>\n      <th>...</th>\n      <th>tib_lat_ishealthy</th>\n      <th>femur_gap_dist</th>\n      <th>Max_dist_femur_tibia_lat_car</th>\n      <th>Min_dist_femur_tibia_lat_car</th>\n      <th>Mean_dist_femur_tibia_lat_car</th>\n      <th>Max_dist_femur_tibia_med_car</th>\n      <th>Min_dist_femur_tibia_med_car</th>\n      <th>Mean_dist_femur_tibia_med_car</th>\n      <th>lat_Max_all_frames</th>\n      <th>med_Max_all_frames</th>\n    </tr>\n  </thead>\n  <tbody>\n    <tr>\n      <th>0</th>\n      <td>788</td>\n      <td>4137</td>\n      <td>2689</td>\n      <td>5575</td>\n      <td>21035</td>\n      <td>2840</td>\n      <td>2840</td>\n      <td>22692.085291</td>\n      <td>248976.459037</td>\n      <td>146188.096235</td>\n      <td>...</td>\n      <td>1</td>\n      <td>21.353662</td>\n      <td>13.779237</td>\n      <td>1.205597</td>\n      <td>4.272830</td>\n      <td>20.666032</td>\n      <td>2.178122</td>\n      <td>6.670601</td>\n      <td>24.228903</td>\n      <td>16.497473</td>\n    </tr>\n    <tr>\n      <th>241</th>\n      <td>527</td>\n      <td>3022</td>\n      <td>2229</td>\n      <td>3815</td>\n      <td>20220</td>\n      <td>2840</td>\n      <td>2840</td>\n      <td>10857.202560</td>\n      <td>146243.036440</td>\n      <td>102239.159975</td>\n      <td>...</td>\n      <td>1</td>\n      <td>17.904112</td>\n      <td>21.284904</td>\n      <td>1.277765</td>\n      <td>6.603770</td>\n      <td>10.369182</td>\n      <td>1.176817</td>\n      <td>3.926511</td>\n      <td>20.081484</td>\n      <td>31.558796</td>\n    </tr>\n    <tr>\n      <th>482</th>\n      <td>971</td>\n      <td>3746</td>\n      <td>2799</td>\n      <td>4985</td>\n      <td>22785</td>\n      <td>2840</td>\n      <td>2840</td>\n      <td>30455.804840</td>\n      <td>217672.765536</td>\n      <td>155360.366258</td>\n      <td>...</td>\n      <td>1</td>\n      <td>22.098599</td>\n      <td>16.570434</td>\n      <td>1.646447</td>\n      <td>5.989795</td>\n      <td>11.721987</td>\n      <td>1.394432</td>\n      <td>4.899639</td>\n      <td>26.539942</td>\n      <td>14.729120</td>\n    </tr>\n    <tr>\n      <th>723</th>\n      <td>867</td>\n      <td>3575</td>\n      <td>2604</td>\n      <td>4685</td>\n      <td>18085</td>\n      <td>2840</td>\n      <td>2840</td>\n      <td>26574.049046</td>\n      <td>207733.326164</td>\n      <td>139532.495131</td>\n      <td>...</td>\n      <td>1</td>\n      <td>21.861433</td>\n      <td>19.327724</td>\n      <td>1.414403</td>\n      <td>7.044505</td>\n      <td>15.558528</td>\n      <td>2.203551</td>\n      <td>6.545311</td>\n      <td>30.914001</td>\n      <td>32.082020</td>\n    </tr>\n    <tr>\n      <th>964</th>\n      <td>796</td>\n      <td>3693</td>\n      <td>2820</td>\n      <td>4515</td>\n      <td>18505</td>\n      <td>2840</td>\n      <td>5160</td>\n      <td>21902.730915</td>\n      <td>206979.152648</td>\n      <td>150993.716861</td>\n      <td>...</td>\n      <td>1</td>\n      <td>25.372615</td>\n      <td>14.922067</td>\n      <td>1.157918</td>\n      <td>5.545328</td>\n      <td>9.611753</td>\n      <td>1.956866</td>\n      <td>4.509022</td>\n      <td>31.127924</td>\n      <td>18.559311</td>\n    </tr>\n    <tr>\n      <th>1078</th>\n      <td>638</td>\n      <td>3334</td>\n      <td>2466</td>\n      <td>4685</td>\n      <td>20160</td>\n      <td>2315</td>\n      <td>2840</td>\n      <td>16611.521125</td>\n      <td>177709.783397</td>\n      <td>124081.197778</td>\n      <td>...</td>\n      <td>1</td>\n      <td>18.512777</td>\n      <td>14.629710</td>\n      <td>1.216608</td>\n      <td>6.158827</td>\n      <td>9.355632</td>\n      <td>1.965896</td>\n      <td>4.348648</td>\n      <td>18.824017</td>\n      <td>28.095928</td>\n    </tr>\n    <tr>\n      <th>1319</th>\n      <td>725</td>\n      <td>3688</td>\n      <td>2568</td>\n      <td>5965</td>\n      <td>20005</td>\n      <td>2840</td>\n      <td>2840</td>\n      <td>19946.762534</td>\n      <td>204130.287956</td>\n      <td>137407.126695</td>\n      <td>...</td>\n      <td>1</td>\n      <td>20.334987</td>\n      <td>12.480014</td>\n      <td>2.688065</td>\n      <td>6.360378</td>\n      <td>9.319604</td>\n      <td>1.602352</td>\n      <td>5.082682</td>\n      <td>22.746050</td>\n      <td>36.272587</td>\n    </tr>\n    <tr>\n      <th>1560</th>\n      <td>682</td>\n      <td>3536</td>\n      <td>2522</td>\n      <td>4165</td>\n      <td>19195</td>\n      <td>2355</td>\n      <td>2840</td>\n      <td>18909.762405</td>\n      <td>204468.276728</td>\n      <td>137445.470948</td>\n      <td>...</td>\n      <td>1</td>\n      <td>16.587481</td>\n      <td>11.230420</td>\n      <td>1.152456</td>\n      <td>4.571150</td>\n      <td>11.410034</td>\n      <td>0.823154</td>\n      <td>3.888859</td>\n      <td>20.282326</td>\n      <td>20.356743</td>\n    </tr>\n    <tr>\n      <th>1801</th>\n      <td>653</td>\n      <td>3451</td>\n      <td>2169</td>\n      <td>4405</td>\n      <td>20275</td>\n      <td>2840</td>\n      <td>2840</td>\n      <td>15296.663201</td>\n      <td>173967.102959</td>\n      <td>99355.880702</td>\n      <td>...</td>\n      <td>1</td>\n      <td>18.060899</td>\n      <td>14.342613</td>\n      <td>2.279677</td>\n      <td>5.255860</td>\n      <td>10.066185</td>\n      <td>0.754882</td>\n      <td>3.642400</td>\n      <td>22.529240</td>\n      <td>32.366993</td>\n    </tr>\n    <tr>\n      <th>2042</th>\n      <td>613</td>\n      <td>3064</td>\n      <td>2074</td>\n      <td>4095</td>\n      <td>18825</td>\n      <td>2840</td>\n      <td>2840</td>\n      <td>15630.041565</td>\n      <td>156580.112121</td>\n      <td>101463.017837</td>\n      <td>...</td>\n      <td>1</td>\n      <td>17.309278</td>\n      <td>12.991571</td>\n      <td>1.120302</td>\n      <td>4.794382</td>\n      <td>12.351678</td>\n      <td>1.012572</td>\n      <td>4.638105</td>\n      <td>18.645138</td>\n      <td>33.404396</td>\n    </tr>\n    <tr>\n      <th>2283</th>\n      <td>759</td>\n      <td>3396</td>\n      <td>2249</td>\n      <td>4295</td>\n      <td>20085</td>\n      <td>2560</td>\n      <td>2840</td>\n      <td>20821.845928</td>\n      <td>169346.982475</td>\n      <td>103577.888218</td>\n      <td>...</td>\n      <td>1</td>\n      <td>15.972282</td>\n      <td>11.121685</td>\n      <td>1.345430</td>\n      <td>4.722723</td>\n      <td>10.199230</td>\n      <td>1.059355</td>\n      <td>3.856471</td>\n      <td>22.920734</td>\n      <td>22.461914</td>\n    </tr>\n    <tr>\n      <th>2524</th>\n      <td>714</td>\n      <td>3287</td>\n      <td>2068</td>\n      <td>3600</td>\n      <td>19880</td>\n      <td>2840</td>\n      <td>2840</td>\n      <td>17875.393886</td>\n      <td>164289.430610</td>\n      <td>94995.557972</td>\n      <td>...</td>\n      <td>1</td>\n      <td>19.592009</td>\n      <td>19.225288</td>\n      <td>1.798683</td>\n      <td>6.421912</td>\n      <td>13.749914</td>\n      <td>2.226041</td>\n      <td>4.980429</td>\n      <td>24.914707</td>\n      <td>41.520279</td>\n    </tr>\n    <tr>\n      <th>2765</th>\n      <td>637</td>\n      <td>3353</td>\n      <td>2186</td>\n      <td>2435</td>\n      <td>16635</td>\n      <td>2840</td>\n      <td>2840</td>\n      <td>16694.647128</td>\n      <td>173668.399345</td>\n      <td>106859.100304</td>\n      <td>...</td>\n      <td>1</td>\n      <td>20.416480</td>\n      <td>12.223973</td>\n      <td>2.159055</td>\n      <td>5.817460</td>\n      <td>12.458664</td>\n      <td>1.134852</td>\n      <td>5.603682</td>\n      <td>30.219351</td>\n      <td>19.829250</td>\n    </tr>\n    <tr>\n      <th>2816</th>\n      <td>538</td>\n      <td>3171</td>\n      <td>2037</td>\n      <td>4375</td>\n      <td>17065</td>\n      <td>2840</td>\n      <td>2840</td>\n      <td>14251.846467</td>\n      <td>167175.168350</td>\n      <td>99476.192374</td>\n      <td>...</td>\n      <td>1</td>\n      <td>17.501860</td>\n      <td>12.994156</td>\n      <td>1.489624</td>\n      <td>4.589668</td>\n      <td>9.035737</td>\n      <td>1.395278</td>\n      <td>3.702283</td>\n      <td>26.669691</td>\n      <td>23.855280</td>\n    </tr>\n    <tr>\n      <th>3057</th>\n      <td>661</td>\n      <td>3102</td>\n      <td>2154</td>\n      <td>2240</td>\n      <td>17585</td>\n      <td>2840</td>\n      <td>2840</td>\n      <td>15705.500910</td>\n      <td>155740.797732</td>\n      <td>102222.837024</td>\n      <td>...</td>\n      <td>1</td>\n      <td>13.909748</td>\n      <td>12.521401</td>\n      <td>1.390383</td>\n      <td>5.152775</td>\n      <td>10.207051</td>\n      <td>1.013948</td>\n      <td>3.778895</td>\n      <td>26.070108</td>\n      <td>11.829227</td>\n    </tr>\n    <tr>\n      <th>3298</th>\n      <td>704</td>\n      <td>3589</td>\n      <td>2680</td>\n      <td>5735</td>\n      <td>19095</td>\n      <td>2840</td>\n      <td>2840</td>\n      <td>19181.692461</td>\n      <td>197000.659506</td>\n      <td>145652.581038</td>\n      <td>...</td>\n      <td>1</td>\n      <td>18.845673</td>\n      <td>14.280392</td>\n      <td>2.602943</td>\n      <td>6.476641</td>\n      <td>9.661562</td>\n      <td>1.733849</td>\n      <td>4.836324</td>\n      <td>22.124178</td>\n      <td>29.335966</td>\n    </tr>\n    <tr>\n      <th>3539</th>\n      <td>623</td>\n      <td>3537</td>\n      <td>2045</td>\n      <td>2475</td>\n      <td>16375</td>\n      <td>2840</td>\n      <td>2840</td>\n      <td>15659.775715</td>\n      <td>180957.084547</td>\n      <td>95025.626028</td>\n      <td>...</td>\n      <td>1</td>\n      <td>18.614869</td>\n      <td>14.384782</td>\n      <td>2.843068</td>\n      <td>6.132561</td>\n      <td>14.134136</td>\n      <td>2.447915</td>\n      <td>5.520313</td>\n      <td>31.639830</td>\n      <td>27.220507</td>\n    </tr>\n    <tr>\n      <th>3598</th>\n      <td>686</td>\n      <td>2963</td>\n      <td>2388</td>\n      <td>4405</td>\n      <td>20910</td>\n      <td>2155</td>\n      <td>2840</td>\n      <td>15821.015946</td>\n      <td>140615.628188</td>\n      <td>110523.109264</td>\n      <td>...</td>\n      <td>1</td>\n      <td>19.857552</td>\n      <td>18.010511</td>\n      <td>1.444001</td>\n      <td>5.899954</td>\n      <td>13.425811</td>\n      <td>1.667098</td>\n      <td>5.354239</td>\n      <td>27.401314</td>\n      <td>34.442417</td>\n    </tr>\n    <tr>\n      <th>3839</th>\n      <td>589</td>\n      <td>3367</td>\n      <td>1988</td>\n      <td>3425</td>\n      <td>17120</td>\n      <td>2840</td>\n      <td>2840</td>\n      <td>14573.127769</td>\n      <td>173853.931209</td>\n      <td>93189.242205</td>\n      <td>...</td>\n      <td>1</td>\n      <td>18.562110</td>\n      <td>16.834196</td>\n      <td>2.328544</td>\n      <td>6.225361</td>\n      <td>13.092864</td>\n      <td>1.137896</td>\n      <td>4.347738</td>\n      <td>31.163488</td>\n      <td>53.636940</td>\n    </tr>\n    <tr>\n      <th>4080</th>\n      <td>752</td>\n      <td>3674</td>\n      <td>2669</td>\n      <td>5225</td>\n      <td>22195</td>\n      <td>2840</td>\n      <td>2840</td>\n      <td>20204.268573</td>\n      <td>207124.042497</td>\n      <td>141823.277426</td>\n      <td>...</td>\n      <td>1</td>\n      <td>22.576122</td>\n      <td>16.466665</td>\n      <td>1.677136</td>\n      <td>5.663880</td>\n      <td>20.177378</td>\n      <td>2.723724</td>\n      <td>7.444552</td>\n      <td>33.180820</td>\n      <td>18.182465</td>\n    </tr>\n    <tr>\n      <th>4321</th>\n      <td>922</td>\n      <td>3866</td>\n      <td>2738</td>\n      <td>4645</td>\n      <td>21800</td>\n      <td>2340</td>\n      <td>2840</td>\n      <td>26822.466759</td>\n      <td>217761.486440</td>\n      <td>143150.197170</td>\n      <td>...</td>\n      <td>1</td>\n      <td>24.568038</td>\n      <td>22.752636</td>\n      <td>1.440737</td>\n      <td>7.901696</td>\n      <td>17.943346</td>\n      <td>0.774024</td>\n      <td>5.269343</td>\n      <td>21.266918</td>\n      <td>26.806919</td>\n    </tr>\n    <tr>\n      <th>4562</th>\n      <td>776</td>\n      <td>3809</td>\n      <td>2467</td>\n      <td>4315</td>\n      <td>21315</td>\n      <td>4595</td>\n      <td>2840</td>\n      <td>19727.842173</td>\n      <td>207103.898292</td>\n      <td>118871.430515</td>\n      <td>...</td>\n      <td>1</td>\n      <td>24.164017</td>\n      <td>21.446570</td>\n      <td>2.466809</td>\n      <td>8.009479</td>\n      <td>18.138274</td>\n      <td>3.243686</td>\n      <td>7.208899</td>\n      <td>22.231998</td>\n      <td>36.032612</td>\n    </tr>\n    <tr>\n      <th>4803</th>\n      <td>686</td>\n      <td>3623</td>\n      <td>2489</td>\n      <td>5135</td>\n      <td>20875</td>\n      <td>2840</td>\n      <td>2840</td>\n      <td>18649.770780</td>\n      <td>204873.559441</td>\n      <td>130201.395129</td>\n      <td>...</td>\n      <td>1</td>\n      <td>20.892684</td>\n      <td>17.076576</td>\n      <td>2.482977</td>\n      <td>6.667352</td>\n      <td>12.920082</td>\n      <td>-0.375565</td>\n      <td>3.581504</td>\n      <td>19.504101</td>\n      <td>24.921755</td>\n    </tr>\n    <tr>\n      <th>4901</th>\n      <td>632</td>\n      <td>3265</td>\n      <td>2300</td>\n      <td>4615</td>\n      <td>19715</td>\n      <td>2840</td>\n      <td>2840</td>\n      <td>16215.273244</td>\n      <td>174308.699962</td>\n      <td>113090.275314</td>\n      <td>...</td>\n      <td>1</td>\n      <td>17.502411</td>\n      <td>13.700978</td>\n      <td>1.615834</td>\n      <td>4.960033</td>\n      <td>10.516684</td>\n      <td>0.908140</td>\n      <td>4.071796</td>\n      <td>20.869864</td>\n      <td>22.966322</td>\n    </tr>\n    <tr>\n      <th>5142</th>\n      <td>526</td>\n      <td>2741</td>\n      <td>2006</td>\n      <td>4385</td>\n      <td>20085</td>\n      <td>2840</td>\n      <td>2840</td>\n      <td>12663.576956</td>\n      <td>130774.058804</td>\n      <td>94132.699154</td>\n      <td>...</td>\n      <td>1</td>\n      <td>18.487373</td>\n      <td>16.645856</td>\n      <td>2.161365</td>\n      <td>6.294657</td>\n      <td>12.607543</td>\n      <td>1.659298</td>\n      <td>4.424846</td>\n      <td>15.676988</td>\n      <td>31.926094</td>\n    </tr>\n    <tr>\n      <th>5383</th>\n      <td>980</td>\n      <td>4499</td>\n      <td>2993</td>\n      <td>5405</td>\n      <td>20765</td>\n      <td>2840</td>\n      <td>2840</td>\n      <td>30048.239370</td>\n      <td>299203.953810</td>\n      <td>178656.803929</td>\n      <td>...</td>\n      <td>1</td>\n      <td>26.693968</td>\n      <td>14.819318</td>\n      <td>1.243401</td>\n      <td>6.005265</td>\n      <td>13.185246</td>\n      <td>1.930638</td>\n      <td>5.089810</td>\n      <td>18.923689</td>\n      <td>20.012444</td>\n    </tr>\n    <tr>\n      <th>5624</th>\n      <td>696</td>\n      <td>3413</td>\n      <td>2690</td>\n      <td>3985</td>\n      <td>19245</td>\n      <td>2810</td>\n      <td>2840</td>\n      <td>19319.371684</td>\n      <td>195894.933676</td>\n      <td>147013.678392</td>\n      <td>...</td>\n      <td>1</td>\n      <td>17.630828</td>\n      <td>12.024448</td>\n      <td>1.326659</td>\n      <td>4.721662</td>\n      <td>10.686018</td>\n      <td>0.717505</td>\n      <td>3.511625</td>\n      <td>20.504147</td>\n      <td>33.202858</td>\n    </tr>\n    <tr>\n      <th>5865</th>\n      <td>696</td>\n      <td>3460</td>\n      <td>2261</td>\n      <td>4355</td>\n      <td>21475</td>\n      <td>2840</td>\n      <td>2840</td>\n      <td>19005.275452</td>\n      <td>190608.250442</td>\n      <td>112432.026886</td>\n      <td>...</td>\n      <td>1</td>\n      <td>17.351840</td>\n      <td>19.741360</td>\n      <td>1.608253</td>\n      <td>7.573724</td>\n      <td>15.617203</td>\n      <td>1.258967</td>\n      <td>5.055492</td>\n      <td>19.909859</td>\n      <td>30.066025</td>\n    </tr>\n    <tr>\n      <th>6106</th>\n      <td>656</td>\n      <td>3151</td>\n      <td>1921</td>\n      <td>1695</td>\n      <td>15475</td>\n      <td>2840</td>\n      <td>2840</td>\n      <td>16424.282232</td>\n      <td>159529.919626</td>\n      <td>89844.438896</td>\n      <td>...</td>\n      <td>1</td>\n      <td>16.730696</td>\n      <td>12.797398</td>\n      <td>1.705374</td>\n      <td>5.254277</td>\n      <td>9.502496</td>\n      <td>1.573028</td>\n      <td>4.399092</td>\n      <td>28.818628</td>\n      <td>33.324368</td>\n    </tr>\n    <tr>\n      <th>6166</th>\n      <td>505</td>\n      <td>2970</td>\n      <td>1866</td>\n      <td>4635</td>\n      <td>16865</td>\n      <td>2840</td>\n      <td>2840</td>\n      <td>11494.193728</td>\n      <td>143275.073869</td>\n      <td>85202.818724</td>\n      <td>...</td>\n      <td>1</td>\n      <td>17.613860</td>\n      <td>19.320394</td>\n      <td>2.217106</td>\n      <td>6.661406</td>\n      <td>14.738956</td>\n      <td>1.543427</td>\n      <td>4.848147</td>\n      <td>36.473061</td>\n      <td>27.946938</td>\n    </tr>\n    <tr>\n      <th>6407</th>\n      <td>663</td>\n      <td>3132</td>\n      <td>2263</td>\n      <td>4745</td>\n      <td>21250</td>\n      <td>2840</td>\n      <td>2230</td>\n      <td>16646.278538</td>\n      <td>149753.237886</td>\n      <td>104534.303432</td>\n      <td>...</td>\n      <td>0</td>\n      <td>16.070062</td>\n      <td>11.728932</td>\n      <td>2.148263</td>\n      <td>5.073033</td>\n      <td>12.145781</td>\n      <td>2.067983</td>\n      <td>6.368817</td>\n      <td>32.254631</td>\n      <td>19.853733</td>\n    </tr>\n    <tr>\n      <th>6648</th>\n      <td>588</td>\n      <td>3313</td>\n      <td>2279</td>\n      <td>5005</td>\n      <td>19420</td>\n      <td>2840</td>\n      <td>2840</td>\n      <td>15070.902267</td>\n      <td>177284.728394</td>\n      <td>116046.067745</td>\n      <td>...</td>\n      <td>1</td>\n      <td>17.711154</td>\n      <td>16.218147</td>\n      <td>2.243479</td>\n      <td>5.755185</td>\n      <td>14.281986</td>\n      <td>0.675598</td>\n      <td>4.416988</td>\n      <td>16.179705</td>\n      <td>52.546146</td>\n    </tr>\n    <tr>\n      <th>6889</th>\n      <td>495</td>\n      <td>2775</td>\n      <td>1924</td>\n      <td>4585</td>\n      <td>18055</td>\n      <td>2750</td>\n      <td>2840</td>\n      <td>11866.160605</td>\n      <td>136108.014091</td>\n      <td>88900.905242</td>\n      <td>...</td>\n      <td>1</td>\n      <td>14.978076</td>\n      <td>16.067871</td>\n      <td>1.079834</td>\n      <td>5.494725</td>\n      <td>11.147517</td>\n      <td>0.039799</td>\n      <td>3.149434</td>\n      <td>24.452759</td>\n      <td>32.046146</td>\n    </tr>\n    <tr>\n      <th>7130</th>\n      <td>810</td>\n      <td>3712</td>\n      <td>2658</td>\n      <td>4855</td>\n      <td>21425</td>\n      <td>2045</td>\n      <td>2840</td>\n      <td>21756.264839</td>\n      <td>209011.659845</td>\n      <td>138489.846932</td>\n      <td>...</td>\n      <td>1</td>\n      <td>15.559444</td>\n      <td>16.568882</td>\n      <td>1.680482</td>\n      <td>5.966687</td>\n      <td>9.430720</td>\n      <td>1.823473</td>\n      <td>4.284823</td>\n      <td>16.687788</td>\n      <td>32.048462</td>\n    </tr>\n    <tr>\n      <th>7371</th>\n      <td>802</td>\n      <td>3636</td>\n      <td>2781</td>\n      <td>5565</td>\n      <td>17575</td>\n      <td>2840</td>\n      <td>2840</td>\n      <td>24117.502212</td>\n      <td>208578.335130</td>\n      <td>150163.538052</td>\n      <td>...</td>\n      <td>1</td>\n      <td>18.331475</td>\n      <td>14.573512</td>\n      <td>1.835006</td>\n      <td>5.847904</td>\n      <td>8.975198</td>\n      <td>1.720795</td>\n      <td>4.322969</td>\n      <td>24.233860</td>\n      <td>26.373680</td>\n    </tr>\n    <tr>\n      <th>7612</th>\n      <td>979</td>\n      <td>4160</td>\n      <td>2851</td>\n      <td>3630</td>\n      <td>16105</td>\n      <td>2840</td>\n      <td>2840</td>\n      <td>29234.702281</td>\n      <td>247627.299725</td>\n      <td>151503.832710</td>\n      <td>...</td>\n      <td>1</td>\n      <td>17.434834</td>\n      <td>11.864629</td>\n      <td>2.241676</td>\n      <td>6.061999</td>\n      <td>10.152689</td>\n      <td>1.648338</td>\n      <td>4.758850</td>\n      <td>29.088636</td>\n      <td>32.144409</td>\n    </tr>\n    <tr>\n      <th>7853</th>\n      <td>792</td>\n      <td>3919</td>\n      <td>2562</td>\n      <td>5575</td>\n      <td>22680</td>\n      <td>2705</td>\n      <td>4910</td>\n      <td>20419.909757</td>\n      <td>218570.086543</td>\n      <td>131815.930164</td>\n      <td>...</td>\n      <td>1</td>\n      <td>19.833591</td>\n      <td>18.734276</td>\n      <td>1.864337</td>\n      <td>6.352416</td>\n      <td>13.845760</td>\n      <td>1.539893</td>\n      <td>4.734481</td>\n      <td>59.376286</td>\n      <td>22.238661</td>\n    </tr>\n    <tr>\n      <th>8094</th>\n      <td>1137</td>\n      <td>4142</td>\n      <td>2789</td>\n      <td>5275</td>\n      <td>21420</td>\n      <td>2840</td>\n      <td>2840</td>\n      <td>33682.157434</td>\n      <td>231437.991665</td>\n      <td>139880.512171</td>\n      <td>...</td>\n      <td>1</td>\n      <td>19.629001</td>\n      <td>13.941570</td>\n      <td>0.987391</td>\n      <td>6.105886</td>\n      <td>10.304892</td>\n      <td>1.376902</td>\n      <td>4.580906</td>\n      <td>15.890460</td>\n      <td>34.044975</td>\n    </tr>\n    <tr>\n      <th>8335</th>\n      <td>786</td>\n      <td>3988</td>\n      <td>2330</td>\n      <td>4815</td>\n      <td>20900</td>\n      <td>4935</td>\n      <td>2840</td>\n      <td>20012.186577</td>\n      <td>218086.496735</td>\n      <td>108967.563212</td>\n      <td>...</td>\n      <td>1</td>\n      <td>21.697216</td>\n      <td>21.411174</td>\n      <td>2.631221</td>\n      <td>7.931749</td>\n      <td>17.274178</td>\n      <td>3.318791</td>\n      <td>7.171680</td>\n      <td>20.790525</td>\n      <td>22.939425</td>\n    </tr>\n    <tr>\n      <th>8576</th>\n      <td>779</td>\n      <td>3648</td>\n      <td>2813</td>\n      <td>5005</td>\n      <td>18515</td>\n      <td>2840</td>\n      <td>2840</td>\n      <td>21386.889875</td>\n      <td>205316.314892</td>\n      <td>151356.498848</td>\n      <td>...</td>\n      <td>1</td>\n      <td>26.895931</td>\n      <td>18.039526</td>\n      <td>1.498072</td>\n      <td>5.479973</td>\n      <td>11.500180</td>\n      <td>1.922562</td>\n      <td>5.105238</td>\n      <td>10.920550</td>\n      <td>10.130311</td>\n    </tr>\n    <tr>\n      <th>8610</th>\n      <td>822</td>\n      <td>3751</td>\n      <td>2578</td>\n      <td>4675</td>\n      <td>22110</td>\n      <td>2020</td>\n      <td>2840</td>\n      <td>21919.160507</td>\n      <td>209790.697993</td>\n      <td>131852.517229</td>\n      <td>...</td>\n      <td>1</td>\n      <td>14.549205</td>\n      <td>16.346643</td>\n      <td>1.403446</td>\n      <td>6.000296</td>\n      <td>9.767852</td>\n      <td>1.143582</td>\n      <td>4.523379</td>\n      <td>18.718307</td>\n      <td>27.547150</td>\n    </tr>\n  </tbody>\n</table>\n<p>41 rows × 49 columns</p>\n</div>"
     },
     "execution_count": 96,
     "metadata": {},
     "output_type": "execute_result"
    }
   ],
   "source": [
    "test_datasets"
   ],
   "metadata": {
    "collapsed": false
   }
  },
  {
   "cell_type": "code",
   "execution_count": 98,
   "outputs": [
    {
     "data": {
      "text/plain": "(array([ 6.,  3., 15., 15., 12., 14.,  7., 10.,  7.,  6.,  7.,  4.,  2.,\n         4.,  2.,  2.,  1.,  0.,  0.,  0.,  0.,  0.,  1.,  0.,  0.,  0.,\n         0.,  0.,  0.,  1.]),\n array([16.02487564, 17.94829241, 19.87170919, 21.79512596, 23.71854273,\n        25.64195951, 27.56537628, 29.48879306, 31.41220983, 33.3356266 ,\n        35.25904338, 37.18246015, 39.10587692, 41.0292937 , 42.95271047,\n        44.87612724, 46.79954402, 48.72296079, 50.64637756, 52.56979434,\n        54.49321111, 56.41662788, 58.34004466, 60.26346143, 62.1868782 ,\n        64.11029498, 66.03371175, 67.95712852, 69.8805453 , 71.80396207,\n        73.72737885]),\n <BarContainer object of 30 artists>)"
     },
     "execution_count": 98,
     "metadata": {},
     "output_type": "execute_result"
    },
    {
     "data": {
      "text/plain": "<Figure size 640x480 with 1 Axes>",
      "image/png": "[encoded data removed]"
     },
     "metadata": {},
     "output_type": "display_data"
    }
   ],
   "source": [
    "plt.hist(train_datasets[['med_Max_all_frames']], bins = 30)\n"
   ],
   "metadata": {
    "collapsed": false
   }
  },
  {
   "cell_type": "markdown",
   "source": [
    "## MSE simple benchmark"
   ],
   "metadata": {
    "collapsed": false
   }
  },
  {
   "cell_type": "code",
   "execution_count": 99,
   "outputs": [],
   "source": [
    "predicted_pressure_med = np.mean(train_datasets[['med_Max_all_frames']])\n",
    "predicted_pressure_lat = np.mean(train_datasets[['lat_Max_all_frames']])\n",
    "n = len(test_datasets[['lat_Max_all_frames']])\n",
    "\n",
    "simple_prediction_med = [predicted_pressure_med for i in range(n)]\n",
    "simple_prediction_lat = [predicted_pressure_lat for i in range(n)]\n"
   ],
   "metadata": {
    "collapsed": false
   }
  },
  {
   "cell_type": "markdown",
   "source": [
    "### Metrics for simple prediction"
   ],
   "metadata": {
    "collapsed": false
   }
  },
  {
   "cell_type": "code",
   "execution_count": 100,
   "outputs": [
    {
     "name": "stdout",
     "output_type": "stream",
     "text": [
      "Mean squared error medial: 82.12\n",
      "Mean squared error lateral: 65.49\n"
     ]
    }
   ],
   "source": [
    "# The mean squared error\n",
    "print(\"Mean squared error medial: %.2f\" % mean_squared_error(simple_prediction_med, test_datasets[['med_Max_all_frames']]))\n",
    "print(\"Mean squared error lateral: %.2f\" % mean_squared_error(simple_prediction_lat, test_datasets[['lat_Max_all_frames']]))"
   ],
   "metadata": {
    "collapsed": false
   }
  },
  {
   "cell_type": "markdown",
   "source": [
    "## Logistic Regression\n",
    "### Choose some features\n",
    "\n",
    "#### Train data set"
   ],
   "metadata": {
    "collapsed": false
   }
  },
  {
   "cell_type": "code",
   "execution_count": 101,
   "outputs": [],
   "source": [
    "train_x_LR = train_datasets[[\"Femur_volume\", \"Tibia_volume\", \"Femur_Car_volume\",\n",
    "                                \"Tibia_L_Car_volume\", \"Tibia_L_Car_volume\",\n",
    "                                \"Femur_bounds_x\", \"Tibia_bounds_x\",\n",
    "                                \"Femur_Car_bounds_x\",\n",
    "                                \"Tibia_M_Car_bounds_x\", \"Tibia_L_Car_bounds_x\",\n",
    "                                \"Femur_bounds_y\", \"Tibia_bounds_y\",\n",
    "                                \"Femur_Car_bounds_y\",\n",
    "                                \"Tibia_M_Car_bounds_y\", \"Tibia_L_Car_bounds_y\",\n",
    "                                \"Femur_bounds_z\", \"Tibia_bounds_z\",\n",
    "                                \"Femur_Car_bounds_z\",\n",
    "                                \"Tibia_M_Car_bounds_z\", \"Tibia_L_Car_bounds_z\",\n",
    "                                \"Simulation_len\",\n",
    "                                \"tib_med_curv\", \"tib_lat_curv\",\n",
    "                                \"tib_med_ishealthy\", \"tib_lat_ishealthy\",\n",
    "                                \"femur_gap_dist\",\n",
    "                                \"Mean_dist_femur_tibia_lat_car\", \"Mean_dist_femur_tibia_med_car\"]]"
   ],
   "metadata": {
    "collapsed": false
   }
  },
  {
   "cell_type": "code",
   "execution_count": 102,
   "outputs": [],
   "source": [
    "train_y_lat_LR = train_datasets[['lat_Max_all_frames']]\n",
    "train_y_med_LR = train_datasets[['med_Max_all_frames']]"
   ],
   "metadata": {
    "collapsed": false
   }
  },
  {
   "cell_type": "markdown",
   "source": [
    "#### Test data set"
   ],
   "metadata": {
    "collapsed": false
   }
  },
  {
   "cell_type": "code",
   "execution_count": 103,
   "outputs": [],
   "source": [
    "test_x_LR = test_datasets[[\"Femur_volume\", \"Tibia_volume\", \"Femur_Car_volume\",\n",
    "                                \"Tibia_L_Car_volume\", \"Tibia_L_Car_volume\",\n",
    "                                \"Femur_bounds_x\", \"Tibia_bounds_x\",\n",
    "                                \"Femur_Car_bounds_x\",\n",
    "                                \"Tibia_M_Car_bounds_x\", \"Tibia_L_Car_bounds_x\",\n",
    "                                \"Femur_bounds_y\", \"Tibia_bounds_y\",\n",
    "                                \"Femur_Car_bounds_y\",\n",
    "                                \"Tibia_M_Car_bounds_y\", \"Tibia_L_Car_bounds_y\",\n",
    "                                \"Femur_bounds_z\", \"Tibia_bounds_z\",\n",
    "                                \"Femur_Car_bounds_z\",\n",
    "                                \"Tibia_M_Car_bounds_z\", \"Tibia_L_Car_bounds_z\",\n",
    "                                \"Simulation_len\",\n",
    "                                \"tib_med_curv\", \"tib_lat_curv\",\n",
    "                                \"tib_med_ishealthy\", \"tib_lat_ishealthy\",\n",
    "                                \"femur_gap_dist\",\n",
    "                                \"Mean_dist_femur_tibia_lat_car\", \"Mean_dist_femur_tibia_med_car\"]]"
   ],
   "metadata": {
    "collapsed": false
   }
  },
  {
   "cell_type": "code",
   "execution_count": 104,
   "outputs": [],
   "source": [
    "test_y_lat_LR = test_datasets[['lat_Max_all_frames']]\n",
    "test_y_med_LR = test_datasets[['med_Max_all_frames']]"
   ],
   "metadata": {
    "collapsed": false
   }
  },
  {
   "cell_type": "markdown",
   "source": [
    "### Train LR model"
   ],
   "metadata": {
    "collapsed": false
   }
  },
  {
   "cell_type": "code",
   "execution_count": 105,
   "outputs": [
    {
     "data": {
      "text/plain": "LinearRegression()",
      "text/html": "<style>#sk-container-id-11 {color: black;background-color: white;}#sk-container-id-11 pre{padding: 0;}#sk-container-id-11 div.sk-toggleable {background-color: white;}#sk-container-id-11 label.sk-toggleable__label {cursor: pointer;display: block;width: 100%;margin-bottom: 0;padding: 0.3em;box-sizing: border-box;text-align: center;}#sk-container-id-11 label.sk-toggleable__label-arrow:before {content: \"▸\";float: left;margin-right: 0.25em;color: #696969;}#sk-container-id-11 label.sk-toggleable__label-arrow:hover:before {color: black;}#sk-container-id-11 div.sk-estimator:hover label.sk-toggleable__label-arrow:before {color: black;}#sk-container-id-11 div.sk-toggleable__content {max-height: 0;max-width: 0;overflow: hidden;text-align: left;background-color: #f0f8ff;}#sk-container-id-11 div.sk-toggleable__content pre {margin: 0.2em;color: black;border-radius: 0.25em;background-color: #f0f8ff;}#sk-container-id-11 input.sk-toggleable__control:checked~div.sk-toggleable__content {max-height: 200px;max-width: 100%;overflow: auto;}#sk-container-id-11 input.sk-toggleable__control:checked~label.sk-toggleable__label-arrow:before {content: \"▾\";}#sk-container-id-11 div.sk-estimator input.sk-toggleable__control:checked~label.sk-toggleable__label {background-color: #d4ebff;}#sk-container-id-11 div.sk-label input.sk-toggleable__control:checked~label.sk-toggleable__label {background-color: #d4ebff;}#sk-container-id-11 input.sk-hidden--visually {border: 0;clip: rect(1px 1px 1px 1px);clip: rect(1px, 1px, 1px, 1px);height: 1px;margin: -1px;overflow: hidden;padding: 0;position: absolute;width: 1px;}#sk-container-id-11 div.sk-estimator {font-family: monospace;background-color: #f0f8ff;border: 1px dotted black;border-radius: 0.25em;box-sizing: border-box;margin-bottom: 0.5em;}#sk-container-id-11 div.sk-estimator:hover {background-color: #d4ebff;}#sk-container-id-11 div.sk-parallel-item::after {content: \"\";width: 100%;border-bottom: 1px solid gray;flex-grow: 1;}#sk-container-id-11 div.sk-label:hover label.sk-toggleable__label {background-color: #d4ebff;}#sk-container-id-11 div.sk-serial::before {content: \"\";position: absolute;border-left: 1px solid gray;box-sizing: border-box;top: 0;bottom: 0;left: 50%;z-index: 0;}#sk-container-id-11 div.sk-serial {display: flex;flex-direction: column;align-items: center;background-color: white;padding-right: 0.2em;padding-left: 0.2em;position: relative;}#sk-container-id-11 div.sk-item {position: relative;z-index: 1;}#sk-container-id-11 div.sk-parallel {display: flex;align-items: stretch;justify-content: center;background-color: white;position: relative;}#sk-container-id-11 div.sk-item::before, #sk-container-id-11 div.sk-parallel-item::before {content: \"\";position: absolute;border-left: 1px solid gray;box-sizing: border-box;top: 0;bottom: 0;left: 50%;z-index: -1;}#sk-container-id-11 div.sk-parallel-item {display: flex;flex-direction: column;z-index: 1;position: relative;background-color: white;}#sk-container-id-11 div.sk-parallel-item:first-child::after {align-self: flex-end;width: 50%;}#sk-container-id-11 div.sk-parallel-item:last-child::after {align-self: flex-start;width: 50%;}#sk-container-id-11 div.sk-parallel-item:only-child::after {width: 0;}#sk-container-id-11 div.sk-dashed-wrapped {border: 1px dashed gray;margin: 0 0.4em 0.5em 0.4em;box-sizing: border-box;padding-bottom: 0.4em;background-color: white;}#sk-container-id-11 div.sk-label label {font-family: monospace;font-weight: bold;display: inline-block;line-height: 1.2em;}#sk-container-id-11 div.sk-label-container {text-align: center;}#sk-container-id-11 div.sk-container {/* jupyter's `normalize.less` sets `[hidden] { display: none; }` but bootstrap.min.css set `[hidden] { display: none !important; }` so we also need the `!important` here to be able to override the default hidden behavior on the sphinx rendered scikit-learn.org. See: https://github.com/scikit-learn/scikit-learn/issues/21755 */display: inline-block !important;position: relative;}#sk-container-id-11 div.sk-text-repr-fallback {display: none;}</style><div id=\"sk-container-id-11\" class=\"sk-top-container\"><div class=\"sk-text-repr-fallback\"><pre>LinearRegression()</pre><b>In a Jupyter environment, please rerun this cell to show the HTML representation or trust the notebook. <br />On GitHub, the HTML representation is unable to render, please try loading this page with nbviewer.org.</b></div><div class=\"sk-container\" hidden><div class=\"sk-item\"><div class=\"sk-estimator sk-toggleable\"><input class=\"sk-toggleable__control sk-hidden--visually\" id=\"sk-estimator-id-11\" type=\"checkbox\" checked><label for=\"sk-estimator-id-11\" class=\"sk-toggleable__label sk-toggleable__label-arrow\">LinearRegression</label><div class=\"sk-toggleable__content\"><pre>LinearRegression()</pre></div></div></div></div></div>"
     },
     "execution_count": 105,
     "metadata": {},
     "output_type": "execute_result"
    }
   ],
   "source": [
    "# define the model\n",
    "# Create linear regression object\n",
    "regr_lat = linear_model.LinearRegression()\n",
    "regr_med = linear_model.LinearRegression()\n",
    "\n",
    "# Train the model using the training sets\n",
    "regr_lat.fit(train_x_LR, train_y_lat_LR)\n",
    "regr_med.fit(train_x_LR, train_y_med_LR)"
   ],
   "metadata": {
    "collapsed": false
   }
  },
  {
   "cell_type": "markdown",
   "source": [
    "### Verify results"
   ],
   "metadata": {
    "collapsed": false
   }
  },
  {
   "cell_type": "code",
   "execution_count": 106,
   "outputs": [],
   "source": [
    "# Make predictions using the testing set\n",
    "test_y_med_LR_pred = regr_med.predict(test_x_LR)\n",
    "test_y_lat_LR_pred = regr_lat.predict(test_x_LR)"
   ],
   "metadata": {
    "collapsed": false
   }
  },
  {
   "cell_type": "code",
   "execution_count": 107,
   "outputs": [
    {
     "name": "stdout",
     "output_type": "stream",
     "text": [
      "Coefficients medial: \n",
      " [[-1.74160185e-04 -6.95094346e-05  3.07112637e-04  7.18242107e-04\n",
      "   7.18241867e-04  4.22182247e-01  4.27062051e-01  1.29829201e-01\n",
      "   4.08121657e-01 -1.62293671e-01  6.20517543e-01  4.14373083e-01\n",
      "  -8.17037575e-01  3.46652703e-01 -1.25924473e-01  6.36634834e-01\n",
      "  -2.66033446e-01 -3.26816188e-01  2.19823159e-01 -2.26894830e-01\n",
      "  -2.57446383e-01  1.44063615e+02 -4.04180943e+01  5.40629567e+00\n",
      "  -4.56911947e+00 -7.51444386e-01  1.58404205e-01 -1.52671274e+00]]\n",
      "Coefficients lateral: \n",
      " [[-8.44940938e-05 -8.33187974e-05 -1.46000726e-04  4.85544375e-04\n",
      "   4.85544436e-04  2.13105313e-01  8.43314795e-02 -1.53011527e-01\n",
      "   1.55750172e-01 -8.01138809e-01  4.86442132e-01  4.23422849e-01\n",
      "   7.90852389e-01  3.50419486e-01  9.46678474e-02  7.87972313e-01\n",
      "   6.90872068e-01 -1.33185221e+00 -2.22851407e-01 -1.89777390e-02\n",
      "  -7.89451024e-01  2.45169353e+01  3.05680504e+01  1.38136911e+00\n",
      "   4.77044340e+00  1.17559807e-01 -2.70432845e-01  1.41816044e+00]]\n",
      "Mean squared error medial: 102.54\n",
      "Mean squared error lateral: 64.00\n",
      "Coefficient of determination medial: -1.36\n",
      "Coefficient of determination lateral: -2.10\n"
     ]
    }
   ],
   "source": [
    "# The coefficients\n",
    "print(\"Coefficients medial: \\n\", regr_med.coef_)\n",
    "print(\"Coefficients lateral: \\n\", regr_lat.coef_)\n",
    "\n",
    "# The mean squared error\n",
    "print(\"Mean squared error medial: %.2f\" % mean_squared_error(test_y_med_LR_pred, test_y_med_LR))\n",
    "print(\"Mean squared error lateral: %.2f\" % mean_squared_error(test_y_lat_LR_pred, test_y_lat_LR))\n",
    "\n",
    "# The coefficient of determination: 1 is perfect prediction\n",
    "print(\"Coefficient of determination medial: %.2f\" % r2_score(test_y_med_LR_pred, test_y_med_LR))\n",
    "print(\"Coefficient of determination lateral: %.2f\" % r2_score(test_y_lat_LR_pred, test_y_lat_LR))"
   ],
   "metadata": {
    "collapsed": false
   }
  },
  {
   "cell_type": "markdown",
   "source": [
    "## Regularized Regression"
   ],
   "metadata": {
    "collapsed": false
   }
  },
  {
   "cell_type": "code",
   "execution_count": 108,
   "outputs": [],
   "source": [
    "train_x = train_datasets.drop(['lat_Max_all_frames', 'med_Max_all_frames'], axis=1)\n",
    "test_x = test_datasets.drop(['lat_Max_all_frames', 'med_Max_all_frames'], axis=1)"
   ],
   "metadata": {
    "collapsed": false
   }
  },
  {
   "cell_type": "code",
   "execution_count": 109,
   "outputs": [],
   "source": [
    "train_y_lat = train_datasets[['lat_Max_all_frames']]\n",
    "train_y_med = train_datasets[['med_Max_all_frames']]\n",
    "\n",
    "test_y_lat = test_datasets[['lat_Max_all_frames']]\n",
    "test_y_med = test_datasets[['med_Max_all_frames']]"
   ],
   "metadata": {
    "collapsed": false
   }
  },
  {
   "cell_type": "markdown",
   "source": [
    "### Lasso"
   ],
   "metadata": {
    "collapsed": false
   }
  },
  {
   "cell_type": "code",
   "execution_count": 110,
   "outputs": [
    {
     "data": {
      "text/plain": "Lasso(alpha=10, max_iter=10000)",
      "text/html": "<style>#sk-container-id-12 {color: black;background-color: white;}#sk-container-id-12 pre{padding: 0;}#sk-container-id-12 div.sk-toggleable {background-color: white;}#sk-container-id-12 label.sk-toggleable__label {cursor: pointer;display: block;width: 100%;margin-bottom: 0;padding: 0.3em;box-sizing: border-box;text-align: center;}#sk-container-id-12 label.sk-toggleable__label-arrow:before {content: \"▸\";float: left;margin-right: 0.25em;color: #696969;}#sk-container-id-12 label.sk-toggleable__label-arrow:hover:before {color: black;}#sk-container-id-12 div.sk-estimator:hover label.sk-toggleable__label-arrow:before {color: black;}#sk-container-id-12 div.sk-toggleable__content {max-height: 0;max-width: 0;overflow: hidden;text-align: left;background-color: #f0f8ff;}#sk-container-id-12 div.sk-toggleable__content pre {margin: 0.2em;color: black;border-radius: 0.25em;background-color: #f0f8ff;}#sk-container-id-12 input.sk-toggleable__control:checked~div.sk-toggleable__content {max-height: 200px;max-width: 100%;overflow: auto;}#sk-container-id-12 input.sk-toggleable__control:checked~label.sk-toggleable__label-arrow:before {content: \"▾\";}#sk-container-id-12 div.sk-estimator input.sk-toggleable__control:checked~label.sk-toggleable__label {background-color: #d4ebff;}#sk-container-id-12 div.sk-label input.sk-toggleable__control:checked~label.sk-toggleable__label {background-color: #d4ebff;}#sk-container-id-12 input.sk-hidden--visually {border: 0;clip: rect(1px 1px 1px 1px);clip: rect(1px, 1px, 1px, 1px);height: 1px;margin: -1px;overflow: hidden;padding: 0;position: absolute;width: 1px;}#sk-container-id-12 div.sk-estimator {font-family: monospace;background-color: #f0f8ff;border: 1px dotted black;border-radius: 0.25em;box-sizing: border-box;margin-bottom: 0.5em;}#sk-container-id-12 div.sk-estimator:hover {background-color: #d4ebff;}#sk-container-id-12 div.sk-parallel-item::after {content: \"\";width: 100%;border-bottom: 1px solid gray;flex-grow: 1;}#sk-container-id-12 div.sk-label:hover label.sk-toggleable__label {background-color: #d4ebff;}#sk-container-id-12 div.sk-serial::before {content: \"\";position: absolute;border-left: 1px solid gray;box-sizing: border-box;top: 0;bottom: 0;left: 50%;z-index: 0;}#sk-container-id-12 div.sk-serial {display: flex;flex-direction: column;align-items: center;background-color: white;padding-right: 0.2em;padding-left: 0.2em;position: relative;}#sk-container-id-12 div.sk-item {position: relative;z-index: 1;}#sk-container-id-12 div.sk-parallel {display: flex;align-items: stretch;justify-content: center;background-color: white;position: relative;}#sk-container-id-12 div.sk-item::before, #sk-container-id-12 div.sk-parallel-item::before {content: \"\";position: absolute;border-left: 1px solid gray;box-sizing: border-box;top: 0;bottom: 0;left: 50%;z-index: -1;}#sk-container-id-12 div.sk-parallel-item {display: flex;flex-direction: column;z-index: 1;position: relative;background-color: white;}#sk-container-id-12 div.sk-parallel-item:first-child::after {align-self: flex-end;width: 50%;}#sk-container-id-12 div.sk-parallel-item:last-child::after {align-self: flex-start;width: 50%;}#sk-container-id-12 div.sk-parallel-item:only-child::after {width: 0;}#sk-container-id-12 div.sk-dashed-wrapped {border: 1px dashed gray;margin: 0 0.4em 0.5em 0.4em;box-sizing: border-box;padding-bottom: 0.4em;background-color: white;}#sk-container-id-12 div.sk-label label {font-family: monospace;font-weight: bold;display: inline-block;line-height: 1.2em;}#sk-container-id-12 div.sk-label-container {text-align: center;}#sk-container-id-12 div.sk-container {/* jupyter's `normalize.less` sets `[hidden] { display: none; }` but bootstrap.min.css set `[hidden] { display: none !important; }` so we also need the `!important` here to be able to override the default hidden behavior on the sphinx rendered scikit-learn.org. See: https://github.com/scikit-learn/scikit-learn/issues/21755 */display: inline-block !important;position: relative;}#sk-container-id-12 div.sk-text-repr-fallback {display: none;}</style><div id=\"sk-container-id-12\" class=\"sk-top-container\"><div class=\"sk-text-repr-fallback\"><pre>Lasso(alpha=10, max_iter=10000)</pre><b>In a Jupyter environment, please rerun this cell to show the HTML representation or trust the notebook. <br />On GitHub, the HTML representation is unable to render, please try loading this page with nbviewer.org.</b></div><div class=\"sk-container\" hidden><div class=\"sk-item\"><div class=\"sk-estimator sk-toggleable\"><input class=\"sk-toggleable__control sk-hidden--visually\" id=\"sk-estimator-id-12\" type=\"checkbox\" checked><label for=\"sk-estimator-id-12\" class=\"sk-toggleable__label sk-toggleable__label-arrow\">Lasso</label><div class=\"sk-toggleable__content\"><pre>Lasso(alpha=10, max_iter=10000)</pre></div></div></div></div></div>"
     },
     "execution_count": 110,
     "metadata": {},
     "output_type": "execute_result"
    }
   ],
   "source": [
    "model_lasso_lat = linear_model.Lasso(alpha=10, max_iter=10000)\n",
    "model_lasso_lat.fit(train_x, train_y_lat)"
   ],
   "metadata": {
    "collapsed": false
   }
  },
  {
   "cell_type": "code",
   "execution_count": 111,
   "outputs": [
    {
     "data": {
      "text/plain": "Lasso(alpha=10, max_iter=10000)",
      "text/html": "<style>#sk-container-id-13 {color: black;background-color: white;}#sk-container-id-13 pre{padding: 0;}#sk-container-id-13 div.sk-toggleable {background-color: white;}#sk-container-id-13 label.sk-toggleable__label {cursor: pointer;display: block;width: 100%;margin-bottom: 0;padding: 0.3em;box-sizing: border-box;text-align: center;}#sk-container-id-13 label.sk-toggleable__label-arrow:before {content: \"▸\";float: left;margin-right: 0.25em;color: #696969;}#sk-container-id-13 label.sk-toggleable__label-arrow:hover:before {color: black;}#sk-container-id-13 div.sk-estimator:hover label.sk-toggleable__label-arrow:before {color: black;}#sk-container-id-13 div.sk-toggleable__content {max-height: 0;max-width: 0;overflow: hidden;text-align: left;background-color: #f0f8ff;}#sk-container-id-13 div.sk-toggleable__content pre {margin: 0.2em;color: black;border-radius: 0.25em;background-color: #f0f8ff;}#sk-container-id-13 input.sk-toggleable__control:checked~div.sk-toggleable__content {max-height: 200px;max-width: 100%;overflow: auto;}#sk-container-id-13 input.sk-toggleable__control:checked~label.sk-toggleable__label-arrow:before {content: \"▾\";}#sk-container-id-13 div.sk-estimator input.sk-toggleable__control:checked~label.sk-toggleable__label {background-color: #d4ebff;}#sk-container-id-13 div.sk-label input.sk-toggleable__control:checked~label.sk-toggleable__label {background-color: #d4ebff;}#sk-container-id-13 input.sk-hidden--visually {border: 0;clip: rect(1px 1px 1px 1px);clip: rect(1px, 1px, 1px, 1px);height: 1px;margin: -1px;overflow: hidden;padding: 0;position: absolute;width: 1px;}#sk-container-id-13 div.sk-estimator {font-family: monospace;background-color: #f0f8ff;border: 1px dotted black;border-radius: 0.25em;box-sizing: border-box;margin-bottom: 0.5em;}#sk-container-id-13 div.sk-estimator:hover {background-color: #d4ebff;}#sk-container-id-13 div.sk-parallel-item::after {content: \"\";width: 100%;border-bottom: 1px solid gray;flex-grow: 1;}#sk-container-id-13 div.sk-label:hover label.sk-toggleable__label {background-color: #d4ebff;}#sk-container-id-13 div.sk-serial::before {content: \"\";position: absolute;border-left: 1px solid gray;box-sizing: border-box;top: 0;bottom: 0;left: 50%;z-index: 0;}#sk-container-id-13 div.sk-serial {display: flex;flex-direction: column;align-items: center;background-color: white;padding-right: 0.2em;padding-left: 0.2em;position: relative;}#sk-container-id-13 div.sk-item {position: relative;z-index: 1;}#sk-container-id-13 div.sk-parallel {display: flex;align-items: stretch;justify-content: center;background-color: white;position: relative;}#sk-container-id-13 div.sk-item::before, #sk-container-id-13 div.sk-parallel-item::before {content: \"\";position: absolute;border-left: 1px solid gray;box-sizing: border-box;top: 0;bottom: 0;left: 50%;z-index: -1;}#sk-container-id-13 div.sk-parallel-item {display: flex;flex-direction: column;z-index: 1;position: relative;background-color: white;}#sk-container-id-13 div.sk-parallel-item:first-child::after {align-self: flex-end;width: 50%;}#sk-container-id-13 div.sk-parallel-item:last-child::after {align-self: flex-start;width: 50%;}#sk-container-id-13 div.sk-parallel-item:only-child::after {width: 0;}#sk-container-id-13 div.sk-dashed-wrapped {border: 1px dashed gray;margin: 0 0.4em 0.5em 0.4em;box-sizing: border-box;padding-bottom: 0.4em;background-color: white;}#sk-container-id-13 div.sk-label label {font-family: monospace;font-weight: bold;display: inline-block;line-height: 1.2em;}#sk-container-id-13 div.sk-label-container {text-align: center;}#sk-container-id-13 div.sk-container {/* jupyter's `normalize.less` sets `[hidden] { display: none; }` but bootstrap.min.css set `[hidden] { display: none !important; }` so we also need the `!important` here to be able to override the default hidden behavior on the sphinx rendered scikit-learn.org. See: https://github.com/scikit-learn/scikit-learn/issues/21755 */display: inline-block !important;position: relative;}#sk-container-id-13 div.sk-text-repr-fallback {display: none;}</style><div id=\"sk-container-id-13\" class=\"sk-top-container\"><div class=\"sk-text-repr-fallback\"><pre>Lasso(alpha=10, max_iter=10000)</pre><b>In a Jupyter environment, please rerun this cell to show the HTML representation or trust the notebook. <br />On GitHub, the HTML representation is unable to render, please try loading this page with nbviewer.org.</b></div><div class=\"sk-container\" hidden><div class=\"sk-item\"><div class=\"sk-estimator sk-toggleable\"><input class=\"sk-toggleable__control sk-hidden--visually\" id=\"sk-estimator-id-13\" type=\"checkbox\" checked><label for=\"sk-estimator-id-13\" class=\"sk-toggleable__label sk-toggleable__label-arrow\">Lasso</label><div class=\"sk-toggleable__content\"><pre>Lasso(alpha=10, max_iter=10000)</pre></div></div></div></div></div>"
     },
     "execution_count": 111,
     "metadata": {},
     "output_type": "execute_result"
    }
   ],
   "source": [
    "model_lasso_med = linear_model.Lasso(alpha=10, max_iter=10000)\n",
    "model_lasso_med.fit(train_x, train_y_med)"
   ],
   "metadata": {
    "collapsed": false
   }
  },
  {
   "cell_type": "code",
   "execution_count": 112,
   "outputs": [],
   "source": [
    "test_y_lat_lasso_predict = model_lasso_lat.predict(test_x)\n",
    "test_y_mrd_lasso_predict = model_lasso_med.predict(test_x)"
   ],
   "metadata": {
    "collapsed": false
   }
  },
  {
   "cell_type": "code",
   "execution_count": 113,
   "outputs": [
    {
     "name": "stdout",
     "output_type": "stream",
     "text": [
      "Mean squared error medial: 75.45\n",
      "Mean squared error lateral: 82.33\n"
     ]
    }
   ],
   "source": [
    "# The mean squared error\n",
    "print(\"Mean squared error medial: %.2f\" % mean_squared_error(test_y_lat, test_y_lat_lasso_predict))\n",
    "print(\"Mean squared error lateral: %.2f\" % mean_squared_error(test_y_med, test_y_mrd_lasso_predict))"
   ],
   "metadata": {
    "collapsed": false
   }
  },
  {
   "cell_type": "markdown",
   "source": [],
   "metadata": {
    "collapsed": false
   }
  }
 ],
 "metadata": {
  "kernelspec": {
   "display_name": "Python 3",
   "language": "python",
   "name": "python3"
  },
  "language_info": {
   "codemirror_mode": {
    "name": "ipython",
    "version": 2
   },
   "file_extension": ".py",
   "mimetype": "text/x-python",
   "name": "python",
   "nbconvert_exporter": "python",
   "pygments_lexer": "ipython2",
   "version": "2.7.6"
  }
 },
 "nbformat": 4,
 "nbformat_minor": 0
}
