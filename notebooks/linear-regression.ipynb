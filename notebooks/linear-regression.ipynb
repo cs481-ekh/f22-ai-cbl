{
 "cells": [
  {
   "cell_type": "markdown",
   "source": [
    "# Linear Regression Analysis"
   ],
   "metadata": {
    "collapsed": false
   }
  },
  {
   "cell_type": "code",
   "execution_count": 3,
   "outputs": [],
   "source": [
    "%matplotlib inline\n",
    "import numpy as np\n",
    "import pandas as pd\n",
    "import sklearn\n",
    "from sklearn.model_selection import train_test_split\n",
    "from sklearn import model_selection\n",
    "import matplotlib.pyplot as plt\n",
    "from sklearn.metrics import roc_curve\n",
    "from sklearn.metrics import roc_auc_score\n",
    "from sklearn.linear_model import LinearRegression"
   ],
   "metadata": {
    "collapsed": false
   }
  },
  {
   "cell_type": "code",
   "execution_count": 4,
   "outputs": [],
   "source": [
    "col_names = ['Code','Patella_PN','Femur_PN','Tibia_PN','Patella_Car_PN','Femur_Car_PN','Tibia_M_Car_PN','Tibia_L_Car_PN','Patella_volume','Femur_volume','Tibia_volume','Patella_Car_volume','Femur_Car_volume','Tibia_M_Car_volume','Tibia_L_Car_volume','Patella_bounds_x','Femur_bounds_x','Tibia_bounds_x','Patella_Car_bounds_x','Femur_Car_bounds_x','Tibia_M_Car_bounds_x','Tibia_L_Car_bounds_x','Patella_bounds_y','Femur_bounds_y','Tibia_bounds_y','Patella_Car_bounds_y','Femur_Car_bounds_y','Tibia_M_Car_bounds_y','Tibia_L_Car_bounds_y','Patella_bounds_z','Femur_bounds_z','Tibia_bounds_z','Patella_Car_bounds_z','Femur_Car_bounds_z','Tibia_M_Car_bounds_z','Tibia_L_Car_bounds_z','Max_dist_femur_tibia_lat_car','Min_dist_femur_tibia_lat_car','Mean_dist_femur_tibia_lat_car','Max_dist_femur_tibia_med_car','Min_dist_femur_tibia_med_car','Mean_dist_femur_tibia_med_car','Max_tib_lat_contact_pressure','Max_tib_med_contact_pressure']\n",
    "\n",
    "file_path = \"C:\\\\Users\\\\steph\\\\Documents\\\\GitHub\\\\f22-ai-cbl\\\\data\\\\processed\\\\set_2\\\\out.csv\"\n",
    "data = pd.read_csv(file_path, header=None, names=col_names, skiprows=[0])\n",
    "df = pd.DataFrame(data, columns = col_names)"
   ],
   "metadata": {
    "collapsed": false
   }
  },
  {
   "cell_type": "code",
   "execution_count": 5,
   "outputs": [
    {
     "name": "stdout",
     "output_type": "stream",
     "text": [
      "(28, 44)\n"
     ]
    },
    {
     "data": {
      "text/plain": "         Code  Patella_PN  Femur_PN  Tibia_PN  Patella_Car_PN  Femur_Car_PN  \\\n0  9905863M00         923      4011      3009            4745         19095   \n1  9905863M12         884      4110      2790            4585         19025   \n2  9908796M00         641      2861      2268            4120         20295   \n3  9908796M12         625      3022      2171            4715         19385   \n4  9912946M00         788      4137      2689            5575         21035   \n\n   Tibia_M_Car_PN  Tibia_L_Car_PN  Patella_volume   Femur_volume  ...  \\\n0            2840            2840    28699.200017  229006.314467  ...   \n1            2840            2840    28197.827325  246641.112279  ...   \n2            2840            2840    15222.439598  141352.763773  ...   \n3            2840            2840    14931.893097  149215.886238  ...   \n4            2840            2840    22692.085291  248976.459037  ...   \n\n   Tibia_M_Car_bounds_z  Tibia_L_Car_bounds_z  Max_dist_femur_tibia_lat_car  \\\n0             51.821435             38.669460                     17.745715   \n1             49.585413             39.525092                     17.898652   \n2             42.175751             34.364839                     17.383859   \n3             42.911019             33.854403                     15.747611   \n4             45.878323             53.532299                     13.779237   \n\n   Min_dist_femur_tibia_lat_car  Mean_dist_femur_tibia_lat_car  \\\n0                      2.039169                       6.118655   \n1                      1.921611                       5.881292   \n2                      1.526717                       5.834900   \n3                      1.651787                       5.670845   \n4                      1.205597                       4.272830   \n\n   Max_dist_femur_tibia_med_car  Min_dist_femur_tibia_med_car  \\\n0                     12.363764                      1.604390   \n1                     11.342142                      1.238408   \n2                     11.786139                      1.642169   \n3                      9.728744                      1.010164   \n4                     20.666032                      2.178122   \n\n   Mean_dist_femur_tibia_med_car  Max_tib_lat_contact_pressure  \\\n0                       4.737838                     20.304403   \n1                       4.577601                     16.648224   \n2                       4.761267                     24.156282   \n3                       4.052701                     26.788031   \n4                       6.670601                     24.228903   \n\n   Max_tib_med_contact_pressure  \n0                     21.124319  \n1                     24.434072  \n2                     32.353172  \n3                     41.688950  \n4                     16.497473  \n\n[5 rows x 44 columns]",
      "text/html": "<div>\n<style scoped>\n    .dataframe tbody tr th:only-of-type {\n        vertical-align: middle;\n    }\n\n    .dataframe tbody tr th {\n        vertical-align: top;\n    }\n\n    .dataframe thead th {\n        text-align: right;\n    }\n</style>\n<table border=\"1\" class=\"dataframe\">\n  <thead>\n    <tr style=\"text-align: right;\">\n      <th></th>\n      <th>Code</th>\n      <th>Patella_PN</th>\n      <th>Femur_PN</th>\n      <th>Tibia_PN</th>\n      <th>Patella_Car_PN</th>\n      <th>Femur_Car_PN</th>\n      <th>Tibia_M_Car_PN</th>\n      <th>Tibia_L_Car_PN</th>\n      <th>Patella_volume</th>\n      <th>Femur_volume</th>\n      <th>...</th>\n      <th>Tibia_M_Car_bounds_z</th>\n      <th>Tibia_L_Car_bounds_z</th>\n      <th>Max_dist_femur_tibia_lat_car</th>\n      <th>Min_dist_femur_tibia_lat_car</th>\n      <th>Mean_dist_femur_tibia_lat_car</th>\n      <th>Max_dist_femur_tibia_med_car</th>\n      <th>Min_dist_femur_tibia_med_car</th>\n      <th>Mean_dist_femur_tibia_med_car</th>\n      <th>Max_tib_lat_contact_pressure</th>\n      <th>Max_tib_med_contact_pressure</th>\n    </tr>\n  </thead>\n  <tbody>\n    <tr>\n      <th>0</th>\n      <td>9905863M00</td>\n      <td>923</td>\n      <td>4011</td>\n      <td>3009</td>\n      <td>4745</td>\n      <td>19095</td>\n      <td>2840</td>\n      <td>2840</td>\n      <td>28699.200017</td>\n      <td>229006.314467</td>\n      <td>...</td>\n      <td>51.821435</td>\n      <td>38.669460</td>\n      <td>17.745715</td>\n      <td>2.039169</td>\n      <td>6.118655</td>\n      <td>12.363764</td>\n      <td>1.604390</td>\n      <td>4.737838</td>\n      <td>20.304403</td>\n      <td>21.124319</td>\n    </tr>\n    <tr>\n      <th>1</th>\n      <td>9905863M12</td>\n      <td>884</td>\n      <td>4110</td>\n      <td>2790</td>\n      <td>4585</td>\n      <td>19025</td>\n      <td>2840</td>\n      <td>2840</td>\n      <td>28197.827325</td>\n      <td>246641.112279</td>\n      <td>...</td>\n      <td>49.585413</td>\n      <td>39.525092</td>\n      <td>17.898652</td>\n      <td>1.921611</td>\n      <td>5.881292</td>\n      <td>11.342142</td>\n      <td>1.238408</td>\n      <td>4.577601</td>\n      <td>16.648224</td>\n      <td>24.434072</td>\n    </tr>\n    <tr>\n      <th>2</th>\n      <td>9908796M00</td>\n      <td>641</td>\n      <td>2861</td>\n      <td>2268</td>\n      <td>4120</td>\n      <td>20295</td>\n      <td>2840</td>\n      <td>2840</td>\n      <td>15222.439598</td>\n      <td>141352.763773</td>\n      <td>...</td>\n      <td>42.175751</td>\n      <td>34.364839</td>\n      <td>17.383859</td>\n      <td>1.526717</td>\n      <td>5.834900</td>\n      <td>11.786139</td>\n      <td>1.642169</td>\n      <td>4.761267</td>\n      <td>24.156282</td>\n      <td>32.353172</td>\n    </tr>\n    <tr>\n      <th>3</th>\n      <td>9908796M12</td>\n      <td>625</td>\n      <td>3022</td>\n      <td>2171</td>\n      <td>4715</td>\n      <td>19385</td>\n      <td>2840</td>\n      <td>2840</td>\n      <td>14931.893097</td>\n      <td>149215.886238</td>\n      <td>...</td>\n      <td>42.911019</td>\n      <td>33.854403</td>\n      <td>15.747611</td>\n      <td>1.651787</td>\n      <td>5.670845</td>\n      <td>9.728744</td>\n      <td>1.010164</td>\n      <td>4.052701</td>\n      <td>26.788031</td>\n      <td>41.688950</td>\n    </tr>\n    <tr>\n      <th>4</th>\n      <td>9912946M00</td>\n      <td>788</td>\n      <td>4137</td>\n      <td>2689</td>\n      <td>5575</td>\n      <td>21035</td>\n      <td>2840</td>\n      <td>2840</td>\n      <td>22692.085291</td>\n      <td>248976.459037</td>\n      <td>...</td>\n      <td>45.878323</td>\n      <td>53.532299</td>\n      <td>13.779237</td>\n      <td>1.205597</td>\n      <td>4.272830</td>\n      <td>20.666032</td>\n      <td>2.178122</td>\n      <td>6.670601</td>\n      <td>24.228903</td>\n      <td>16.497473</td>\n    </tr>\n  </tbody>\n</table>\n<p>5 rows × 44 columns</p>\n</div>"
     },
     "execution_count": 5,
     "metadata": {},
     "output_type": "execute_result"
    }
   ],
   "source": [
    "print(df.shape)\n",
    "df.head()"
   ],
   "metadata": {
    "collapsed": false
   }
  },
  {
   "cell_type": "markdown",
   "source": [
    "## Splitting data into train/test sets"
   ],
   "metadata": {
    "collapsed": false
   }
  },
  {
   "cell_type": "code",
   "execution_count": 6,
   "outputs": [
    {
     "name": "stdout",
     "output_type": "stream",
     "text": [
      "Accuracy: -12.47%\n"
     ]
    }
   ],
   "source": [
    "## Feature columns for x values\n",
    "feature_cols = ['Patella_PN','Femur_PN','Tibia_PN','Patella_Car_PN','Femur_Car_PN','Tibia_M_Car_PN','Tibia_L_Car_PN','Patella_volume','Femur_volume','Tibia_volume','Patella_Car_volume','Femur_Car_volume','Tibia_M_Car_volume','Tibia_L_Car_volume','Patella_bounds_x','Femur_bounds_x','Tibia_bounds_x','Patella_Car_bounds_x','Femur_Car_bounds_x','Tibia_M_Car_bounds_x','Tibia_L_Car_bounds_x','Patella_bounds_y','Femur_bounds_y','Tibia_bounds_y','Patella_Car_bounds_y','Femur_Car_bounds_y','Tibia_M_Car_bounds_y','Tibia_L_Car_bounds_y','Patella_bounds_z','Femur_bounds_z','Tibia_bounds_z','Patella_Car_bounds_z','Femur_Car_bounds_z','Tibia_M_Car_bounds_z','Tibia_L_Car_bounds_z','Max_dist_femur_tibia_lat_car','Min_dist_femur_tibia_lat_car','Mean_dist_femur_tibia_lat_car','Max_dist_femur_tibia_med_car','Min_dist_femur_tibia_med_car','Mean_dist_femur_tibia_med_car']\n",
    "## Result columns for y values\n",
    "y_cols = ['Max_tib_lat_contact_pressure', 'Max_tib_lat_contact_pressure']\n",
    "\n",
    "X = data[feature_cols]\n",
    "y = data[y_cols]\n",
    "\n",
    "\n",
    "\n",
    "## Folding train-test split lines 11 - 12\n",
    "X_train, X_test, y_train, y_test = model_selection.train_test_split(X, y, test_size=0.30, random_state=100)\n",
    "model = LinearRegression()\n",
    "model.fit(X_train, y_train)\n",
    "y_pred = model.predict(X_test)\n",
    "result = model.score(X_test, y_test)\n",
    "print(\"Accuracy: %.2f%%\" % (result*100.0))\n",
    "\n",
    "## 80/20 test-train split lines 19, 24-26\n",
    "#X_train, X_test, y_train, y_test = train_test_split(X, y, test_size = 0.2)\n",
    "\n",
    "## 90/10 test-train split lines 22, 24-26\n",
    "#X_train, X_test, y_train, y_test = train_test_split(X, y, test_size = 0.1)\n",
    "\n",
    "#model = LinearRegression()\n",
    "#model.fit(X_train, y_train)\n",
    "#print(rgr.score(X_test, y_test))"
   ],
   "metadata": {
    "collapsed": false
   }
  },
  {
   "cell_type": "markdown",
   "source": [
    "### Evaluations"
   ],
   "metadata": {
    "collapsed": false
   }
  },
  {
   "cell_type": "code",
   "execution_count": 9,
   "outputs": [
    {
     "data": {
      "text/plain": "<Figure size 432x288 with 1 Axes>",
      "image/png": "[encoded data removed]"
     },
     "metadata": {
      "needs_background": "light"
     },
     "output_type": "display_data"
    }
   ],
   "source": [
    "fig, ax = plt.subplots()\n",
    "ax.scatter(y_pred, y_test, edgecolors=(0, 0, 1))\n",
    "ax.plot([y_test.min(), y_test.max()], [y_test.min(), y_test.max()], 'r--', lw=3)\n",
    "ax.set_xlabel('Predicted')\n",
    "ax.set_ylabel('Actual')\n",
    "plt.show()"
   ],
   "metadata": {
    "collapsed": false
   }
  },
  {
   "cell_type": "code",
   "execution_count": 10,
   "outputs": [
    {
     "name": "stdout",
     "output_type": "stream",
     "text": [
      "The model performance for testing set\n",
      "--------------------------------------\n",
      "MAE is 49.5872219017597\n",
      "MSE is 10848.146074311284\n",
      "R2 score is -0.12473858715461028\n"
     ]
    }
   ],
   "source": [
    "from sklearn import metrics\n",
    "\n",
    "# model evaluation for testing set\n",
    "\n",
    "mae = metrics.mean_absolute_error(y_test, y_pred)\n",
    "mse = metrics.mean_squared_error(y_test, y_pred)\n",
    "r2 = metrics.r2_score(y_test, y_pred)\n",
    "\n",
    "print(\"The model performance for testing set\")\n",
    "print(\"--------------------------------------\")\n",
    "print('MAE is {}'.format(mae))\n",
    "print('MSE is {}'.format(mse))\n",
    "print('R2 score is {}'.format(r2))"
   ],
   "metadata": {
    "collapsed": false
   }
  },
  {
   "cell_type": "code",
   "execution_count": null,
   "outputs": [],
   "source": [],
   "metadata": {
    "collapsed": false
   }
  }
 ],
 "metadata": {
  "kernelspec": {
   "display_name": "Python 3",
   "language": "python",
   "name": "python3"
  },
  "language_info": {
   "codemirror_mode": {
    "name": "ipython",
    "version": 2
   },
   "file_extension": ".py",
   "mimetype": "text/x-python",
   "name": "python",
   "nbconvert_exporter": "python",
   "pygments_lexer": "ipython2",
   "version": "2.7.6"
  }
 },
 "nbformat": 4,
 "nbformat_minor": 0
}
