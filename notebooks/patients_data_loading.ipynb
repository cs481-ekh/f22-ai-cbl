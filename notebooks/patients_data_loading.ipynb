{
 "cells": [
  {
   "cell_type": "code",
   "execution_count": 2,
   "outputs": [],
   "source": [
    "from pathlib import Path\n",
    "import pandas as pd\n",
    "import os\n",
    "from knee_stress_predict.config import raw_data_dir\n",
    "from knee_stress_predict.objects.KneeGeometry import KneeGeometry"
   ],
   "metadata": {
    "collapsed": false
   }
  },
  {
   "cell_type": "markdown",
   "source": [
    "# PATIENTS DATA LOADING\n",
    "\n",
    "This notebook loads data from set_2. Set_2 was provided by Kalin. Raw data for that set is located in data/raw/set_2. The set consists of 28 patients' data that include knee geometry (7 elements) and a pickle file with tibia contact pressure data.\n",
    "\n",
    "## Loading knee geometry for each patien\n",
    "\n"
   ],
   "metadata": {
    "collapsed": false
   }
  },
  {
   "cell_type": "code",
   "execution_count": 3,
   "outputs": [],
   "source": [
    "patients_knees = {}\n",
    "data_set_name = \"set_2\"\n",
    "data_dir = Path.joinpath(raw_data_dir, data_set_name)\n",
    "for i, folder_name in enumerate(os.listdir(data_dir)):\n",
    "    patient_dir = Path.joinpath(data_dir, folder_name)\n",
    "    patient_knee = KneeGeometry(patient_dir)\n",
    "    patients_knees[folder_name] = patient_knee"
   ],
   "metadata": {
    "collapsed": false
   }
  },
  {
   "cell_type": "markdown",
   "source": [
    "Create Data Frame that shows size of point coloud of each knee structure for each patioen"
   ],
   "metadata": {
    "collapsed": false
   }
  },
  {
   "cell_type": "code",
   "execution_count": 5,
   "outputs": [
    {
     "data": {
      "text/plain": "          Code Patella_PN Femur_PN Tibia_PN Patella_Car_PN Femur_Car_PN  \\\n0   9905863M00        923     4011     3009           4745        19095   \n1   9905863M12        884     4110     2790           4585        19025   \n2   9908796M00        641     2861     2268           4120        20295   \n3   9908796M12        625     3022     2171           4715        19385   \n4   9912946M00        788     4137     2689           5575        21035   \n5   9912946M12        791     4298     2533           5685        20945   \n6   9954040M00        803     3417     2512           5015        20230   \n7   9954040M12        812     3233     2740           4885        20345   \n8   9958234M00        759     3696     2606           5235        21865   \n9   9958234M12        752     3674     2669           5225        22195   \n10  9965231M00        714     3202     2409           4415        16950   \n11  9965231M12        728     3213     2414           4325        17205   \n12  9967358M00        651     3406     2414           4425        21670   \n13  9967358M12        671     3279     2572           3925        19600   \n14  9968800M00        626     3279     2062           4515        19215   \n15  9968800M12        618     3119     2195           4265        18115   \n16  9968924M00        776     3809     2467           4315        21315   \n17  9968924M12        786     3988     2330           4815        20900   \n18  9971275M00        833     3823     3383           4635        23675   \n19  9971275M12        833     4182     3019           4825        22425   \n20  9992358M00        740     3496     2881           4330        20385   \n21  9992358M12        767     3589     2832           4170        19385   \n22  9993650M00        633     3084     2205           4255        20260   \n23  9993650M12        686     2963     2388           4405        20910   \n24  9993833M00        795     3669     2724           4765        20410   \n25  9993833M12        801     3805     2575           4885        20400   \n26  9993846M00        868     3794     3029           5430        20755   \n27  9993846M12        873     3921     2831           5690        21495   \n\n   Tibia_M_Car_PN Tibia_L_Car_PN  \n0            2840           2840  \n1            2840           2840  \n2            2840           2840  \n3            2840           2840  \n4            2840           2840  \n5            2840           2840  \n6            2840           2350  \n7            2840           2360  \n8            2840           2840  \n9            2840           2840  \n10           2840           2840  \n11           2840           2840  \n12           5430           2800  \n13           5530           2760  \n14           2840           3075  \n15           2840           2840  \n16           4595           2840  \n17           4935           2840  \n18           2840           2840  \n19           2840           2840  \n20           2840           2840  \n21           2840           2840  \n22           2185           2840  \n23           2155           2840  \n24           2840           2840  \n25           2840           2840  \n26           2840           2840  \n27           2840           2840  ",
      "text/html": "<div>\n<style scoped>\n    .dataframe tbody tr th:only-of-type {\n        vertical-align: middle;\n    }\n\n    .dataframe tbody tr th {\n        vertical-align: top;\n    }\n\n    .dataframe thead th {\n        text-align: right;\n    }\n</style>\n<table border=\"1\" class=\"dataframe\">\n  <thead>\n    <tr style=\"text-align: right;\">\n      <th></th>\n      <th>Code</th>\n      <th>Patella_PN</th>\n      <th>Femur_PN</th>\n      <th>Tibia_PN</th>\n      <th>Patella_Car_PN</th>\n      <th>Femur_Car_PN</th>\n      <th>Tibia_M_Car_PN</th>\n      <th>Tibia_L_Car_PN</th>\n    </tr>\n  </thead>\n  <tbody>\n    <tr>\n      <th>0</th>\n      <td>9905863M00</td>\n      <td>923</td>\n      <td>4011</td>\n      <td>3009</td>\n      <td>4745</td>\n      <td>19095</td>\n      <td>2840</td>\n      <td>2840</td>\n    </tr>\n    <tr>\n      <th>1</th>\n      <td>9905863M12</td>\n      <td>884</td>\n      <td>4110</td>\n      <td>2790</td>\n      <td>4585</td>\n      <td>19025</td>\n      <td>2840</td>\n      <td>2840</td>\n    </tr>\n    <tr>\n      <th>2</th>\n      <td>9908796M00</td>\n      <td>641</td>\n      <td>2861</td>\n      <td>2268</td>\n      <td>4120</td>\n      <td>20295</td>\n      <td>2840</td>\n      <td>2840</td>\n    </tr>\n    <tr>\n      <th>3</th>\n      <td>9908796M12</td>\n      <td>625</td>\n      <td>3022</td>\n      <td>2171</td>\n      <td>4715</td>\n      <td>19385</td>\n      <td>2840</td>\n      <td>2840</td>\n    </tr>\n    <tr>\n      <th>4</th>\n      <td>9912946M00</td>\n      <td>788</td>\n      <td>4137</td>\n      <td>2689</td>\n      <td>5575</td>\n      <td>21035</td>\n      <td>2840</td>\n      <td>2840</td>\n    </tr>\n    <tr>\n      <th>5</th>\n      <td>9912946M12</td>\n      <td>791</td>\n      <td>4298</td>\n      <td>2533</td>\n      <td>5685</td>\n      <td>20945</td>\n      <td>2840</td>\n      <td>2840</td>\n    </tr>\n    <tr>\n      <th>6</th>\n      <td>9954040M00</td>\n      <td>803</td>\n      <td>3417</td>\n      <td>2512</td>\n      <td>5015</td>\n      <td>20230</td>\n      <td>2840</td>\n      <td>2350</td>\n    </tr>\n    <tr>\n      <th>7</th>\n      <td>9954040M12</td>\n      <td>812</td>\n      <td>3233</td>\n      <td>2740</td>\n      <td>4885</td>\n      <td>20345</td>\n      <td>2840</td>\n      <td>2360</td>\n    </tr>\n    <tr>\n      <th>8</th>\n      <td>9958234M00</td>\n      <td>759</td>\n      <td>3696</td>\n      <td>2606</td>\n      <td>5235</td>\n      <td>21865</td>\n      <td>2840</td>\n      <td>2840</td>\n    </tr>\n    <tr>\n      <th>9</th>\n      <td>9958234M12</td>\n      <td>752</td>\n      <td>3674</td>\n      <td>2669</td>\n      <td>5225</td>\n      <td>22195</td>\n      <td>2840</td>\n      <td>2840</td>\n    </tr>\n    <tr>\n      <th>10</th>\n      <td>9965231M00</td>\n      <td>714</td>\n      <td>3202</td>\n      <td>2409</td>\n      <td>4415</td>\n      <td>16950</td>\n      <td>2840</td>\n      <td>2840</td>\n    </tr>\n    <tr>\n      <th>11</th>\n      <td>9965231M12</td>\n      <td>728</td>\n      <td>3213</td>\n      <td>2414</td>\n      <td>4325</td>\n      <td>17205</td>\n      <td>2840</td>\n      <td>2840</td>\n    </tr>\n    <tr>\n      <th>12</th>\n      <td>9967358M00</td>\n      <td>651</td>\n      <td>3406</td>\n      <td>2414</td>\n      <td>4425</td>\n      <td>21670</td>\n      <td>5430</td>\n      <td>2800</td>\n    </tr>\n    <tr>\n      <th>13</th>\n      <td>9967358M12</td>\n      <td>671</td>\n      <td>3279</td>\n      <td>2572</td>\n      <td>3925</td>\n      <td>19600</td>\n      <td>5530</td>\n      <td>2760</td>\n    </tr>\n    <tr>\n      <th>14</th>\n      <td>9968800M00</td>\n      <td>626</td>\n      <td>3279</td>\n      <td>2062</td>\n      <td>4515</td>\n      <td>19215</td>\n      <td>2840</td>\n      <td>3075</td>\n    </tr>\n    <tr>\n      <th>15</th>\n      <td>9968800M12</td>\n      <td>618</td>\n      <td>3119</td>\n      <td>2195</td>\n      <td>4265</td>\n      <td>18115</td>\n      <td>2840</td>\n      <td>2840</td>\n    </tr>\n    <tr>\n      <th>16</th>\n      <td>9968924M00</td>\n      <td>776</td>\n      <td>3809</td>\n      <td>2467</td>\n      <td>4315</td>\n      <td>21315</td>\n      <td>4595</td>\n      <td>2840</td>\n    </tr>\n    <tr>\n      <th>17</th>\n      <td>9968924M12</td>\n      <td>786</td>\n      <td>3988</td>\n      <td>2330</td>\n      <td>4815</td>\n      <td>20900</td>\n      <td>4935</td>\n      <td>2840</td>\n    </tr>\n    <tr>\n      <th>18</th>\n      <td>9971275M00</td>\n      <td>833</td>\n      <td>3823</td>\n      <td>3383</td>\n      <td>4635</td>\n      <td>23675</td>\n      <td>2840</td>\n      <td>2840</td>\n    </tr>\n    <tr>\n      <th>19</th>\n      <td>9971275M12</td>\n      <td>833</td>\n      <td>4182</td>\n      <td>3019</td>\n      <td>4825</td>\n      <td>22425</td>\n      <td>2840</td>\n      <td>2840</td>\n    </tr>\n    <tr>\n      <th>20</th>\n      <td>9992358M00</td>\n      <td>740</td>\n      <td>3496</td>\n      <td>2881</td>\n      <td>4330</td>\n      <td>20385</td>\n      <td>2840</td>\n      <td>2840</td>\n    </tr>\n    <tr>\n      <th>21</th>\n      <td>9992358M12</td>\n      <td>767</td>\n      <td>3589</td>\n      <td>2832</td>\n      <td>4170</td>\n      <td>19385</td>\n      <td>2840</td>\n      <td>2840</td>\n    </tr>\n    <tr>\n      <th>22</th>\n      <td>9993650M00</td>\n      <td>633</td>\n      <td>3084</td>\n      <td>2205</td>\n      <td>4255</td>\n      <td>20260</td>\n      <td>2185</td>\n      <td>2840</td>\n    </tr>\n    <tr>\n      <th>23</th>\n      <td>9993650M12</td>\n      <td>686</td>\n      <td>2963</td>\n      <td>2388</td>\n      <td>4405</td>\n      <td>20910</td>\n      <td>2155</td>\n      <td>2840</td>\n    </tr>\n    <tr>\n      <th>24</th>\n      <td>9993833M00</td>\n      <td>795</td>\n      <td>3669</td>\n      <td>2724</td>\n      <td>4765</td>\n      <td>20410</td>\n      <td>2840</td>\n      <td>2840</td>\n    </tr>\n    <tr>\n      <th>25</th>\n      <td>9993833M12</td>\n      <td>801</td>\n      <td>3805</td>\n      <td>2575</td>\n      <td>4885</td>\n      <td>20400</td>\n      <td>2840</td>\n      <td>2840</td>\n    </tr>\n    <tr>\n      <th>26</th>\n      <td>9993846M00</td>\n      <td>868</td>\n      <td>3794</td>\n      <td>3029</td>\n      <td>5430</td>\n      <td>20755</td>\n      <td>2840</td>\n      <td>2840</td>\n    </tr>\n    <tr>\n      <th>27</th>\n      <td>9993846M12</td>\n      <td>873</td>\n      <td>3921</td>\n      <td>2831</td>\n      <td>5690</td>\n      <td>21495</td>\n      <td>2840</td>\n      <td>2840</td>\n    </tr>\n  </tbody>\n</table>\n</div>"
     },
     "execution_count": 5,
     "metadata": {},
     "output_type": "execute_result"
    }
   ],
   "source": [
    "knee_df = pd.DataFrame(columns=['Code','Patella_PN','Femur_PN','Tibia_PN','Patella_Car_PN','Femur_Car_PN','Tibia_M_Car_PN', 'Tibia_L_Car_PN'])\n",
    "\n",
    "for key, value in patients_knees.items():\n",
    "    df = {'Code': key,\n",
    "          'Patella_PN': value.patella.n_points,\n",
    "          'Femur_PN': value.femur.n_points,\n",
    "          'Tibia_PN': value.tibia.n_points,\n",
    "          'Patella_Car_PN': value.pat_cart.n_points,\n",
    "          'Femur_Car_PN': value.fem_cart.n_points,\n",
    "          'Tibia_M_Car_PN': value.tibia_cart_med.n_points,\n",
    "          'Tibia_L_Car_PN': value.tibia_cart_lat.n_points}\n",
    "    knee_df = knee_df.append(df, ignore_index=True)\n",
    "knee_df"
   ],
   "metadata": {
    "collapsed": false
   }
  },
  {
   "cell_type": "code",
   "execution_count": null,
   "outputs": [],
   "source": [],
   "metadata": {
    "collapsed": false
   }
  }
 ],
 "metadata": {
  "kernelspec": {
   "display_name": "Python 3",
   "language": "python",
   "name": "python3"
  },
  "language_info": {
   "codemirror_mode": {
    "name": "ipython",
    "version": 2
   },
   "file_extension": ".py",
   "mimetype": "text/x-python",
   "name": "python",
   "nbconvert_exporter": "python",
   "pygments_lexer": "ipython2",
   "version": "2.7.6"
  }
 },
 "nbformat": 4,
 "nbformat_minor": 0
}
